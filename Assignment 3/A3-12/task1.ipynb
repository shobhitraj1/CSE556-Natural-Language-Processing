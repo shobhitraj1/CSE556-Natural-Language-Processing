{
 "cells": [
  {
   "cell_type": "code",
   "execution_count": null,
   "metadata": {
    "colab": {
     "base_uri": "https://localhost:8080/"
    },
    "execution": {
     "iopub.execute_input": "2025-04-06T14:45:51.766374Z",
     "iopub.status.busy": "2025-04-06T14:45:51.766085Z",
     "iopub.status.idle": "2025-04-06T14:45:51.791922Z",
     "shell.execute_reply": "2025-04-06T14:45:51.791112Z",
     "shell.execute_reply.started": "2025-04-06T14:45:51.766353Z"
    },
    "id": "o0RgE0H4wrop",
    "outputId": "d6acfacf-886d-4485-df4d-87d470ba4502",
    "trusted": true
   },
   "outputs": [],
   "source": [
    "## Add imports here\n",
    "import torch\n",
    "import torch.nn as nn\n",
    "import torch.optim as optim\n",
    "import torch.nn.functional as F\n",
    "from collections import Counter\n",
    "from tqdm import tqdm\n",
    "import numpy as np\n",
    "import math\n",
    "import matplotlib.pyplot as plt\n",
    "import pickle\n",
    "\n",
    "DEVICE = torch.device(\"cuda\" if torch.cuda.is_available() else \"cpu\")\n",
    "MAX_LEN = 256\n",
    "VOCAB_SIZE = 10000\n",
    "\n",
    "def initialise_projections(d_model):\n",
    "    \"\"\"\n",
    "    create projections for Q, K, V.\n",
    "    \"\"\"\n",
    "    W_q = nn.Linear(d_model, d_model, bias=False)\n",
    "    W_k = nn.Linear(d_model, d_model, bias=False)\n",
    "    W_v = nn.Linear(d_model, d_model, bias=False)\n",
    "\n",
    "    return W_q, W_k, W_v\n",
    "\n",
    "def pairwise_similarities(q, k):\n",
    "    \"\"\"\n",
    "    Compute dot product attention.\n",
    "    \"\"\"\n",
    "    return torch.bmm(q, k.transpose(1, 2))\n",
    "    \n",
    "def attention_scaled(dot_prod):\n",
    "    \"\"\"\n",
    "    Scale the raw attention scores.\n",
    "    \"\"\"\n",
    "    return dot_prod / math.sqrt(dot_prod.size(-1))\n",
    "    \n",
    "def attention_softmax(attention_scores):\n",
    "    \"\"\"\n",
    "    Normalize the scaled raw attention scores with softmax.\n",
    "    \"\"\"\n",
    "    return F.softmax(attention_scores, dim=-1)\n",
    "\n",
    "def compute_outputs(values, attention_weights):\n",
    "    \"\"\"\n",
    "    Get outputs as a weighted sum of values by attention scores.\n",
    "    \"\"\"\n",
    "    return torch.bmm(attention_weights, values)\n",
    "\n",
    "def make_causal_mask(seq_len):\n",
    "    \"\"\"\n",
    "    Create a mask matrix that masks future context for the attention.\n",
    "    \"\"\"\n",
    "    mask = torch.triu(torch.ones(seq_len, seq_len), diagonal=1).to(DEVICE)\n",
    "    mask = mask.masked_fill(mask == 1, float(\"-inf\"))\n",
    "    return mask\n",
    "\n",
    "def apply_causal_mask(attention_scores, mask):\n",
    "    \"\"\"\n",
    "    Apply mask to attention.\n",
    "    \"\"\"\n",
    "    attention_scores = attention_scores + mask\n",
    "    return attention_scores\n",
    "\n",
    "def split_heads(input_tensor, num_heads):\n",
    "    \"\"\"\n",
    "    Splitting the input across multiple heads.\n",
    "    \"\"\"\n",
    "    batch_size, seq_len, d_model = input_tensor.size()\n",
    "    d_head = d_model // num_heads\n",
    "\n",
    "    input_tensor = input_tensor.view(batch_size, seq_len, num_heads, d_head)\n",
    "    input_tensor = input_tensor.transpose(1, 2)\n",
    "\n",
    "    return input_tensor.contiguous().view(batch_size * num_heads, seq_len, d_head)\n",
    "\n",
    "def merge_heads(output_tensor, num_heads):\n",
    "    \"\"\"\n",
    "    Reversing splitting action of function split_heads().\n",
    "    \"\"\"\n",
    "    batch_size_times_heads, seq_len, d_head = output_tensor.size()\n",
    "    batch_size = batch_size_times_heads // num_heads\n",
    "    d_model = d_head * num_heads\n",
    "\n",
    "    output_tensor = output_tensor.view(batch_size, num_heads, seq_len, d_head)\n",
    "    output_tensor = output_tensor.transpose(1, 2).contiguous().view(batch_size, seq_len, d_model)\n",
    "\n",
    "    return output_tensor\n",
    "\n",
    "def self_attention(attention_scores, values):\n",
    "    \"\"\"\n",
    "    Self-attention block.\n",
    "    \"\"\"\n",
    "    attention_weights = attention_softmax(attention_scores)\n",
    "    output = compute_outputs(values, attention_weights)\n",
    "    return output, attention_weights\n",
    "\n",
    "def split_heads_qkv(q, k, v, num_heads):\n",
    "    \"\"\"\n",
    "    Split Q, K, V across multiple heads.\n",
    "    \"\"\"\n",
    "    q = split_heads(q, num_heads)\n",
    "    k = split_heads(k, num_heads)\n",
    "    v = split_heads(v, num_heads)\n",
    "\n",
    "    return q, k, v\n",
    "\n",
    "class TextDataset(torch.utils.data.Dataset):\n",
    "    def __init__(self, data, tokenizer):\n",
    "        self.data = data\n",
    "        self.tokenizer = tokenizer\n",
    "\n",
    "    def __len__(self):\n",
    "        return len(self.data)\n",
    "\n",
    "    def __getitem__(self, idx):\n",
    "        tokens = self.data[idx]\n",
    "        tokens_tensor = torch.tensor(tokens, dtype=torch.long)\n",
    "        return tokens_tensor\n",
    "\n",
    "def load_and_preprocess_data():\n",
    "    with open(\"/kaggle/input/shakesphere/shakespear_train.txt\", \"r\") as f:\n",
    "        lines_train = f.readlines()\n",
    "    with open(\"/kaggle/input/shakesphere/shakespear_dev.txt\", \"r\") as f:\n",
    "        lines_dev = f.readlines()\n",
    "    # with open(\"shakespear_test.txt\", \"r\") as f:\n",
    "    #     lines_test = f.readlines()\n",
    "\n",
    "    tokens_train = [line.split() for line in lines_train]\n",
    "\n",
    "    # Utility function to flatten tokens\n",
    "    def flat(tokens):\n",
    "        return [item for sublist in tokens for item in sublist]\n",
    "\n",
    "    token_counts = Counter(flat(tokens_train))\n",
    "\n",
    "    ## Create tokenizer\n",
    "    tokenizer = {\n",
    "        \"<PAD>\": 0,\n",
    "        \"<START>\": 1,\n",
    "        \"<STOP>\": 2,\n",
    "        \"<UNK>\": 3,\n",
    "    }\n",
    "\n",
    "    tokenizer.update({token: i + 4 for i, (token, _) in enumerate(token_counts.most_common(VOCAB_SIZE - 4))})\n",
    "\n",
    "    ## Create inverse tokenizer for decoding\n",
    "    tokenizer_inv = {v: k for k, v in tokenizer.items()}\n",
    "\n",
    "    ## Prepare datasets\n",
    "    data_train = [tokenize(line, pad_to_len=MAX_LEN, tokenizer=tokenizer) for line in lines_train]\n",
    "    data_val = [tokenize(line, pad_to_len=MAX_LEN, tokenizer=tokenizer) for line in lines_dev]\n",
    "\n",
    "    ## Create input-output pairs\n",
    "    train_dataset = TextDataset(data_train, tokenizer)\n",
    "    val_dataset = TextDataset(data_val, tokenizer)\n",
    "\n",
    "    return train_dataset, val_dataset, tokenizer, tokenizer_inv\n",
    "\n",
    "def pad_to_length(tokens, max_len, tokenizer):\n",
    "    \"\"\"\n",
    "    Pad tokens to a fixed length.\n",
    "    \"\"\"\n",
    "    tokens = tokens[:max_len]\n",
    "    if len(tokens) < max_len:\n",
    "        tokens += [tokenizer[\"<PAD>\"]] * (max_len - len(tokens))\n",
    "    return tokens\n",
    "\n",
    "def tokenize(sentence, pad_to_len=None, tokenizer=None, include_stop=True):\n",
    "    \"\"\"\n",
    "    Tokenize a sentence.\n",
    "    \"\"\"\n",
    "    tokens = [tokenizer.get(token, tokenizer[\"<UNK>\"]) for token in sentence.split()]\n",
    "    if include_stop:\n",
    "        tokens.append(tokenizer[\"<STOP>\"])\n",
    "    if pad_to_len:\n",
    "        tokens = pad_to_length(tokens, pad_to_len, tokenizer)\n",
    "    return tokens\n",
    "    \n",
    "\n",
    "def decode(tokens, tokenizer_inv, end_at_stop=True, omit_pad=True):\n",
    "    \"\"\"\n",
    "    Decode tokens to text.\n",
    "    \"\"\"\n",
    "    tokens = [token for token in tokens if not(omit_pad and token == 0)]\n",
    "\n",
    "    if end_at_stop and 2 in tokens:\n",
    "        stop_index = tokens.index(2)\n",
    "        tokens = tokens[:stop_index]\n",
    "\n",
    "    return \" \".join([tokenizer_inv.get(token, \"<UNK>\") for token in tokens])\n",
    "\n",
    "@torch.no_grad()\n",
    "def evaluate_losses(data, model, tokenizer, bs=32, progress=True, pad_to_len=MAX_LEN):\n",
    "    it = range(0, len(data), bs)\n",
    "    if progress:\n",
    "        it = tqdm(it)\n",
    "\n",
    "    out = []\n",
    "    for b_start in it:\n",
    "        batch = slice(b_start, b_start + bs)\n",
    "        tokens = torch.tensor(\n",
    "            [tokenize(t, pad_to_len=pad_to_len, tokenizer=tokenizer) for t in data[batch]], dtype=torch.long\n",
    "        ).to(DEVICE)\n",
    "        X_tokens, y_tokens = tokens[:, :-1].contiguous(), tokens[:, 1:].contiguous()\n",
    "\n",
    "        model.eval()\n",
    "        logits, _ = model(X_tokens)\n",
    "        log_probs = F.log_softmax(logits, dim=-1)\n",
    "        y_log_probs = torch.gather(log_probs, 2, y_tokens[..., None])[..., 0]\n",
    "\n",
    "        for i in range(y_tokens.shape[0]):\n",
    "            not_pad = y_tokens[i] != tokenizer[\"<PAD>\"]\n",
    "            loss = -y_log_probs[i, not_pad].mean()\n",
    "            out.append(loss.item())\n",
    "\n",
    "    return out\n",
    "\n",
    "def generate_text(model, tokenizer, tokenizer_inv, context=\"<START>\", gen_tokens=10, temperature=0.6):\n",
    "    \"\"\"\n",
    "    Generate a fixed number of tokens using the trained model.\n",
    "    \"\"\"\n",
    "    ## Tokenize the context\n",
    "    context = tokenize(context, pad_to_len=MAX_LEN, tokenizer=tokenizer, include_stop=False)\n",
    "    context = torch.tensor(context, dtype=torch.long).unsqueeze(0).to(DEVICE)\n",
    "\n",
    "    model.eval()\n",
    "    with torch.no_grad():\n",
    "        for _ in range(gen_tokens):\n",
    "            ## Get predictions\n",
    "            logits, _ = model(context)\n",
    "\n",
    "            ## Focus on the last token's predictions\n",
    "            last_logits = logits[:, -1, :].squeeze(1)\n",
    "\n",
    "            ## Apply softmax to get probabilities\n",
    "            probs = F.softmax(last_logits / temperature, dim=-1)\n",
    "\n",
    "            ## Sample from the distribution\n",
    "            next_token = torch.multinomial(probs, num_samples=1).item()\n",
    "\n",
    "            ## Append to the context\n",
    "            context = torch.cat([context, torch.tensor([[next_token]], dtype=torch.long).to(DEVICE)], dim=1)\n",
    "\n",
    "            ## Stop if we generated a STOP token\n",
    "            if next_token == tokenizer[\"<STOP>\"]:\n",
    "                break\n",
    "         \n",
    "\n",
    "    ## Convert back to text\n",
    "    generated_text = decode(context.squeeze(0).cpu().numpy(), tokenizer_inv, end_at_stop=True, omit_pad=True)\n",
    "    return generated_text"
   ]
  },
  {
   "cell_type": "code",
   "execution_count": 6,
   "metadata": {
    "colab": {
     "base_uri": "https://localhost:8080/",
     "height": 1000,
     "referenced_widgets": [
      "41fe6d22713a49b39bdec89cd8e8fd09",
      "a86851d6481d43d28df9cbade3c0785d",
      "6100a8a0d0154e78925284f17d931cc3",
      "b8d2784d4288479baec015af37c66ac6",
      "4998c5ef89b6483fa4e83f76c89ff027",
      "933b70c3aa24432b9e48e7edc83dc43c",
      "e495ad687e7d464db8729b9a1201d6c1",
      "6b7e8ab3cfe9424ebb552e5708938cfc",
      "275d014ee5ce4319b92d66bfbaa0ebb1",
      "988d2f0bb3074ddca89d982f98815122",
      "6c14b7cb36684e4a8b44368cee251eec",
      "fd6447e7d521477b8752274f770f8df1",
      "54f481e175bc49edbbb73e2834e55fda",
      "280b21d749b74f399b9fa5154c7f8708",
      "722e2beef62a448c98798fee739340db",
      "9dbbdbe03ccb44fcb49f2adbd7da7df5",
      "9d01be6542804311b02d60b5870104fb",
      "eeca73ac6ec3428990aff247c42d2f9e",
      "125ee15f48b745ababe2646118dbd494",
      "d0cbf4eb72b847a69c06ff490e470568",
      "fbac5ac8158f4fd7a9a9291fd8e941ab",
      "84dd54b14f5a4eb68390703ac461945d",
      "41ed30dec7b445fa8c237f9900a442c3",
      "a71cef7529724d83962b4dec803009a5",
      "03207eb60b3548508890ce249f0d1afc",
      "b63d4cbe42ba4641835c1bec999d0ce9",
      "47dc15226d8c4ba981b0e0fde835d495",
      "5267bb85d6c94df99b76f805cab4b8b4",
      "ed0625b0a02043f0bdcbfebd24eba2d4",
      "31f78dd8baf2484a9c6375c4c669c66f",
      "6790fbd83741430288248578dc4e00bb",
      "cf868a8c96f444c3a74fd94d74fa7d72",
      "365ed209b9144a08beaa6e8ac42f7ec9",
      "ab9013ecd5e545708ec627d9f2739104",
      "eb23e950808144a7975237a02d107f2f",
      "6cb51dfb501b40d3a42ce241c7019760",
      "9a1aca6cdbff4726a5a00bb823a90a95",
      "59633d8a8df944bab99143d7bde72045",
      "857fb4110cd84b339b5f7a4811262903",
      "9f2bb0283a254df48b6ba4aef5c787d6",
      "d27d2559a36d4040bb738c92aa7392ff",
      "e4fa104db54946ae97fc8a30cf768891",
      "ded9e4b6582c4ea69ea873b3b8f24cf8",
      "35731bf98d2e423a92d5414237608ec9",
      "73f98b2ffb2f4004a916be68d748ac7f",
      "042621fbc92347d4a1ed515007c01a23",
      "6c6b5db60cd649498d8862b37fd31e32",
      "969f545a143b442eab9ef999e4c3032b",
      "671174a5ddbf44aa921794279afec48e",
      "27e6be46400c4bce8831cbb174d14375",
      "80261b274bba417b8547c1f3a11248de",
      "d881babd2a0340ae843522520b0b6a74",
      "51f6756c6880470ba26c21aee300a846",
      "59c2c983b6a74ac5adcc37834107ca68",
      "86bd82bcde134e03b8bc18fea7a37c07",
      "9fd3125ee84747b4922ca3851e2dc149",
      "1aec25f65a89492fa9fb968d13c4b1c3",
      "6e498093ddb049ac95bce335a6ff93a0",
      "55024d1ec9294232a91ba376cdbda59d",
      "f94a5f99a11d4d1cabd212c15a6b1bf7",
      "54c4b3d70f2346b8bbd4d907b3ec5d91",
      "9e89073011df4e59bc1679617fea2020",
      "cf3d68dceed548d2ad2ff87b01ea5fec",
      "053ebaa0aab24d20bee9b7e21f786c66",
      "08784c71050742cf81be5f486d28dd7d",
      "c76d70520ab54527bf14709fc50e97a9"
     ]
    },
    "execution": {
     "iopub.execute_input": "2025-04-06T14:45:52.234982Z",
     "iopub.status.busy": "2025-04-06T14:45:52.234741Z",
     "iopub.status.idle": "2025-04-06T15:08:36.962277Z",
     "shell.execute_reply": "2025-04-06T15:08:36.961365Z",
     "shell.execute_reply.started": "2025-04-06T14:45:52.234945Z"
    },
    "id": "W5TlZLol7Ags",
    "outputId": "4f06bebb-76d4-438a-ad1f-dffc17ba39f3",
    "trusted": true
   },
   "outputs": [
    {
     "name": "stdout",
     "output_type": "stream",
     "text": [
      "TransformerLM(\n",
      "  (embedding): Embedding(10000, 512)\n",
      "  (positional_encoding): PositionalEncoding()\n",
      "  (dropout): Dropout(p=0.1, inplace=False)\n",
      "  (embedding_dropout): Dropout(p=0.05, inplace=False)\n",
      "  (transformer_blocks): ModuleList(\n",
      "    (0-5): 6 x TransformerBlock(\n",
      "      (attention): MultiHeadAttention(\n",
      "        (W_q): Linear(in_features=512, out_features=512, bias=False)\n",
      "        (W_k): Linear(in_features=512, out_features=512, bias=False)\n",
      "        (W_v): Linear(in_features=512, out_features=512, bias=False)\n",
      "        (W_o): Linear(in_features=512, out_features=512, bias=True)\n",
      "      )\n",
      "      (norm1): LayerNorm((512,), eps=1e-05, elementwise_affine=True)\n",
      "      (dropout1): Dropout(p=0.1, inplace=False)\n",
      "      (feed_forward): Sequential(\n",
      "        (0): Linear(in_features=512, out_features=2048, bias=True)\n",
      "        (1): GELU(approximate='none')\n",
      "        (2): Linear(in_features=2048, out_features=512, bias=True)\n",
      "      )\n",
      "      (norm2): LayerNorm((512,), eps=1e-05, elementwise_affine=True)\n",
      "      (dropout2): Dropout(p=0.1, inplace=False)\n",
      "    )\n",
      "  )\n",
      "  (fc_out): Linear(in_features=512, out_features=10000, bias=True)\n",
      ")\n"
     ]
    },
    {
     "name": "stderr",
     "output_type": "stream",
     "text": [
      "100%|██████████| 82/82 [00:15<00:00,  5.15it/s]\n"
     ]
    },
    {
     "name": "stdout",
     "output_type": "stream",
     "text": [
      "Epoch 1: Train Loss = 6.449590741134271, Val Loss = 5.9521207053486895\n",
      "Sample text: <START> I still have to gentlewoman old that that all . . . . and you ,\n"
     ]
    },
    {
     "name": "stderr",
     "output_type": "stream",
     "text": [
      "100%|██████████| 41/41 [00:05<00:00,  7.18it/s]\n"
     ]
    },
    {
     "name": "stdout",
     "output_type": "stream",
     "text": [
      "\n",
      "Test perplexity: 393.22207682394793\n"
     ]
    },
    {
     "name": "stderr",
     "output_type": "stream",
     "text": [
      "100%|██████████| 82/82 [00:16<00:00,  4.98it/s]\n"
     ]
    },
    {
     "name": "stdout",
     "output_type": "stream",
     "text": [
      "Epoch 2: Train Loss = 5.854747940854328, Val Loss = 5.408266904877453\n",
      "Sample text: <START> I still have to rather ward <UNK> ' sedges <UNK> , flouts Verona : is 'Bless And <UNK> <UNK> sup <UNK> as shrewd themselves\n"
     ]
    },
    {
     "name": "stderr",
     "output_type": "stream",
     "text": [
      "100%|██████████| 41/41 [00:05<00:00,  7.42it/s]\n"
     ]
    },
    {
     "name": "stdout",
     "output_type": "stream",
     "text": [
      "\n",
      "Test perplexity: 228.72067258737164\n"
     ]
    },
    {
     "name": "stderr",
     "output_type": "stream",
     "text": [
      "100%|██████████| 82/82 [00:15<00:00,  5.15it/s]\n"
     ]
    },
    {
     "name": "stdout",
     "output_type": "stream",
     "text": [
      "Epoch 3: Train Loss = 5.417909965282533, Val Loss = 5.026581767128735\n",
      "Sample text: <START> I still have to grows <UNK> , There It if and lord\n"
     ]
    },
    {
     "name": "stderr",
     "output_type": "stream",
     "text": [
      "100%|██████████| 41/41 [00:05<00:00,  7.57it/s]\n"
     ]
    },
    {
     "name": "stdout",
     "output_type": "stream",
     "text": [
      "\n",
      "Test perplexity: 145.88753182816424\n"
     ]
    },
    {
     "name": "stderr",
     "output_type": "stream",
     "text": [
      "100%|██████████| 82/82 [00:15<00:00,  5.14it/s]\n"
     ]
    },
    {
     "name": "stdout",
     "output_type": "stream",
     "text": [
      "Epoch 4: Train Loss = 5.182070261094628, Val Loss = 4.846870768360976\n",
      "Sample text: <START> I still have to walk <UNK> gentleman\n"
     ]
    },
    {
     "name": "stderr",
     "output_type": "stream",
     "text": [
      "100%|██████████| 41/41 [00:05<00:00,  7.42it/s]\n"
     ]
    },
    {
     "name": "stdout",
     "output_type": "stream",
     "text": [
      "\n",
      "Test perplexity: 86.43964746425438\n"
     ]
    },
    {
     "name": "stderr",
     "output_type": "stream",
     "text": [
      "100%|██████████| 82/82 [00:16<00:00,  5.08it/s]\n"
     ]
    },
    {
     "name": "stdout",
     "output_type": "stream",
     "text": [
      "Epoch 5: Train Loss = 5.078812180495843, Val Loss = 4.756257298516064\n",
      "Sample text: <START> I still have to <UNK> treats <UNK> desired well Pisa come .\n"
     ]
    },
    {
     "name": "stderr",
     "output_type": "stream",
     "text": [
      "100%|██████████| 41/41 [00:05<00:00,  7.44it/s]\n"
     ]
    },
    {
     "name": "stdout",
     "output_type": "stream",
     "text": [
      "\n",
      "Test perplexity: 82.9832039867572\n"
     ]
    },
    {
     "name": "stderr",
     "output_type": "stream",
     "text": [
      "100%|██████████| 82/82 [00:16<00:00,  5.11it/s]\n"
     ]
    },
    {
     "name": "stdout",
     "output_type": "stream",
     "text": [
      "Epoch 6: Train Loss = 5.018809527885623, Val Loss = 4.7036102254216265\n",
      "Sample text: <START> I still have to they <UNK> <UNK> dew hardly name\n"
     ]
    },
    {
     "name": "stderr",
     "output_type": "stream",
     "text": [
      "100%|██████████| 41/41 [00:05<00:00,  7.52it/s]\n"
     ]
    },
    {
     "name": "stdout",
     "output_type": "stream",
     "text": [
      "\n",
      "Test perplexity: 82.58351990364514\n"
     ]
    },
    {
     "name": "stderr",
     "output_type": "stream",
     "text": [
      "100%|██████████| 82/82 [00:15<00:00,  5.14it/s]\n"
     ]
    },
    {
     "name": "stdout",
     "output_type": "stream",
     "text": [
      "Epoch 7: Train Loss = 4.989222410248547, Val Loss = 4.671338191846522\n",
      "Sample text: <START> I still have to <UNK> meddling closely <UNK> <UNK> disguiser\n"
     ]
    },
    {
     "name": "stderr",
     "output_type": "stream",
     "text": [
      "100%|██████████| 41/41 [00:05<00:00,  7.49it/s]\n"
     ]
    },
    {
     "name": "stdout",
     "output_type": "stream",
     "text": [
      "\n",
      "Test perplexity: 73.92442072478656\n"
     ]
    },
    {
     "name": "stderr",
     "output_type": "stream",
     "text": [
      "100%|██████████| 82/82 [00:16<00:00,  5.10it/s]\n"
     ]
    },
    {
     "name": "stdout",
     "output_type": "stream",
     "text": [
      "Epoch 8: Train Loss = 4.968824008616005, Val Loss = 4.695781364673522\n",
      "Sample text: <START> I still have to <UNK> <UNK> untrussing : Well Just\n"
     ]
    },
    {
     "name": "stderr",
     "output_type": "stream",
     "text": [
      "100%|██████████| 41/41 [00:05<00:00,  7.48it/s]\n"
     ]
    },
    {
     "name": "stdout",
     "output_type": "stream",
     "text": [
      "\n",
      "Test perplexity: 77.76564785271493\n"
     ]
    },
    {
     "name": "stderr",
     "output_type": "stream",
     "text": [
      "100%|██████████| 82/82 [00:16<00:00,  5.11it/s]\n"
     ]
    },
    {
     "name": "stdout",
     "output_type": "stream",
     "text": [
      "Epoch 9: Train Loss = 4.9525976762539, Val Loss = 4.702176852924068\n",
      "Sample text: <START> I still have to So must in slender , Signior\n"
     ]
    },
    {
     "name": "stderr",
     "output_type": "stream",
     "text": [
      "100%|██████████| 41/41 [00:05<00:00,  7.51it/s]\n"
     ]
    },
    {
     "name": "stdout",
     "output_type": "stream",
     "text": [
      "\n",
      "Test perplexity: 73.6922111304166\n"
     ]
    },
    {
     "name": "stderr",
     "output_type": "stream",
     "text": [
      "100%|██████████| 82/82 [00:16<00:00,  5.11it/s]\n"
     ]
    },
    {
     "name": "stdout",
     "output_type": "stream",
     "text": [
      "Epoch 10: Train Loss = 4.926301898025885, Val Loss = 4.6407804779890105\n",
      "Sample text: <START> I still have to <UNK> Anne to know talk to curst\n"
     ]
    },
    {
     "name": "stderr",
     "output_type": "stream",
     "text": [
      "100%|██████████| 41/41 [00:05<00:00,  7.53it/s]\n"
     ]
    },
    {
     "name": "stdout",
     "output_type": "stream",
     "text": [
      "\n",
      "Test perplexity: 68.88874648219529\n"
     ]
    },
    {
     "name": "stderr",
     "output_type": "stream",
     "text": [
      "100%|██████████| 82/82 [00:15<00:00,  5.13it/s]\n"
     ]
    },
    {
     "name": "stdout",
     "output_type": "stream",
     "text": [
      "Epoch 11: Train Loss = 4.903361442612439, Val Loss = 4.599722693606121\n",
      "Sample text: <START> I still have to Such That hath reap and I have have give your <UNK> <UNK> reckoning for the lord , And upon him\n"
     ]
    },
    {
     "name": "stderr",
     "output_type": "stream",
     "text": [
      "100%|██████████| 41/41 [00:05<00:00,  7.52it/s]\n"
     ]
    },
    {
     "name": "stdout",
     "output_type": "stream",
     "text": [
      "\n",
      "Test perplexity: 66.71637260930785\n"
     ]
    },
    {
     "name": "stderr",
     "output_type": "stream",
     "text": [
      "100%|██████████| 82/82 [00:16<00:00,  5.12it/s]\n"
     ]
    },
    {
     "name": "stdout",
     "output_type": "stream",
     "text": [
      "Epoch 12: Train Loss = 4.874110309089103, Val Loss = 4.550834271965957\n",
      "Sample text: <START> I still have to both judge : I am not will <UNK> <UNK> ale !\n"
     ]
    },
    {
     "name": "stderr",
     "output_type": "stream",
     "text": [
      "100%|██████████| 41/41 [00:05<00:00,  7.49it/s]\n"
     ]
    },
    {
     "name": "stdout",
     "output_type": "stream",
     "text": [
      "\n",
      "Test perplexity: 65.2572738633755\n"
     ]
    },
    {
     "name": "stderr",
     "output_type": "stream",
     "text": [
      "100%|██████████| 82/82 [00:16<00:00,  5.10it/s]\n"
     ]
    },
    {
     "name": "stdout",
     "output_type": "stream",
     "text": [
      "Epoch 13: Train Loss = 4.823257751581146, Val Loss = 4.515569654906669\n",
      "Sample text: <START> I still have to should he hath he shall am am continue looker 's grace\n"
     ]
    },
    {
     "name": "stderr",
     "output_type": "stream",
     "text": [
      "100%|██████████| 41/41 [00:05<00:00,  7.47it/s]\n"
     ]
    },
    {
     "name": "stdout",
     "output_type": "stream",
     "text": [
      "\n",
      "Test perplexity: 62.5146401967929\n"
     ]
    },
    {
     "name": "stderr",
     "output_type": "stream",
     "text": [
      "100%|██████████| 82/82 [00:16<00:00,  5.10it/s]\n"
     ]
    },
    {
     "name": "stdout",
     "output_type": "stream",
     "text": [
      "Epoch 14: Train Loss = 4.800859410588334, Val Loss = 4.508725291345177\n",
      "Sample text: <START> I still have to ; and , and sirrah\n"
     ]
    },
    {
     "name": "stderr",
     "output_type": "stream",
     "text": [
      "100%|██████████| 41/41 [00:05<00:00,  7.49it/s]\n"
     ]
    },
    {
     "name": "stdout",
     "output_type": "stream",
     "text": [
      "\n",
      "Test perplexity: 62.88702623446076\n"
     ]
    },
    {
     "name": "stderr",
     "output_type": "stream",
     "text": [
      "100%|██████████| 82/82 [00:16<00:00,  5.11it/s]\n"
     ]
    },
    {
     "name": "stdout",
     "output_type": "stream",
     "text": [
      "Epoch 15: Train Loss = 4.7636017101566965, Val Loss = 4.436941463772843\n",
      "Sample text: <START> I still have to <UNK> discontent\n"
     ]
    },
    {
     "name": "stderr",
     "output_type": "stream",
     "text": [
      "100%|██████████| 41/41 [00:05<00:00,  7.51it/s]\n"
     ]
    },
    {
     "name": "stdout",
     "output_type": "stream",
     "text": [
      "\n",
      "Test perplexity: 59.14571616731217\n"
     ]
    },
    {
     "name": "stderr",
     "output_type": "stream",
     "text": [
      "100%|██████████| 82/82 [00:16<00:00,  5.12it/s]\n"
     ]
    },
    {
     "name": "stdout",
     "output_type": "stream",
     "text": [
      "Epoch 16: Train Loss = 4.722620871008896, Val Loss = 4.418627061494967\n",
      "Sample text: <START> I still have to preparation\n"
     ]
    },
    {
     "name": "stderr",
     "output_type": "stream",
     "text": [
      "100%|██████████| 41/41 [00:05<00:00,  7.51it/s]\n"
     ]
    },
    {
     "name": "stdout",
     "output_type": "stream",
     "text": [
      "\n",
      "Test perplexity: 57.69489711309424\n"
     ]
    },
    {
     "name": "stderr",
     "output_type": "stream",
     "text": [
      "100%|██████████| 82/82 [00:16<00:00,  5.11it/s]\n"
     ]
    },
    {
     "name": "stdout",
     "output_type": "stream",
     "text": [
      "Epoch 17: Train Loss = 4.715513764358148, Val Loss = 4.35996394913371\n",
      "Sample text: <START> I still have to and shall would know it is not from her ; And my life ; And so well are as sweet\n"
     ]
    },
    {
     "name": "stderr",
     "output_type": "stream",
     "text": [
      "100%|██████████| 41/41 [00:05<00:00,  7.54it/s]\n"
     ]
    },
    {
     "name": "stdout",
     "output_type": "stream",
     "text": [
      "\n",
      "Test perplexity: 55.082034529048265\n"
     ]
    },
    {
     "name": "stderr",
     "output_type": "stream",
     "text": [
      "100%|██████████| 82/82 [00:16<00:00,  5.12it/s]\n"
     ]
    },
    {
     "name": "stdout",
     "output_type": "stream",
     "text": [
      "Epoch 18: Train Loss = 4.6574910006872035, Val Loss = 4.337763489746466\n",
      "Sample text: <START> I still have to <UNK> hung Sly\n"
     ]
    },
    {
     "name": "stderr",
     "output_type": "stream",
     "text": [
      "100%|██████████| 41/41 [00:05<00:00,  7.54it/s]\n"
     ]
    },
    {
     "name": "stdout",
     "output_type": "stream",
     "text": [
      "\n",
      "Test perplexity: 53.94964524736863\n"
     ]
    },
    {
     "name": "stderr",
     "output_type": "stream",
     "text": [
      "100%|██████████| 82/82 [00:16<00:00,  5.12it/s]\n"
     ]
    },
    {
     "name": "stdout",
     "output_type": "stream",
     "text": [
      "Epoch 19: Train Loss = 4.645803224749681, Val Loss = 4.295326491681541\n",
      "Sample text: <START> I still have to unsisting hand and rascal and Or Biondello and come , and my husband and am <UNK> contended <UNK> to the\n"
     ]
    },
    {
     "name": "stderr",
     "output_type": "stream",
     "text": [
      "100%|██████████| 41/41 [00:05<00:00,  7.54it/s]\n"
     ]
    },
    {
     "name": "stdout",
     "output_type": "stream",
     "text": [
      "\n",
      "Test perplexity: 51.78935686550278\n"
     ]
    },
    {
     "name": "stderr",
     "output_type": "stream",
     "text": [
      "100%|██████████| 82/82 [00:15<00:00,  5.13it/s]\n"
     ]
    },
    {
     "name": "stdout",
     "output_type": "stream",
     "text": [
      "Epoch 20: Train Loss = 4.61932215167255, Val Loss = 4.273752962670675\n",
      "Sample text: <START> I still have to .\n"
     ]
    },
    {
     "name": "stderr",
     "output_type": "stream",
     "text": [
      "100%|██████████| 41/41 [00:05<00:00,  7.55it/s]\n"
     ]
    },
    {
     "name": "stdout",
     "output_type": "stream",
     "text": [
      "\n",
      "Test perplexity: 49.36017860763837\n"
     ]
    },
    {
     "name": "stderr",
     "output_type": "stream",
     "text": [
      "100%|██████████| 82/82 [00:15<00:00,  5.13it/s]\n"
     ]
    },
    {
     "name": "stdout",
     "output_type": "stream",
     "text": [
      "Epoch 21: Train Loss = 4.597378719143752, Val Loss = 4.242659813020287\n",
      "Sample text: <START> I still have to <UNK>\n"
     ]
    },
    {
     "name": "stderr",
     "output_type": "stream",
     "text": [
      "100%|██████████| 41/41 [00:05<00:00,  7.55it/s]\n"
     ]
    },
    {
     "name": "stdout",
     "output_type": "stream",
     "text": [
      "\n",
      "Test perplexity: 49.29182177310935\n"
     ]
    },
    {
     "name": "stderr",
     "output_type": "stream",
     "text": [
      "100%|██████████| 82/82 [00:15<00:00,  5.15it/s]\n"
     ]
    },
    {
     "name": "stdout",
     "output_type": "stream",
     "text": [
      "Epoch 22: Train Loss = 4.570466963256278, Val Loss = 4.245228613295207\n",
      "Sample text: <START> I still have to <UNK> <UNK> dreams .\n"
     ]
    },
    {
     "name": "stderr",
     "output_type": "stream",
     "text": [
      "100%|██████████| 41/41 [00:05<00:00,  7.57it/s]\n"
     ]
    },
    {
     "name": "stdout",
     "output_type": "stream",
     "text": [
      "\n",
      "Test perplexity: 49.460981385647734\n"
     ]
    },
    {
     "name": "stderr",
     "output_type": "stream",
     "text": [
      "100%|██████████| 82/82 [00:15<00:00,  5.15it/s]\n"
     ]
    },
    {
     "name": "stdout",
     "output_type": "stream",
     "text": [
      "Epoch 23: Train Loss = 4.536440235812489, Val Loss = 4.208312633560925\n",
      "Sample text: <START> I still have to and to thy daughter And knew a <UNK> perpetually to no more then so ; And for the house ?\n"
     ]
    },
    {
     "name": "stderr",
     "output_type": "stream",
     "text": [
      "100%|██████████| 41/41 [00:05<00:00,  7.58it/s]\n"
     ]
    },
    {
     "name": "stdout",
     "output_type": "stream",
     "text": [
      "\n",
      "Test perplexity: 46.789755503110534\n"
     ]
    },
    {
     "name": "stderr",
     "output_type": "stream",
     "text": [
      "100%|██████████| 82/82 [00:15<00:00,  5.16it/s]\n"
     ]
    },
    {
     "name": "stdout",
     "output_type": "stream",
     "text": [
      "Epoch 24: Train Loss = 4.539276053265827, Val Loss = 4.176237283683404\n",
      "Sample text: <START> I still have to and he will some time .\n"
     ]
    },
    {
     "name": "stderr",
     "output_type": "stream",
     "text": [
      "100%|██████████| 41/41 [00:05<00:00,  7.61it/s]\n"
     ]
    },
    {
     "name": "stdout",
     "output_type": "stream",
     "text": [
      "\n",
      "Test perplexity: 45.24208077237752\n"
     ]
    },
    {
     "name": "stderr",
     "output_type": "stream",
     "text": [
      "100%|██████████| 82/82 [00:15<00:00,  5.17it/s]\n"
     ]
    },
    {
     "name": "stdout",
     "output_type": "stream",
     "text": [
      "Epoch 25: Train Loss = 4.5132434978717715, Val Loss = 4.1732353495388494\n",
      "Sample text: <START> I still have to And what will will marry to to -- And by father .\n"
     ]
    },
    {
     "name": "stderr",
     "output_type": "stream",
     "text": [
      "100%|██████████| 41/41 [00:05<00:00,  7.62it/s]\n"
     ]
    },
    {
     "name": "stdout",
     "output_type": "stream",
     "text": [
      "\n",
      "Test perplexity: 45.7120092359059\n"
     ]
    },
    {
     "name": "stderr",
     "output_type": "stream",
     "text": [
      "100%|██████████| 82/82 [00:15<00:00,  5.17it/s]\n"
     ]
    },
    {
     "name": "stdout",
     "output_type": "stream",
     "text": [
      "Epoch 26: Train Loss = 4.502644841263934, Val Loss = 4.163646413058769\n",
      "Sample text: <START> I still have to in death .\n"
     ]
    },
    {
     "name": "stderr",
     "output_type": "stream",
     "text": [
      "100%|██████████| 41/41 [00:05<00:00,  7.61it/s]\n"
     ]
    },
    {
     "name": "stdout",
     "output_type": "stream",
     "text": [
      "\n",
      "Test perplexity: 46.345397508098564\n"
     ]
    },
    {
     "name": "stderr",
     "output_type": "stream",
     "text": [
      "100%|██████████| 82/82 [00:15<00:00,  5.17it/s]\n"
     ]
    },
    {
     "name": "stdout",
     "output_type": "stream",
     "text": [
      "Epoch 27: Train Loss = 4.491304807546662, Val Loss = 4.127114069171068\n",
      "Sample text: <START> I still have to and You will look , I hear you will not will will woo to play for the right of of\n"
     ]
    },
    {
     "name": "stderr",
     "output_type": "stream",
     "text": [
      "100%|██████████| 41/41 [00:05<00:00,  7.61it/s]\n"
     ]
    },
    {
     "name": "stdout",
     "output_type": "stream",
     "text": [
      "\n",
      "Test perplexity: 43.74990439674145\n"
     ]
    },
    {
     "name": "stderr",
     "output_type": "stream",
     "text": [
      "100%|██████████| 82/82 [00:15<00:00,  5.16it/s]\n"
     ]
    },
    {
     "name": "stdout",
     "output_type": "stream",
     "text": [
      "Epoch 28: Train Loss = 4.470025452171884, Val Loss = 4.121380419265933\n",
      "Sample text: <START> I still have to and thankings and with Angelo ?\n"
     ]
    },
    {
     "name": "stderr",
     "output_type": "stream",
     "text": [
      "100%|██████████| 41/41 [00:05<00:00,  7.59it/s]\n"
     ]
    },
    {
     "name": "stdout",
     "output_type": "stream",
     "text": [
      "\n",
      "Test perplexity: 44.89755485804441\n"
     ]
    },
    {
     "name": "stderr",
     "output_type": "stream",
     "text": [
      "100%|██████████| 82/82 [00:15<00:00,  5.16it/s]\n"
     ]
    },
    {
     "name": "stdout",
     "output_type": "stream",
     "text": [
      "Epoch 29: Train Loss = 4.479468246785606, Val Loss = 4.110317965833152\n",
      "Sample text: <START> I still have to With with with my gale with with her to woo her and and warm has with her and low ,\n"
     ]
    },
    {
     "name": "stderr",
     "output_type": "stream",
     "text": [
      "100%|██████████| 41/41 [00:05<00:00,  7.60it/s]\n"
     ]
    },
    {
     "name": "stdout",
     "output_type": "stream",
     "text": [
      "\n",
      "Test perplexity: 43.93866373341912\n"
     ]
    },
    {
     "name": "stderr",
     "output_type": "stream",
     "text": [
      "100%|██████████| 82/82 [00:15<00:00,  5.15it/s]\n"
     ]
    },
    {
     "name": "stdout",
     "output_type": "stream",
     "text": [
      "Epoch 30: Train Loss = 4.4522421447242175, Val Loss = 4.101644361891398\n",
      "Sample text: <START> I still have to friar , and as as a father will have have a daughters ; And by the head ?\n"
     ]
    },
    {
     "name": "stderr",
     "output_type": "stream",
     "text": [
      "100%|██████████| 41/41 [00:05<00:00,  7.61it/s]\n"
     ]
    },
    {
     "name": "stdout",
     "output_type": "stream",
     "text": [
      "\n",
      "Test perplexity: 42.38946579615622\n"
     ]
    },
    {
     "name": "stderr",
     "output_type": "stream",
     "text": [
      "100%|██████████| 82/82 [00:15<00:00,  5.17it/s]\n"
     ]
    },
    {
     "name": "stdout",
     "output_type": "stream",
     "text": [
      "Epoch 31: Train Loss = 4.439935806320935, Val Loss = 4.093122834112586\n",
      "Sample text: <START> I still have to and <UNK> as and hide , and as as as as I 'll shall do before the power with with\n"
     ]
    },
    {
     "name": "stderr",
     "output_type": "stream",
     "text": [
      "100%|██████████| 41/41 [00:05<00:00,  7.63it/s]\n"
     ]
    },
    {
     "name": "stdout",
     "output_type": "stream",
     "text": [
      "\n",
      "Test perplexity: 42.47259214677788\n"
     ]
    },
    {
     "name": "stderr",
     "output_type": "stream",
     "text": [
      "100%|██████████| 82/82 [00:15<00:00,  5.17it/s]\n"
     ]
    },
    {
     "name": "stdout",
     "output_type": "stream",
     "text": [
      "Epoch 32: Train Loss = 4.430323027982944, Val Loss = 4.068235499102895\n",
      "Sample text: <START> I still have to and two and and so so so , and call her with with a warrant Shooty by so so .\n"
     ]
    },
    {
     "name": "stderr",
     "output_type": "stream",
     "text": [
      "100%|██████████| 41/41 [00:05<00:00,  7.63it/s]\n"
     ]
    },
    {
     "name": "stdout",
     "output_type": "stream",
     "text": [
      "\n",
      "Test perplexity: 41.434797874483365\n"
     ]
    },
    {
     "name": "stderr",
     "output_type": "stream",
     "text": [
      "100%|██████████| 82/82 [00:15<00:00,  5.16it/s]\n"
     ]
    },
    {
     "name": "stdout",
     "output_type": "stream",
     "text": [
      "Epoch 33: Train Loss = 4.4288279603167275, Val Loss = 4.079269257987418\n",
      "Sample text: <START> I still have to to her .\n"
     ]
    },
    {
     "name": "stderr",
     "output_type": "stream",
     "text": [
      "100%|██████████| 41/41 [00:05<00:00,  7.61it/s]\n"
     ]
    },
    {
     "name": "stdout",
     "output_type": "stream",
     "text": [
      "\n",
      "Test perplexity: 41.66210668417252\n"
     ]
    },
    {
     "name": "stderr",
     "output_type": "stream",
     "text": [
      "100%|██████████| 82/82 [00:15<00:00,  5.15it/s]\n"
     ]
    },
    {
     "name": "stdout",
     "output_type": "stream",
     "text": [
      "Epoch 34: Train Loss = 4.416248847798603, Val Loss = 4.048806623714726\n",
      "Sample text: <START> I still have to hide , and with my daughter will not as as as but to your life and and brown and so\n"
     ]
    },
    {
     "name": "stderr",
     "output_type": "stream",
     "text": [
      "100%|██████████| 41/41 [00:05<00:00,  7.60it/s]\n"
     ]
    },
    {
     "name": "stdout",
     "output_type": "stream",
     "text": [
      "\n",
      "Test perplexity: 41.12323067191088\n"
     ]
    },
    {
     "name": "stderr",
     "output_type": "stream",
     "text": [
      "100%|██████████| 82/82 [00:15<00:00,  5.15it/s]\n"
     ]
    },
    {
     "name": "stdout",
     "output_type": "stream",
     "text": [
      "Epoch 35: Train Loss = 4.397583958579273, Val Loss = 4.0479304732345955\n",
      "Sample text: <START> I still have to have make a hundred <UNK> and instruct as my titles , and and and would would some to her and\n"
     ]
    },
    {
     "name": "stderr",
     "output_type": "stream",
     "text": [
      "100%|██████████| 41/41 [00:05<00:00,  7.59it/s]\n"
     ]
    },
    {
     "name": "stdout",
     "output_type": "stream",
     "text": [
      "\n",
      "Test perplexity: 41.0434667579563\n"
     ]
    },
    {
     "name": "stderr",
     "output_type": "stream",
     "text": [
      "100%|██████████| 82/82 [00:15<00:00,  5.15it/s]\n"
     ]
    },
    {
     "name": "stdout",
     "output_type": "stream",
     "text": [
      "Epoch 36: Train Loss = 4.389966525682589, Val Loss = 4.0479792007585855\n",
      "Sample text: <START> I still have to and have all and and not a place and and then and takest with thy ?\n"
     ]
    },
    {
     "name": "stderr",
     "output_type": "stream",
     "text": [
      "100%|██████████| 41/41 [00:05<00:00,  7.61it/s]\n"
     ]
    },
    {
     "name": "stdout",
     "output_type": "stream",
     "text": [
      "\n",
      "Test perplexity: 40.539186944480285\n"
     ]
    },
    {
     "name": "stderr",
     "output_type": "stream",
     "text": [
      "100%|██████████| 82/82 [00:15<00:00,  5.16it/s]\n"
     ]
    },
    {
     "name": "stdout",
     "output_type": "stream",
     "text": [
      "Epoch 37: Train Loss = 4.395688129634392, Val Loss = 4.031574080630047\n",
      "Sample text: <START> I still have to as as as as to wrong 'd with her to let to be in his madam friend and call her\n"
     ]
    },
    {
     "name": "stderr",
     "output_type": "stream",
     "text": [
      "100%|██████████| 41/41 [00:05<00:00,  7.63it/s]\n"
     ]
    },
    {
     "name": "stdout",
     "output_type": "stream",
     "text": [
      "\n",
      "Test perplexity: 40.32819765166058\n"
     ]
    },
    {
     "name": "stderr",
     "output_type": "stream",
     "text": [
      "100%|██████████| 82/82 [00:15<00:00,  5.16it/s]\n"
     ]
    },
    {
     "name": "stdout",
     "output_type": "stream",
     "text": [
      "Epoch 38: Train Loss = 4.3987654854611655, Val Loss = 4.028613267875299\n",
      "Sample text: <START> I still have to and and be to the devil , and the devil .\n"
     ]
    },
    {
     "name": "stderr",
     "output_type": "stream",
     "text": [
      "100%|██████████| 41/41 [00:05<00:00,  7.64it/s]\n"
     ]
    },
    {
     "name": "stdout",
     "output_type": "stream",
     "text": [
      "\n",
      "Test perplexity: 40.130291213998376\n"
     ]
    },
    {
     "name": "stderr",
     "output_type": "stream",
     "text": [
      "100%|██████████| 82/82 [00:15<00:00,  5.16it/s]\n"
     ]
    },
    {
     "name": "stdout",
     "output_type": "stream",
     "text": [
      "Epoch 39: Train Loss = 4.376074596149166, Val Loss = 4.037305378332371\n",
      "Sample text: <START> I still have to to be great .\n"
     ]
    },
    {
     "name": "stderr",
     "output_type": "stream",
     "text": [
      "100%|██████████| 41/41 [00:05<00:00,  7.65it/s]\n"
     ]
    },
    {
     "name": "stdout",
     "output_type": "stream",
     "text": [
      "\n",
      "Test perplexity: 40.26949582991457\n"
     ]
    },
    {
     "name": "stderr",
     "output_type": "stream",
     "text": [
      "100%|██████████| 82/82 [00:15<00:00,  5.17it/s]\n"
     ]
    },
    {
     "name": "stdout",
     "output_type": "stream",
     "text": [
      "Epoch 40: Train Loss = 4.364668508855308, Val Loss = 4.010547012817569\n",
      "Sample text: <START> I still have to and from your life , and and and as as as as the world !\n"
     ]
    },
    {
     "name": "stderr",
     "output_type": "stream",
     "text": [
      "100%|██████████| 41/41 [00:05<00:00,  7.64it/s]\n"
     ]
    },
    {
     "name": "stdout",
     "output_type": "stream",
     "text": [
      "\n",
      "Test perplexity: 39.54595646277697\n"
     ]
    },
    {
     "name": "stderr",
     "output_type": "stream",
     "text": [
      "100%|██████████| 82/82 [00:15<00:00,  5.16it/s]\n"
     ]
    },
    {
     "name": "stdout",
     "output_type": "stream",
     "text": [
      "Epoch 41: Train Loss = 4.354364334083185, Val Loss = 4.02471082094239\n",
      "Sample text: <START> I still have to <UNK> ?\n"
     ]
    },
    {
     "name": "stderr",
     "output_type": "stream",
     "text": [
      "100%|██████████| 41/41 [00:05<00:00,  7.65it/s]\n"
     ]
    },
    {
     "name": "stdout",
     "output_type": "stream",
     "text": [
      "\n",
      "Test perplexity: 39.12802009577667\n"
     ]
    },
    {
     "name": "stderr",
     "output_type": "stream",
     "text": [
      "100%|██████████| 82/82 [00:15<00:00,  5.16it/s]\n"
     ]
    },
    {
     "name": "stdout",
     "output_type": "stream",
     "text": [
      "Epoch 42: Train Loss = 4.341431449099285, Val Loss = 4.003785261293737\n",
      "Sample text: <START> I still have to and sorry and so strange ?\n"
     ]
    },
    {
     "name": "stderr",
     "output_type": "stream",
     "text": [
      "100%|██████████| 41/41 [00:05<00:00,  7.62it/s]\n"
     ]
    },
    {
     "name": "stdout",
     "output_type": "stream",
     "text": [
      "\n",
      "Test perplexity: 39.531182499217714\n"
     ]
    },
    {
     "name": "stderr",
     "output_type": "stream",
     "text": [
      "100%|██████████| 82/82 [00:15<00:00,  5.15it/s]\n"
     ]
    },
    {
     "name": "stdout",
     "output_type": "stream",
     "text": [
      "Epoch 43: Train Loss = 4.349295886551461, Val Loss = 3.9747001456051336\n",
      "Sample text: <START> I still have to with her , to be walk , and and come .\n"
     ]
    },
    {
     "name": "stderr",
     "output_type": "stream",
     "text": [
      "100%|██████████| 41/41 [00:05<00:00,  7.63it/s]\n"
     ]
    },
    {
     "name": "stdout",
     "output_type": "stream",
     "text": [
      "\n",
      "Test perplexity: 38.330355371950844\n"
     ]
    },
    {
     "name": "stderr",
     "output_type": "stream",
     "text": [
      "100%|██████████| 82/82 [00:15<00:00,  5.15it/s]\n"
     ]
    },
    {
     "name": "stdout",
     "output_type": "stream",
     "text": [
      "Epoch 44: Train Loss = 4.337660237056453, Val Loss = 3.987562080708946\n",
      "Sample text: <START> I still have to shall think as as as as she was with wife , or For I know with a man of of\n"
     ]
    },
    {
     "name": "stderr",
     "output_type": "stream",
     "text": [
      "100%|██████████| 41/41 [00:05<00:00,  7.64it/s]\n"
     ]
    },
    {
     "name": "stdout",
     "output_type": "stream",
     "text": [
      "\n",
      "Test perplexity: 38.26365245159778\n"
     ]
    },
    {
     "name": "stderr",
     "output_type": "stream",
     "text": [
      "100%|██████████| 82/82 [00:15<00:00,  5.15it/s]\n"
     ]
    },
    {
     "name": "stdout",
     "output_type": "stream",
     "text": [
      "Epoch 45: Train Loss = 4.343509802004186, Val Loss = 3.989269509548094\n",
      "Sample text: <START> I still have to '\n"
     ]
    },
    {
     "name": "stderr",
     "output_type": "stream",
     "text": [
      "100%|██████████| 41/41 [00:05<00:00,  7.64it/s]\n"
     ]
    },
    {
     "name": "stdout",
     "output_type": "stream",
     "text": [
      "\n",
      "Test perplexity: 39.12614545872232\n"
     ]
    },
    {
     "name": "stderr",
     "output_type": "stream",
     "text": [
      "100%|██████████| 82/82 [00:15<00:00,  5.16it/s]\n"
     ]
    },
    {
     "name": "stdout",
     "output_type": "stream",
     "text": [
      "Epoch 46: Train Loss = 4.321539018212295, Val Loss = 3.985838491742204\n",
      "Sample text: <START> I still have to , speak .\n"
     ]
    },
    {
     "name": "stderr",
     "output_type": "stream",
     "text": [
      "100%|██████████| 41/41 [00:05<00:00,  7.65it/s]\n"
     ]
    },
    {
     "name": "stdout",
     "output_type": "stream",
     "text": [
      "\n",
      "Test perplexity: 37.65935580747574\n"
     ]
    },
    {
     "name": "stderr",
     "output_type": "stream",
     "text": [
      "100%|██████████| 82/82 [00:15<00:00,  5.17it/s]\n"
     ]
    },
    {
     "name": "stdout",
     "output_type": "stream",
     "text": [
      "Epoch 47: Train Loss = 4.216109589832585, Val Loss = 3.904617306662769\n",
      "Sample text: <START> I still have to <UNK> To see to her and then To with her .\n"
     ]
    },
    {
     "name": "stderr",
     "output_type": "stream",
     "text": [
      "100%|██████████| 41/41 [00:05<00:00,  7.65it/s]\n"
     ]
    },
    {
     "name": "stdout",
     "output_type": "stream",
     "text": [
      "\n",
      "Test perplexity: 35.73248739711938\n"
     ]
    },
    {
     "name": "stderr",
     "output_type": "stream",
     "text": [
      "100%|██████████| 82/82 [00:15<00:00,  5.16it/s]\n"
     ]
    },
    {
     "name": "stdout",
     "output_type": "stream",
     "text": [
      "Epoch 48: Train Loss = 4.1813574069883765, Val Loss = 3.87957988424999\n",
      "Sample text: <START> I still have to and have a , let , and speak .\n"
     ]
    },
    {
     "name": "stderr",
     "output_type": "stream",
     "text": [
      "100%|██████████| 41/41 [00:05<00:00,  7.65it/s]\n"
     ]
    },
    {
     "name": "stdout",
     "output_type": "stream",
     "text": [
      "\n",
      "Test perplexity: 34.953531029851085\n"
     ]
    },
    {
     "name": "stderr",
     "output_type": "stream",
     "text": [
      "100%|██████████| 82/82 [00:15<00:00,  5.17it/s]\n"
     ]
    },
    {
     "name": "stdout",
     "output_type": "stream",
     "text": [
      "Epoch 49: Train Loss = 4.186700099852027, Val Loss = 3.8804012624228874\n",
      "Sample text: <START> I still have to as he 'll take her , And to a husband .\n"
     ]
    },
    {
     "name": "stderr",
     "output_type": "stream",
     "text": [
      "100%|██████████| 41/41 [00:05<00:00,  7.66it/s]\n"
     ]
    },
    {
     "name": "stdout",
     "output_type": "stream",
     "text": [
      "\n",
      "Test perplexity: 34.79454731007383\n"
     ]
    },
    {
     "name": "stderr",
     "output_type": "stream",
     "text": [
      "100%|██████████| 82/82 [00:15<00:00,  5.17it/s]\n"
     ]
    },
    {
     "name": "stdout",
     "output_type": "stream",
     "text": [
      "Epoch 50: Train Loss = 4.172736479014885, Val Loss = 3.8677027545324187\n",
      "Sample text: <START> I still have to and as a present and and to I shall have heard a love with a more than nor have with\n"
     ]
    },
    {
     "name": "stderr",
     "output_type": "stream",
     "text": [
      "100%|██████████| 41/41 [00:05<00:00,  7.66it/s]\n"
     ]
    },
    {
     "name": "stdout",
     "output_type": "stream",
     "text": [
      "\n",
      "Test perplexity: 34.525401747923574\n"
     ]
    },
    {
     "data": {
      "image/png": "[encoded data removed]",
      "text/plain": [
       "<Figure size 640x480 with 1 Axes>"
      ]
     },
     "metadata": {},
     "output_type": "display_data"
    },
    {
     "name": "stderr",
     "output_type": "stream",
     "text": [
      "100%|██████████| 41/41 [00:05<00:00,  7.66it/s]"
     ]
    },
    {
     "name": "stdout",
     "output_type": "stream",
     "text": [
      "\n",
      "Test perplexity: 34.525401747923574\n"
     ]
    },
    {
     "name": "stderr",
     "output_type": "stream",
     "text": [
      "\n"
     ]
    }
   ],
   "source": [
    "## Define the Transformer model\n",
    "class PositionalEncoding(nn.Module):\n",
    "    def __init__(self, d_model, max_len=MAX_LEN):\n",
    "        super(PositionalEncoding, self).__init__()\n",
    "\n",
    "        self.pe = torch.zeros(max_len, d_model)\n",
    "        position_idx = torch.arange(0, max_len, dtype=torch.float).unsqueeze(1)\n",
    "        denominator = torch.exp(torch.arange(0, d_model, 2).float() * -(math.log(10000.0) / d_model))\n",
    "\n",
    "        self.pe[:, 0::2] = torch.sin(position_idx * denominator)\n",
    "        self.pe[:, 1::2] = torch.cos(position_idx * denominator)\n",
    "\n",
    "        self.pe = self.pe.unsqueeze(0).to(DEVICE)\n",
    "\n",
    "    def forward(self, x):\n",
    "        seq_len = x.size(1)\n",
    "        if seq_len > self.pe.size(1):\n",
    "            extra_pe = torch.zeros(seq_len - self.pe.size(1), self.pe.size(2), device=x.device)\n",
    "            position_idx = torch.arange(self.pe.size(1), seq_len, dtype=torch.float).unsqueeze(1)\n",
    "            denominator = torch.exp(torch.arange(0, self.pe.size(2), 2).float() * -(math.log(10000.0) / self.pe.size(2)))\n",
    "            extra_pe[:, 0::2] = torch.sin(position_idx * denominator)\n",
    "            extra_pe[:, 1::2] = torch.cos(position_idx * denominator)\n",
    "            \n",
    "            pe_extended = torch.cat([self.pe.squeeze(0), extra_pe], dim=0).unsqueeze(0)\n",
    "        else:\n",
    "            pe_extended = self.pe.to(x.device)\n",
    "        return x + pe_extended[:, :seq_len, :]\n",
    "\n",
    "class TransformerLM(nn.Module):\n",
    "    def __init__(self, vocab_size, d_model, num_heads, num_layers, dropout=0.1):\n",
    "        super(TransformerLM, self).__init__()\n",
    "\n",
    "        self.embedding = nn.Embedding(vocab_size, d_model)\n",
    "        self.positional_encoding = PositionalEncoding(d_model)\n",
    "        self.dropout = nn.Dropout(dropout)\n",
    "\n",
    "        self.embedding_dropout = nn.Dropout(dropout/2)\n",
    "\n",
    "        self.transformer_blocks = nn.ModuleList([TransformerBlock(d_model, num_heads, dropout) for _ in range(num_layers)])\n",
    "        self.fc_out = nn.Linear(d_model, vocab_size)\n",
    "\n",
    "        self.fc_out.weight = self.embedding.weight\n",
    "\n",
    "        self._init_weights()\n",
    "\n",
    "    def _init_weights(self):\n",
    "        for p in self.parameters():\n",
    "            if p.dim() > 1:\n",
    "                nn.init.xavier_normal_(p)\n",
    "\n",
    "    def forward(self, x, mask=None):\n",
    "        batch_size, seq_len = x.size()\n",
    "\n",
    "        x = self.embedding(x) * math.sqrt(self.embedding.embedding_dim)\n",
    "        x = self.embedding_dropout(x)\n",
    "        x = self.positional_encoding(x)\n",
    "        x = self.dropout(x)\n",
    "\n",
    "        for block in self.transformer_blocks:\n",
    "            x = block(x, mask)\n",
    "\n",
    "        logits = self.fc_out(x)\n",
    "        return logits.view(batch_size, seq_len, -1), None\n",
    "\n",
    "\n",
    "class TransformerBlock(nn.Module):\n",
    "    def __init__(self, d_model, num_heads, dropout=0.1):\n",
    "        super(TransformerBlock, self).__init__()\n",
    "\n",
    "        self.attention = MultiHeadAttention(d_model, num_heads)\n",
    "        self.norm1 = nn.LayerNorm(d_model)\n",
    "        self.dropout1 = nn.Dropout(dropout)\n",
    "\n",
    "        self.feed_forward = nn.Sequential(\n",
    "            nn.Linear(d_model, d_model * 4),\n",
    "            nn.GELU(),\n",
    "            nn.Linear(d_model * 4, d_model)\n",
    "        )\n",
    "        self.norm2 = nn.LayerNorm(d_model)\n",
    "        self.dropout2 = nn.Dropout(dropout)\n",
    "\n",
    "    def forward(self, x, mask=None):\n",
    "        x = self.norm1(x)\n",
    "        attention_output, _ = self.attention(x, x, x, mask=mask)\n",
    "        x = x + self.dropout1(attention_output)\n",
    "\n",
    "        ff_output = self.feed_forward(self.norm2(x))\n",
    "        x = x + self.dropout2(ff_output)\n",
    "\n",
    "        return x\n",
    "\n",
    "\n",
    "class MultiHeadAttention(nn.Module):\n",
    "    def __init__(self, d_model, num_heads):\n",
    "        super(MultiHeadAttention, self).__init__()\n",
    "        self.d_model = d_model\n",
    "        self.num_heads = num_heads\n",
    "\n",
    "        self.d_head = d_model // num_heads\n",
    "\n",
    "        self.W_q, self.W_k, self.W_v = initialise_projections(d_model)\n",
    "        self.W_o = nn.Linear(d_model, d_model)\n",
    "\n",
    "    def forward(self, Q, K, V, mask=None):\n",
    "        Q_proj = self.W_q(Q)\n",
    "        K_proj = self.W_k(K)\n",
    "        V_proj = self.W_v(V)\n",
    "\n",
    "        Q_proj, K_proj, V_proj = split_heads_qkv(Q_proj, K_proj, V_proj, self.num_heads)\n",
    "\n",
    "        attention_scores = pairwise_similarities(Q_proj, K_proj)\n",
    "        attention_scores = attention_scaled(attention_scores)\n",
    "\n",
    "        if mask is not None:\n",
    "            attention_scores = apply_causal_mask(attention_scores, mask)\n",
    "\n",
    "        attention_outputs, attention_weights = self_attention(attention_scores, V_proj)\n",
    "\n",
    "        attention_outputs = merge_heads(attention_outputs, self.num_heads)\n",
    "\n",
    "        outputs = self.W_o(attention_outputs)\n",
    "        return outputs, attention_weights\n",
    "\n",
    "\n",
    "## Training function\n",
    "def train_model(model, train_loader, val_loader, optimizer, criterion, tokenizer, tokenizer_inv, num_epochs=10):\n",
    "\n",
    "    train_losses = []\n",
    "    val_losses = []\n",
    "\n",
    "    scheduler = optim.lr_scheduler.ReduceLROnPlateau(optimizer, mode='min', factor=0.5, patience=2, verbose=True)\n",
    "\n",
    "    for epoch in range(num_epochs):\n",
    "        model.train()\n",
    "\n",
    "        train_loss = 0.0\n",
    "        val_loss = 0.0\n",
    "\n",
    "        for batch in tqdm(train_loader):\n",
    "            optimizer.zero_grad()\n",
    "\n",
    "            tokens = batch.to(DEVICE)\n",
    "            X_tokens, y_tokens = tokens[:, :-1].contiguous(), tokens[:, 1:].contiguous()\n",
    "\n",
    "            seq_len = X_tokens.size(1)\n",
    "            mask = make_causal_mask(seq_len).to(DEVICE)\n",
    "\n",
    "            logits, _ = model(X_tokens, mask=mask)\n",
    "            loss = criterion(logits.view(-1, logits.size(-1)), y_tokens.view(-1))\n",
    "            loss.backward()\n",
    "            optimizer.step()\n",
    "\n",
    "            train_loss += loss.item()\n",
    "\n",
    "        train_loss /= len(train_loader)\n",
    "        train_losses.append(train_loss)\n",
    "\n",
    "        model.eval()\n",
    "        with torch.no_grad():\n",
    "            for batch in val_loader:\n",
    "                tokens = batch.to(DEVICE)\n",
    "                X_tokens, y_tokens = tokens[:, :-1].contiguous(), tokens[:, 1:].contiguous()\n",
    "                seq_len = X_tokens.size(1)\n",
    "                \n",
    "                mask = make_causal_mask(seq_len).to(DEVICE)\n",
    "                logits, _ = model(X_tokens, mask=mask)\n",
    "                loss = criterion(logits.view(-1, logits.size(-1)), y_tokens.view(-1))\n",
    "\n",
    "                val_loss += loss.item()\n",
    "\n",
    "        val_loss /= len(val_loader)\n",
    "        val_losses.append(val_loss)\n",
    "\n",
    "        scheduler.step(val_loss)\n",
    "\n",
    "        print(f\"Epoch {epoch+1}: Train Loss = {train_loss}, Val Loss = {val_loss}\")\n",
    "\n",
    "        ## Generate a sample text\n",
    "        sample_text = generate_text(model, tokenizer, tokenizer_inv, context=\"<START> I still have to \", gen_tokens=20)\n",
    "        print(f\"Sample text: {sample_text}\")\n",
    "\n",
    "        with open(\"/kaggle/input/shakesphere/shakespear_dev.txt\", \"r\") as f:\n",
    "            lines_test = f.readlines()\n",
    "\n",
    "        test_losses = evaluate_losses(lines_test, model, tokenizer, bs=32, progress=True, pad_to_len=MAX_LEN)\n",
    "        test_loss = np.mean(test_losses)\n",
    "        perplexity = np.exp(test_loss)\n",
    "\n",
    "        print(f\"\\nTest perplexity: {perplexity}\")\n",
    "\n",
    "    return train_losses, val_losses\n",
    "\n",
    "\n",
    "def main():\n",
    "    ## Load and preprocess data\n",
    "    train_dataset, val_dataset, tokenizer, tokenizer_inv = load_and_preprocess_data()\n",
    "\n",
    "    ## Create data loaders\n",
    "    train_loader = torch.utils.data.DataLoader(train_dataset, batch_size=16, shuffle=True, pin_memory=True)\n",
    "    val_loader = torch.utils.data.DataLoader(val_dataset, batch_size=16, shuffle=False, pin_memory=True)\n",
    "\n",
    "    ## Model hyperparameters\n",
    "    d_model = 512\n",
    "    num_heads = 8\n",
    "    num_layers = 6\n",
    "    num_epochs = 50\n",
    "    learning_rate = 0.001\n",
    "\n",
    "    ## Initialize model\n",
    "    model = TransformerLM(VOCAB_SIZE, d_model, num_heads, num_layers).to(DEVICE)\n",
    "    optimizer = optim.Adam(model.parameters(), lr=learning_rate, weight_decay=0.01)\n",
    "    criterion = nn.CrossEntropyLoss(ignore_index=tokenizer[\"<PAD>\"])\n",
    "\n",
    "    ## Print model summary\n",
    "    print(model)\n",
    "\n",
    "    ## Train the model\n",
    "    train_losses, val_losses = train_model(model, train_loader, val_loader, optimizer, criterion, tokenizer, tokenizer_inv, num_epochs=num_epochs)\n",
    "\n",
    "    ## Plot training and validation losses\n",
    "    plt.plot(train_losses, label=\"Train Loss\")\n",
    "    plt.plot(val_losses, label=\"Validation Loss\")\n",
    "    plt.xlabel(\"Epochs\")\n",
    "    plt.ylabel(\"Loss\")\n",
    "    plt.legend()\n",
    "    plt.title(\"Training and Validation Losses\")\n",
    "    plt.show()\n",
    "\n",
    "    ## Save the model\n",
    "    torch.save(model.state_dict(), \"transformer_lm.pth\")\n",
    "    with open(\"task1_tokenizer.pkl\", \"wb\") as f:\n",
    "        pickle.dump(tokenizer, f)\n",
    "    with open(\"task1_tokenizer_inv.pkl\", \"wb\") as f:\n",
    "        pickle.dump(tokenizer_inv, f)\n",
    "\n",
    "    ## Evaluate on test data\n",
    "    # with open(\"shakespear_test.txt\", \"r\") as f:\n",
    "    #     lines_test = f.readlines()\n",
    "\n",
    "    with open(\"/kaggle/input/shakesphere/shakespear_dev.txt\", \"r\") as f:\n",
    "        lines_test = f.readlines()\n",
    "\n",
    "    test_losses = evaluate_losses(lines_test, model, tokenizer, bs=32, progress=True, pad_to_len=MAX_LEN)\n",
    "    test_loss = np.mean(test_losses)\n",
    "    perplexity = np.exp(test_loss)\n",
    "\n",
    "    print(f\"\\nTest perplexity: {perplexity}\")\n",
    "\n",
    "if __name__ == \"__main__\":\n",
    "    main()"
   ]
  },
  {
   "cell_type": "code",
   "execution_count": 7,
   "metadata": {
    "execution": {
     "iopub.execute_input": "2025-04-06T15:09:25.226888Z",
     "iopub.status.busy": "2025-04-06T15:09:25.226604Z",
     "iopub.status.idle": "2025-04-06T15:10:40.759734Z",
     "shell.execute_reply": "2025-04-06T15:10:40.758743Z",
     "shell.execute_reply.started": "2025-04-06T15:09:25.226865Z"
    },
    "trusted": true
   },
   "outputs": [
    {
     "name": "stderr",
     "output_type": "stream",
     "text": [
      "<ipython-input-7-15719a124934>:4: FutureWarning: You are using `torch.load` with `weights_only=False` (the current default value), which uses the default pickle module implicitly. It is possible to construct malicious pickle data which will execute arbitrary code during unpickling (See https://github.com/pytorch/pytorch/blob/main/SECURITY.md#untrusted-models for more details). In a future release, the default value for `weights_only` will be flipped to `True`. This limits the functions that could be executed during unpickling. Arbitrary objects will no longer be allowed to be loaded via this mode unless they are explicitly allowlisted by the user via `torch.serialization.add_safe_globals`. We recommend you start setting `weights_only=True` for any use case where you don't have full control of the loaded file. Please open an issue on GitHub for any issues related to this experimental feature.\n",
      "  model.load_state_dict(torch.load(model_path))\n",
      "100%|██████████| 41/41 [00:05<00:00,  7.72it/s]\n",
      "Generating Text: 100%|██████████| 1304/1304 [01:09<00:00, 18.75it/s]\n"
     ]
    },
    {
     "name": "stdout",
     "output_type": "stream",
     "text": [
      "Nay , if there be no remedy for it , but that you will needs buy and sell men and women like beasts , we shall have all the world drink brown and white bastard . to the gentle and -- -- And in a jade\n",
      "DUKE VINCENTIO : O heavens ! and the brother .\n",
      "what stuff is here POMPEY : 'T was never merry world since , of two usuries , the merriest was put down , and the worser allowed by order of law a furred gown to keep him warm ; and furred with fox and lamb-skins too , to signify , that craft , being richer than innocency , stands for the facing . , To make a too , and I hear .\n",
      "ELBOW : Come your way , sir . as as as I will hear by curst and to\n",
      "'Bless you , good father friar . To see my and and call by the hour ?\n",
      "DUKE VINCENTIO : And you , good brother father . ?\n",
      "What offence hath this man made you , sir ? as I have have a word , And to do\n",
      "ELBOW : Marry , sir , he hath offended the law : and , sir , we take him to be a thief too , sir ; for we have found upon him , sir , a strange picklock , which we have sent to the deputy . aged , To see to see , and woo with\n",
      "DUKE VINCENTIO : Fie , sirrah ! shall have have bound to her and pardon with a\n",
      "a bawd , a wicked bawd ! Master tongue with her to be so , and and\n",
      "The evil that thou causest to be done , That is thy means to live . To am as as as for for sir , And\n",
      "Do thou but think What 't is to cram a maw or clothe a back From such a filthy vice : say to thyself , From their abominable and beastly touches I drink , I eat , array myself , and live .\n",
      "Canst thou believe thy living is a life , So stinkingly depending ? To make a bawd as as as as I am\n",
      "Go mend , go mend . To see to never have not a suitor to be\n",
      "POMPEY : Indeed , it does stink in some sort , sir ; but yet , sir , I would prove -- DUKE VINCENTIO : Nay , if the devil have given thee proofs for sin , Thou wilt prove his . To go to make a punk ?\n",
      "Take him to prison , officer : Correction and instruction must both work Ere this rude beast will profit . with her and have like to make a while I\n",
      "ELBOW : He must before the deputy , sir ; he has given him warning : the deputy can not abide a whoremaster : if he be a whoremonger , and comes before him , he were as good go a mile on his errand . '\n",
      "DUKE VINCENTIO : That we were all , as some would seem to be , From our faults , as faults from seeming , free ! from the penance '\n",
      "ELBOW : His neck will come to your waist , -- a cord , sir . To crave to make in the morn of the service\n",
      "POMPEY : I spy comfort ; I cry bail . To make a\n",
      "Here 's a gentleman and a friend of mine . and and and free and have a hence , for\n",
      "LUCIO : How now , noble Pompey ! .\n",
      "What , at the wheels of Caesar ? ?\n",
      "art thou led in triumph ? with with her may may be to hear to to\n",
      "What , is there none of Pygmalion 's images , newly made woman , to be had now , for putting the hand in the pocket and extracting it clutch 'd ? and to in the tail ?\n",
      "What reply , ha ? and I will be to heaven and how ?\n",
      "What sayest thou to this tune , matter and method ? as as and gentlemen\n",
      "Is't not drowned i ' the last rain , ha ? to to be to I have have have to the\n",
      "What sayest thou , Trot ? and dowry , and that hath <UNK> With the provost\n",
      "Is the world as it was , man ? To make our play upon by the deputy to comfort\n",
      "Which is the way ? look not , and so a love to advise To\n",
      "Is it sad , and few words ? meaner ?\n",
      "or how ? to make a as as my holy as the way\n",
      "The trick of it ? To the royal daughter from from Anna to the elder\n",
      "DUKE VINCENTIO : Still thus , and thus ; still worse ! Hath yet had with my brother ?\n",
      "LUCIO : How doth my dear morsel , thy mistress ? and and be by his life will have make a\n",
      "Procures she still , ha ? To be be most friendly To all .\n",
      "POMPEY : Troth , sir , she hath eaten up all her beef , and she is herself in the tub . and to can not with a thousand tender to make\n",
      "LUCIO : Why , 't is good ; it is the right of it ; it must be so : ever your fresh whore and your powdered bawd : an unshunned consequence ; it must be so . To speak To make a very young and and a\n",
      "Art going to prison , Pompey ? and and and a absence , but as as as\n",
      "POMPEY : Yes , faith , sir . , and To see to to see with a ready\n",
      "LUCIO : Why , 't is not amiss , Pompey .\n",
      "Farewell : go , say I sent thee thither . walk to her And by upon his own head and\n",
      "For debt , Pompey ? with such a very play To to make the lord\n",
      "or how ? To make a prince , and be to the witness\n",
      "ELBOW : For being a bawd , for being a bawd . and and as as a while , as as as\n",
      "LUCIO : Well , then , imprison him : if imprisonment be the due of a bawd , why , 't is his right : bawd is he doubtless , and of antiquity too ; bawd-born . alive .\n",
      "Farewell , good Pompey . To Friar from my and be by her my .\n",
      "Commend me to the prison , Pompey : you will turn good husband now , Pompey ; you will keep the house . should was with me , and I 'll go ,\n",
      "POMPEY : I hope , sir , your good worship will be my bail . To our deputy .\n",
      "LUCIO : No , indeed , will I not , Pompey ; it is not the wear . were as that hath hath with with her and am\n",
      "I will pray , Pompey , to increase your bondage : If you take it not patiently , why , your mettle is the more . With or with a will content to make the coat\n",
      "Adieu , trusty Pompey . to to speak as as as let from the best\n",
      "'Bless you , friar . .\n",
      "DUKE VINCENTIO : And you . To to to you were as for for for for\n",
      "LUCIO : Does Bridget paint still , Pompey , ha ? to in your honour ; And have will you will\n",
      "ELBOW : Come your ways , sir ; come . To tell you as I have have have have have\n",
      "POMPEY : You will not bail me , then , sir ? with with with with him To make the world '\n",
      "LUCIO : Then , Pompey , nor now . To make welcome to hear a remorse <UNK> to make\n",
      "What news abroad , friar ? to make a whit will am did but as but\n",
      "what news ? with a bawd of all any other as as a\n",
      "ELBOW : Come your ways , sir ; come . then To make -- as as as I am to\n",
      "LUCIO : Go to kennel , Pompey ; go . Katharina to welcome out of the morning\n",
      "What news , friar , of the duke ? to to be look To make a lord .\n",
      "DUKE VINCENTIO : I know none . with my as as as as the directed to make\n",
      "Can you tell me of any ? with with her , and her , And pray ,\n",
      "LUCIO : Some say he is with the Emperor of Russia ; other some , he is in Rome : but where is he , think you ? and I will go call her ?\n",
      "DUKE VINCENTIO : I know not where ; but wheresoever , I wish him well . with him to the truth and and I have a\n",
      "LUCIO : It was a mad fantastical trick of him to steal from the state , and usurp the beggary he was never born to . .\n",
      "Lord Angelo dukes it well in his absence ; he puts transgression to 't . and I am to sit To our face and shall\n",
      "DUKE VINCENTIO : He does well in 't . he is a lord , And and and and and\n",
      "LUCIO : A little more lenity to lechery would do no harm in him : something too crabbed that way , friar . To the law , and bring Minola .\n",
      "DUKE VINCENTIO : It is too general a vice , and severity must cure it . To To see to suborn 'd with her hence ,\n",
      "LUCIO : Yes , in good sooth , the vice is of a great kindred ; it is well allied : but it is impossible to extirp it quite , friar , till eating and drinking be put down . a gentleman ; And he should he shall have have\n",
      "They say this Angelo was not made by man and woman after this downright way of creation : is it true , think you ? To make all by the duke .\n",
      "DUKE VINCENTIO : How should he be made , then ? to fain have a word of his Jack ; I\n",
      "LUCIO : Some report a sea-maid spawned him ; some , that he was begot between two stock-fishes . and so too of of the duke to the duke\n",
      "But it is certain that when he makes water his urine is congealed ice ; that I know to be true : and he is a motion generative ; that 's infallible . To put 'd with his own , and as best\n",
      "DUKE VINCENTIO : You are pleasant , sir , and speak apace . To make -- on on with with a strange ?\n",
      "LUCIO : Why , what a ruthless thing is this in him , for the rebellion of a codpiece to take away the life of a man ! To know to make the gates in the world ,\n",
      "Would the duke that is absent have done this ? to fear said , and as as as I have\n",
      "Ere he would have hanged a man for the getting a hundred bastards , he would have paid for the nursing a thousand : he had some feeling of the sport : he knew the service , and that instructed him to mercy . To find out of his\n",
      "DUKE VINCENTIO : I never heard the absent duke much detected for women ; he was not inclined that way . and the best and -- for a gentleman , and\n",
      "LUCIO : O , sir , you are deceived . the world , and our and and and not with\n",
      "DUKE VINCENTIO : 'T is not possible . as he would have not not as the <UNK> and\n",
      "LUCIO : Who , not the duke ? as as as as well as as that will you\n",
      "yes , your beggar of fifty ; and his use was to put a ducat in her clack-dish : the duke had crotchets in him . To To call from thy and and 't was as\n",
      "He would be drunk too ; that let me inform you . and and and and the prison , To make a\n",
      "DUKE VINCENTIO : You do him wrong , surely . to the power To see to wrong with a husband\n",
      "LUCIO : Sir , I was an inward of his . and a love , and glad to come to be\n",
      "A shy fellow was the duke : and I believe I know the cause of his withdrawing . , To make a daughter .\n",
      "DUKE VINCENTIO : What , I prithee , might be the cause ? To am so : and not with her to have\n",
      "LUCIO : No , pardon ; 't is a secret must be locked within the teeth and the lips : but this I can let you understand , the greater file of the subject held the duke to be wise . to let by by a creature in my cousin To\n",
      "DUKE VINCENTIO : Wise ! And with her .\n",
      "why , no question but he was . .\n",
      "LUCIO : A very superficial , ignorant , unweighing fellow . To all .\n",
      "DUKE VINCENTIO : Either this is the envy in you , folly , or mistaking : the very stream of his life and the business he hath helmed must upon a warranted need give him a better proclamation . to to to see the world .\n",
      "Let him be but testimonied in his own bringings-forth , and he shall appear to the envious a scholar , a statesman and a soldier . as you have not so .\n",
      "Therefore you speak unskilfully : or if your knowledge be more it is much darkened in your malice . through by by the head , and will have be\n",
      "LUCIO : Sir , I know him , and I love him . To make the fool of justice , and and let\n",
      "DUKE VINCENTIO : Love talks with better knowledge , and knowledge with dearer love . To make a fellow\n",
      "LUCIO : Come , sir , I know what I know . and come to be not not not not ?\n",
      "DUKE VINCENTIO : I can hardly believe that , since you know not what you speak . , That 's that I will be will will show\n",
      "But , if ever the duke return , as our prayers are he may , let me desire you to make your answer before him . To a apparel and and and if I have know\n",
      "If it be honest you have spoke , you have courage to maintain it : I am bound to call upon you ; and , I pray you , your name ? To have have have have a little in the one\n",
      "LUCIO : Sir , my name is Lucio ; well known to the duke . to save you as as well well and a musician\n",
      "DUKE VINCENTIO : He shall know you better , sir , if I may live to report you . at by my\n",
      "LUCIO : I fear you not . and and and do have have knock me for my\n",
      "DUKE VINCENTIO : O , you hope the duke will return no more ; or you imagine me too unhurtful an opposite . to be to the duke .\n",
      "But indeed I can do you little harm ; you 'll forswear this again . and and and the duke , and am to both\n",
      "LUCIO : I 'll be hanged first : thou art deceived in me , friar . and do ashore , And so , but in the\n",
      "But no more of this . To see go with her to tell , and and\n",
      "Canst thou tell if Claudio die to-morrow or no ? and with a man of of the teach her ,\n",
      "DUKE VINCENTIO : Why should he die , sir ? To make a word ?\n",
      "LUCIO : Why ? with 'd with him go for the world .\n",
      "For filling a bottle with a tundish . To all , and will have all a fleshmonger with\n",
      "I would the duke we talk of were returned again : the ungenitured agent will unpeople the province with continency ; sparrows must not build in his house-eaves , because they are lecherous . to a man To To make all of our duke\n",
      "The duke yet would have dark deeds darkly answered ; he would never bring them to light : would he were returned ! To fair and as as as the best will will\n",
      "Marry , this Claudio is condemned for untrussing . of a wasp\n",
      "Farewell , good friar : I prithee , pray for me . To make a gentleman\n",
      "The duke , I say to thee again , would eat mutton on Fridays . To pray with a lord .\n",
      "He 's not past it yet , and I say to thee , he would mouth with a beggar , though she smelt brown bread and garlic : say that I said so . '\n",
      "Farewell . and and and and and like to have a will\n",
      "DUKE VINCENTIO : No might nor greatness in mortality Can censure 'scape ; back-wounding calumny The whitest virtue strikes . out out .\n",
      "What king so strong Can tie the gall up in the slanderous tongue ? and to desire To make a bigger\n",
      "But who comes here ? told to I have have not a mighty\n",
      "ESCALUS : Go ; away with her to prison ! To would have not with her , and fair and\n",
      "MISTRESS OVERDONE : Good my lord , be good to me ; your honour is accounted a merciful man ; good my lord . to would said , then and and and and and\n",
      "ESCALUS : Double and treble admonition , and still forfeit in the same kind ! To <UNK> .\n",
      "This would make mercy swear and play the tyrant . and am or a husband and think and and as\n",
      "Provost : A bawd of eleven years ' continuance , may it please your honour . .\n",
      "MISTRESS OVERDONE : My lord , this is one Lucio 's information against me . Than , go , for I am , to make\n",
      "Mistress Kate Keepdown was with child by him in the duke 's time ; he promised her marriage : his child is a year and a quarter old , come Philip and Jacob : I have kept it myself ; and see how he goes about to abuse me ! and that did When he shall be with a heavenly\n",
      "ESCALUS : That fellow is a fellow of much licence : let him be called before us . by a charm <UNK> to all and and with her\n",
      "Away with her to prison ! To buy and think from the servant to have have\n",
      "Go to ; no more words . To the penitent to make a rebellion of my love\n",
      "Provost , my brother Angelo will not be altered ; Claudio must die to-morrow : let him be furnished with divines , and have all charitable preparation . as well , To To make a as he play\n",
      "if my brother wrought by my pity , it should not be so with him . and know where had am am to to to be\n",
      "Provost : So please you , this friar hath been with him , and advised him for the entertainment of death . good and to see to be by the life ,\n",
      "ESCALUS : Good even , good father . and come to firmly To accuse .\n",
      "DUKE VINCENTIO : Bliss and goodness on you ! as a offence\n",
      "ESCALUS : Of whence are you ? To make to see to a while will not with\n",
      "DUKE VINCENTIO : Not of this country , though my chance is now To use it for my time : I am a brother Of gracious order , late come from the See In special business from his holiness . to bed and the deputy will have a while shall\n",
      "ESCALUS : What news abroad i ' the world ? .\n",
      "DUKE VINCENTIO : None , but that there is so great a fever on goodness , that the dissolution of it must cure it : novelty is only in request ; and it is as dangerous to be aged in any kind of course , as it is virtuous to be constant in any undertaking . To will have have else else else else it .\n",
      "There is scarce truth enough alive to make societies secure ; but security enough to make fellowships accurst : much upon this riddle runs the wisdom of the world . to see To the sister and as as as he\n",
      "This news is old enough , yet it is every day 's news . .\n",
      "I pray you , sir , of what disposition was the duke ? to make you , and as he will to see\n",
      "ESCALUS : One that , above all other strifes , contended especially to know himself . a word ?\n",
      "DUKE VINCENTIO : What pleasure was he given to ? with with her to to will have a good and\n",
      "ESCALUS : Rather rejoicing to see another merry , than merry at any thing which professed to make him rejoice : a gentleman of all temperance . and to do to see her and and and and\n",
      "But leave we him to his events , with a prayer they may prove prosperous ; and let me desire to know how you find Claudio prepared . To come to in in the duke ?\n",
      "I am made to understand that you have lent him visitation . and and and FOR To all this hath with with\n",
      "DUKE VINCENTIO : He professes to have received no sinister measure from his judge , but most willingly humbles himself to the determination of justice : yet had he framed to himself , by the instruction of his frailty , many deceiving promises of life ; which I by my good leisure have discredited to him , and now is he resolved to die . have a while : I am other in a mystery\n",
      "ESCALUS : You have paid the heavens your function , and the prisoner the very debt of your calling . as as I I will am to do not not\n",
      "I have laboured for the poor gentleman to the extremest shore of my modesty : but my brother justice have I found so severe , that he hath forced me to tell him he is indeed Justice . '\n",
      "DUKE VINCENTIO : If his own life answer the straitness of his proceeding , it shall become him well ; wherein if he chance to fail , he hath sentenced himself . being with with her and long to make with a\n",
      "ESCALUS : I am going to visit the prisoner . To make a tongue ?\n",
      "Fare you well . To dead , To do to this covenants '\n",
      "DUKE VINCENTIO : Peace be with you ! and to meet , and ?\n",
      "He who the sword of heaven will bear Should be as holy as severe ; Pattern in himself to know , Grace to stand , and virtue go ; More nor less to others paying Than by self-offences weighing . shall will pray .\n",
      "Shame to him whose cruel striking Kills for faults of his own liking ! To call to to see to him to the duke\n",
      "Twice treble shame on Angelo , To weed my vice and let his grow ! '\n",
      "O , what may man within him hide , Though angel on the outward side ! and a bawd .\n",
      "How may likeness made in crimes , Making practise on the times , To draw with idle spiders ' strings Most ponderous and substantial things ! That To find I pray you\n",
      "Craft against vice I must apply : With Angelo to-night shall lie His old betrothed but despised ; So disguise shall , by the disguised , Pay with falsehood false exacting , And perform an old contracting . To make like as a combless will she had as\n",
      "MARIANA : Break off thy song , and haste thee quick away : Here comes a man of comfort , whose advice Hath often still 'd my brawling discontent . and -- To make this was to go to no\n",
      "I cry you mercy , sir ; and well could wish You had not found me here so musical : Let me excuse me , and believe me so , My mirth it much displeased , but pleased my woe . have am have have out of a thousand Which was\n",
      "DUKE VINCENTIO : 'T is good ; though music oft hath such a charm To make bad good , and good provoke to harm . to the duke .\n",
      "I pray , you , tell me , hath any body inquired for me here to-day ? with her and like the boldness '\n",
      "much upon this time have I promised here to meet . .\n",
      "MARIANA : You have not been inquired after : I have sat here all day . to the duke !\n",
      "DUKE VINCENTIO : I do constantly believe you . To make you have have have with a little in\n",
      "The time is come even now . to play to am a man '\n",
      "I shall crave your forbearance a little : may be I will call upon you anon , for some advantage to yourself . To hanged with a sudden to be To you have\n",
      "MARIANA : I am always bound to you . To go with an go with him with help .\n",
      "DUKE VINCENTIO : Very well met , and well come . To make to make a lady .\n",
      "What is the news from this good deputy ? by , and and I mean ?\n",
      "ISABELLA : He hath a garden circummured with brick , Whose western side is with a vineyard back 'd ; And to that vineyard is a planched gate , That makes his opening with this bigger key : This other doth command a little door Which from the vineyard to the garden leads ; There have I made my promise Upon the heavy middle of the night To call upon him . and and and and and and do by the duke\n",
      "DUKE VINCENTIO : But shall you on your knowledge find this way ? In all to bear , and to Perhaps by by\n",
      "ISABELLA : I have ta'en a due and wary note upo n't : With whispering and most guilty diligence , In action all of precept , he did show me The way twice o'er . To serve To too , he will fain to see\n",
      "DUKE VINCENTIO : Are there no other tokens Between you 'greed concerning her observance ? seen in the best and be with a little of\n",
      "ISABELLA : No , none , but only a repair i ' the dark ; And that I have possess 'd him my most stay Can be but brief ; for I have made him know I have a servant comes with me along , That stays upon me , whose persuasion is I come about my brother . .\n",
      "DUKE VINCENTIO : 'T is well borne up . To make my Both to the duke ?\n",
      "I have not yet made known to Mariana A word of this . and were with her .\n",
      "What , ho ! '\n",
      "within ! To perfect .\n",
      "come forth ! to be be to her and and to death of\n",
      "I pray you , be acquainted with this maid ; She comes to do you good . To turn and and as as as free and see\n",
      "ISABELLA : I do desire the like . will make the service .\n",
      "DUKE VINCENTIO : Do you persuade yourself that I respect you ? To make a love , and and do mock To\n",
      "MARIANA : Good friar , I know you do , and have found it . to the third To say To make the duke 's\n",
      "DUKE VINCENTIO : Take , then , this your companion by the hand , Who hath a story ready for your ear . for for my , and I am , and to\n",
      "I shall attend your leisure : but make haste ; The vaporous night approaches . knock are have have more than this\n",
      "MARIANA : Will't please you walk aside ? out .\n",
      "DUKE VINCENTIO : O place and greatness ! To the matter to see to to see to see\n",
      "millions of false eyes Are stuck upon thee : volumes of report Run with these false and most contrarious quests Upon thy doings : thousand escapes of wit Make thee the father of their idle dreams And rack thee in their fancies . and and I will , and so .\n",
      "Welcome , how agreed ? and and a love he\n",
      "ISABELLA : She 'll take the enterprise upon her , father , If you advise it . To -- as as as as the world , and\n",
      "DUKE VINCENTIO : It is not my consent , But my entreaty too . or or to make the state , -- '\n",
      "ISABELLA : Little have you to say When you depart from him , but , soft and low , 'Remember now my brother . ' and will not not like with a lord .\n",
      "MARIANA : Fear me not . as he would have out of head .\n",
      "DUKE VINCENTIO : Nor , gentle daughter , fear you not at all . To be with my\n",
      "He is your husband on a pre-contract : To bring you thus together , 't is no sin , Sith that the justice of your title to him Doth flourish the deceit . To make a dozen To make a will will know\n",
      "Come , let us go : Our corn 's to reap , for yet our tithe 's to sow . as as I did I will so ?\n",
      "Provost : Come hither , sirrah . and well have , and and as as as as\n",
      "Can you cut off a man 's head ? .\n",
      "POMPEY : If the man be a bachelor , sir , I can ; but if he be a married man , he 's his wife 's head , and I can never cut off a woman 's head . with with her and and to make the other in\n",
      "Provost : Come , sir , leave me your snatches , and yield me a direct answer . To make a word with her and and a disguised\n",
      "To-morrow morning are to die Claudio and Barnardine . and and -- To with him and will as as\n",
      "Here is in our prison a common executioner , who in his office lacks a helper : if you will take it on you to assist him , it shall redeem you from your gyves ; if not , you shall have your full time of imprisonment and your deliverance with an unpitied whipping , for you have been a notorious bawd . -- '\n",
      "POMPEY : Sir , I have been an unlawful bawd time out of mind ; but yet I will be content to be a lawful hangman . To make you to learn and I shall so had\n",
      "I would be glad to receive some instruction from my fellow partner . Lodowick to make a dishonest as I would as as\n",
      "Provost : What , ho ! and and and and and so , with a <UNK>\n",
      "Abhorson ! with her and and a hazel with a while .\n",
      "Where 's Abhorson , there ? and to see To be grows characters with with a\n",
      "ABHORSON : Do you call , sir ? .\n",
      "Provost : Sirrah , here 's a fellow will help you to-morrow in your execution . with with with her and then , And do I\n",
      "If you think it meet , compound with him by the year , and let him abide here with you ; if not , use him for the present and dismiss him . .\n",
      "He can not plead his estimation with you ; he hath been a bawd . To call 'd with with her like with her and\n",
      "ABHORSON : A bawd , sir ? .\n",
      "fie upon him ! as a while as as the elder and am and\n",
      "he will discredit our mystery . To make the world .\n",
      "Provost : Go to , sir ; you weigh equally ; a feather will turn the scale . As may have not for a witness and I have\n",
      "POMPEY : Pray , sir , by your good favour , -- for surely , sir , a good favour you have , but that you have a hanging look , -- do you call , sir , your occupation a mystery ? and as you shall say by the world ?\n",
      "ABHORSON : Ay , sir ; a mystery POMPEY : Painting , sir , I have heard say , is a mystery ; and your whores , sir , being members of my occupation , using painting , do prove my occupation a mystery : but what mystery there should be in hanging , if I should be hanged , I can not imagine . and have , and Pompey .\n",
      "ABHORSON : Sir , it is a mystery . To from her for for his tongue .\n",
      "POMPEY : Proof ? To speak To curse To be in the world .\n",
      "ABHORSON : Every true man 's apparel fits your thief : if it be too little for your thief , your true man thinks it big enough ; if it be too big for your thief , your thief thinks it little enough : so every true man 's apparel fits your thief . To boy , and as as I will not as\n",
      "Provost : Are you agreed ? <UNK> as he can find .\n",
      "POMPEY : Sir , I will serve him ; for I do find your hangman is a more penitent trade than your bawd ; he doth oftener ask forgiveness . build to instruct To try with her , by us\n",
      "Provost : You , sirrah , provide your block and your axe to-morrow four o'clock . and to make a married that that , I have\n",
      "ABHORSON : Come on , bawd ; I will instruct thee in my trade ; follow . and be to put by by the Dizy with her\n",
      "POMPEY : I do desire to learn , sir : and I hope , if you have occasion to use me for your own turn , you shall find me yare ; for truly , sir , for your kindness I owe you a good turn . .\n",
      "Provost : Call hither Barnardine and Claudio : The one has my pity ; not a jot the other , Being a murderer , though he were my brother . as the Sly and and then , and wish upon\n",
      "Look , here 's the warrant , Claudio , for thy death : 'T is now dead midnight , and by eight to-morrow Thou must be made immortal . To I will call with her and 't is so\n",
      "Where 's Barnardine ? and and I am in a lady\n",
      "CLAUDIO : As fast lock 'd up in sleep as guiltless labour When it lies starkly in the traveller 's bones : He will not wake . and and sweet and then in your ear To I\n",
      "Provost : Who can do good on him ? and to see to be to all at that ,\n",
      "Well , go , prepare yourself . and I have not not not not , and am\n",
      "But , hark , what noise ? and ask not with a little of a sudden with\n",
      "Heaven give your spirits comfort ! and , and by a brother will say to instruct\n",
      "By and by . To make a shall give <UNK> .\n",
      "I hope it is some pardon or reprieve For the most gentle Claudio . , and be with a man : I have have\n",
      "Welcome father . to him here comes with her to see by the\n",
      "DUKE VINCENTIO : The best and wholesomest spirts of the night Envelope you , good Provost ! and not in the duke\n",
      "Who call 'd here of late ? to you To prove .\n",
      "Provost : None , since the curfew rung . and and and and so .\n",
      "DUKE VINCENTIO : Not Isabel ? To <UNK> to make a while I have a gentlewoman\n",
      "Provost : No . and and I am have call with a sudden with\n",
      "DUKE VINCENTIO : They will , then , ere't be long . of the witness to your modesty ?\n",
      "Provost : What comfort is for Claudio ? and I while : and the duke .\n",
      "DUKE VINCENTIO : There 's some in hope . and and the cunning will call , To make a\n",
      "Provost : It is a bitter deputy . waked ?\n",
      "DUKE VINCENTIO : Not so , not so ; his life is parallel 'd Even with the stroke and line of his great justice : He doth with holy abstinence subdue That in himself which he spurs on his power To qualify in others : were he meal 'd with that Which he corrects , then were he tyrannous ; But this being so , he 's just . To In to have have to the duke ?\n",
      "Now are they come . To blow To make a lord , To arm To\n",
      "This is a gentle provost : seldom when The steeled gaoler is the friend of men . To slip of this friar ?\n",
      "How now ! at To hear to my\n",
      "what noise ? .\n",
      "That spirit 's possessed with haste That wounds the unsisting postern with these strokes . as the farmer .\n",
      "Provost : There he must stay until the officer Arise to let him in : he is call 'd up . in a courtesy .\n",
      "DUKE VINCENTIO : Have you no countermand for Claudio yet , But he must die to-morrow ? at at the night .\n",
      "Provost : None , sir , none . and by by the trumpets and and will with the\n",
      "DUKE VINCENTIO : As near the dawning , provost , as it is , You shall hear more ere morning . and for a direct shall shall do , by a\n",
      "Provost : Happily You something know ; yet I believe there comes No countermand ; no such example have we : Besides , upon the very siege of justice Lord Angelo hath to the public ear Profess 'd the contrary . and as as as as now And and call with\n",
      "This is his lordship 's man . with a worthier of a business ?\n",
      "DUKE VINCENTIO : And here comes Claudio 's pardon . and and so .\n",
      "Messenger : Provost : I shall obey him . , and knock , and as we say and as\n",
      "DUKE VINCENTIO : Provost : I told you . and and to give to your soul .\n",
      "Lord Angelo , belike thinking me remiss in mine office , awakens me with this unwonted putting-on ; methinks strangely , for he hath not used it before . To advise with my labour from his own .\n",
      "DUKE VINCENTIO : Pray you , let 's hear . To keep to see with a mystery and see to\n",
      "Provost : DUKE VINCENTIO : What is that Barnardine who is to be executed in the afternoon ? To be a citizens\n",
      "Provost : A Bohemian born , but here nursed un and bred ; one that is a prisoner nine years old . To make a turn will all .\n",
      "DUKE VINCENTIO : How came it that the absent duke had not either delivered him to his liberty or executed him ? To make a while , by by him to clear\n",
      "I have heard it was ever his manner to do so . in the duke 's 's all .\n",
      "Provost : His friends still wrought reprieves for him : and , indeed , his fact , till now in the government of Lord Angelo , came not to an undoubtful proof . To go .\n",
      "DUKE VINCENTIO : It is now apparent ? To must pray .\n",
      "Provost : Most manifest , and not denied by himself . and and not not , and had not a thief\n",
      "DUKE VINCENTIO : Hath he born himself penitently in prison ? will see to to make my good for the less\n",
      "how seems he to be touched ? will think by by by by my to make of\n",
      "Provost : A man that apprehends death no more dreadfully but as a drunken sleep ; careless , reckless , and fearless of what 's past , present , or to come ; insensible of mortality , and desperately mortal . To make a maid of of our very virtuous .\n",
      "DUKE VINCENTIO : He wants advice . To say of the duke .\n",
      "Provost : He will hear none : he hath evermore had the liberty of the prison ; give him leave to escape hence , he would not : drunk many times a day , if not many days entirely drunk . as the devil .\n",
      "We have very oft awaked him , as if to carry him to execution , and showed him a seeming warrant for it : it hath not moved him at all . and to have for a more than I will think\n",
      "DUKE VINCENTIO : More of him anon . , To hope in little and 't is touch with\n",
      "There is written in your brow , provost , honesty and constancy : if I read it not truly , my ancient skill beguiles me ; but , in the boldness of my cunning , I will lay myself in hazard . To do do to see by by him .\n",
      "Claudio , whom here you have warrant to execute , is no greater forfeit to the law than Angelo who hath sentenced him . and be to do so , To prithee to the\n",
      "To make you understand this in a manifested effect , I crave but four days ' respite ; for the which you are to do me both a present and a dangerous courtesy . To all all of my hence with her to be\n",
      "Provost : Pray , sir , in what ? as as as as a tinker ?\n",
      "DUKE VINCENTIO : In the delaying death . To keep for a resolve To make her and and\n",
      "Provost : A lack , how may I do it , having the hour limited , and an express command , under penalty , to deliver his head in the view of Angelo ? To make all the state , To the suitor to\n",
      "I may make my case as Claudio 's , to cross this in the smallest . have waked , and call To make a man of\n",
      "DUKE VINCENTIO : By the vow of mine order I warrant you , if my instructions may be your guide . .\n",
      "Let this Barnardine be this morning executed , and his head born to Angelo . To To go to your honour .\n",
      "Provost : Angelo hath seen them both , and will discover the favour . and and not not as and not with with her\n",
      "DUKE VINCENTIO : O , death 's a great disguiser ; and you may add to it . as I shall in his his proper as as and\n",
      "Shave the head , and tie the beard ; and say it was the desire of the penitent to be so bared before his death : you know the course is common . and I am have show her and a lord ,\n",
      "If any thing fall to you upon this , more than thanks and good fortune , by the saint whom I profess , I will plead against it with my life . must respect to hear but as as as as the\n",
      "Provost : Pardon me , good father ; it is against my oath . and the man To do with a gentleman more than\n",
      "DUKE VINCENTIO : Were you sworn to the duke , or to the deputy ? To make at the envious To need .\n",
      "Provost : To him , and to his substitutes . To all to 't as the ducat with a prince\n",
      "DUKE VINCENTIO : You will think you have made no offence , if the duke avouch the justice of your dealing ? to marry , as as and say to hanged a\n",
      "Provost : But what likelihood is in that ? .\n",
      "DUKE VINCENTIO : Not a resemblance , but a certainty . To therefore were were as as as as as as\n",
      "Yet since I see you fearful , that neither my coat , integrity , nor persuasion can with ease attempt you , I will go further than I meant , to pluck all fears out of you . To show in in sweet and have out of the\n",
      "Look you , sir , here is the hand and seal of the duke : you know the character , I doubt not ; and the signet is not strange to you . and and look : yet to be to help .\n",
      "Provost : I know them both . To , and as free from your thief , and\n",
      "DUKE VINCENTIO : The contents of this is the return of the duke : you shall anon over-read it at your pleasure ; where you shall find , within these two days he will be here . and and sleep as am not with a fool in\n",
      "This is a thing that Angelo knows not ; for he this very day receives letters of strange tenor ; perchance of the duke 's death ; perchance entering into some monastery ; but , by chance , nothing of what is writ . and and will warm .\n",
      "Look , the unfolding star calls up the shepherd . To make a envious with a wrong with a disfigure\n",
      "Put not yourself into amazement how these things should be : all difficulties are but easy when they are known . To a tongue from the duke , for for the\n",
      "Call your executioner , and off with Barnardine 's head : I will give him a present shrift and advise him for a better place . to come to be To hear to be in Latin\n",
      "Yet you are amazed ; but this shall absolutely resolve you . .\n",
      "Come away ; it is almost clear dawn . To amongst and see to the pleasant will will not\n",
      "POMPEY : I am as well acquainted here as I was in our house of profession : one would think it were Mistress Overdone 's own house , for here be many of her old customers . .\n",
      "First , here 's young Master Rash ; he 's in for a commodity of brown paper and old ginger , ninescore and seventeen pounds ; of which he made five marks , ready money : marry , then ginger was not much in request , for the old women were all dead . To make a meddling '\n",
      "Then is there here one Master Caper , at the suit of Master Three-pile the mercer , for some four suits of peach-coloured satin , which now peaches him a beggar . To be .\n",
      "Then have we here young Dizy , and young Master Deep-vow , and Master Copperspur , and Master Starve-lackey the rapier and dagger man , and young Drop-heir that killed lusty Pudding , and Master Forthlight the tilter , and brave Master Shooty the great traveller , and wild Half-can that stabbed Pots , and , I think , forty more ; all great doers in our trade , and are now 'for the Lord 's sake . ' hastily by the duty to instruct to his <UNK> with\n",
      "ABHORSON : Sirrah , bring Barnardine hither . To know by by a good and your bags in\n",
      "POMPEY : Master Barnardine ! with with a thousand , And look by my\n",
      "you must rise and be hanged . and to make to make .\n",
      "Master Barnardine ! and and would 'll tell to condemn 'd with her\n",
      "ABHORSON : What , ho , Barnardine ! .\n",
      "BARNARDINE : POMPEY : Your friends , sir ; the hangman . as as a good to tell you 'for to the\n",
      "You must be so good , sir , to rise and be put to death . , and -- '\n",
      "BARNARDINE : ABHORSON : Tell him he must awake , and that quickly too . and To Friar about by by by a suitor to\n",
      "POMPEY : Pray , Master Barnardine , awake till you are executed , and sleep afterwards . To desire to make a gentlewoman .\n",
      "ABHORSON : Go in to him , and fetch him out . To make a bawd and to , and as as\n",
      "POMPEY : He is coming , sir , he is coming ; I hear his straw rustle . To her to come of a most guide .\n",
      "ABHORSON : Is the axe upon the block , sirrah ? , and do you To desire to make I shall\n",
      "POMPEY : Very ready , sir . in in my men were as your ear , and\n",
      "BARNARDINE : How now , Abhorson ? to be so ; and will be with her and\n",
      "what 's the news with you ? to meet 'd with her .\n",
      "ABHORSON : Truly , sir , I would desire you to clap into your prayers ; for , look you , the warrant 's come . and to make that would have a men .\n",
      "BARNARDINE : You rogue , I have been drinking all night ; I am not fitted for 't . To make him to to woo with a Player ,\n",
      "POMPEY : O , the better , sir ; for he that drinks all night , and is hanged betimes in the morning , may sleep the sounder all the next day . .\n",
      "ABHORSON : Look you , sir ; here comes your ghostly father : do we jest now , think you ? from the world ?\n",
      "DUKE VINCENTIO : Sir , induced by my charity , and hearing how hastily you are to depart , I am come to advise you , comfort you and pray with you . as I am to the lute will would not not\n",
      "BARNARDINE : Friar , not I I have been drinking hard all night , and I will have more time to prepare me , or they shall beat out my brains with billets : I will not consent to die this day , that 's certain . To desire to give to to the rest in this\n",
      "DUKE VINCENTIO : O , sir , you must : and therefore I beseech you Look forward on the journey you shall go . with a devil .\n",
      "BARNARDINE : I swear I will not die to-day for any man 's persuasion . to be in the adverse '\n",
      "DUKE VINCENTIO : But hear you . To make my married to make the messenger , and\n",
      "BARNARDINE : Not a word : if you have any thing to say to me , come to my ward ; for thence will not I to-day . to me .\n",
      "DUKE VINCENTIO : Unfit to live or die : O gravel heart ! and pray , to our face to be have have\n",
      "After him , fellows ; bring him to the block . and and by a Player : never have have a\n",
      "Provost : Now , sir , how do you find the prisoner ? To make a tie the duke to make a like\n",
      "DUKE VINCENTIO : A creature unprepared , unmeet for death ; And to transport him in the mind he is Were damnable . and and and as though she will not in the\n",
      "Provost : Here in the prison , father , There died this morning of a cruel fever One Ragozine , a most notorious pirate , A man of Claudio 's years ; his beard and head Just of his colour . To have sent to the thankful with a good To\n",
      "What if we do omit This reprobate till he were well inclined ; And satisfy the deputy with the visage Of Ragozine , more like to Claudio ? marry , and and and hang 'd with an <UNK>\n",
      "DUKE VINCENTIO : O , 't is an accident that heaven provides ! To have had as as a chestnut to make a\n",
      "Dispatch it presently ; the hour draws on Prefix 'd by Angelo : see this be done , And sent according to command ; whiles I Persuade this rude wretch willingly to die . as I love have a like a will have call\n",
      "Provost : This shall be done , good father , presently . To make your honour , I have a slave ,\n",
      "But Barnardine must die this afternoon : And how shall we continue Claudio , To save me from the danger that might come If he were known alive ? To make the wooing .\n",
      "DUKE VINCENTIO : Let this be done . and you to your brother shall be to to meet\n",
      "Put them in secret holds , both Barnardine and Claudio : Ere twice the sun hath made his journal greeting To the under generation , you shall find Your safety manifested . have sent to good as Baptista to be so ,\n",
      "Provost : I am your free dependant . '\n",
      "DUKE VINCENTIO : Quick , dispatch , and send the head to Angelo . .\n",
      "Now will I write letters to Angelo , -- The provost , he shall bear them , whose contents Shall witness to him I am near at home , And that , by great injunctions , I am bound To enter publicly : him I 'll desire To meet me at the consecrated fount A league below the city ; and from thence , By cold gradation and well-balanced form , We shall proceed with Angelo . to talk to in the gate\n",
      "Provost : Here is the head ; I 'll carry it myself .\n",
      "DUKE VINCENTIO : Convenient is it . To make give to be in all To make a\n",
      "Make a swift return ; For I would commune with you of such things That want no ear but yours . and will not not in a lady and am and\n",
      "Provost : I 'll make all speed . and to be so .\n",
      "ISABELLA : DUKE VINCENTIO : The tongue of Isabel . and in head of a will with me To come\n",
      "She 's come to know If yet her brother 's pardon be come hither : But I will keep her ignorant of her good , To make her heavenly comforts of despair , When it is least expected . to be to be to make a n't , and\n",
      "ISABELLA : Ho , by your leave ! .\n",
      "DUKE VINCENTIO : Good morning to you , fair and gracious daughter . To to you confess for the other in the duke\n",
      "ISABELLA : The better , given me by so holy a man . and to be by the duke to him To to\n",
      "Hath yet the deputy sent my brother 's pardon ? To let by by by a while , '\n",
      "DUKE VINCENTIO : He hath released him , Isabel , from the world : His head is off and sent to Angelo . as as as as some will have have a cunning\n",
      "ISABELLA : Nay , but it is not so . To To make to make a Bohemian have put by\n",
      "DUKE VINCENTIO : It is no other : show your wisdom , daughter , In your close patience . in some love .\n",
      "ISABELLA : O , I will to him and pluck out his eyes ! To good and as but but for as servants as\n",
      "DUKE VINCENTIO : You shall not be admitted to his sight . will have a hands ?\n",
      "ISABELLA : Unhappy Claudio ! and and have have a word and with with her\n",
      "wretched Isabel ! heavy Vincetino to the woman 's son for thy thousand\n",
      "Injurious world ! and had as he would not with her and and\n",
      "most damned Angelo ! and thy and and the humour in the chronicles to\n",
      "DUKE VINCENTIO : This nor hurts him nor profits you a jot ; Forbear it therefore ; give your cause to heaven . To make brown and and so .\n",
      "Mark what I say , which you shall find By every syllable a faithful verity : The duke comes home to-morrow ; nay , dry your eyes ; One of our convent , and his confessor , Gives me this instance : already he hath carried Notice to Escalus and Angelo , Who do prepare to meet him at the gates , There to give up their power . have , and and let , To mean to make\n",
      "If you can , pace your wisdom In that good path that I would wish it go , And you shall have your bosom on this wretch , Grace of the duke , revenges to your heart , And general honour . and to make .\n",
      "ISABELLA : I am directed by you . as if I will tell me of eyes .\n",
      "DUKE VINCENTIO : This letter , then , to Friar Peter give ; 'T is that he sent me of the duke 's return : Say , by this token , I desire his company At Mariana 's house to-night . and call with with with a suitor with a ladies\n",
      "Her cause and yours I 'll perfect him withal , and he shall bring you Before the duke , and to the head of Angelo Accuse him home and home . To by by by ?\n",
      "For my poor self , I am combined by a sacred vow And shall be absent . as as Were <UNK> To make the prettiest '\n",
      "Wend you with this letter : Command these fretting waters from your eyes With a light heart ; trust not my holy order , If I pervert your course . With To think To have our deeds ?\n",
      "Who 's here ? and I see to crave to be a will not\n",
      "LUCIO : Good even . to make the duke was with a brother with a\n",
      "Friar , where 's the provost ? and make himself And with with her , and to\n",
      "DUKE VINCENTIO : Not within , sir . and and and love to her and and will not\n",
      "LUCIO : O pretty Isabella , I am pale at mine heart to see thine eyes so red : thou must be patient . To make a noble\n",
      "I am fain to dine and sup with water and bran ; I dare not for my head fill my belly ; one fruitful meal would set me to 't . with a marble\n",
      "But they say the duke will be here to-morrow . and I am am yours and the matter .\n",
      "By my troth , Isabel , I loved thy brother : if the old fantastical duke of dark corners had been at home , he had lived . and as walk by the special will not with her\n",
      "DUKE VINCENTIO : Sir , the duke is marvellous little beholding to your reports ; but the best is , he lives not in them . with a will a a bawd .\n",
      "LUCIO : Friar , thou knowest not the duke so well as I do : he 's a better woodman than thou takest him for . To try , and as what may I can to\n",
      "DUKE VINCENTIO : Well , you 'll answer this one day . To set with a hadst must have to make a\n",
      "Fare ye well . To make a sound as as as as I do\n",
      "LUCIO : Nay , tarry ; I 'll go along with thee I can tell thee pretty tales of the duke . To the name ; And yet as as as I\n",
      "DUKE VINCENTIO : You have told me too many of him already , sir , if they be true ; if not true , none were enough . as as I will will think .\n",
      "LUCIO : I was once before him for getting a wench with child . with -- of the duke ?\n",
      "DUKE VINCENTIO : Did you such a thing ? Most Huntsman : And in a last to the <UNK>\n",
      "LUCIO : Yes , marry , did I but I was fain to forswear it ; they would else have married me to the rotten medlar . To yet that hath cram to tell you to make\n",
      "DUKE VINCENTIO : Sir , your company is fairer than honest . , and and will see .\n",
      "Rest you well . as as sir , and as the duke To be\n",
      "LUCIO : By my troth , I 'll go with thee to the lane 's end : if bawdy talk offend you , we 'll have very little of it . with him .\n",
      "Nay , friar , I am a kind of burr ; I shall stick . and and would should To make a thousand integrity To\n",
      "ESCALUS : Every letter he hath writ hath disvouched other . and I 'll swear and by a a chestnut with\n",
      "ANGELO : In most uneven and distracted manner . born to make the friend ?\n",
      "His actions show much like to madness : pray heaven his wisdom be not tainted ! To make a Huntsman : Why , To be be\n",
      "And why meet him at the gates , and redeliver our authorities there ESCALUS : I guess not . To show to bear by my a devil was to\n",
      "ANGELO : And why should we proclaim it in an hour before his entering , that if any crave redress of injustice , they should exhibit their petitions in the street ? To make my satisfy at the storm and kiss met\n",
      "ESCALUS : He shows his reason for that : to have a dispatch of complaints , and to deliver us from devices hereafter , which shall then have no power to stand against us . to beguiles by by time of the duke hath been\n",
      "ANGELO : Well , I beseech you , let it be proclaimed betimes i ' the morn ; I 'll call you at your house : give notice to such men of sort and suit as are to meet him . and do but and poor '\n",
      "ESCALUS : I shall , sir . will not seem To make a maid of hard with\n",
      "Fare you well . and and my thousand have a brother , To by\n",
      "ANGELO : Good night . To bashful will be to all to make the world\n",
      "This deed unshapes me quite , makes me unpregnant And dull to all proceedings . with a stomach Of of the duke ?\n",
      "A deflower 'd maid ! as as as as I am Katharina to make to\n",
      "And by an eminent body that enforced The law against it ! To have through the fool , and by by by\n",
      "But that her tender shame Will not proclaim against her maiden loss , How might she tongue me ! and and and Crassus , and and you shall have\n",
      "Yet reason dares her no ; For my authority bears of a credent bulk , That no particular scandal once can touch But it confounds the breather . To make him To be in the world , and\n",
      "He should have lived , Save that riotous youth , with dangerous sense , Might in the times to come have ta'en revenge , By so receiving a dishonour 'd life With ransom of such shame . by a wheels must give her and 'for To make\n",
      "Would yet he had lived ! .\n",
      "A lack , when once our grace we have forgot , Nothing goes right : we would , and we would not . as as as I will make a due and an\n",
      "DUKE VINCENTIO : These letters at fit time deliver me The provost knows our purpose and our plot . To 'twixt nor accuse .\n",
      "The matter being afoot , keep your instruction , And hold you ever to our special drift ; Though sometimes you do blench from this to that , As cause doth minister . as the body with her and and and I have\n",
      "Go call at Flavius ' house , And tell him where I stay : give the like notice To Valentinus , Rowland , and to Crassus , And bid them bring the trumpets to the gate ; But send me Flavius first . and I will have a mighty and I may knock\n",
      "FRIAR PETER : It shall be speeded well . To pardon with a fever That 's a beggar will\n",
      "DUKE VINCENTIO : I thank thee , Varrius ; thou hast made good haste : Come , we will walk . to make a wrong along with her and and and\n",
      "There 's other of our friends Will greet us here anon , my gentle Varrius . .\n",
      "ISABELLA : To speak so indirectly I am loath : I would say the truth ; but to accuse him so , That is your part : yet I am advised to do it ; He says , to veil full purpose . as true .\n",
      "MARIANA : Be ruled by him . to to be , and I will have have not\n",
      "ISABELLA : Besides , he tells me that , if peradventure He speak against me on the adverse side , I should not think it strange ; for 't is a physic That 's bitter to sweet end . And have been with with her and am I 'll\n",
      "MARIANA : I would Friar Peter -- ISABELLA : O , peace ! and to to your ear , then , and the\n",
      "the friar is come . and say that hath hath have have have like by\n",
      "FRIAR PETER : Come , I have found you out a stand most fit , Where you may have such vantage on the duke , He shall not pass you . To find out .\n",
      "Twice have the trumpets sounded ; The generous and gravest citizens Have hent the gates , and very near upon The duke is entering : therefore , hence , away ! and and go to your own , and have have\n",
      "DUKE VINCENTIO : My very worthy cousin , fairly met ! shall take her nor very a good to to woo\n",
      "Our old and faithful friend , we are glad to see you . To see thee for my\n",
      "ANGELO : Happy return be to your royal grace ! to keep his other to set To marry to the\n",
      "DUKE VINCENTIO : Many and hearty thankings to you both . .\n",
      "We have made inquiry of you ; and we hear Such goodness of your justice , that our soul Can not but yield you forth to public thanks , Forerunning more requital . with with a devil .\n",
      "ANGELO : You make my bonds still greater . To do to make her for for up in all\n",
      "DUKE VINCENTIO : O , your desert speaks loud ; and I should wrong it , To lock it in the wards of covert bosom , When it deserves , with characters of brass , A forted residence 'gainst the tooth of time And razure of oblivion . To will with a\n",
      "Give me your hand , And let the subject see , to make them know That outward courtesies would fain proclaim Favours that keep within . of her and and Will To to the world ?\n",
      "Come , Escalus , You must walk by us on our other hand ; And good supporters are you . '\n",
      "FRIAR PETER : Now is your time : speak loud and kneel before him . To have a punk to make the old and thirty\n",
      "ISABELLA : Justice , O royal duke ! indeed and and and to the business with him to\n",
      "Vail your regard Upon a wrong 'd , I would fain have said , a maid ! to see to make a good and and not not\n",
      "O worthy prince , dishonour not your eye By throwing it on any other object Till you have heard me in my true complaint And given me justice , justice , justice , justice ! and a bawd .\n",
      "DUKE VINCENTIO : Relate your wrongs ; in what ? rain And call with a lady and as as as\n",
      "by whom ? and and and love , That do have have not\n",
      "be brief . and Keep to be To you , And by the\n",
      "Here is Lord Angelo shall give you justice : Reveal yourself to him . with him To play of the tongue of the duke\n",
      "ISABELLA : O worthy duke , You bid me seek redemption of the devil : Hear me yourself ; for that which I must speak Must either punish me , not being believed , Or wring redress from you . to be with with the syllable with her , To\n",
      "Hear me , O hear me , here ! and do have love to make a while , and\n",
      "ANGELO : My lord , her wits , I fear me , are not firm : She hath been a suitor to me for her brother Cut off by course of justice , -- ISABELLA : By course of justice ! To the wary -- I am I will will have\n",
      "ANGELO : And she will speak most bitterly and strange . To make the duke\n",
      "ISABELLA : Most strange , but yet most truly , will I speak : That Angelo 's forsworn ; is it not strange ? and will go To all and as the manner to\n",
      "That Angelo 's a murderer ; is 't not strange ? and the duke , and and tell 'd with a\n",
      "That Angelo is an adulterous thief , An hypocrite , a virgin-violator ; Is it not strange and strange ? To make sequent to the duke as a jot of\n",
      "DUKE VINCENTIO : Nay , it is ten times strange . with a beggar .\n",
      "ISABELLA : It is not truer he is Angelo Than this is all as true as it is strange : Nay , it is ten times true ; for truth is truth To the end of reckoning . <UNK> and a eyes , and action of a will\n",
      "DUKE VINCENTIO : Away with her ! Each in my lord , As To bear her and\n",
      "Poor soul , She speaks this in the infirmity of sense . of of the duke , for for a deeds from\n",
      "ISABELLA : O prince , I conjure thee , as thou believest There is another comfort than this world , That thou neglect me not , with that opinion That I am touch 'd with madness ! and as as well as the duke will wish 'd\n",
      "Make not impossible That which but seems unlike : 't is not impossible But one , the wicked'st caitiff on the ground , May seem as shy , as grave , as just , as absolute As Angelo ; even so may Angelo , In all his dressings , characts , titles , forms , Be an arch-villain ; believe it , royal prince : If he be less , he 's nothing ; but he 's more , Had I more name for badness . and and I will be with a thousand '\n",
      "DUKE VINCENTIO : By mine honesty , If she be mad , -- as I believe no other , -- Her madness hath the oddest frame of sense , Such a dependency of thing on thing , As e'er I heard in madness . as as you with with a ?\n",
      "ISABELLA : O gracious duke , Harp not on that , nor do not banish reason For inequality ; but let your reason serve To make the truth appear where it seems hid , And hide the false seems true . .\n",
      "DUKE VINCENTIO : Many that are not mad Have , sure , more lack of reason . to make his Kate and -- the Thy as as\n",
      "What would you say ? To love to make a fool to her , And\n",
      "ISABELLA : I am the sister of one Claudio , Condemn 'd upon the act of fornication To lose his head ; condemn 'd by Angelo : I , in probation of a sisterhood , Was sent to by my brother ; one Lucio As then the messenger , -- LUCIO : That 's I , a n't like your grace : I came to her from Claudio , and desired her To try her gracious fortune with Lord Angelo For her poor brother 's pardon . as as the day .\n",
      "ISABELLA : That 's he indeed . with temper 'd by a while be by a tongue\n",
      "DUKE VINCENTIO : You were not bid to speak . With To make a strange .\n",
      "LUCIO : No , my good lord ; Nor wish 'd to hold my peace . with her shall have a worth To the great born\n",
      "DUKE VINCENTIO : I wish you now , then ; Pray you , take note of it : and when you have A business for yourself , pray heaven you then Be perfect . to be to see , and not with a man\n",
      "LUCIO : I warrant your honour . To live to make a drink with her and that\n",
      "DUKE VINCENTIO : The warrants for yourself ; take heed to't . and and and and and to make a wither with\n",
      "ISABELLA : This gentleman told somewhat of my tale , -- LUCIO : Right . and am let to make a less , And I\n",
      "DUKE VINCENTIO : It may be right ; but you are i ' the wrong To speak before your time . To I shall have have have I will not not\n",
      "Proceed . and and will will , and and and and and\n",
      "ISABELLA : I went To this pernicious caitiff deputy , -- DUKE VINCENTIO : That 's somewhat madly spoken . to be with my men as I am see with\n",
      "ISABELLA : Pardon it ; The phrase is to the matter . has with a fellow\n",
      "DUKE VINCENTIO : Mended again . with with a executioner , by by by .\n",
      "The matter ; proceed . and -- Now have have have never have ta'en ,\n",
      "ISABELLA : In brief , to set the needless process by , How I persuaded , how I pray 'd , and kneel 'd , How he refell 'd me , and how I replied , -- For this was of much length , -- the vile conclusion I now begin with grief and shame to utter : He would not , but by gift of my chaste body To his concupiscible intemperate lust , Release my brother ; and , after much debatement , My sisterly remorse confutes mine honour , And I did yield to him : but the next morn betimes , His purpose surfeiting , he sends a warrant For my poor brother 's head . to the brother , To To have not not with\n",
      "DUKE VINCENTIO : This is most likely ! and I will tell with with her ?\n",
      "ISABELLA : O , that it were as like as it is true ! and no ; and and and in in the rest\n",
      "DUKE VINCENTIO : By heaven , fond wretch , thou knowist not what thou speak'st , Or else thou art suborn 'd against his honour In hateful practise . as I will am to all .\n",
      "First , his integrity Stands without blemish . and Did with a Sly and so so not a\n",
      "Next , it imports no reason That with such vehemency he should pursue Faults proper to himself : if he had so offended , He would have weigh 'd thy brother by himself And not have cut him off . and to be as as as the world had as\n",
      "Some one hath set you on : Confess the truth , and say by whose advice Thou camest here to complain . To call not , and and as I pray .\n",
      "ISABELLA : And is this all ? of the life and and be be <UNK> .\n",
      "Then , O you blessed ministers above , Keep me in patience , and with ripen 'd time Unfold the evil which is here wrapt up In countenance ! and To the neck '\n",
      "Heaven shield your grace from woe , As I , thus wrong 'd , hence unbelieved go ! That is not so , for for for for her\n",
      "DUKE VINCENTIO : I know you'ld fain be gone . To make to be by a trust when he herein\n",
      "An officer ! and and and and and as she 'll show in\n",
      "To prison with her ! as the kind , and the rest in her with\n",
      "Shall we thus permit A blasting and a scandalous breath to fall On him so near us ? .\n",
      "This needs must be a practise . and we do not so , and a dozen as\n",
      "Who knew of Your intent and coming hither ? shall I did an <UNK> shall mean to hear but\n",
      "ISABELLA : One that I would were here , Friar Lodowick . and and so , by the friar and and not\n",
      "DUKE VINCENTIO : A ghostly father , belike . weight '\n",
      "Who knows that Lodowick ? .\n",
      "LUCIO : My lord , I know him ; 't is a meddling friar ; I do not like the man : had he been lay , my lord For certain words he spake against your grace In your retirement , I had swinged him soundly . To make .\n",
      "DUKE VINCENTIO : Words against me ? to see to , and and as the thing To\n",
      "this is a good friar , belike ! .\n",
      "And to set on this wretched woman here Against our substitute ! To make my\n",
      "Let this friar be found . To make So had knock , and and still in\n",
      "LUCIO : But yesternight , my lord , she and that friar , I saw them at the prison : a saucy friar , A very scurvy fellow . .\n",
      "FRIAR PETER : Blessed be your royal grace ! to see , and am to this shall shall have\n",
      "I have stood by , my lord , and I have heard Your royal ear abused . .\n",
      "First , hath this woman Most wrongfully accused your substitute , Who is as free from touch or soil with her As she from one ungot . and the rest should each and as as as I\n",
      "DUKE VINCENTIO : We did believe no less .\n",
      "Know you that Friar Lodowick that she speaks of ? and <UNK> To make as as he was in the\n",
      "FRIAR PETER : I know him for a man divine and holy ; Not scurvy , nor a temporary meddler , As he 's reported by this gentleman ; And , on my trust , a man that never yet Did , as he vouches , misreport your grace . To may will To prove to to make all of\n",
      "LUCIO : My lord , most villanously ; believe it . and to your ice and and and twenty never have\n",
      "FRIAR PETER : Well , he in time may come to clear himself ; But at this instant he is sick my lord , Of a strange fever . and he can in in a while I be a\n",
      "Upon his mere request , Being come to knowledge that there was complaint Intended 'gainst Lord Angelo , came I hither , To speak , as from his mouth , what he doth know Is true and false ; and what he with his oath And all probation will make up full clear , Whensoever he 's convented . and very will not for a thousand and to be\n",
      "First , for this woman . with her and the duke .\n",
      "To justify this worthy nobleman , So vulgarly and personally accused , Her shall you hear disproved to her eyes , Till she herself confess it . .\n",
      "DUKE VINCENTIO : Good friar , let 's hear it . as as a news ?\n",
      "Do you not smile at this , Lord Angelo ? and and as as he as as as the cunning\n",
      "O heaven , the vanity of wretched fools ! To speak are in the lips To make a sudden\n",
      "Give us some seats . so good to instruct to go will have have hanged\n",
      "Come , cousin Angelo ; In this I 'll be impartial ; be you judge Of your own cause . and I shall say as but as as as I\n",
      "Is this the witness , friar ? and and am not a little out of the rascal\n",
      "First , let her show her face , and after speak . and as as as the men to to be in\n",
      "MARIANA : Pardon , my lord ; I will not show my face Until my husband bid me . To saw to her to see to tell you know\n",
      "DUKE VINCENTIO : What , are you married ? and herself .\n",
      "MARIANA : No , my lord . To a fool to I 'll make upon it is\n",
      "DUKE VINCENTIO : Are you a maid ? .\n",
      "MARIANA : No , my lord . with her will be be by the mathematics and fair\n",
      "DUKE VINCENTIO : A widow , then ? to go with her and not with her , To\n",
      "MARIANA : Neither , my lord . by , and and like to make to be to\n",
      "DUKE VINCENTIO : Why , you are nothing then : neither maid , widow , nor wife ? and am to make a corners will hear none\n",
      "LUCIO : My lord , she may be a punk ; for many of them are neither maid , widow , nor wife . To the duke .\n",
      "DUKE VINCENTIO : Silence that fellow : I would he had some cause To prattle for himself . determined but as as he was at the duke ?\n",
      "LUCIO : Well , my lord . have with for a little in himself And and and\n",
      "MARIANA : My lord ; I do confess I ne'er was married ; And I confess besides I am no maid : I have known my husband ; yet my husband Knows not that ever he knew me . To may have have find To Why , and ,\n",
      "LUCIO : He was drunk then , my lord : it can be no better . To whom To give to your proceeding with her and\n",
      "DUKE VINCENTIO : For the benefit of silence , would thou wert so too ! to make to her .\n",
      "LUCIO : Well , my lord . with a little of the cause to his holiness .\n",
      "DUKE VINCENTIO : This is no witness for Lord Angelo . and and and and and but not as he is\n",
      "MARIANA : Now I come to't my lord She that accuses him of fornication , In self-same manner doth accuse my husband , And charges him my lord , with such a time When I 'll depose I had him in mine arms With all the effect of love . To To make the deputy , and and play To\n",
      "ANGELO : Charges she more than me ? and a love to be a <UNK> to be hence\n",
      "MARIANA : Not that I know . with her and once at I 'll would have with\n",
      "DUKE VINCENTIO : No ? , To bear find : I am arrived , And\n",
      "you say your husband . and come and as as as as I will have\n",
      "MARIANA : Why , just , my lord , and that is Angelo , Who thinks he knows that he ne'er knew my body , But knows he thinks that he knows Isabel 's . Joint with with him to the way ?\n",
      "ANGELO : This is a strange abuse . and my and to let upon the forfeits , and\n",
      "Let 's see thy face . as as as 't in the duke ?\n",
      "MARIANA : My husband bids me ; now I will unmask . to saw to not as as <UNK> To be not\n",
      "This is that face , thou cruel Angelo , Which once thou sworest was worth the looking on ; This is the hand which , with a vow 'd contract , Was fast belock 'd in thine ; this is the body That took away the match from Isabel , And did supply thee at thy garden-house In her imagined person . and leave to be with a poor and see ,\n",
      "DUKE VINCENTIO : Know you this woman ? To have then And I am am prove a sedges\n",
      "LUCIO : Carnally , she says . To without with him will have a bawd .\n",
      "DUKE VINCENTIO : Sirrah , no more ! -- To go for for a word ?\n",
      "LUCIO : Enough , my lord . To make to go ?\n",
      "ANGELO : My lord , I must confess I know this woman : And five years since there was some speech of marriage Betwixt myself and her ; which was broke off , Partly for that her promised proportions Came short of composition , but in chief For that her reputation was disvalued In levity : since which time of five years I never spake with her , saw her , nor heard from her , Upon my faith and honour . to see To make a little of a teeth and\n",
      "MARIANA : Noble prince , As there comes light from heaven and words from breath , As there is sense in truth and truth in virtue , I am affianced this man 's wife as strongly As words could make up vows : and , my good lord , But Tuesday night last gone in 's garden-house He knew me as a wife . To make the good and that he hear to call\n",
      "As this is true , Let me in safety raise me from my knees Or else for ever be confixed here , A marble monument ! To make a traveller , and and and to think\n",
      "ANGELO : I did but smile till now : Now , good my lord , give me the scope of justice My patience here is touch 'd . and the next shall be with a willing\n",
      "I do perceive These poor informal women are no more But instruments of some more mightier member That sets them on : let me have way , my lord , To find this practise out . To to not call her and and the business had\n",
      "DUKE VINCENTIO : Ay , with my heart And punish them to your height of pleasure . To now , and Master , And I am am\n",
      "Thou foolish friar , and thou pernicious woman , Compact with her that 's gone , think'st thou thy oaths , Though they would swear down each particular saint , Were testimonies against his worth and credit That 's seal 'd in approbation ? To make a better of of soft and and so\n",
      "You , Lord Escalus , Sit with my cousin ; lend him your kind pains To find out this abuse , whence 't is derived . to an I am ne'er have have am like to\n",
      "There is another friar that set them on ; Let him be sent for . with a whore to know and and and she shall\n",
      "FRIAR PETER : Would he were here , my lord ! To make a mystery ?\n",
      "for he indeed Hath set the women on to this complaint : Your provost knows the place where he abides And he may fetch him . as I shall say to the business and and you\n",
      "DUKE VINCENTIO : Go do it instantly . .\n",
      "And you , my noble and well-warranted cousin , Whom it concerns to hear this matter forth , Do with your injuries as seems you best , In any chastisement : I for a while will leave you ; But stir not you till you have well determined Upon these slanderers . as as I long .\n",
      "ESCALUS : My lord , we 'll do it throughly . as my ?\n",
      "Signior Lucio , did not you say you knew that Friar Lodowick to be a dishonest person ? To have you and be to see a stale ?\n",
      "LUCIO : 'Cucullus non facit monachum : ' honest in nothing but in his clothes ; and one that hath spoke most villanous speeches of the duke . to make a while .\n",
      "ESCALUS : We shall entreat you to abide here till he come and enforce them against him : we shall find this friar a notable fellow . and a gentlewoman have , and and a little of\n",
      "LUCIO : As any in Vienna , on my word . in my brother 's the <UNK> will do so ;\n",
      "ESCALUS : Call that same Isabel here once again ; I would speak with her . as a bawd .\n",
      "Pray you , my lord , give me leave to question ; you shall see how I 'll handle her . to your arms .\n",
      "LUCIO : Not better than he , by her own report . to done , and let a n't anon .\n",
      "ESCALUS : Say you ? and as yet he is a pleasure\n",
      "LUCIO : Marry , sir , I think , if you handled her privately , she would sooner confess : perchance , publicly , she 'll be ashamed . When but as as as he must call 'd with\n",
      "ESCALUS : I will go darkly to work with her . .\n",
      "LUCIO : That 's the way ; for women are light at midnight . To make a direct 'll go .\n",
      "ESCALUS : Come on , mistress : here 's a gentlewoman denies all that you have said . To see to do To in a dozen to our\n",
      "LUCIO : My lord , here comes the rascal I spoke of ; here with the provost . To have a will will make his own , were\n",
      "ESCALUS : In very good time : speak not you to him till we call upon you . To have have not with a noble\n",
      "LUCIO : Mum . and speak and have have have be a brother .\n",
      "ESCALUS : Come , sir : did you set these women on to slander Lord Angelo ? hide with a while : : 'Faith To not not\n",
      "they have confessed you did . To go with a while and I am am well\n",
      "DUKE VINCENTIO : 'T is false . and but as as he hath the preferment as as\n",
      "ESCALUS : How ! as as I will call upon the cause and and\n",
      "know you where you are ? If I am have have am to be not so\n",
      "DUKE VINCENTIO : Respect to your great place ! as old\n",
      "and let the devil Be sometime honour 'd for his burning throne ! .\n",
      "Where is the duke ? and give him .\n",
      "'t is he should hear me speak . and and have Before to see to to what that\n",
      "ESCALUS : The duke 's in us ; and we will hear you speak : Look you speak justly . To do find , and the credent hence To Attorney\n",
      "DUKE VINCENTIO : Boldly , at least . .\n",
      "But , O , poor souls , Come you to seek the lamb here of the fox ? to know .\n",
      "Good night to your redress ! with , and do to say to be to make\n",
      "Is the duke gone ? as as as he hath prove .\n",
      "Then is your cause gone too . and and have have have a lusty a most of\n",
      "The duke 's unjust , Thus to retort your manifest appeal , And put your trial in the villain 's mouth Which here you come to accuse . .\n",
      "LUCIO : This is the rascal ; this is he I spoke of . To be with her , and I 'll see to\n",
      "ESCALUS : Why , thou unreverend and unhallow 'd friar , Is't not enough thou hast suborn 'd these women To accuse this worthy man , but , in foul mouth And in the witness of his proper ear , To call him villain ? and will have have eat and and and and we\n",
      "and then to glance from him To the duke himself , to tax him with injustice ? do may pray then and as a suitor to make\n",
      "Take him hence ; to the rack with him ! To make unknown and as a ease whore and the\n",
      "We 'll touse you Joint by joint , but we will know his purpose . as as as I have ta'en : '\n",
      "What 'unjust ' ! as he knew with with a devil '\n",
      "DUKE VINCENTIO : Be not so hot ; the duke Dare no more stretch this finger of mine than he Dare rack his own : his subject am I not , Nor here provincial . To make a bitter to be to to make the\n",
      "My business in this state Made me a looker on here in Vienna , Where I have seen corruption boil and bubble Till it o'er-run the stew ; laws for all faults , But faults so countenanced , that the strong statutes Stand like the forfeits in a barber 's shop , As much in mock as mark . To make to make great of a fellow\n",
      "ESCALUS : Slander to the state ! with her .\n",
      "Away with him to prison ! to to make a poor '\n",
      "ANGELO : What can you vouch against him , Signior Lucio ? To show a tongue and as as as for the\n",
      "Is this the man that you did tell us of ? ?\n",
      "LUCIO : 'T is he , my lord . and and and and and by the envious with a\n",
      "Come hither , goodman baldpate : do you know me ? as you ?\n",
      "DUKE VINCENTIO : I remember you , sir , by the sound of your voice : I met you at the prison , in the absence of the duke . to to a mystery\n",
      "LUCIO : O , did you so ? To have heard in thy love to let knock with\n",
      "And do you remember what you said of the duke ? and and and attend to see with her ?\n",
      "DUKE VINCENTIO : Most notedly , sir . and till and as Signior As and and sleep to\n",
      "LUCIO : Do you so , sir ? and tell as as as -- and and To be\n",
      "And was the duke a fleshmonger , a fool , and a coward , as you then reported him to be ? To get the duke hath cut .\n",
      "DUKE VINCENTIO : You must , sir , change persons with me , ere you make that my report : you , indeed , spoke so of him ; and much more , much worse . To hear for a beggar of the sting to be\n",
      "LUCIO : O thou damnable fellow ! To make a cup were as a word for the\n",
      "Did not I pluck thee by the nose for thy speeches ? To make a bawd ; and then at the block\n",
      "DUKE VINCENTIO : I protest I love the duke as I love myself . To love to no love with a n't .\n",
      "ANGELO : Hark , how the villain would close now , after his treasonable abuses ! and and and to let To make good And we\n",
      "ESCALUS : Such a fellow is not to be talked withal . to make the world , nor I am to have\n",
      "Away with him to prison ! and am to be to gates , and therefore ,\n",
      "Where is the provost ? and and to him for it in the apt to\n",
      "Away with him to prison ! to see to make the duke ?\n",
      "lay bolts enough upon him : let him speak no more . and for for for a swear and and and will\n",
      "Away with those giglots too , and with the other confederate companion ! Will I 'll do have have with a little will\n",
      "DUKE VINCENTIO : ANGELO : What , resists he ? .\n",
      "Help him , Lucio . , and to make a grace ?\n",
      "LUCIO : Come , sir ; come , sir ; come , sir ; foh , sir ! with with a 'll do , with with with her\n",
      "Why , you bald-pated , lying rascal , you must be hooded , must you ? a little for the chance were as as as I\n",
      "Show your knave 's visage , with a pox to you ! that hath with a pretty '\n",
      "show your sheep-biting face , and be hanged an hour ! To To Vincentio .\n",
      "Will't not off ? as the world , I have all .\n",
      "DUKE VINCENTIO : Thou art the first knave that e'er madest a duke . and as as as as as 't is of my\n",
      "First , provost , let me bail these gentle three . as as as as I will have have I know\n",
      "Sneak not away , sir ; for the friar and you Must have a word anon . to think and look To prove a bawd of the\n",
      "Lay hold on him . and and and an thy At to not not and\n",
      "LUCIO : This may prove worse than hanging . from his clouds and and would do be with my\n",
      "DUKE VINCENTIO : ANGELO : O my dread lord , I should be guiltier than my guiltiness , To think I can be undiscernible , When I perceive your grace , like power divine , Hath look 'd upon my passes . as 't is that for for for for a while\n",
      "Then , good prince , No longer session hold upon my shame , But let my trial be mine own confession : Immediate sentence then and sequent death Is all the grace I beg . To make the duke of the world .\n",
      "DUKE VINCENTIO : Come hither , Mariana . and and in the duke .\n",
      "Say , wast thou e'er contracted to this woman ? and to bear in the wisdom To make a lord\n",
      "ANGELO : I was , my lord . -- And say to the block .\n",
      "DUKE VINCENTIO : Go take her hence , and marry her instantly . To sleep as as as as as a strange ?\n",
      "Do you the office , friar ; which consummate , Return him here again . pluck out of my face To make in in a\n",
      "Go with him , provost . as he hath been with her and am know I\n",
      "ESCALUS : My lord , I am more amazed at his dishonour Than at the strangeness of it . .\n",
      "DUKE VINCENTIO : Come hither , Isabel . to make all at he should shall have not with\n",
      "Your friar is now your prince : as I was then Advertising and holy to your business , Not changing heart with habit , I am still Attorney 'd at your service . To go to be ?\n",
      "ISABELLA : O , give me pardon , That I , your vassal , have employ 'd and pain 'd Your unknown sovereignty ! To make a signet will to know by by let\n",
      "DUKE VINCENTIO : You are pardon 'd , Isabel : And now , dear maid , be you as free to us . To discredit To make a will will have a letters\n",
      "Your brother 's death , I know , sits at your heart ; And you may marvel why I obscured myself , Labouring to save his life , and would not rather Make rash remonstrance of my hidden power Than let him so be lost . to you have more than :\n",
      "O most kind maid , It was the swift celerity of his death , Which I did think with slower foot came on , That brain 'd my purpose . and and and to use to see I have all\n",
      "But , peace be with him ! as I am to see with her and and to\n",
      "That life is better life , past fearing death , Than that which lives to fear : make it your comfort , So happy is your brother . to welcome of of thy love , as Claudio ,\n",
      "ISABELLA : I do , my lord . To make his tongue with a man And see to\n",
      "DUKE VINCENTIO : For this new-married man approaching here , Whose salt imagination yet hath wrong 'd Your well defended honour , you must pardon For Mariana 's sake : but as he adjudged your brother , -- Being criminal , in double violation Of sacred chastity and of promise-breach Thereon dependent , for your brother 's life , -- The very mercy of the law cries out Most audible , even from his proper tongue , 'An Angelo for Claudio , death for death ! ' out .\n",
      "Haste still pays haste , and leisure answers leisure ; Like doth quit like , and MEASURE still FOR MEASURE . comes by by the storm and and To have have\n",
      "Then , Angelo , thy fault 's thus manifested ; Which , though thou wouldst deny , denies thee vantage . to be with her and To make a <UNK> ;\n",
      "We do condemn thee to the very block Where Claudio stoop 'd to death , and with like haste . '\n",
      "Away with him ! <UNK> and and and I am a day .\n",
      "MARIANA : O my most gracious lord , I hope you will not mock me with a husband . To call 'd and as as a lord .\n",
      "DUKE VINCENTIO : It is your husband mock 'd you with a husband . To am make the rascal and and the block to\n",
      "Consenting to the safeguard of your honour , I thought your marriage fit ; else imputation , For that he knew you , might reproach your life And choke your good to come ; for his possessions , Although by confiscation they are ours , We do instate and widow you withal , To buy you a better husband . should and himself and do to achieved .\n",
      "MARIANA : O my dear lord , I crave no other , nor no better man . And go , That woo to be a n't a\n",
      "DUKE VINCENTIO : Never crave him ; we are definitive . -- and and not not not so will I will\n",
      "MARIANA : Gentle my liege , -- DUKE VINCENTIO : You do but lose your labour . and I will with you with a bawd .\n",
      "Away with him to death ! to a easy To sleep and have have found not\n",
      "Now , sir , to you . To make a whit .\n",
      "MARIANA : O my good lord ! and to the duke ?\n",
      "Sweet Isabel , take my part ; Lend me your knees , and all my life to come I 'll lend you all my life to do you service . alive To make To use I am have have have\n",
      "DUKE VINCENTIO : Against all sense you do importune her : Should she kneel down in mercy of this fact , Her brother 's ghost his paved bed would break , And take her hence in horror . or a bitter of the wheels and and say by\n",
      "MARIANA : Isabel , Sweet Isabel , do yet but kneel by me ; Hold up your hands , say nothing ; I 'll speak all . and marry with her with her and to her and\n",
      "They say , best men are moulded out of faults ; And , for the most , become much more the better For being a little bad : so may my husband . will make a consequence and have have put to be\n",
      "O Isabel , will you not lend a knee ? ?\n",
      "DUKE VINCENTIO : He dies for Claudio 's death . will I shall well .\n",
      "ISABELLA : Most bounteous sir , Look , if it please you , on this man condemn 'd , As if my brother lived : I partly think A due sincerity govern 'd his deeds , Till he did look on me : since it is so , Let him not die . and know by a will both to make make a\n",
      "My brother had but justice , In that he did the thing for which he died : For Angelo , His act did not o'ertake his bad intent , And must be buried but as an intent That perish 'd by the way : thoughts are no subjects ; Intents but merely thoughts . to I see with he is it were as as\n",
      "MARIANA : Merely , my lord . pains And To make a stranger and till and and\n",
      "DUKE VINCENTIO : Your suit 's unprofitable ; stand up , I say . and and not , by the fairest\n",
      "I have bethought me of another fault . To the rival -- To know And with her and\n",
      "Provost , how came it Claudio was beheaded At an unusual hour ? from his sea <UNK> To Dian a play as as\n",
      "Provost : It was commanded so . to make you .\n",
      "DUKE VINCENTIO : Had you a special warrant for the deed ? and as I will have have a daughter ?\n",
      "Provost : No , my good lord ; it was by private message . To make all of his tongue and 'madam To in\n",
      "DUKE VINCENTIO : For which I do discharge you of your office : Give up your keys . will have with him to be to the the provost\n",
      "Provost : Pardon me , noble lord : I thought it was a fault , but knew it not ; Yet did repent me , after more advice ; For testimony whereof , one in the prison , That should by private order else have died , I have reserved alive . and like so .\n",
      "DUKE VINCENTIO : What 's he ? and and he should will fetch with a fool .\n",
      "Provost : His name is Barnardine . and come to save a good to her of a\n",
      "DUKE VINCENTIO : I would thou hadst done so by Claudio . and yet for the head in my favour .\n",
      "Go fetch him hither ; let me look upon him . have a thing '\n",
      "ESCALUS : I am sorry , one so learned and so wise As you , Lord Angelo , have still appear 'd , Should slip so grossly , both in the heat of blood . To have ne'er have a will must must not as\n",
      "And lack of temper 'd judgment afterward . .\n",
      "ANGELO : I am sorry that such sorrow I procure : And so deep sticks it in my penitent heart That I crave death more willingly than mercy ; 'T is my deserving , and I do entreat it . .\n",
      "DUKE VINCENTIO : Which is that Barnardine ? or I have am in the prisoner ?\n",
      "Provost : This , my lord . and take for the God am by by the block\n",
      "DUKE VINCENTIO : There was a friar told me of this man . with her and and I 'll have have have a\n",
      "Sirrah , thou art said to have a stubborn soul . In thy head ; That he hath tell you well\n",
      "That apprehends no further than this world , And squarest thy life according . to bear I will you have with the jade for\n",
      "Thou'rt condemn 'd : But , for those earthly faults , I quit them all ; And pray thee take this mercy to provide For better times to come . with her and and and and knock 'd with her\n",
      "Friar , advise him ; I leave him to your hand . and look penitently , and labour and that would not\n",
      "What muffled fellow 's that ? To know my As I am will will not as\n",
      "Provost : This is another prisoner that I saved . for the duke\n",
      "Who should have died when Claudio lost his head ; As like almost to Claudio as himself . ?\n",
      "DUKE VINCENTIO : LUCIO : 'Faith , my lord . Can make a lord .\n",
      "I spoke it but according to the trick . to brown as good and to to still in a\n",
      "If you will hang me for it , you may ; but I had rather it would please you I might be whipt . To make a while To I have have a a\n",
      "DUKE VINCENTIO : Whipt first , sir , and hanged after . back said , and and and and and like as\n",
      "Proclaim it , provost , round about the city . And To command , and be to his whore and\n",
      "Is any woman wrong 'd by this lewd fellow , As I have heard him swear himself there 's one Whom he begot with child , let her appear , And he shall marry her : the nuptial finish 'd , Let him be whipt and hang 'd . .\n",
      "LUCIO : I beseech your highness , do not marry me to a whore . as a goodman .\n",
      "Your highness said even now , I made you a duke : good my lord , do not recompense me in making me a cuckold . To make my brother .\n",
      "DUKE VINCENTIO : Upon mine honour , thou shalt marry her . To stand To veil will know to you may .\n",
      "Thy slanders I forgive ; and therewithal Remit thy other forfeits . To born in her and as well .\n",
      "Take him to prison ; And see our pleasure herein executed . and to in a stead to wive and a most\n",
      "LUCIO : Marrying a punk , my lord , is pressing to death , whipping , and hanging . by by the ancient\n",
      "DUKE VINCENTIO : Slandering a prince deserves it . , and so may not with with a most a\n",
      "She , Claudio , that you wrong 'd , look you restore . to make the world ?\n",
      "Joy to you , Mariana ! by by the friends as I not not with with\n",
      "Love her , Angelo : I have confess 'd her and I know her virtue . and have with her and and a while .\n",
      "Thanks , good friend Escalus , for thy much goodness : There 's more behind that is more gratulate . for my brother and thy face , To make a\n",
      "Thanks , provost , for thy care and secrecy : We shill employ thee in a worthier place . to him to the duke\n",
      "Forgive him , Angelo , that brought you home The head of Ragozine for Claudio 's : The offence pardons itself . To be by by my\n",
      "Dear Isabel , I have a motion much imports your good ; Whereto if you 'll a willing ear incline , What 's mine is yours and what is yours is mine . and widow , as but as the gates will else\n",
      "So , bring us to our palace ; where we 'll show What 's yet behind , that 's meet you all should know . and to prison to make a brother .\n",
      "SLY : I 'll pheeze you , in faith . with a word and a suitor to to make a\n",
      "Hostess : A pair of stocks , you rogue ! To secrecy .\n",
      "SLY : Ye are a baggage : the Slys are no rogues ; look in the chronicles ; we came in with Richard Conqueror . with them to make the rest is off with her\n",
      "Therefore paucas pallabris ; let the world slide : sessa ! and Dian with her to have have I will bear\n",
      "Hostess : You will not pay for the glasses you have burst ? To To make about to make fair .\n",
      "SLY : No , not a denier . To know and and and so still , for for\n",
      "Go by , Jeronimy : go to thy cold bed , and warm thee . <UNK> To all of of his purpose ?\n",
      "Hostess : I know my remedy ; I must go fetch the third -- borough . and I pray To get a word ?\n",
      "SLY : Third , or fourth , or fifth borough , I 'll answer him by law : I 'll not budge an inch , boy : let him come , and kindly . with with with thou will have a ale of his\n",
      "Lord : Huntsman , I charge thee , tender well my hounds : Brach Merriman , the poor cur is emboss 'd ; And couple Clowder with the deep -- mouth 'd brach . as I have have heard a will give him ,\n",
      "Saw'st thou not , boy , how Silver made it good At the hedge-corner , in the coldest fault ? and will go to speak with the rest will more\n",
      "I would not lose the dog for twenty pound . and bear , to hear upon his life .\n",
      "First Huntsman : Why , Belman is as good as he , my lord ; He cried upon it at the merest loss And twice to-day pick 'd out the dullest scent : Trust me , I take him for the better dog . and not with her and and call not indeed To\n",
      "Lord : Thou art a fool : if Echo were as fleet , I would esteem him worth a dozen such . with a mighty\n",
      "But sup them well and look unto them all : To-morrow I intend to hunt again . and how and am To have have with my .\n",
      "First Huntsman : I will , my lord . That with her , -- well , To make <UNK>\n",
      "Lord : What 's here ? To a suitor to faithful and and be and I\n",
      "one dead , or drunk ? To put with her and now , To find not\n",
      "See , doth he breathe ? To do To make a too , to love have\n",
      "Second Huntsman : He breathes , my lord . To sing and and and I am say and and\n",
      "Were he not warm 'd with ale , This were a bed but cold to sleep so soundly . To make a while : 'T will be as a\n",
      "Lord : O monstrous beast ! to believe he as as true and I will have\n",
      "how like a swine he lies ! .\n",
      "Grim death , how foul and loathsome is thine image ! To put To To call 'd and am take to\n",
      "Sirs , I will practise on this drunken man . and and and and a tongue .\n",
      "What think you , if he were convey 'd to bed , Wrapp 'd in sweet clothes , rings put upon his fingers , A most delicious banquet by his bed , And brave attendants near him when he wakes , Would not the beggar then forget himself ? To make to have .\n",
      "First Huntsman : Believe me , lord , I think he can not choose . for for for for for that I have well .\n",
      "Second Huntsman : It would seem strange unto him when he waked . Or for a body with a friar hath with a\n",
      "Lord : Even as a flattering dream or worthless fancy . and and will it With To make a rogue .\n",
      "Then take him up and manage well the jest : Carry him gently to my fairest chamber And hang it round with all my wanton pictures : Balm his foul head in warm distilled waters And burn sweet wood to make the lodging sweet : Procure me music ready when he wakes , To make a dulcet and a heavenly sound ; And if he chance to speak , be ready straight And with a low submissive reverence Say 'What is it your honour will command ? ' That Angelo , To make a ?\n",
      "Let one attend him with a silver basin Full of rose-water and bestrew 'd with flowers , Another bear the ewer , the third a diaper , And say 'Will't please your lordship cool your hands ? ' for my\n",
      "Some one be ready with a costly suit And ask him what apparel he will wear ; Another tell him of his hounds and horse , And that his lady mourns at his disease : Persuade him that he hath been lunatic ; And when he says he is , say that he dreams , For he is nothing but a mighty lord . To begin with a mad-cup as the duke the gates\n",
      "This do and do it kindly , gentle sirs : It will be pastime passing excellent , If it be husbanded with modesty . will a lady will a vile will so hath tender\n",
      "First Huntsman : My lord , I warrant you we will play our part , As he shall think by our true diligence He is no less than what we say he is . To be To to see in the world , and\n",
      "Lord : Take him up gently and to bed with him ; And each one to his office when he wakes . to have have in in the duke is that May\n",
      "Sirrah , go see what trumpet 't is that sounds : Belike , some noble gentleman that means , Travelling some journey , to repose him here . , and so , To to the daughter ?\n",
      "How now ! and and to make my fool , and give ,\n",
      "who is it ? to the duke ?\n",
      "Servant : A n't please your honour , players That offer service to your lordship . and to think With and and I know by by\n",
      "Lord : Bid them come near . will see to make a fool ; for a <UNK>\n",
      "Now , fellows , you are welcome . and and make a father , then and marry on\n",
      "Players : We thank your honour . and bid me to make a rogue .\n",
      "Lord : Do you intend to stay with me tonight ? as and and so so .\n",
      "A Player : So please your lordship to accept our duty . will give to see to let her and as her\n",
      "Lord : With all my heart . lies .\n",
      "This fellow I remember , Since once he play 'd a farmer 's eldest son : 'T was where you woo 'd the gentlewoman so well : I have forgot your name ; but , sure , that part Was aptly fitted and naturally perform 'd . ready in the duke , To make a great esteem\n",
      "A Player : I think 't was Soto that your honour means . ?\n",
      "Lord : 'T is very true : thou didst it excellent . will not so so as with off with her ,\n",
      "Well , you are come to me in a happy time ; The rather for I have some sport in hand Wherein your cunning can assist me much . <UNK> as as as as as good to the good\n",
      "There is a lord will hear you play to-night : But I am doubtful of your modesties ; Lest over-eyeing of his odd behavior , -- For yet his honour never heard a play -- You break into some merry passion And so offend him ; for I tell you , sirs , If you should smile he grows impatient . .\n",
      "A Player : Fear not , my lord : we can contain ourselves , Were he the veriest antic in the world . will not Katharina to all to be a man of\n",
      "Lord : Go , sirrah , take them to the buttery , And give them friendly welcome every one : Let them want nothing that my house affords . take mend , To saved with with her and were\n",
      "Sirrah , go you to Barthol'mew my page , And see him dress 'd in all suits like a lady : That done , conduct him to the drunkard 's chamber ; And call him 'madam , ' do him obeisance . Hath call to see the world , for the prison\n",
      "Tell him from me , as he will win my love , He bear himself with honourable action , Such as he hath observed in noble ladies Unto their lords , by them accomplished : Such duty to the drunkard let him do With soft low tongue and lowly courtesy , And say 'What is't your honour will command , Wherein your lady and your humble wife May show her duty and make known her love ? ' to be with him and the duke\n",
      "And then with kind embracements , tempting kisses , And with declining head into his bosom , Bid him shed tears , as being overjoy 'd To see her noble lord restored to health , Who for this seven years hath esteem 'd him No better than a poor and loathsome beggar : And if the boy have not a woman 's gift To rain a shower of commanded tears , An onion will do well for such a shift , Which in a napkin being close convey 'd Shall in despite enforce a watery eye . To make a word ?\n",
      "See this dispatch 'd with all the haste thou canst : Anon I 'll give thee more instructions . and with my discontent .\n",
      "I know the boy will well usurp the grace , Voice , gait and action of a gentlewoman : I long to hear him call the drunkard husband , And how my men will stay themselves from laughter When they do homage to this simple peasant . to to see all all for for a bawd ;\n",
      "I 'll in to counsel them ; haply my presence May well abate the over-merry spleen Which otherwise would grow into extremes . to his own to I will so , and will\n",
      "SLY : For God 's sake , a pot of small ale . and by by by the gift To all all all\n",
      "First Servant : Will't please your lordship drink a cup of sack ? have with her and and take to know with a\n",
      "Second Servant : Will't please your honour taste of these conserves ? Till with a thorny to accuse by a lord ,\n",
      "Third Servant : What raiment will your honour wear to-day ? Be to-night\n",
      "SLY : I am Christophero Sly ; call not me 'honour ' nor 'lordship : ' I ne'er drank sack in my life ; and if you give me any conserves , give me conserves of beef : ne'er ask me what raiment I 'll wear ; for I have no more doublets than backs , no more stockings than legs , nor no more shoes than feet ; nay , sometimes more feet than shoes , or such shoes as my toes look through the over-leather . To have have have heard : If I am to\n",
      "Lord : Heaven cease this idle humour in your honour ! with him .\n",
      "O , that a mighty man of such descent , Of such possessions and so high esteem , Should be infused with so foul a spirit ! by by the officer and a .\n",
      "SLY : What , would you make me mad ? and I will take That that have been with her\n",
      "Am not I Christopher Sly , old Sly 's son of Burtonheath , by birth a pedlar , by education a cardmaker , by transmutation a bear-herd , and now by present profession a tinker ? To make in the dark and am be with her\n",
      "Ask Marian Hacket , the fat ale-wife of Wincot , if she know me not : if she say I am not fourteen pence on the score for sheer ale , score me up for the lyingest knave in Christendom . and and have , and To show and as as\n",
      "What ! with her , and and he was with with with\n",
      "I am not bestraught : here 's -- Third Servant : O , this it is that makes your lady mourn ! will know to to have have out to bed ,\n",
      "Second Servant : O , this is it that makes your servants droop ! To make an by a Pudding , and not with\n",
      "Lord : Hence comes it that your kindred shuns your house , As beaten hence by your strange lunacy . to all .\n",
      "O noble lord , bethink thee of thy birth , Call home thy ancient thoughts from banishment And banish hence these abject lowly dreams . To done .\n",
      "Look how thy servants do attend on thee , Each in his office ready at thy beck . To make a a seats .\n",
      "Wilt thou have music ? with her and a due and take in a gentlewoman\n",
      "hark ! to to make fair and a knowledge with with her\n",
      "Apollo plays , And twenty caged nightingales do sing : Or wilt thou sleep ? with a love , no ?\n",
      "we 'll have thee to a couch Softer and sweeter than the lustful bed On purpose trimm 'd up for Semiramis . To say have have walk with a '\n",
      "Say thou wilt walk ; we will bestrew the ground : Or wilt thou ride ? and else with a good .\n",
      "thy horses shall be trapp 'd , Their harness studded all with gold and pearl . yet he was with all I have To make a\n",
      "Dost thou love hawking ? To To speak out of of the amorous '\n",
      "thou hast hawks will soar Above the morning lark or wilt thou hunt ? .\n",
      "Thy hounds shall make the welkin answer them And fetch shrill echoes from the hollow earth . To to be to make the benefit and all .\n",
      "First Servant : Say thou wilt course ; thy greyhounds are as swift As breathed stags , ay , fleeter than the roe . grows .\n",
      "Second Servant : Dost thou love pictures ? as as as as as and and , and I\n",
      "we will fetch thee straight Adonis painted by a running brook , And Cytherea all in sedges hid , Which seem to move and wanton with her breath , Even as the waving sedges play with wind . To make love .\n",
      "Lord : We 'll show thee Io as she was a maid , And how she was beguiled and surprised , As lively painted as the deed was done . .\n",
      "Third Servant : Or Daphne roaming through a thorny wood , Scratching her legs that one shall swear she bleeds , And at that sight shall sad Apollo weep , So workmanly the blood and tears are drawn . to make virtuous and , To make a trovato ,\n",
      "Lord : Thou art a lord , and nothing but a lord : Thou hast a lady far more beautiful Than any woman in this waning age . To bear , and now and his substitutes .\n",
      "First Servant : And till the tears that she hath shed for thee Like envious floods o'er-run her lovely face , She was the fairest creature in the world ; And yet she is inferior to none . trumpet I am will have have have with with her\n",
      "SLY : Am I a lord ? to make I pray , and and Blessed will not\n",
      "and have I such a lady ? and the duke ?\n",
      "Or do I dream ? , and I shall have a sweet and saw to\n",
      "or have I dream 'd till now ? To Starve-lackey , and to a creature in the kindest\n",
      "I do not sleep : I see , I hear , I speak ; I smell sweet savours and I feel soft things : Upon my life , I am a lord indeed And not a tinker nor Christophero Sly . as I were as he is a lawful will touch\n",
      "Well , bring our lady hither to our sight ; And once again , a pot o ' the smallest ale . and and and I pray .\n",
      "Second Servant : Will't please your mightiness to wash your hands ? and compound To To all .\n",
      "O , how we joy to see your wit restored ! and as old comes by faith .\n",
      "O , that once more you knew but what you are ! to go , and and poor and and am to\n",
      "These fifteen years you have been in a dream ; Or when you waked , so waked as if you slept . '\n",
      "SLY : These fifteen years ! have do give by by mine , and 'twere To\n",
      "by my fay , a goodly nap . ha ?\n",
      "But did I never speak of all that time ? -- <UNK> with a time to go will give a\n",
      "First Servant : O , yes , my lord , but very idle words : For though you lay here in this goodly chamber , Yet would you say ye were beaten out of door ; And rail upon the hostess of the house ; And say you would present her at the leet , Because she brought stone jugs and no seal 'd quarts : Sometimes you would call out for Cicely Hacket . and be so have not and as an behind with\n",
      "SLY : Ay , the woman 's maid of the house . To with a jot to be may never speak ?\n",
      "Third Servant : Why , sir , you know no house nor no such maid , Nor no such men as you have reckon 'd up , As Stephen Sly and did John Naps of Greece And Peter Turph and Henry Pimpernell And twenty more such names and men as these Which never were nor no man ever saw . will to make a bitter to know by the brains\n",
      "SLY : Now Lord be thanked for my good amends ! To come to the matter , and a brother .\n",
      "ALL : Amen . as as as as as as as as as as\n",
      "SLY : I thank thee : thou shalt not lose by it . should I should did he had not a husband and\n",
      "Page : How fares my noble lord ? .\n",
      "SLY : Marry , I fare well for here is cheer enough . as as as the duke , and a bawd ,\n",
      "Where is my wife ? Than to make a bawd .\n",
      "Page : Here , noble lord : what is thy will with her ? To make her and and a ruthless will <UNK> .\n",
      "SLY : Are you my wife and will not call me husband ? to him to you will not not , and and\n",
      "My men should call me 'lord : ' I am your goodman . And And with him for thy head of my life\n",
      "Page : My husband and my lord , my lord and husband ; I am your wife in all obedience . To make thy and tell to to not not not\n",
      "SLY : I know it well . and and to bring you , I will give upon\n",
      "What must I call her ? .\n",
      "Lord : Madam . To wish by his heart to have bed , and\n",
      "SLY : Al'ce madam , or Joan madam ? and to wish we am and and will tell with\n",
      "Lord : 'Madam , ' and nothing else : so lords call ladies . with her and a stuff ?\n",
      "SLY : Madam wife , they say that I have dream 'd And slept above some fifteen year or more . To love , and and and by by by a\n",
      "Page : Ay , and the time seems thirty unto me , Being all this time abandon 'd from your bed . and see to see I had with a mystery .\n",
      "SLY : 'T is much . To make a proper of sweet and and to wish\n",
      "Servants , leave me and her alone . put with a as as being a codpiece to to\n",
      "Madam , undress you and come now to bed . To have have a gentleman .\n",
      "Page : Thrice noble lord , let me entreat of you To pardon me yet for a night or two , Or , if not so , until the sun be set : For your physicians have expressly charged , In peril to incur your former malady , That I should yet absent me from your bed : I hope this reason stands for my excuse . To make a little in the head of the way\n",
      "SLY : Ay , it stands so that I may hardly tarry so long . and and and and as as the life and and\n",
      "But I would be loath to fall into my dreams again : I will therefore tarry in despite of the flesh and the blood . and with a while :\n",
      "Messenger : Your honour 's players , heating your amendment , Are come to play a pleasant comedy ; For so your doctors hold it very meet , Seeing too much sadness hath congeal 'd your blood , And melancholy is the nurse of frenzy : Therefore they thought it good you hear a play And frame your mind to mirth and merriment , Which bars a thousand harms and lengthens life . or till he shall woo , and and have to\n",
      "SLY : Marry , I will , let them play it . with me to make , To To call 'd with\n",
      "Is not a comondy a Christmas gambold or a tumbling-trick ? To make like not a beggar and my '\n",
      "Page : No , my good lord ; it is more pleasing stuff . and and and and and now , and as as\n",
      "SLY : What , household stuff ? will to make a a brother .\n",
      "Page : It is a kind of history . To make a bitter as as the deputy .\n",
      "SLY : Well , well see't . .\n",
      "Come , madam wife , sit by my side and let the world slip : we shall ne'er be younger . with him to the play .\n",
      "LUCENTIO : Tranio , since for the great desire I had To see fair Padua , nursery of arts , I am arrived for fruitful Lombardy , The pleasant garden of great Italy ; And by my father 's love and leave am arm 'd With his good will and thy good company , My trusty servant , well approved in all , Here let us breathe and haply institute A course of learning and ingenious studies . as as as my lord , and and and marry\n",
      "Pisa renown 'd for grave citizens Gave me my being and my father first , A merchant of great traffic through the world , Vincetino come of Bentivolii . to accuse To make a while .\n",
      "Vincetino 's son brought up in Florence It shall become to serve all hopes conceived , To deck his fortune with his virtuous deeds : And therefore , Tranio , for the time I study , Virtue and that part of philosophy Will I apply that treats of happiness By virtue specially to be achieved . as one as he is a great in a motion\n",
      "Tell me thy mind ; for I have Pisa left And am to Padua come , as he that leaves A shallow plash to plunge him in the deep And with satiety seeks to quench his thirst . To call with an <UNK> and and as I instruct\n",
      "TRANIO : Mi perdonato , gentle master mine , I am in all affected as yourself ; Glad that you thus continue your resolve To suck the sweets of sweet philosophy . from the request , and not not with her and\n",
      "Only , good master , while we do admire This virtue and this moral discipline , Let 's be no stoics nor no stocks , I pray ; Or so devote to Aristotle 's cheques As Ovid be an outcast quite abjured : Balk logic with acquaintance that you have And practise rhetoric in your common talk ; Music and poesy use to quicken you ; The mathematics and the metaphysics , Fall to them as you find your stomach serves you ; No profit grows where is no pleasure ta'en : In brief , sir , study what you most affect . and and and away ?\n",
      "LUCENTIO : Gramercies , Tranio , well dost thou advise . with such a word ?\n",
      "If , Biondello , thou wert come ashore , We could at once put us in readiness , And take a lodging fit to entertain Such friends as time in Padua shall beget . possess to I 'll prove a while : I will\n",
      "But stay a while : what company is this ? and as as I shall with my lord ; for\n",
      "TRANIO : Master , some show to welcome us to town . and sleep and the chides , To pray .\n",
      "BAPTISTA : Gentlemen , importune me no farther , For how I firmly am resolved you know ; That is , not bestow my youngest daughter Before I have a husband for the elder : If either of you both love Katharina , Because I know you well and love you well , Leave shall you have to court her at your pleasure . and sheer to to my brother at the substitute ,\n",
      "GREMIO : KATHARINA : I pray you , sir , is it your will To make a stale of me amongst these mates ? may be to make a while will go with his\n",
      "HORTENSIO : Mates , maid ! To save you as he hath 's the gracious ears\n",
      "how mean you that ? with you will see to make known to bear .\n",
      "no mates for you , Unless you were of gentler , milder mould . look not so , To <UNK> and ask with a\n",
      "KATHARINA : I'faith , sir , you shall never need to fear : I wis it is not half way to her heart ; But if it were , doubt not her care should be To comb your noddle with a three-legg 'd stool And paint your face and use you like a fool . and will will be to command , and will think\n",
      "HORTENSIA : From all such devils , good Lord deliver us ! knock Her and let to her , And be to\n",
      "GREMIO : And me too , good Lord ! and and a will prove to make a deputy to\n",
      "TRANIO : Hush , master ! and and and and to be with a lord ,\n",
      "here 's some good pastime toward : That wench is stark mad or wonderful froward . and have have have a while : and with her\n",
      "LUCENTIO : But in the other 's silence do I see Maid 's mild behavior and sobriety . and well .\n",
      "Peace , Tranio ! To To make our first .\n",
      "TRANIO : Well said , master ; mum ! and advise with a Why will , and whom near\n",
      "and gaze your fill . To make his own , and the whit to prison\n",
      "BAPTISTA : Gentlemen , that I may soon make good What I have said , Bianca , get you in : And let it not displease thee , good Bianca , For I will love thee ne'er the less , my girl . To not with with her , call 'd and thus\n",
      "KATHARINA : A pretty peat ! turtle .\n",
      "it is best Put finger in the eye , an she knew why . To make her for death to make a letter .\n",
      "BIANCA : Sister , content you in my discontent . from the villanously ?\n",
      "Sir , to your pleasure humbly I subscribe : My books and instruments shall be my company , On them to took and practise by myself . with a ?\n",
      "LUCENTIO : Hark , Tranio ! and as as he do , To see with her\n",
      "thou may'st hear Minerva speak . And And as as as the direct be by my\n",
      "HORTENSIO : Signior Baptista , will you be so strange ? as I am am to you have a combless shall\n",
      "Sorry am I that our good will effects Bianca 's grief . and and and and thy brother .\n",
      "GREMIO : Why will you mew her up , Signior Baptista , for this fiend of hell , And make her bear the penance of her tongue ? To make all his brother ; But take her and\n",
      "BAPTISTA : Gentlemen , content ye ; I am resolved : Go in , Bianca : And for I know she taketh most delight In music , instruments and poetry , Schoolmasters will I keep within my house , Fit to instruct her youth . and and a over-merry '\n",
      "If you , Hortensio , Or Signior Gremio , you , know any such , Prefer them hither ; for to cunning men I will be very kind , and liberal To mine own children in good bringing up : And so farewell . will have have look .\n",
      "Katharina , you may stay ; For I have more to commune with Bianca . have a perhaps will bear by the duke as for\n",
      "KATHARINA : Why , and I trust I may go too , may I not ? and and and am to make him to the duke\n",
      "What , shall I be appointed hours ; as though , belike , I knew not what to take and what to leave , ha ? to tell to known to be to the heads shall\n",
      "GREMIO : You may go to the devil 's dam : your gifts are so good , here 's none will hold you . as as as a will be with with with a\n",
      "Their love is not so great , Hortensio , but we may blow our nails together , and fast it fairly out : our cakes dough on both sides . To hear to advise I would would have a fool\n",
      "Farewell : yet for the love I bear my sweet Bianca , if I can by any means light on a fit man to teach her that wherein she delights , I will wish him to her father . to you attend To see to make a suitor to\n",
      "HORTENSIO : So will I , Signior Gremio : but a word , I pray . To advise and and when he will have have have\n",
      "Though the nature of our quarrel yet never brooked parle , know now , upon advice , it toucheth us both , that we may yet again have access to our fair mistress and be happy rivals in Bianco 's love , to labour and effect one thing specially . and and have as as he have in the fool\n",
      "GREMIO : What 's that , I pray ? was with her and as as he hath drinking shall\n",
      "HORTENSIO : Marry , sir , to get a husband for her sister . To to himself .\n",
      "GREMIO : A husband ! and have a will so ?\n",
      "a devil . at the duke knew with a thousand Advertising and and\n",
      "HORTENSIO : I say , a husband . And see good and to break a lusty will would\n",
      "GREMIO : I say , a devil . To To make my lord with a husband .\n",
      "Thinkest thou , Hortensio , though her father be very rich , any man is so very a fool to be married to hell ? To by a execute , as as as you .\n",
      "HORTENSIO : Tush , Gremio , though it pass your patience and mine to endure her loud alarums , why , man , there be good fellows in the world , an a man could light on them , would take her with all faults , and money enough . and good and look by our wards To make all\n",
      "GREMIO : I can not tell ; but I had as lief take her dowry with this condition , to be whipped at the high cross every morning . as as I am to take to that have to\n",
      "HORTENSIO : Faith , as you say , there 's small choice in rotten apples . a murderer\n",
      "But come ; since this bar in law makes us friends , it shall be so far forth friendly maintained all by helping Baptista 's eldest daughter to a husband we set his youngest free for a husband , and then have to't a fresh . To were as a as he is a gentleman as\n",
      "Sweet Bianca ! , and to make have a body with a gentleman\n",
      "Happy man be his dole ! as as the deputy ?\n",
      "He that runs fastest gets the ring . and should had will board with her with the matter\n",
      "How say you , Signior Gremio ? will am in the <UNK> '\n",
      "GREMIO : I am agreed ; and would I had given him the best horse in Padua to begin his wooing that would thoroughly woo her , wed her and bed her and rid the house of her ! To make a brother Which when he say to make\n",
      "Come on . to the world world , and say , and and\n",
      "TRANIO : I pray , sir , tell me , is it possible That love should of a sudden take such hold ? and I have have his own , And a lord\n",
      "LUCENTIO : O Tranio , till I found it to be true , I never thought it possible or likely ; But see , while idly I stood looking on , I found the effect of love in idleness : And now in plainness do confess to thee , That art to me as secret and as dear As Anna to the queen of Carthage was , Tranio , I burn , I pine , I perish , Tranio , If I achieve not this young modest girl . knows with with a while , and being and go\n",
      "Counsel me , Tranio , for I know thou canst ; Assist me , Tranio , for I know thou wilt . and my love to make the duke\n",
      "TRANIO : Master , it is no time to chide you now ; Affection is not rated from the heart : If love have touch 'd you , nought remains but so , 'Redime te captum quam queas minimo . ' and and therefore and therefore will I be for a\n",
      "LUCENTIO : Gramercies , lad , go forward ; this contents : The rest will comfort , for thy counsel 's sound . .\n",
      "TRANIO : Master , you look 'd so longly on the maid , Perhaps you mark 'd not what 's the pith of all . To To To try with her .\n",
      "LUCENTIO : O yes , I saw sweet beauty in her face , Such as the daughter of Agenor had , That made great Jove to humble him to her hand . with a bawd of a shall be seems he says\n",
      "When with his knees he kiss 'd the Cretan strand . and then To to make the world .\n",
      "TRANIO : Saw you no more ? and and a thousand was with a lord .\n",
      "mark 'd you not how her sister Began to scold and raise up such a storm That mortal ears might hardly endure the din ? To make a a\n",
      "LUCENTIO : Tranio , I saw her coral lips to move And with her breath she did perfume the air : Sacred and sweet was all I saw in her . like a gentlewoman I do look upon a manifested with\n",
      "TRANIO : Nay , then , 't is time to stir him from his trance . and see for for his proper and and and hid\n",
      "I pray , awake , sir : if you love the maid , Bend thoughts and wits to achieve her . with her and and see .\n",
      "Thus it stands : Her eldest sister is so curst and shrewd That till the father rid his hands of her , Master , your love must live a maid at home ; And therefore has he closely mew 'd her up , Because she will not be annoy 'd with suitors . of all .\n",
      "LUCENTIO : Ah , Tranio , what a cruel father 's he ! and he was with a business to thus cried with\n",
      "But art thou not advised , he took some care To get her cunning schoolmasters to instruct her ? To ne'er have .\n",
      "TRANIO : Ay , marry , am I , sir ; and now 't is plotted . and enter with a little of the duke , and\n",
      "LUCENTIO : I have it , Tranio . on on ?\n",
      "TRANIO : Master , for my hand , Both our inventions meet and jump in one . and and and and be to make a undertaking\n",
      "LUCENTIO : Tell me thine first . and to go to to the duke ?\n",
      "TRANIO : You will be schoolmaster And undertake the teaching of the maid : That 's your device . than this '\n",
      "LUCENTIO : It is : may it be done ? ?\n",
      "TRANIO : Not possible ; for who shall bear your part , And be in Padua here Vincentio 's son , Keep house and ply his book , welcome his friends , Visit his countrymen and banquet them ? and and do as as as he with her for\n",
      "LUCENTIO : Basta ; content thee , for I have it full . yesternight with a <UNK> To see by the world .\n",
      "We have not yet been seen in any house , Nor can we lie distinguish 'd by our faces For man or master ; then it follows thus ; Thou shalt be master , Tranio , in my stead , Keep house and port and servants as I should : I will some other be , some Florentine , Some Neapolitan , or meaner man of Pisa . and as as good and I say out of your\n",
      "'T is hatch 'd and shall be so : Tranio , at once Uncase thee ; take my colour 'd hat and cloak : When Biondello comes , he waits on thee ; But I will charm him first to keep his tongue . That 's let To was with a mystery .\n",
      "TRANIO : So had you need . .\n",
      "In brief , sir , sith it your pleasure is , And I am tied to be obedient ; For so your father charged me at our parting , 'Be serviceable to my son , ' quoth he , Although I think 't was in another sense ; I am content to be Lucentio , Because so well I love Lucentio . in the teaching of of that he is not with\n",
      "LUCENTIO : Tranio , be so , because Lucentio loves : And let me be a slave , to achieve that maid Whose sudden sight hath thrall 'd my wounded eye . and and tell him , And he had a lady\n",
      "Here comes the rogue . to teach with a woman .\n",
      "Sirrah , where have you been ? and an own from her and and play with her\n",
      "BIONDELLO : Where have I been ! and a maid of a fool to her as I\n",
      "Nay , how now ! and and not with her and as as as that\n",
      "where are you ? and a <UNK> And and behavior and will would have\n",
      "Master , has my fellow Tranio stolen your clothes ? To Tarry with with a chance will not and and\n",
      "Or you stolen his ? with a such a love and a entreaty will have\n",
      "or both ? and I will will will came to our devilish\n",
      "pray , what 's the news ? To give me To make to the cause To make\n",
      "LUCENTIO : Sirrah , come hither : 't is no time to jest , And therefore frame your manners to the time . To his a little of his .\n",
      "Your fellow Tranio here , to save my life , Puts my apparel and my countenance on , And I for my escape have put on his ; For in a quarrel since I came ashore I kill 'd a man and fear I was descried : Wait you on him , I charge you , as becomes , While I make way from hence to save my life : You understand me ? 'll go with Bianca and show her to the the\n",
      "BIONDELLO : I , sir ! That 's 's here with her and a word ,\n",
      "ne'er a whit . and as as as as as and to in your\n",
      "LUCENTIO : And not a jot of Tranio in your mouth : Tranio is changed into Lucentio . and hang 'd with a schoolmaster To make Remove and\n",
      "BIONDELLO : The better for him : would I were so too ! , or or not with a gentleman '\n",
      "TRANIO : So could I , faith , boy , to have the next wish after , That Lucentio indeed had Baptista 's youngest daughter . To have have have sleep may be so , and\n",
      "But , sirrah , not for my sake , but your master 's , I advise You use your manners discreetly in all kind of companies : When I am alone , why , then I am Tranio ; But in all places else your master Lucentio . .\n",
      "LUCENTIO : Tranio , let 's go : one thing more rests , that thyself execute , to make one among these wooers : if thou ask me why , sufficeth , my reasons are both good and weighty . To have have have have have ?\n",
      "First Servant : My lord , you nod ; you do not mind the play . will am as as as he had not not with\n",
      "SLY : Yes , by Saint Anne , do I . with her and woo that is true : To make\n",
      "A good matter , surely : comes there any more of it ? to the fleshmonger To make her .\n",
      "Page : My lord , 't is but begun . To give me to hear with her , and strange\n",
      "SLY : 'T is a very excellent piece of work , madam lady : would 'twere done ! -- That indeed that was in the deputy ?\n",
      "PETRUCHIO : Verona , for a while I take my leave , To see my friends in Padua , but of all My best beloved and approved friend , Hortensio ; and I trow this is his house . with with seeming will with her to come hither ,\n",
      "Here , sirrah Grumio ; knock , I say . To be to the the hedge-corner .\n",
      "GRUMIO : Knock , sir ! and have mildness To bear To make his grace .\n",
      "whom should I knock ? .\n",
      "is there man has rebused your worship ? and am a will marry with her with a like\n",
      "PETRUCHIO : Villain , I say , knock me here soundly . lacks with his own of of his .\n",
      "GRUMIO : Knock you here , sir ! and and have have have am I have found .\n",
      "why , sir , what am I , sir , that I should knock you here , sir ? to hear To make like a suitor to to be\n",
      "PETRUCHIO : Villain , I say , knock me at this gate And rap me well , or I 'll knock your knave 's pate . To a mystery '\n",
      "GRUMIO : My master is grown quarrelsome . causest to make to make a good and come to\n",
      "I should knock you first , And then I know after who comes by the worst . to tell them to be a bawd .\n",
      "PETRUCHIO : Will it not be ? and command ?\n",
      "Faith , sirrah , an you 'll not knock , I 'll ring it ; I 'll try how you can sol , fa , and sing it . To with with he may take her for the hour\n",
      "GRUMIO : Help , masters , help ! To all .\n",
      "my master is mad . and but as as a dishonour .\n",
      "PETRUCHIO : Now , knock when I bid you , sirrah villain ! then then , and a whore .\n",
      "HORTENSIO : How now ! To endure to make a will command , that 's\n",
      "what 's the matter ? by , will have have have all all that with\n",
      "My old friend Grumio ! bound to ask with her , That Or have have\n",
      "and my good friend Petruchio ! '\n",
      "How do you all at Verona ? have a man to been a thousand and but in\n",
      "PETRUCHIO : Signior Hortensio , come you to part the fray ? have have hath with the holy as the duke ?\n",
      "'Con tutto il cuore , ben trovato , ' may I say . in a sisterhood , and tell with a instance .\n",
      "HORTENSIO : 'Alla nostra casa ben venuto , molto honorato signor mio Petruchio . ' ?\n",
      "Rise , Grumio , rise : we will compound this quarrel . and see for my <UNK> .\n",
      "GRUMIO : Nay , 't is no matter , sir , what he 'leges in Latin . To saw to be a kind are have with a\n",
      "if this be not a lawful case for me to leave his service , look you , sir , he bid me knock him and rap him soundly , sir : well , was it fit for a servant to use his master so , being perhaps , for aught I see , two and thirty , a pip out ? and -- To make the duke .\n",
      "Whom would to God I had well knock 'd at first , Then had not Grumio come by the worst . will make <UNK> by by the Latin .\n",
      "PETRUCHIO : A senseless villain ! To go with a bawd ; he 's what well\n",
      "Good Hortensio , I bade the rascal knock upon your gate And could not get him for my heart to do it . To To plead a lord ; My\n",
      "GRUMIO : Knock at the gate ! In whom To with her and as as the play\n",
      "O heavens ! to to make for her to be for for the\n",
      "Spake you not these words plain , 'Sirrah , knock me here , rap me here , knock me well , and knock me soundly ' ? and but a countermand and and and and and and\n",
      "And come you now with , 'knocking at the gate ' ? and will knock with with a die .\n",
      "PETRUCHIO : Sirrah , be gone , or talk not , I advise you . to -- On To whom To perpetually .\n",
      "HORTENSIO : Petruchio , patience ; I am Grumio 's pledge : Why , this 's a heavy chance 'twixt him and you , Your ancient , trusty , pleasant servant Grumio . To so false and the servant to to the ale\n",
      "And tell me now , sweet friend , what happy gale Blows you to Padua here from old Verona ? To call , by the curst and to make a\n",
      "PETRUCHIO : Such wind as scatters young men through the world , To seek their fortunes farther than at home Where small experience grows . and and to to make to be be to make\n",
      "But in a few , Signior Hortensio , thus it stands with me : Antonio , my father , is deceased ; And I have thrust myself into this maze , Haply to wive and thrive as best I may : Crowns in my purse I have and goods at home , And so am come abroad to see the world . and in the madness .\n",
      "HORTENSIO : Petruchio , shall I then come roundly to thee And wish thee to a shrewd ill-favour 'd wife ? to make a duke .\n",
      "Thou'ldst thank me but a little for my counsel : And yet I 'll promise thee she shall be rich And very rich : but thou'rt too much my friend , And I 'll not wish thee to her . To make her with the world .\n",
      "PETRUCHIO : Signior Hortensio , 'twixt such friends as we Few words suffice ; and therefore , if thou know One rich enough to be Petruchio 's wife , As wealth is burden of my wooing dance , Be she as foul as was Florentius ' love , As old as Sibyl and as curst and shrewd As Socrates ' Xanthippe , or a worse , She moves me not , or not removes , at least , Affection 's edge in me , were she as rough As are the swelling Adriatic seas : I come to wive it wealthily in Padua ; If wealthily , then happily in Padua . To see to her to do I was was with\n",
      "GRUMIO : Nay , look you , sir , he tells you flatly what his mind is : Why give him gold enough and marry him to a puppet or an aglet-baby ; or an old trot with ne'er a tooth in her head , though she have as many diseases as two and fifty horses : why , nothing comes amiss , so money comes withal . and that I saw , and and I am ,\n",
      "HORTENSIO : Petruchio , since we are stepp 'd thus far in , I will continue that I broach 'd in jest . will know .\n",
      "I can , Petruchio , help thee to a wife With wealth enough and young and beauteous , Brought up as best becomes a gentlewoman : Her only fault , and that is faults enough , Is that she is intolerable curst And shrewd and froward , so beyond all measure That , were my state far worser than it is , I would not wed her for a mine of gold . .\n",
      "PETRUCHIO : Hortensio , peace ! , To To make his woman , and to make\n",
      "thou know'st not gold 's effect : Tell me her father 's name and 't is enough ; For I will board her , though she chide as loud As thunder when the clouds in autumn crack . as <UNK> and I am have a Escalus will am\n",
      "HORTENSIO : Her father is Baptista Minola , An affable and courteous gentleman : Her name is Katharina Minola , Renown 'd in Padua for her scolding tongue . and and make my life and and to marry with\n",
      "PETRUCHIO : I know her father , though I know not her ; And he knew my deceased father well . will I shall beseech to make the duke for a\n",
      "I will not sleep , Hortensio , till I see her ; And therefore let me be thus bold with you To give you over at this first encounter , Unless you will accompany me thither . will call with a while I am to wrong 'd\n",
      "GRUMIO : I pray you , sir , let him go while the humour lasts . ?\n",
      "O ' my word , an she knew him as well as I do , she would think scolding would do little good upon him : she may perhaps call him half a score knaves or so : why , that 's nothing ; an he begin once , he 'll rail in his rope-tricks . To have a while will son , To fair and\n",
      "I 'll tell you what sir , an she stand him but a little , he will throw a figure in her face and so disfigure her with it that she shall have no more eyes to see withal than a cat . to fetch to go go with with a spirit ,\n",
      "You know him not , sir . to to see the world .\n",
      "HORTENSIO : Tarry , Petruchio , I must go with thee , For in Baptista 's keep my treasure is : He hath the jewel of my life in hold , His youngest daughter , beautiful Binaca , And her withholds from me and other more , Suitors to her and rivals in my love , Supposing it a thing impossible , For those defects I have before rehearsed , That ever Katharina will be woo 'd ; Therefore this order hath Baptista ta'en , That none shall have access unto Bianca Till Katharina the curst have got a husband . and and , my beauty , To be have a\n",
      "GRUMIO : Katharina the curst ! To by Angelo , -- Dost that ever from his\n",
      "A title for a maid of all titles the worst . To have in in the lute to see at To\n",
      "HORTENSIO : Now shall my friend Petruchio do me grace , And offer me disguised in sober robes To old Baptista as a schoolmaster Well seen in music , to instruct Bianca ; That so I may , by this device , at least Have leave and leisure to make love to her And unsuspected court her by herself . and to make in your time .\n",
      "GRUMIO : Here 's no knavery ! as as and say to your brother and he were\n",
      "See , to beguile the old folks , how the young folks lay their heads together ! To see to let her and and have not not\n",
      "Master , master , look about you : who goes there , ha ? dares to do I have take to make your former\n",
      "HORTENSIO : Peace , Grumio ! To have have a edge in the desert '\n",
      "it is the rival of my love . to wish To have I have in his life ,\n",
      "Petruchio , stand by a while . and health , and and am to make a hounds\n",
      "GRUMIO : A proper stripling and an amorous ! will know you shall have have fetch 'd with with\n",
      "GREMIO : O , very well ; I have perused the note . as the duke\n",
      "Hark you , sir : I 'll have them very fairly bound : All books of love , see that at any hand ; And see you read no other lectures to her : You understand me : over and beside Signior Baptista 's liberality , I 'll mend it with a largess . and let with a devil and to have have I\n",
      "Take your paper too , And let me have them very well perfumed For she is sweeter than perfume itself To whom they go to . a great .\n",
      "What will you read to her ? To fears to marry , of the provost .\n",
      "LUCENTIO : Whate'er I read to her , I 'll plead for you As for my patron , stand you so assured , As firmly as yourself were still in place : Yea , and perhaps with more successful words Than you , unless you were a scholar , sir . To make her and so stood To know to see\n",
      "GREMIO : O this learning , what a thing it is ! and to the duke To make a soldier in her\n",
      "GRUMIO : O this woodcock , what an ass it is ! in all of of of this '\n",
      "PETRUCHIO : Peace , sirrah ! and and best Why will take her and <UNK> To\n",
      "HORTENSIO : Grumio , mum ! To make the duke ?\n",
      "God save you , Signior Gremio . '\n",
      "GREMIO : And you are well met , Signior Hortensio . and and he hath esteem with him to make .\n",
      "Trow you whither I am going ? <UNK> with her with her and and and to this\n",
      "To Baptista Minola . And to make the next have have have have have\n",
      "I promised to inquire carefully About a schoolmaster for the fair Bianca : And by good fortune I have lighted well On this young man , for learning and behavior Fit for her turn , well read in poetry And other books , good ones , I warrant ye . 'leges hence To make you .\n",
      "HORTENSIO : 'T is well ; and I have met a gentleman Hath promised me to help me to another , A fine musician to instruct our mistress ; So shall I no whit be behind in duty To fair Bianca , so beloved of me . in a lord , and rise and call with a\n",
      "GREMIO : Beloved of me ; and that my deeds shall prove . according To make a bitter as yet and I am\n",
      "GRUMIO : And that his bags shall prove . To To go to give my <UNK> then to you\n",
      "HORTENSIO : Gremio , 't is now no time to vent our love : Listen to me , and if you speak me fair , I 'll tell you news indifferent good for either . To hear to keep her at in a instruction To\n",
      "Here is a gentleman whom by chance I met , Upon agreement from us to his liking , Will undertake to woo curst Katharina , Yea , and to marry her , if her dowry please . and thus , and and and and and to Echo\n",
      "GREMIO : So said , so done , is well . to to let by the due as he would I\n",
      "Hortensio , have you told him all her faults ? will a husband , and will have have not with\n",
      "PETRUCHIO : I know she is an irksome brawling scold : If that be all , masters , I hear no harm . to Angelo , by the other .\n",
      "GREMIO : No , say'st me so , friend ? -- To make all of very too , and and\n",
      "What countryman ? and from the other , and have have have a\n",
      "PETRUCHIO : Born in Verona , old Antonio 's son : My father dead , my fortune lives for me ; And I do hope good days and long to see . To know thee , and and I am dead with\n",
      "GREMIO : O sir , such a life , with such a wife , were strange ! well so justice and a while , and as I\n",
      "But if you have a stomach , to't i ' God 's name : You shall have me assisting you in all . and and I will be in the world .\n",
      "But will you woo this wild-cat ? time of of the first .\n",
      "PETRUCHIO : Will I live ? by by the worth a spy am to be to\n",
      "GRUMIO : Will he woo her ? and as as as as a lady and at all\n",
      "ay , or I 'll hang her . To how I may go to make a while ,\n",
      "PETRUCHIO : Why came I hither but to that intent ? and would prove a poor and will have have have\n",
      "Think you a little din can daunt mine ears ? to see well as he , and had as as\n",
      "Have I not in my time heard lions roar ? .\n",
      "Have I not heard the sea puff 'd up with winds Rage like an angry boar chafed with sweat ? was with a prince , and and do ye as\n",
      "Have I not heard great ordnance in the field , And heaven 's artillery thunder in the skies ? and and To make his to be To profit will\n",
      "Have I not in a pitched battle heard Loud 'larums , neighing steeds , and trumpets ' clang ? '\n",
      "And do you tell me of a woman 's tongue , That gives not half so great a blow to hear As will a chestnut in a farmer 's fire ? To all to make a man of the rain to\n",
      "Tush , tush ! She will I crave to her , to make a\n",
      "fear boys with bugs . To them to make a citizens and and knock to\n",
      "GRUMIO : For he fears none . to let with any than I am have in in\n",
      "GREMIO : Hortensio , hark : This gentleman is happily arrived , My mind presumes , for his own good and ours . To give me , And courage to show to the\n",
      "HORTENSIO : I promised we would be contributors And bear his charging of wooing , whatsoe'er . as I know by the day .\n",
      "GREMIO : And so we will , provided that he win her . To get out of my musician To would should give\n",
      "GRUMIO : I would I were as sure of a good dinner . To make his life and , and as but as\n",
      "TRANIO : Gentlemen , God save you . will I am but of the other ; And take\n",
      "If I may be bold , Tell me , I beseech you , which is the readiest way To the house of Signior Baptista Minola ? to see to I have a little for for for\n",
      "BIONDELLO : He that has the two fair daughters : is't he you mean ? That hath hath been with a thousand than this loss\n",
      "TRANIO : Even he , Biondello . To make the duke ?\n",
      "GREMIO : Hark you , sir ; you mean not her to -- TRANIO : Perhaps , him and her , sir : what have you to do ? To have have have take with my good will not\n",
      "PETRUCHIO : Not her that chides , sir , at any hand , I pray . -- '\n",
      "TRANIO : I love no chiders , sir . To bear I am a scholar a garden of this\n",
      "Biondello , let 's away . and and and and and so will never ne'er in\n",
      "LUCENTIO : Well begun , Tranio . to in the duke\n",
      "HORTENSIO : Sir , a word ere you go ; Are you a suitor to the maid you talk of , yea or no ? and so , as drinks with a while shall be\n",
      "TRANIO : And if I be , sir , is it any offence ? and I will have have have make to make a\n",
      "GREMIO : No ; if without more words you will get you hence . and will to the own To make a willing\n",
      "TRANIO : Why , sir , I pray , are not the streets as free For me as for you ? And to you will be to see with him and\n",
      "GREMIO : But so is not she . To by my other than she 'll 'll mean by\n",
      "TRANIO : For what reason , I beseech you ? as as I may I say to plead for for\n",
      "GREMIO : For this reason , if you 'll know , That she 's the choice love of Signior Gremio . To make her to hear .\n",
      "HORTENSIO : That she 's the chosen of Signior Hortensio . and have heard the a bawd and would sentenced with\n",
      "TRANIO : Softly , my masters ! To make them To think That have have have a\n",
      "if you be gentlemen , Do me this right ; hear me with patience . from the duke , and as -- I will call\n",
      "Baptista is a noble gentleman , To whom my father is not all unknown ; And were his daughter fairer than she is , She may more suitors have and me for one . To take with thy and go to make the duke\n",
      "Fair Leda 's daughter had a thousand wooers ; Then well one more may fair Bianca have : And so she shall ; Lucentio shall make one , Though Paris came in hope to speed alone . and and to be to the duke , or I\n",
      "GREMIO : What ! to her .\n",
      "this gentleman will out-talk us all . and and and and as as as as the duke\n",
      "LUCENTIO : Sir , give him head : I know he 'll prove a jade . and strange ?\n",
      "PETRUCHIO : Hortensio , to what end are all these words ? to to big And to am find by by the\n",
      "HORTENSIO : Sir , let me be so bold as ask you , Did you yet ever see Baptista 's daughter ? To To To knock with her To make a Adonis\n",
      "TRANIO : No , sir ; but hear I do that he hath two , The one as famous for a scolding tongue As is the other for beauteous modesty . and , and a said .\n",
      "PETRUCHIO : Sir , sir , the first 's for me ; let her go by . with her and saw to all of a farmer is\n",
      "GREMIO : Yea , leave that labour to great Hercules ; And let it be more than Alcides ' twelve . to be must hear or or with a gentlewoman to\n",
      "PETRUCHIO : Sir , understand you this of me in sooth : The youngest daughter whom you hearken for Her father keeps from all access of suitors , And will not promise her to any man Until the elder sister first be wed : The younger then is free and not before . and and fiddler and with the duke ?\n",
      "TRANIO : If it be so , sir , that you are the man Must stead us all and me amongst the rest , And if you break the ice and do this feat , Achieve the elder , set the younger free For our access , whose hap shall be to have her Will not so graceless be to be ingrate . .\n",
      "HORTENSIO : Sir , you say well and well you do conceive ; And since you do profess to be a suitor , You must , as we do , gratify this gentleman , To whom we all rest generally beholding . and will should by the cause to to have have\n",
      "TRANIO : Sir , I shall not be slack : in sign whereof , Please ye we may contrive this afternoon , And quaff carouses to our mistress ' health , And do as adversaries do in law , Strive mightily , but eat and drink as friends . To bear to be a bawd of your thief ,\n",
      "GRUMIO : O excellent motion ! To do to to to the warrant , and I\n",
      "Fellows , let 's be gone . and to make to make a oft have make the\n",
      "HORTENSIO : The motion 's good indeed and be it so , Petruchio , I shall be your ben venuto . To speak .\n",
      "BIANCA : Good sister , wrong me not , nor wrong yourself , To make a bondmaid and a slave of me ; That I disdain : but for these other gawds , Unbind my hands , I 'll pull them off myself , Yea , all my raiment , to my petticoat ; Or what you will command me will I do , So well I know my duty to my elders . To make a while .\n",
      "KATHARINA : Of all thy suitors , here I charge thee , tell Whom thou lovest best : see thou dissemble not . myself .\n",
      "BIANCA : Believe me , sister , of all the men alive I never yet beheld that special face Which I could fancy more than any other . and and as immortal .\n",
      "KATHARINA : Minion , thou liest . , and to her and I have , but but\n",
      "Is't not Hortensio ? To be so , do give to me in the\n",
      "BIANCA : If you affect him , sister , here I swear I 'll plead for you myself , but you shall have him . .\n",
      "KATHARINA : O then , belike , you fancy riches more : You will have Gremio to keep you fair . To give to a little of good and wanton with\n",
      "BIANCA : Is it for him you do envy me so ? and peace\n",
      "Nay then you jest , and now I well perceive You have but jested with me all this while : I prithee , sister Kate , untie my hands . .\n",
      "KATHARINA : If that be jest , then all the rest was so . To make a jot of of mine of his .\n",
      "BAPTISTA : Why , how now , dame ! by the duke '\n",
      "whence grows this insolence ? as one shall go To make a gone .\n",
      "Bianca , stand aside . To meant will go with a buttery with a lord\n",
      "Poor girl ! and I am in the name and and and so\n",
      "she weeps . and and and stand by thou am as I have\n",
      "Go ply thy needle ; meddle not with her . as as as as for for for the deputy ?\n",
      "For shame , thou helding of a devilish spirit , Why dost thou wrong her that did ne'er wrong thee ? and and I know to be a little and will\n",
      "When did she cross thee with a bitter word ? to make the world .\n",
      "KATHARINA : Her silence flouts me , and I 'll be revenged . To make the murderer ; And take with she may\n",
      "BAPTISTA : What , in my sight ? To the duke ?\n",
      "Bianca , get thee in . To make a as I could have have have a\n",
      "KATHARINA : What , will you not suffer me ? and a lord , and pray with a n't have\n",
      "Nay , now I see She is your treasure , she must have a husband ; I must dance bare-foot on her wedding day And for your love to her lead apes in hell . To go to make her Bianca , and then will\n",
      "Talk not to me : I will go sit and weep Till I can find occasion of revenge . to make a love to be be sent with with\n",
      "BAPTISTA : Was ever gentleman thus grieved as I ? '\n",
      "But who comes here ? a creature in my Because I must soundly .\n",
      "GREMIO : Good morrow , neighbour Baptista . or or like to achieve with my as as I\n",
      "BAPTISTA : Good morrow , neighbour Gremio . .\n",
      "God save you , gentlemen ! and and and and and and By To make the\n",
      "PETRUCHIO : And you , good sir ! to to be to do then to be by by\n",
      "Pray , have you not a daughter Call 'd Katharina , fair and virtuous ? with her to know by my soldier coat and to\n",
      "BAPTISTA : I have a daughter , sir , called Katharina . and and to the other in a a bed .\n",
      "GREMIO : You are too blunt : go to it orderly . To out .\n",
      "PETRUCHIO : You wrong me , Signior Gremio : give me leave . and and as but as as as the creature will\n",
      "I am a gentleman of Verona , sir , That , hearing of her beauty and her wit , Her affability and bashful modesty , Her wondrous qualities and mild behavior , Am bold to show myself a forward guest Within your house , to make mine eye the witness Of that report which I so oft have heard . and I can must hath goods , and the duke\n",
      "And , for an entrance to my entertainment , I do present you with a man of mine , Cunning in music and the mathematics , To instruct her fully in those sciences , Whereof I know she is not ignorant : Accept of him , or else you do me wrong : His name is Licio , born in Mantua . by so and so , To marry , and that\n",
      "BAPTISTA : You 're welcome , sir ; and he , for your good sake . To make the drunkard will see to make the younger\n",
      "But for my daughter Katharina , this I know , She is not for your turn , the more my grief . and and and to me To make the very am\n",
      "PETRUCHIO : I see you do not mean to part with her , Or else you like not of my company . ?\n",
      "BAPTISTA : Mistake me not ; I speak but as I find . and and and am am Signior Upon the duke ,\n",
      "Whence are you , sir ? and virtue and at all a suitor to her .\n",
      "what may I call your name ? with her to make my fortune and and I in\n",
      "PETRUCHIO : Petruchio is my name ; Antonio 's son , A man well known throughout all Italy . and I am a will then and as as I\n",
      "BAPTISTA : I know him well : you are welcome for his sake . and and to her and do have in the suit\n",
      "GREMIO : Saving your tale , Petruchio , I pray , Let us , that are poor petitioners , speak too : Baccare ! and I will to die , To make his .\n",
      "you are marvellous forward . will look with a whit .\n",
      "PETRUCHIO : O , pardon me , Signior Gremio ; I would fain be doing . To make a buzzard to see to make a hands\n",
      "GREMIO : I doubt it not , sir ; but you will curse your wooing . To make her and and do you will not not\n",
      "Neighbour , this is a gift very grateful , I am sure of it . , To make the daughter , That I am hath\n",
      "To express the like kindness , myself , that have been more kindly beholding to you than any , freely give unto you this young scholar , that hath been long studying at Rheims ; as cunning in Greek , Latin , and other languages , as the other in music and mathematics : his name is Cambio ; pray , accept his service . with a a thousand and and as as the sister\n",
      "BAPTISTA : A thousand thanks , Signior Gremio . and good and with a charm To let your n't\n",
      "Welcome , good Cambio . To see a world .\n",
      "But , gentle sir , methinks you walk like a stranger : may I be so bold to know the cause of your coming ? To ask with her and I should To the ghostly\n",
      "TRANIO : Pardon me , sir , the boldness is mine own , That , being a stranger in this city here , Do make myself a suitor to your daughter , Unto Bianca , fair and virtuous . as he should take with a lord , and see\n",
      "Nor is your firm resolve unknown to me , In the preferment of the eldest sister . To meet ; for that is as and will look\n",
      "This liberty is all that I request , That , upon knowledge of my parentage , I may have welcome 'mongst the rest that woo And free access and favour as the rest : And , toward the education of your daughters , I here bestow a simple instrument , And this small packet of Greek and Latin books : If you accept them , then their worth is great . To all of a man will compound To have .\n",
      "BAPTISTA : Lucentio is your name ; of whence , I pray ? To be a good or or or have have to\n",
      "TRANIO : Of Pisa , sir ; son to Vincentio . to all .\n",
      "BAPTISTA : A mighty man of Pisa ; by report I know him well : you are very welcome , sir , Take you the lute , and you the set of books ; You shall go see your pupils presently . to unpeople ready ever would pray to the duke and\n",
      "Holla , within ! will will be to believe and and and and as\n",
      "Sirrah , lead these gentlemen To my daughters ; and tell them both , These are their tutors : bid them use them well . To To make a gentleman of a other in thy\n",
      "We will go walk a little in the orchard , And then to dinner . as as as a warrant with her To Katharina ,\n",
      "You are passing welcome , And so I pray you all to think yourselves . To saw to make a country , and survive .\n",
      "PETRUCHIO : Signior Baptista , my business asketh haste , And every day I can not come to woo . by the worthier and and and and to I am\n",
      "You knew my father well , and in him me , Left solely heir to all his lands and goods , Which I have better 'd rather than decreased : Then tell me , if I get your daughter 's love , What dowry shall I have with her to wife ? as as as my gait and pray .\n",
      "BAPTISTA : After my death the one half of my lands , And in possession twenty thousand crowns . as as he had as as as provost , and\n",
      "PETRUCHIO : And , for that dowry , I 'll assure her of Her widowhood , be it that she survive me , In all my lands and leases whatsoever : Let specialties be therefore drawn between us , That covenants may be kept on either hand . To fain to hear to made to her and and\n",
      "BAPTISTA : Ay , when the special thing is well obtain 'd , That is , her love ; for that is all in all . To play with her and I 'll yield to make\n",
      "PETRUCHIO : Why , that is nothing : for I tell you , father , I am as peremptory as she proud-minded ; And where two raging fires meet together They do consume the thing that feeds their fury : Though little fire grows great with little wind , Yet extreme gusts will blow out fire and all : So I to her and so she yields to me ; For I am rough and woo not like a babe . and as the probation will make a men as the\n",
      "BAPTISTA : Well mayst thou woo , and happy be thy speed ! with her to be by the head in in the\n",
      "But be thou arm 'd for some unhappy words . and I have have find a entering , I have\n",
      "PETRUCHIO : Ay , to the proof ; as mountains are for winds , That shake not , though they blow perpetually . .\n",
      "BAPTISTA : How now , my friend ! To call 'd , will not with with her to\n",
      "why dost thou look so pale ? to make a bawd of the duke .\n",
      "HORTENSIO : For fear , I promise you , if I look pale . with a silence will may go with her ; And\n",
      "BAPTISTA : What , will my daughter prove a good musician ? and and let with a a ?\n",
      "HORTENSIO : I think she 'll sooner prove a soldier Iron may hold with her , but never lutes . as as as I will in the life with her\n",
      "BAPTISTA : Why , then thou canst not break her to the lute ? forfeit to in my '\n",
      "HORTENSIO : Why , no ; for she hath broke the lute to me . to make a lord .\n",
      "I did but tell her she mistook her frets , And bow 'd her hand to teach her fingering ; When , with a most impatient devilish spirit , 'Frets , call you these ? ' as he should were as as as as for a\n",
      "quoth she ; ' I 'll fume with them : ' And , with that word , she struck me on the head , And through the instrument my pate made way ; And there I stood amazed for a while , As on a pillory , looking through the lute ; While she did call me rascal fiddler And twangling Jack ; with twenty such vile terms , As had she studied to misuse me so . To do to be with her to the rascal to\n",
      "PETRUCHIO : Now , by the world , it is a lusty wench ; I love her ten times more than e'er I did : O , how I long to have some chat with her ! To <UNK> in the world .\n",
      "BAPTISTA : Well , go with me and be not so discomfited : Proceed in practise with my younger daughter ; She 's apt to learn and thankful for good turns . with a young and God do to do have with\n",
      "Signior Petruchio , will you go with us , Or shall I send my daughter Kate to you ? and I will have could have a fifteen '\n",
      "PETRUCHIO : I pray you do . and a will will had as and and not not\n",
      "I will attend her here , And woo her with some spirit when she comes . To say to make all to a suitor to make\n",
      "Say that she rail ; why then I 'll tell her plain She sings as sweetly as a nightingale : Say that she frown , I 'll say she looks as clear As morning roses newly wash 'd with dew : Say she be mute and will not speak a word ; Then I 'll commend her volubility , And say she uttereth piercing eloquence : If she do bid me pack , I 'll give her thanks , As though she bid me stay by her a week : If she deny to wed , I 'll crave the day When I shall ask the banns and when be married . To say to I am I would have have have\n",
      "But here she comes ; and now , Petruchio , speak . doth with his .\n",
      "Good morrow , Kate ; for that 's your name , I hear . to make a brother , to the world : I\n",
      "KATHARINA : Well have you heard , but something hard of hearing : They call me Katharina that do talk of me . and have have have have have to see at the\n",
      "PETRUCHIO : You lie , in faith ; for you are call 'd plain Kate , And bonny Kate and sometimes Kate the curst ; But Kate , the prettiest Kate in Christendom Kate of Kate Hall , my super-dainty Kate , For dainties are all Kates , and therefore , Kate , Take this of me , Kate of my consolation ; Hearing thy mildness praised in every town , Thy virtues spoke of , and thy beauty sounded , Yet not so deeply as to thee belongs , Myself am moved to woo thee for my wife . -- -- for for the other .\n",
      "KATHARINA : Moved ! and and as my upo\n",
      "in good time : let him that moved you hither Remove you hence : I knew you at the first You were a moveable . and let with a gentleman ; and and and but\n",
      "PETRUCHIO : Why , what 's a moveable ? with a man , To practise at let , perhaps\n",
      "KATHARINA : A join'd-stool . To in the duke .\n",
      "PETRUCHIO : Thou hast hit it : come , sit on me . shall do speak .\n",
      "KATHARINA : Asses are made to bear , and so are you . with her with with a baggage .\n",
      "PETRUCHIO : Women are made to bear , and so are you . and then by the old and in the duke ,\n",
      "KATHARINA : No such jade as you , if me you mean . To make to be with her to see by a\n",
      "PETRUCHIO : Alas ! and and so so with us To our lute to\n",
      "good Kate , I will not burden thee ; For , knowing thee to be but young and light -- KATHARINA : Too light for such a swain as you to catch ; And yet as heavy as my weight should be . and will will have have burn to make the deputy\n",
      "PETRUCHIO : Should be ! with a news\n",
      "should -- buzz ! and and as he can be to make my brother\n",
      "KATHARINA : Well ta'en , and like a buzzard . To all of the very widow with with my '\n",
      "PETRUCHIO : O slow-wing 'd turtle ! To in a day .\n",
      "shall a buzzard take thee ? with a body or have have heard me with with\n",
      "KATHARINA : Ay , for a turtle , as he takes a buzzard . and and advise .\n",
      "PETRUCHIO : Come , come , you wasp ; i ' faith , you are too angry . To call with her and were as as as as\n",
      "KATHARINA : If I be waspish , best beware my sting . and be In and to to not with a lord\n",
      "PETRUCHIO : My remedy is then , to pluck it out . and and do , and and as as as as\n",
      "KATHARINA : Ay , if the fool could find it where it lies , PETRUCHIO : Who knows not where a wasp does wear his sting ? as as a fortune with a word ?\n",
      "In his tail . and and so so and and and well and go\n",
      "KATHARINA : In his tongue . in the humour To us to make a tongue ,\n",
      "PETRUCHIO : Whose tongue ? a <UNK> and to be Left puts promised with a\n",
      "KATHARINA : Yours , if you talk of tails : and so farewell . To marry through in his\n",
      "PETRUCHIO : What , with my tongue in your tail ? and condemn ; but but not as as a husband\n",
      "nay , come again , Good Kate ; I am a gentleman . of this\n",
      "KATHARINA : That I 'll try . for your name and his purpose and and her and\n",
      "PETRUCHIO : I swear I 'll cuff you , if you strike again . and bold and to to do to make -- for\n",
      "KATHARINA : So may you lose your arms : If you strike me , you are no gentleman ; And if no gentleman , why then no arms . ears\n",
      "PETRUCHIO : A herald , Kate ? and good to make his gentle\n",
      "O , put me in thy books ! will hear .\n",
      "KATHARINA : What is your crest ? to know come to the duke ?\n",
      "a coxcomb ? To my\n",
      "PETRUCHIO : A combless cock , so Kate will be my hen . withal ; and then To make the duke , ,\n",
      "KATHARINA : No cock of mine ; you crow too like a craven . and and here with with her , and will call\n",
      "PETRUCHIO : Nay , come , Kate , come ; you must not look so sour . ?\n",
      "KATHARINA : It is my fashion , when I see a crab . with her and as I shall be this shall call\n",
      "PETRUCHIO : Why , here 's no crab ; and therefore look not sour . to see for for for the world and and the\n",
      "KATHARINA : There is , there is . to see with a ?\n",
      "PETRUCHIO : Then show it me . To have have have will am have not as as\n",
      "KATHARINA : Had I a glass , I would . with with her and I have myself , and I\n",
      "PETRUCHIO : What , you mean my face ? as as as as as the a n't , and\n",
      "KATHARINA : Well aim 'd of such a young one . well .\n",
      "PETRUCHIO : Now , by Saint George , I am too young for you . .\n",
      "KATHARINA : Yet you are wither 'd . as as it is no more than the all .\n",
      "PETRUCHIO : 'T is with cares . .\n",
      "KATHARINA : I care not . to make the duke\n",
      "PETRUCHIO : Nay , hear you , Kate : in sooth you scape not so . to make a insolence\n",
      "KATHARINA : I chafe you , if I tarry : let me go . .\n",
      "PETRUCHIO : No , not a whit : I find you passing gentle . To keep to make a tongue from my gentle\n",
      "'T was told me you were rough and coy and sullen , And now I find report a very liar ; For thou are pleasant , gamesome , passing courteous , But slow in speech , yet sweet as spring-time flowers : Thou canst not frown , thou canst not look askance , Nor bite the lip , as angry wenches will , Nor hast thou pleasure to be cross in talk , But thou with mildness entertain'st thy wooers , With gentle conference , soft and affable . That shall go , or or not not not to\n",
      "Why does the world report that Kate doth limp ? To To love to let to her and and and\n",
      "O slanderous world ! dowry had as a buzzard a lusty with with a\n",
      "Kate like the hazel-twig Is straight and slender and as brown in hue As hazel nuts and sweeter than the kernels . with a greater .\n",
      "O , let me see thee walk : thou dost not halt . and and will will never have am almost .\n",
      "KATHARINA : Go , fool , and whom thou keep'st command . as as as as as as he will hang 'd\n",
      "PETRUCHIO : Did ever Dian so become a grove As Kate this chamber with her princely gait ? <UNK> to tell about to God will may go To\n",
      "O , be thou Dian , and let her be Kate ; And then let Kate be chaste and Dian sportful ! as as as as to have a thousand or To\n",
      "KATHARINA : Where did you study all this goodly speech ? .\n",
      "PETRUCHIO : It is extempore , from my mother-wit . for some am am to make all and I have\n",
      "KATHARINA : A witty mother ! and as as for for for a enough .\n",
      "witless else her son . , I am have so , That Angelo , And\n",
      "PETRUCHIO : Am I not wise ? To the daughter ?\n",
      "KATHARINA : Yes ; keep you warm . in his .\n",
      "PETRUCHIO : Marry , so I mean , sweet Katharina , in thy bed : And therefore , setting all this chat aside , Thus in plain terms : your father hath consented That you shall be my wife ; your dowry 'greed on ; And , Will you , nill you , I will marry you . To be to see to pray with her maiden\n",
      "Now , Kate , I am a husband for your turn ; For , by this light , whereby I see thy beauty , Thy beauty , that doth make me like thee well , Thou must be married to no man but me ; For I am he am born to tame you Kate , And bring you from a wild Kate to a Kate Conformable as other household Kates . to a other of the great of of the world\n",
      "Here comes your father : never make denial ; I must and will have Katharina to my wife . with my fair and by by the amendment to to\n",
      "BAPTISTA : Now , Signior Petruchio , how speed you with my daughter ? will am am a better than this is not not\n",
      "PETRUCHIO : How but well , sir ? and and a play with a buzzard alive to to\n",
      "how but well ? to see for for for for for for for her\n",
      "It were impossible I should speed amiss . To make a villain\n",
      "BAPTISTA : Why , how now , daughter Katharina ! To bear to make a life and and and in\n",
      "in your dumps ? <UNK> , by my '\n",
      "KATHARINA : Call you me daughter ? To I were as as as if I have out\n",
      "now , I promise you You have show 'd a tender fatherly regard , To wish me wed to one half lunatic ; A mad-cup ruffian and a swearing Jack , That thinks with oaths to face the matter out . as as as he was with him , and and\n",
      "PETRUCHIO : Father , 't is thus : yourself and all the world , That talk 'd of her , have talk 'd amiss of her : If she be curst , it is for policy , For she 's not froward , but modest as the dove ; She is not hot , but temperate as the morn ; For patience she will prove a second Grissel , And Roman Lucrece for her chastity : And to conclude , we have 'greed so well together , That upon Sunday is the wedding-day . to try by my and then by the shame and\n",
      "KATHARINA : I 'll see thee hang 'd on Sunday first . To what will not not <UNK> and and love to\n",
      "GREMIO : Hark , Petruchio ; she says she 'll see thee hang 'd first . To fain to the dear\n",
      "TRANIO : Is this your speeding ? to make a man to to tell to be here\n",
      "nay , then , good night our part ! ?\n",
      "PETRUCHIO : Be patient , gentlemen ; I choose her for myself : If she and I be pleased , what 's that to you ? will have have have speak yet I say to the\n",
      "'T is bargain 'd 'twixt us twain , being alone , That she shall still be curst in company . To perfect to crave to be in this shall have\n",
      "I tell you , 't is incredible to believe How much she loves me : O , the kindest Kate ! That , and am as I may will confess :\n",
      "She hung about my neck ; and kiss on kiss and and and and but as as as his duty\n",
      "Perplexity: 34.525401747923574\n"
     ]
    }
   ],
   "source": [
    "def inference(model_path, test_file, tokenizer, tokenizer_inv, gen_tokens=10, temperature=0.6):\n",
    "    ## Load the saved model\n",
    "    model = TransformerLM(VOCAB_SIZE, 512, 8, 6).to(DEVICE)\n",
    "    model.load_state_dict(torch.load(model_path))\n",
    "    model.eval()\n",
    "\n",
    "    ## Read and process the input from test.txt\n",
    "    with open(test_file, \"r\") as f:\n",
    "        lines_test = f.readlines()\n",
    "\n",
    "    model_loss = evaluate_losses(lines_test, model, tokenizer, bs=32, progress=True, pad_to_len=MAX_LEN)\n",
    "    test_loss = np.mean(model_loss)\n",
    "    perplexity = np.exp(test_loss)\n",
    "\n",
    "    ## Generate text and calculate perplexity\n",
    "    generated_texts = []\n",
    "    for line in tqdm(lines_test, desc=\"Generating Text\"):\n",
    "        generated_text = generate_text(model, tokenizer, tokenizer_inv, context=line.strip(), gen_tokens=gen_tokens, temperature=temperature)\n",
    "        generated_texts.append(generated_text)\n",
    "\n",
    "    return generated_texts, perplexity\n",
    "\n",
    "\n",
    "model_path = \"transformer_lm.pth\"\n",
    "test_file = \"/kaggle/input/shakesphere/shakespear_dev.txt\"\n",
    "tokenizer = pickle.load(open(\"task1_tokenizer.pkl\", \"rb\"))\n",
    "tokenizer_inv = pickle.load(open(\"task1_tokenizer_inv.pkl\", \"rb\"))\n",
    "generated_texts, ppl = inference(model_path, test_file, tokenizer, tokenizer_inv)\n",
    "## Print the generated text and perplexity\n",
    "for text in generated_texts:\n",
    "    print(text)\n",
    "print(f\"Perplexity: {ppl}\")"
   ]
  }
 ],
 "metadata": {
  "accelerator": "GPU",
  "colab": {
   "gpuType": "T4",
   "provenance": []
  },
  "kaggle": {
   "accelerator": "nvidiaTeslaT4",
   "dataSources": [
    {
     "datasetId": 7065492,
     "sourceId": 11298683,
     "sourceType": "datasetVersion"
    }
   ],
   "dockerImageVersionId": 30919,
   "isGpuEnabled": true,
   "isInternetEnabled": true,
   "language": "python",
   "sourceType": "notebook"
  },
  "kernelspec": {
   "display_name": "Python 3",
   "language": "python",
   "name": "python3"
  },
  "language_info": {
   "codemirror_mode": {
    "name": "ipython",
    "version": 3
   },
   "file_extension": ".py",
   "mimetype": "text/x-python",
   "name": "python",
   "nbconvert_exporter": "python",
   "pygments_lexer": "ipython3",
   "version": "3.10.12"
  },
  "widgets": {
   "application/vnd.jupyter.widget-state+json": {
    "03207eb60b3548508890ce249f0d1afc": {
     "model_module": "@jupyter-widgets/controls",
     "model_module_version": "1.5.0",
     "model_name": "FloatProgressModel",
     "state": {
      "_dom_classes": [],
      "_model_module": "@jupyter-widgets/controls",
      "_model_module_version": "1.5.0",
      "_model_name": "FloatProgressModel",
      "_view_count": null,
      "_view_module": "@jupyter-widgets/controls",
      "_view_module_version": "1.5.0",
      "_view_name": "ProgressView",
      "bar_style": "success",
      "description": "",
      "description_tooltip": null,
      "layout": "IPY_MODEL_31f78dd8baf2484a9c6375c4c669c66f",
      "max": 309,
      "min": 0,
      "orientation": "horizontal",
      "style": "IPY_MODEL_6790fbd83741430288248578dc4e00bb",
      "value": 309
     }
    },
    "042621fbc92347d4a1ed515007c01a23": {
     "model_module": "@jupyter-widgets/controls",
     "model_module_version": "1.5.0",
     "model_name": "HTMLModel",
     "state": {
      "_dom_classes": [],
      "_model_module": "@jupyter-widgets/controls",
      "_model_module_version": "1.5.0",
      "_model_name": "HTMLModel",
      "_view_count": null,
      "_view_module": "@jupyter-widgets/controls",
      "_view_module_version": "1.5.0",
      "_view_name": "HTMLView",
      "description": "",
      "description_tooltip": null,
      "layout": "IPY_MODEL_27e6be46400c4bce8831cbb174d14375",
      "placeholder": "​",
      "style": "IPY_MODEL_80261b274bba417b8547c1f3a11248de",
      "value": "Epoch 5/5: 100%"
     }
    },
    "053ebaa0aab24d20bee9b7e21f786c66": {
     "model_module": "@jupyter-widgets/controls",
     "model_module_version": "1.5.0",
     "model_name": "ProgressStyleModel",
     "state": {
      "_model_module": "@jupyter-widgets/controls",
      "_model_module_version": "1.5.0",
      "_model_name": "ProgressStyleModel",
      "_view_count": null,
      "_view_module": "@jupyter-widgets/base",
      "_view_module_version": "1.2.0",
      "_view_name": "StyleView",
      "bar_color": null,
      "description_width": ""
     }
    },
    "08784c71050742cf81be5f486d28dd7d": {
     "model_module": "@jupyter-widgets/base",
     "model_module_version": "1.2.0",
     "model_name": "LayoutModel",
     "state": {
      "_model_module": "@jupyter-widgets/base",
      "_model_module_version": "1.2.0",
      "_model_name": "LayoutModel",
      "_view_count": null,
      "_view_module": "@jupyter-widgets/base",
      "_view_module_version": "1.2.0",
      "_view_name": "LayoutView",
      "align_content": null,
      "align_items": null,
      "align_self": null,
      "border": null,
      "bottom": null,
      "display": null,
      "flex": null,
      "flex_flow": null,
      "grid_area": null,
      "grid_auto_columns": null,
      "grid_auto_flow": null,
      "grid_auto_rows": null,
      "grid_column": null,
      "grid_gap": null,
      "grid_row": null,
      "grid_template_areas": null,
      "grid_template_columns": null,
      "grid_template_rows": null,
      "height": null,
      "justify_content": null,
      "justify_items": null,
      "left": null,
      "margin": null,
      "max_height": null,
      "max_width": null,
      "min_height": null,
      "min_width": null,
      "object_fit": null,
      "object_position": null,
      "order": null,
      "overflow": null,
      "overflow_x": null,
      "overflow_y": null,
      "padding": null,
      "right": null,
      "top": null,
      "visibility": null,
      "width": null
     }
    },
    "125ee15f48b745ababe2646118dbd494": {
     "model_module": "@jupyter-widgets/base",
     "model_module_version": "1.2.0",
     "model_name": "LayoutModel",
     "state": {
      "_model_module": "@jupyter-widgets/base",
      "_model_module_version": "1.2.0",
      "_model_name": "LayoutModel",
      "_view_count": null,
      "_view_module": "@jupyter-widgets/base",
      "_view_module_version": "1.2.0",
      "_view_name": "LayoutView",
      "align_content": null,
      "align_items": null,
      "align_self": null,
      "border": null,
      "bottom": null,
      "display": null,
      "flex": null,
      "flex_flow": null,
      "grid_area": null,
      "grid_auto_columns": null,
      "grid_auto_flow": null,
      "grid_auto_rows": null,
      "grid_column": null,
      "grid_gap": null,
      "grid_row": null,
      "grid_template_areas": null,
      "grid_template_columns": null,
      "grid_template_rows": null,
      "height": null,
      "justify_content": null,
      "justify_items": null,
      "left": null,
      "margin": null,
      "max_height": null,
      "max_width": null,
      "min_height": null,
      "min_width": null,
      "object_fit": null,
      "object_position": null,
      "order": null,
      "overflow": null,
      "overflow_x": null,
      "overflow_y": null,
      "padding": null,
      "right": null,
      "top": null,
      "visibility": null,
      "width": null
     }
    },
    "1aec25f65a89492fa9fb968d13c4b1c3": {
     "model_module": "@jupyter-widgets/controls",
     "model_module_version": "1.5.0",
     "model_name": "HTMLModel",
     "state": {
      "_dom_classes": [],
      "_model_module": "@jupyter-widgets/controls",
      "_model_module_version": "1.5.0",
      "_model_name": "HTMLModel",
      "_view_count": null,
      "_view_module": "@jupyter-widgets/controls",
      "_view_module_version": "1.5.0",
      "_view_name": "HTMLView",
      "description": "",
      "description_tooltip": null,
      "layout": "IPY_MODEL_54c4b3d70f2346b8bbd4d907b3ec5d91",
      "placeholder": "​",
      "style": "IPY_MODEL_9e89073011df4e59bc1679617fea2020",
      "value": "100%"
     }
    },
    "275d014ee5ce4319b92d66bfbaa0ebb1": {
     "model_module": "@jupyter-widgets/controls",
     "model_module_version": "1.5.0",
     "model_name": "ProgressStyleModel",
     "state": {
      "_model_module": "@jupyter-widgets/controls",
      "_model_module_version": "1.5.0",
      "_model_name": "ProgressStyleModel",
      "_view_count": null,
      "_view_module": "@jupyter-widgets/base",
      "_view_module_version": "1.2.0",
      "_view_name": "StyleView",
      "bar_color": null,
      "description_width": ""
     }
    },
    "27e6be46400c4bce8831cbb174d14375": {
     "model_module": "@jupyter-widgets/base",
     "model_module_version": "1.2.0",
     "model_name": "LayoutModel",
     "state": {
      "_model_module": "@jupyter-widgets/base",
      "_model_module_version": "1.2.0",
      "_model_name": "LayoutModel",
      "_view_count": null,
      "_view_module": "@jupyter-widgets/base",
      "_view_module_version": "1.2.0",
      "_view_name": "LayoutView",
      "align_content": null,
      "align_items": null,
      "align_self": null,
      "border": null,
      "bottom": null,
      "display": null,
      "flex": null,
      "flex_flow": null,
      "grid_area": null,
      "grid_auto_columns": null,
      "grid_auto_flow": null,
      "grid_auto_rows": null,
      "grid_column": null,
      "grid_gap": null,
      "grid_row": null,
      "grid_template_areas": null,
      "grid_template_columns": null,
      "grid_template_rows": null,
      "height": null,
      "justify_content": null,
      "justify_items": null,
      "left": null,
      "margin": null,
      "max_height": null,
      "max_width": null,
      "min_height": null,
      "min_width": null,
      "object_fit": null,
      "object_position": null,
      "order": null,
      "overflow": null,
      "overflow_x": null,
      "overflow_y": null,
      "padding": null,
      "right": null,
      "top": null,
      "visibility": null,
      "width": null
     }
    },
    "280b21d749b74f399b9fa5154c7f8708": {
     "model_module": "@jupyter-widgets/controls",
     "model_module_version": "1.5.0",
     "model_name": "FloatProgressModel",
     "state": {
      "_dom_classes": [],
      "_model_module": "@jupyter-widgets/controls",
      "_model_module_version": "1.5.0",
      "_model_name": "FloatProgressModel",
      "_view_count": null,
      "_view_module": "@jupyter-widgets/controls",
      "_view_module_version": "1.5.0",
      "_view_name": "ProgressView",
      "bar_style": "success",
      "description": "",
      "description_tooltip": null,
      "layout": "IPY_MODEL_125ee15f48b745ababe2646118dbd494",
      "max": 309,
      "min": 0,
      "orientation": "horizontal",
      "style": "IPY_MODEL_d0cbf4eb72b847a69c06ff490e470568",
      "value": 309
     }
    },
    "31f78dd8baf2484a9c6375c4c669c66f": {
     "model_module": "@jupyter-widgets/base",
     "model_module_version": "1.2.0",
     "model_name": "LayoutModel",
     "state": {
      "_model_module": "@jupyter-widgets/base",
      "_model_module_version": "1.2.0",
      "_model_name": "LayoutModel",
      "_view_count": null,
      "_view_module": "@jupyter-widgets/base",
      "_view_module_version": "1.2.0",
      "_view_name": "LayoutView",
      "align_content": null,
      "align_items": null,
      "align_self": null,
      "border": null,
      "bottom": null,
      "display": null,
      "flex": null,
      "flex_flow": null,
      "grid_area": null,
      "grid_auto_columns": null,
      "grid_auto_flow": null,
      "grid_auto_rows": null,
      "grid_column": null,
      "grid_gap": null,
      "grid_row": null,
      "grid_template_areas": null,
      "grid_template_columns": null,
      "grid_template_rows": null,
      "height": null,
      "justify_content": null,
      "justify_items": null,
      "left": null,
      "margin": null,
      "max_height": null,
      "max_width": null,
      "min_height": null,
      "min_width": null,
      "object_fit": null,
      "object_position": null,
      "order": null,
      "overflow": null,
      "overflow_x": null,
      "overflow_y": null,
      "padding": null,
      "right": null,
      "top": null,
      "visibility": null,
      "width": null
     }
    },
    "35731bf98d2e423a92d5414237608ec9": {
     "model_module": "@jupyter-widgets/controls",
     "model_module_version": "1.5.0",
     "model_name": "DescriptionStyleModel",
     "state": {
      "_model_module": "@jupyter-widgets/controls",
      "_model_module_version": "1.5.0",
      "_model_name": "DescriptionStyleModel",
      "_view_count": null,
      "_view_module": "@jupyter-widgets/base",
      "_view_module_version": "1.2.0",
      "_view_name": "StyleView",
      "description_width": ""
     }
    },
    "365ed209b9144a08beaa6e8ac42f7ec9": {
     "model_module": "@jupyter-widgets/controls",
     "model_module_version": "1.5.0",
     "model_name": "DescriptionStyleModel",
     "state": {
      "_model_module": "@jupyter-widgets/controls",
      "_model_module_version": "1.5.0",
      "_model_name": "DescriptionStyleModel",
      "_view_count": null,
      "_view_module": "@jupyter-widgets/base",
      "_view_module_version": "1.2.0",
      "_view_name": "StyleView",
      "description_width": ""
     }
    },
    "41ed30dec7b445fa8c237f9900a442c3": {
     "model_module": "@jupyter-widgets/controls",
     "model_module_version": "1.5.0",
     "model_name": "HBoxModel",
     "state": {
      "_dom_classes": [],
      "_model_module": "@jupyter-widgets/controls",
      "_model_module_version": "1.5.0",
      "_model_name": "HBoxModel",
      "_view_count": null,
      "_view_module": "@jupyter-widgets/controls",
      "_view_module_version": "1.5.0",
      "_view_name": "HBoxView",
      "box_style": "",
      "children": [
       "IPY_MODEL_a71cef7529724d83962b4dec803009a5",
       "IPY_MODEL_03207eb60b3548508890ce249f0d1afc",
       "IPY_MODEL_b63d4cbe42ba4641835c1bec999d0ce9"
      ],
      "layout": "IPY_MODEL_47dc15226d8c4ba981b0e0fde835d495"
     }
    },
    "41fe6d22713a49b39bdec89cd8e8fd09": {
     "model_module": "@jupyter-widgets/controls",
     "model_module_version": "1.5.0",
     "model_name": "HBoxModel",
     "state": {
      "_dom_classes": [],
      "_model_module": "@jupyter-widgets/controls",
      "_model_module_version": "1.5.0",
      "_model_name": "HBoxModel",
      "_view_count": null,
      "_view_module": "@jupyter-widgets/controls",
      "_view_module_version": "1.5.0",
      "_view_name": "HBoxView",
      "box_style": "",
      "children": [
       "IPY_MODEL_a86851d6481d43d28df9cbade3c0785d",
       "IPY_MODEL_6100a8a0d0154e78925284f17d931cc3",
       "IPY_MODEL_b8d2784d4288479baec015af37c66ac6"
      ],
      "layout": "IPY_MODEL_4998c5ef89b6483fa4e83f76c89ff027"
     }
    },
    "47dc15226d8c4ba981b0e0fde835d495": {
     "model_module": "@jupyter-widgets/base",
     "model_module_version": "1.2.0",
     "model_name": "LayoutModel",
     "state": {
      "_model_module": "@jupyter-widgets/base",
      "_model_module_version": "1.2.0",
      "_model_name": "LayoutModel",
      "_view_count": null,
      "_view_module": "@jupyter-widgets/base",
      "_view_module_version": "1.2.0",
      "_view_name": "LayoutView",
      "align_content": null,
      "align_items": null,
      "align_self": null,
      "border": null,
      "bottom": null,
      "display": null,
      "flex": null,
      "flex_flow": null,
      "grid_area": null,
      "grid_auto_columns": null,
      "grid_auto_flow": null,
      "grid_auto_rows": null,
      "grid_column": null,
      "grid_gap": null,
      "grid_row": null,
      "grid_template_areas": null,
      "grid_template_columns": null,
      "grid_template_rows": null,
      "height": null,
      "justify_content": null,
      "justify_items": null,
      "left": null,
      "margin": null,
      "max_height": null,
      "max_width": null,
      "min_height": null,
      "min_width": null,
      "object_fit": null,
      "object_position": null,
      "order": null,
      "overflow": null,
      "overflow_x": null,
      "overflow_y": null,
      "padding": null,
      "right": null,
      "top": null,
      "visibility": null,
      "width": null
     }
    },
    "4998c5ef89b6483fa4e83f76c89ff027": {
     "model_module": "@jupyter-widgets/base",
     "model_module_version": "1.2.0",
     "model_name": "LayoutModel",
     "state": {
      "_model_module": "@jupyter-widgets/base",
      "_model_module_version": "1.2.0",
      "_model_name": "LayoutModel",
      "_view_count": null,
      "_view_module": "@jupyter-widgets/base",
      "_view_module_version": "1.2.0",
      "_view_name": "LayoutView",
      "align_content": null,
      "align_items": null,
      "align_self": null,
      "border": null,
      "bottom": null,
      "display": null,
      "flex": null,
      "flex_flow": null,
      "grid_area": null,
      "grid_auto_columns": null,
      "grid_auto_flow": null,
      "grid_auto_rows": null,
      "grid_column": null,
      "grid_gap": null,
      "grid_row": null,
      "grid_template_areas": null,
      "grid_template_columns": null,
      "grid_template_rows": null,
      "height": null,
      "justify_content": null,
      "justify_items": null,
      "left": null,
      "margin": null,
      "max_height": null,
      "max_width": null,
      "min_height": null,
      "min_width": null,
      "object_fit": null,
      "object_position": null,
      "order": null,
      "overflow": null,
      "overflow_x": null,
      "overflow_y": null,
      "padding": null,
      "right": null,
      "top": null,
      "visibility": null,
      "width": null
     }
    },
    "51f6756c6880470ba26c21aee300a846": {
     "model_module": "@jupyter-widgets/controls",
     "model_module_version": "1.5.0",
     "model_name": "ProgressStyleModel",
     "state": {
      "_model_module": "@jupyter-widgets/controls",
      "_model_module_version": "1.5.0",
      "_model_name": "ProgressStyleModel",
      "_view_count": null,
      "_view_module": "@jupyter-widgets/base",
      "_view_module_version": "1.2.0",
      "_view_name": "StyleView",
      "bar_color": null,
      "description_width": ""
     }
    },
    "5267bb85d6c94df99b76f805cab4b8b4": {
     "model_module": "@jupyter-widgets/base",
     "model_module_version": "1.2.0",
     "model_name": "LayoutModel",
     "state": {
      "_model_module": "@jupyter-widgets/base",
      "_model_module_version": "1.2.0",
      "_model_name": "LayoutModel",
      "_view_count": null,
      "_view_module": "@jupyter-widgets/base",
      "_view_module_version": "1.2.0",
      "_view_name": "LayoutView",
      "align_content": null,
      "align_items": null,
      "align_self": null,
      "border": null,
      "bottom": null,
      "display": null,
      "flex": null,
      "flex_flow": null,
      "grid_area": null,
      "grid_auto_columns": null,
      "grid_auto_flow": null,
      "grid_auto_rows": null,
      "grid_column": null,
      "grid_gap": null,
      "grid_row": null,
      "grid_template_areas": null,
      "grid_template_columns": null,
      "grid_template_rows": null,
      "height": null,
      "justify_content": null,
      "justify_items": null,
      "left": null,
      "margin": null,
      "max_height": null,
      "max_width": null,
      "min_height": null,
      "min_width": null,
      "object_fit": null,
      "object_position": null,
      "order": null,
      "overflow": null,
      "overflow_x": null,
      "overflow_y": null,
      "padding": null,
      "right": null,
      "top": null,
      "visibility": null,
      "width": null
     }
    },
    "54c4b3d70f2346b8bbd4d907b3ec5d91": {
     "model_module": "@jupyter-widgets/base",
     "model_module_version": "1.2.0",
     "model_name": "LayoutModel",
     "state": {
      "_model_module": "@jupyter-widgets/base",
      "_model_module_version": "1.2.0",
      "_model_name": "LayoutModel",
      "_view_count": null,
      "_view_module": "@jupyter-widgets/base",
      "_view_module_version": "1.2.0",
      "_view_name": "LayoutView",
      "align_content": null,
      "align_items": null,
      "align_self": null,
      "border": null,
      "bottom": null,
      "display": null,
      "flex": null,
      "flex_flow": null,
      "grid_area": null,
      "grid_auto_columns": null,
      "grid_auto_flow": null,
      "grid_auto_rows": null,
      "grid_column": null,
      "grid_gap": null,
      "grid_row": null,
      "grid_template_areas": null,
      "grid_template_columns": null,
      "grid_template_rows": null,
      "height": null,
      "justify_content": null,
      "justify_items": null,
      "left": null,
      "margin": null,
      "max_height": null,
      "max_width": null,
      "min_height": null,
      "min_width": null,
      "object_fit": null,
      "object_position": null,
      "order": null,
      "overflow": null,
      "overflow_x": null,
      "overflow_y": null,
      "padding": null,
      "right": null,
      "top": null,
      "visibility": null,
      "width": null
     }
    },
    "54f481e175bc49edbbb73e2834e55fda": {
     "model_module": "@jupyter-widgets/controls",
     "model_module_version": "1.5.0",
     "model_name": "HTMLModel",
     "state": {
      "_dom_classes": [],
      "_model_module": "@jupyter-widgets/controls",
      "_model_module_version": "1.5.0",
      "_model_name": "HTMLModel",
      "_view_count": null,
      "_view_module": "@jupyter-widgets/controls",
      "_view_module_version": "1.5.0",
      "_view_name": "HTMLView",
      "description": "",
      "description_tooltip": null,
      "layout": "IPY_MODEL_9d01be6542804311b02d60b5870104fb",
      "placeholder": "​",
      "style": "IPY_MODEL_eeca73ac6ec3428990aff247c42d2f9e",
      "value": "Epoch 2/5: 100%"
     }
    },
    "55024d1ec9294232a91ba376cdbda59d": {
     "model_module": "@jupyter-widgets/controls",
     "model_module_version": "1.5.0",
     "model_name": "HTMLModel",
     "state": {
      "_dom_classes": [],
      "_model_module": "@jupyter-widgets/controls",
      "_model_module_version": "1.5.0",
      "_model_name": "HTMLModel",
      "_view_count": null,
      "_view_module": "@jupyter-widgets/controls",
      "_view_module_version": "1.5.0",
      "_view_name": "HTMLView",
      "description": "",
      "description_tooltip": null,
      "layout": "IPY_MODEL_08784c71050742cf81be5f486d28dd7d",
      "placeholder": "​",
      "style": "IPY_MODEL_c76d70520ab54527bf14709fc50e97a9",
      "value": " 42/42 [00:01&lt;00:00, 31.91it/s]"
     }
    },
    "59633d8a8df944bab99143d7bde72045": {
     "model_module": "@jupyter-widgets/base",
     "model_module_version": "1.2.0",
     "model_name": "LayoutModel",
     "state": {
      "_model_module": "@jupyter-widgets/base",
      "_model_module_version": "1.2.0",
      "_model_name": "LayoutModel",
      "_view_count": null,
      "_view_module": "@jupyter-widgets/base",
      "_view_module_version": "1.2.0",
      "_view_name": "LayoutView",
      "align_content": null,
      "align_items": null,
      "align_self": null,
      "border": null,
      "bottom": null,
      "display": null,
      "flex": null,
      "flex_flow": null,
      "grid_area": null,
      "grid_auto_columns": null,
      "grid_auto_flow": null,
      "grid_auto_rows": null,
      "grid_column": null,
      "grid_gap": null,
      "grid_row": null,
      "grid_template_areas": null,
      "grid_template_columns": null,
      "grid_template_rows": null,
      "height": null,
      "justify_content": null,
      "justify_items": null,
      "left": null,
      "margin": null,
      "max_height": null,
      "max_width": null,
      "min_height": null,
      "min_width": null,
      "object_fit": null,
      "object_position": null,
      "order": null,
      "overflow": null,
      "overflow_x": null,
      "overflow_y": null,
      "padding": null,
      "right": null,
      "top": null,
      "visibility": null,
      "width": null
     }
    },
    "59c2c983b6a74ac5adcc37834107ca68": {
     "model_module": "@jupyter-widgets/base",
     "model_module_version": "1.2.0",
     "model_name": "LayoutModel",
     "state": {
      "_model_module": "@jupyter-widgets/base",
      "_model_module_version": "1.2.0",
      "_model_name": "LayoutModel",
      "_view_count": null,
      "_view_module": "@jupyter-widgets/base",
      "_view_module_version": "1.2.0",
      "_view_name": "LayoutView",
      "align_content": null,
      "align_items": null,
      "align_self": null,
      "border": null,
      "bottom": null,
      "display": null,
      "flex": null,
      "flex_flow": null,
      "grid_area": null,
      "grid_auto_columns": null,
      "grid_auto_flow": null,
      "grid_auto_rows": null,
      "grid_column": null,
      "grid_gap": null,
      "grid_row": null,
      "grid_template_areas": null,
      "grid_template_columns": null,
      "grid_template_rows": null,
      "height": null,
      "justify_content": null,
      "justify_items": null,
      "left": null,
      "margin": null,
      "max_height": null,
      "max_width": null,
      "min_height": null,
      "min_width": null,
      "object_fit": null,
      "object_position": null,
      "order": null,
      "overflow": null,
      "overflow_x": null,
      "overflow_y": null,
      "padding": null,
      "right": null,
      "top": null,
      "visibility": null,
      "width": null
     }
    },
    "6100a8a0d0154e78925284f17d931cc3": {
     "model_module": "@jupyter-widgets/controls",
     "model_module_version": "1.5.0",
     "model_name": "FloatProgressModel",
     "state": {
      "_dom_classes": [],
      "_model_module": "@jupyter-widgets/controls",
      "_model_module_version": "1.5.0",
      "_model_name": "FloatProgressModel",
      "_view_count": null,
      "_view_module": "@jupyter-widgets/controls",
      "_view_module_version": "1.5.0",
      "_view_name": "ProgressView",
      "bar_style": "success",
      "description": "",
      "description_tooltip": null,
      "layout": "IPY_MODEL_6b7e8ab3cfe9424ebb552e5708938cfc",
      "max": 309,
      "min": 0,
      "orientation": "horizontal",
      "style": "IPY_MODEL_275d014ee5ce4319b92d66bfbaa0ebb1",
      "value": 309
     }
    },
    "671174a5ddbf44aa921794279afec48e": {
     "model_module": "@jupyter-widgets/base",
     "model_module_version": "1.2.0",
     "model_name": "LayoutModel",
     "state": {
      "_model_module": "@jupyter-widgets/base",
      "_model_module_version": "1.2.0",
      "_model_name": "LayoutModel",
      "_view_count": null,
      "_view_module": "@jupyter-widgets/base",
      "_view_module_version": "1.2.0",
      "_view_name": "LayoutView",
      "align_content": null,
      "align_items": null,
      "align_self": null,
      "border": null,
      "bottom": null,
      "display": null,
      "flex": null,
      "flex_flow": null,
      "grid_area": null,
      "grid_auto_columns": null,
      "grid_auto_flow": null,
      "grid_auto_rows": null,
      "grid_column": null,
      "grid_gap": null,
      "grid_row": null,
      "grid_template_areas": null,
      "grid_template_columns": null,
      "grid_template_rows": null,
      "height": null,
      "justify_content": null,
      "justify_items": null,
      "left": null,
      "margin": null,
      "max_height": null,
      "max_width": null,
      "min_height": null,
      "min_width": null,
      "object_fit": null,
      "object_position": null,
      "order": null,
      "overflow": null,
      "overflow_x": null,
      "overflow_y": null,
      "padding": null,
      "right": null,
      "top": null,
      "visibility": null,
      "width": null
     }
    },
    "6790fbd83741430288248578dc4e00bb": {
     "model_module": "@jupyter-widgets/controls",
     "model_module_version": "1.5.0",
     "model_name": "ProgressStyleModel",
     "state": {
      "_model_module": "@jupyter-widgets/controls",
      "_model_module_version": "1.5.0",
      "_model_name": "ProgressStyleModel",
      "_view_count": null,
      "_view_module": "@jupyter-widgets/base",
      "_view_module_version": "1.2.0",
      "_view_name": "StyleView",
      "bar_color": null,
      "description_width": ""
     }
    },
    "6b7e8ab3cfe9424ebb552e5708938cfc": {
     "model_module": "@jupyter-widgets/base",
     "model_module_version": "1.2.0",
     "model_name": "LayoutModel",
     "state": {
      "_model_module": "@jupyter-widgets/base",
      "_model_module_version": "1.2.0",
      "_model_name": "LayoutModel",
      "_view_count": null,
      "_view_module": "@jupyter-widgets/base",
      "_view_module_version": "1.2.0",
      "_view_name": "LayoutView",
      "align_content": null,
      "align_items": null,
      "align_self": null,
      "border": null,
      "bottom": null,
      "display": null,
      "flex": null,
      "flex_flow": null,
      "grid_area": null,
      "grid_auto_columns": null,
      "grid_auto_flow": null,
      "grid_auto_rows": null,
      "grid_column": null,
      "grid_gap": null,
      "grid_row": null,
      "grid_template_areas": null,
      "grid_template_columns": null,
      "grid_template_rows": null,
      "height": null,
      "justify_content": null,
      "justify_items": null,
      "left": null,
      "margin": null,
      "max_height": null,
      "max_width": null,
      "min_height": null,
      "min_width": null,
      "object_fit": null,
      "object_position": null,
      "order": null,
      "overflow": null,
      "overflow_x": null,
      "overflow_y": null,
      "padding": null,
      "right": null,
      "top": null,
      "visibility": null,
      "width": null
     }
    },
    "6c14b7cb36684e4a8b44368cee251eec": {
     "model_module": "@jupyter-widgets/controls",
     "model_module_version": "1.5.0",
     "model_name": "DescriptionStyleModel",
     "state": {
      "_model_module": "@jupyter-widgets/controls",
      "_model_module_version": "1.5.0",
      "_model_name": "DescriptionStyleModel",
      "_view_count": null,
      "_view_module": "@jupyter-widgets/base",
      "_view_module_version": "1.2.0",
      "_view_name": "StyleView",
      "description_width": ""
     }
    },
    "6c6b5db60cd649498d8862b37fd31e32": {
     "model_module": "@jupyter-widgets/controls",
     "model_module_version": "1.5.0",
     "model_name": "FloatProgressModel",
     "state": {
      "_dom_classes": [],
      "_model_module": "@jupyter-widgets/controls",
      "_model_module_version": "1.5.0",
      "_model_name": "FloatProgressModel",
      "_view_count": null,
      "_view_module": "@jupyter-widgets/controls",
      "_view_module_version": "1.5.0",
      "_view_name": "ProgressView",
      "bar_style": "success",
      "description": "",
      "description_tooltip": null,
      "layout": "IPY_MODEL_d881babd2a0340ae843522520b0b6a74",
      "max": 309,
      "min": 0,
      "orientation": "horizontal",
      "style": "IPY_MODEL_51f6756c6880470ba26c21aee300a846",
      "value": 309
     }
    },
    "6cb51dfb501b40d3a42ce241c7019760": {
     "model_module": "@jupyter-widgets/controls",
     "model_module_version": "1.5.0",
     "model_name": "FloatProgressModel",
     "state": {
      "_dom_classes": [],
      "_model_module": "@jupyter-widgets/controls",
      "_model_module_version": "1.5.0",
      "_model_name": "FloatProgressModel",
      "_view_count": null,
      "_view_module": "@jupyter-widgets/controls",
      "_view_module_version": "1.5.0",
      "_view_name": "ProgressView",
      "bar_style": "success",
      "description": "",
      "description_tooltip": null,
      "layout": "IPY_MODEL_d27d2559a36d4040bb738c92aa7392ff",
      "max": 309,
      "min": 0,
      "orientation": "horizontal",
      "style": "IPY_MODEL_e4fa104db54946ae97fc8a30cf768891",
      "value": 309
     }
    },
    "6e498093ddb049ac95bce335a6ff93a0": {
     "model_module": "@jupyter-widgets/controls",
     "model_module_version": "1.5.0",
     "model_name": "FloatProgressModel",
     "state": {
      "_dom_classes": [],
      "_model_module": "@jupyter-widgets/controls",
      "_model_module_version": "1.5.0",
      "_model_name": "FloatProgressModel",
      "_view_count": null,
      "_view_module": "@jupyter-widgets/controls",
      "_view_module_version": "1.5.0",
      "_view_name": "ProgressView",
      "bar_style": "success",
      "description": "",
      "description_tooltip": null,
      "layout": "IPY_MODEL_cf3d68dceed548d2ad2ff87b01ea5fec",
      "max": 42,
      "min": 0,
      "orientation": "horizontal",
      "style": "IPY_MODEL_053ebaa0aab24d20bee9b7e21f786c66",
      "value": 42
     }
    },
    "722e2beef62a448c98798fee739340db": {
     "model_module": "@jupyter-widgets/controls",
     "model_module_version": "1.5.0",
     "model_name": "HTMLModel",
     "state": {
      "_dom_classes": [],
      "_model_module": "@jupyter-widgets/controls",
      "_model_module_version": "1.5.0",
      "_model_name": "HTMLModel",
      "_view_count": null,
      "_view_module": "@jupyter-widgets/controls",
      "_view_module_version": "1.5.0",
      "_view_name": "HTMLView",
      "description": "",
      "description_tooltip": null,
      "layout": "IPY_MODEL_fbac5ac8158f4fd7a9a9291fd8e941ab",
      "placeholder": "​",
      "style": "IPY_MODEL_84dd54b14f5a4eb68390703ac461945d",
      "value": " 309/309 [00:26&lt;00:00, 11.94it/s, loss=0.701]"
     }
    },
    "73f98b2ffb2f4004a916be68d748ac7f": {
     "model_module": "@jupyter-widgets/controls",
     "model_module_version": "1.5.0",
     "model_name": "HBoxModel",
     "state": {
      "_dom_classes": [],
      "_model_module": "@jupyter-widgets/controls",
      "_model_module_version": "1.5.0",
      "_model_name": "HBoxModel",
      "_view_count": null,
      "_view_module": "@jupyter-widgets/controls",
      "_view_module_version": "1.5.0",
      "_view_name": "HBoxView",
      "box_style": "",
      "children": [
       "IPY_MODEL_042621fbc92347d4a1ed515007c01a23",
       "IPY_MODEL_6c6b5db60cd649498d8862b37fd31e32",
       "IPY_MODEL_969f545a143b442eab9ef999e4c3032b"
      ],
      "layout": "IPY_MODEL_671174a5ddbf44aa921794279afec48e"
     }
    },
    "80261b274bba417b8547c1f3a11248de": {
     "model_module": "@jupyter-widgets/controls",
     "model_module_version": "1.5.0",
     "model_name": "DescriptionStyleModel",
     "state": {
      "_model_module": "@jupyter-widgets/controls",
      "_model_module_version": "1.5.0",
      "_model_name": "DescriptionStyleModel",
      "_view_count": null,
      "_view_module": "@jupyter-widgets/base",
      "_view_module_version": "1.2.0",
      "_view_name": "StyleView",
      "description_width": ""
     }
    },
    "84dd54b14f5a4eb68390703ac461945d": {
     "model_module": "@jupyter-widgets/controls",
     "model_module_version": "1.5.0",
     "model_name": "DescriptionStyleModel",
     "state": {
      "_model_module": "@jupyter-widgets/controls",
      "_model_module_version": "1.5.0",
      "_model_name": "DescriptionStyleModel",
      "_view_count": null,
      "_view_module": "@jupyter-widgets/base",
      "_view_module_version": "1.2.0",
      "_view_name": "StyleView",
      "description_width": ""
     }
    },
    "857fb4110cd84b339b5f7a4811262903": {
     "model_module": "@jupyter-widgets/base",
     "model_module_version": "1.2.0",
     "model_name": "LayoutModel",
     "state": {
      "_model_module": "@jupyter-widgets/base",
      "_model_module_version": "1.2.0",
      "_model_name": "LayoutModel",
      "_view_count": null,
      "_view_module": "@jupyter-widgets/base",
      "_view_module_version": "1.2.0",
      "_view_name": "LayoutView",
      "align_content": null,
      "align_items": null,
      "align_self": null,
      "border": null,
      "bottom": null,
      "display": null,
      "flex": null,
      "flex_flow": null,
      "grid_area": null,
      "grid_auto_columns": null,
      "grid_auto_flow": null,
      "grid_auto_rows": null,
      "grid_column": null,
      "grid_gap": null,
      "grid_row": null,
      "grid_template_areas": null,
      "grid_template_columns": null,
      "grid_template_rows": null,
      "height": null,
      "justify_content": null,
      "justify_items": null,
      "left": null,
      "margin": null,
      "max_height": null,
      "max_width": null,
      "min_height": null,
      "min_width": null,
      "object_fit": null,
      "object_position": null,
      "order": null,
      "overflow": null,
      "overflow_x": null,
      "overflow_y": null,
      "padding": null,
      "right": null,
      "top": null,
      "visibility": null,
      "width": null
     }
    },
    "86bd82bcde134e03b8bc18fea7a37c07": {
     "model_module": "@jupyter-widgets/controls",
     "model_module_version": "1.5.0",
     "model_name": "DescriptionStyleModel",
     "state": {
      "_model_module": "@jupyter-widgets/controls",
      "_model_module_version": "1.5.0",
      "_model_name": "DescriptionStyleModel",
      "_view_count": null,
      "_view_module": "@jupyter-widgets/base",
      "_view_module_version": "1.2.0",
      "_view_name": "StyleView",
      "description_width": ""
     }
    },
    "933b70c3aa24432b9e48e7edc83dc43c": {
     "model_module": "@jupyter-widgets/base",
     "model_module_version": "1.2.0",
     "model_name": "LayoutModel",
     "state": {
      "_model_module": "@jupyter-widgets/base",
      "_model_module_version": "1.2.0",
      "_model_name": "LayoutModel",
      "_view_count": null,
      "_view_module": "@jupyter-widgets/base",
      "_view_module_version": "1.2.0",
      "_view_name": "LayoutView",
      "align_content": null,
      "align_items": null,
      "align_self": null,
      "border": null,
      "bottom": null,
      "display": null,
      "flex": null,
      "flex_flow": null,
      "grid_area": null,
      "grid_auto_columns": null,
      "grid_auto_flow": null,
      "grid_auto_rows": null,
      "grid_column": null,
      "grid_gap": null,
      "grid_row": null,
      "grid_template_areas": null,
      "grid_template_columns": null,
      "grid_template_rows": null,
      "height": null,
      "justify_content": null,
      "justify_items": null,
      "left": null,
      "margin": null,
      "max_height": null,
      "max_width": null,
      "min_height": null,
      "min_width": null,
      "object_fit": null,
      "object_position": null,
      "order": null,
      "overflow": null,
      "overflow_x": null,
      "overflow_y": null,
      "padding": null,
      "right": null,
      "top": null,
      "visibility": null,
      "width": null
     }
    },
    "969f545a143b442eab9ef999e4c3032b": {
     "model_module": "@jupyter-widgets/controls",
     "model_module_version": "1.5.0",
     "model_name": "HTMLModel",
     "state": {
      "_dom_classes": [],
      "_model_module": "@jupyter-widgets/controls",
      "_model_module_version": "1.5.0",
      "_model_name": "HTMLModel",
      "_view_count": null,
      "_view_module": "@jupyter-widgets/controls",
      "_view_module_version": "1.5.0",
      "_view_name": "HTMLView",
      "description": "",
      "description_tooltip": null,
      "layout": "IPY_MODEL_59c2c983b6a74ac5adcc37834107ca68",
      "placeholder": "​",
      "style": "IPY_MODEL_86bd82bcde134e03b8bc18fea7a37c07",
      "value": " 309/309 [00:27&lt;00:00, 11.38it/s, loss=0.771]"
     }
    },
    "988d2f0bb3074ddca89d982f98815122": {
     "model_module": "@jupyter-widgets/base",
     "model_module_version": "1.2.0",
     "model_name": "LayoutModel",
     "state": {
      "_model_module": "@jupyter-widgets/base",
      "_model_module_version": "1.2.0",
      "_model_name": "LayoutModel",
      "_view_count": null,
      "_view_module": "@jupyter-widgets/base",
      "_view_module_version": "1.2.0",
      "_view_name": "LayoutView",
      "align_content": null,
      "align_items": null,
      "align_self": null,
      "border": null,
      "bottom": null,
      "display": null,
      "flex": null,
      "flex_flow": null,
      "grid_area": null,
      "grid_auto_columns": null,
      "grid_auto_flow": null,
      "grid_auto_rows": null,
      "grid_column": null,
      "grid_gap": null,
      "grid_row": null,
      "grid_template_areas": null,
      "grid_template_columns": null,
      "grid_template_rows": null,
      "height": null,
      "justify_content": null,
      "justify_items": null,
      "left": null,
      "margin": null,
      "max_height": null,
      "max_width": null,
      "min_height": null,
      "min_width": null,
      "object_fit": null,
      "object_position": null,
      "order": null,
      "overflow": null,
      "overflow_x": null,
      "overflow_y": null,
      "padding": null,
      "right": null,
      "top": null,
      "visibility": null,
      "width": null
     }
    },
    "9a1aca6cdbff4726a5a00bb823a90a95": {
     "model_module": "@jupyter-widgets/controls",
     "model_module_version": "1.5.0",
     "model_name": "HTMLModel",
     "state": {
      "_dom_classes": [],
      "_model_module": "@jupyter-widgets/controls",
      "_model_module_version": "1.5.0",
      "_model_name": "HTMLModel",
      "_view_count": null,
      "_view_module": "@jupyter-widgets/controls",
      "_view_module_version": "1.5.0",
      "_view_name": "HTMLView",
      "description": "",
      "description_tooltip": null,
      "layout": "IPY_MODEL_ded9e4b6582c4ea69ea873b3b8f24cf8",
      "placeholder": "​",
      "style": "IPY_MODEL_35731bf98d2e423a92d5414237608ec9",
      "value": " 309/309 [00:27&lt;00:00, 11.44it/s, loss=0.719]"
     }
    },
    "9d01be6542804311b02d60b5870104fb": {
     "model_module": "@jupyter-widgets/base",
     "model_module_version": "1.2.0",
     "model_name": "LayoutModel",
     "state": {
      "_model_module": "@jupyter-widgets/base",
      "_model_module_version": "1.2.0",
      "_model_name": "LayoutModel",
      "_view_count": null,
      "_view_module": "@jupyter-widgets/base",
      "_view_module_version": "1.2.0",
      "_view_name": "LayoutView",
      "align_content": null,
      "align_items": null,
      "align_self": null,
      "border": null,
      "bottom": null,
      "display": null,
      "flex": null,
      "flex_flow": null,
      "grid_area": null,
      "grid_auto_columns": null,
      "grid_auto_flow": null,
      "grid_auto_rows": null,
      "grid_column": null,
      "grid_gap": null,
      "grid_row": null,
      "grid_template_areas": null,
      "grid_template_columns": null,
      "grid_template_rows": null,
      "height": null,
      "justify_content": null,
      "justify_items": null,
      "left": null,
      "margin": null,
      "max_height": null,
      "max_width": null,
      "min_height": null,
      "min_width": null,
      "object_fit": null,
      "object_position": null,
      "order": null,
      "overflow": null,
      "overflow_x": null,
      "overflow_y": null,
      "padding": null,
      "right": null,
      "top": null,
      "visibility": null,
      "width": null
     }
    },
    "9dbbdbe03ccb44fcb49f2adbd7da7df5": {
     "model_module": "@jupyter-widgets/base",
     "model_module_version": "1.2.0",
     "model_name": "LayoutModel",
     "state": {
      "_model_module": "@jupyter-widgets/base",
      "_model_module_version": "1.2.0",
      "_model_name": "LayoutModel",
      "_view_count": null,
      "_view_module": "@jupyter-widgets/base",
      "_view_module_version": "1.2.0",
      "_view_name": "LayoutView",
      "align_content": null,
      "align_items": null,
      "align_self": null,
      "border": null,
      "bottom": null,
      "display": null,
      "flex": null,
      "flex_flow": null,
      "grid_area": null,
      "grid_auto_columns": null,
      "grid_auto_flow": null,
      "grid_auto_rows": null,
      "grid_column": null,
      "grid_gap": null,
      "grid_row": null,
      "grid_template_areas": null,
      "grid_template_columns": null,
      "grid_template_rows": null,
      "height": null,
      "justify_content": null,
      "justify_items": null,
      "left": null,
      "margin": null,
      "max_height": null,
      "max_width": null,
      "min_height": null,
      "min_width": null,
      "object_fit": null,
      "object_position": null,
      "order": null,
      "overflow": null,
      "overflow_x": null,
      "overflow_y": null,
      "padding": null,
      "right": null,
      "top": null,
      "visibility": null,
      "width": null
     }
    },
    "9e89073011df4e59bc1679617fea2020": {
     "model_module": "@jupyter-widgets/controls",
     "model_module_version": "1.5.0",
     "model_name": "DescriptionStyleModel",
     "state": {
      "_model_module": "@jupyter-widgets/controls",
      "_model_module_version": "1.5.0",
      "_model_name": "DescriptionStyleModel",
      "_view_count": null,
      "_view_module": "@jupyter-widgets/base",
      "_view_module_version": "1.2.0",
      "_view_name": "StyleView",
      "description_width": ""
     }
    },
    "9f2bb0283a254df48b6ba4aef5c787d6": {
     "model_module": "@jupyter-widgets/controls",
     "model_module_version": "1.5.0",
     "model_name": "DescriptionStyleModel",
     "state": {
      "_model_module": "@jupyter-widgets/controls",
      "_model_module_version": "1.5.0",
      "_model_name": "DescriptionStyleModel",
      "_view_count": null,
      "_view_module": "@jupyter-widgets/base",
      "_view_module_version": "1.2.0",
      "_view_name": "StyleView",
      "description_width": ""
     }
    },
    "9fd3125ee84747b4922ca3851e2dc149": {
     "model_module": "@jupyter-widgets/controls",
     "model_module_version": "1.5.0",
     "model_name": "HBoxModel",
     "state": {
      "_dom_classes": [],
      "_model_module": "@jupyter-widgets/controls",
      "_model_module_version": "1.5.0",
      "_model_name": "HBoxModel",
      "_view_count": null,
      "_view_module": "@jupyter-widgets/controls",
      "_view_module_version": "1.5.0",
      "_view_name": "HBoxView",
      "box_style": "",
      "children": [
       "IPY_MODEL_1aec25f65a89492fa9fb968d13c4b1c3",
       "IPY_MODEL_6e498093ddb049ac95bce335a6ff93a0",
       "IPY_MODEL_55024d1ec9294232a91ba376cdbda59d"
      ],
      "layout": "IPY_MODEL_f94a5f99a11d4d1cabd212c15a6b1bf7"
     }
    },
    "a71cef7529724d83962b4dec803009a5": {
     "model_module": "@jupyter-widgets/controls",
     "model_module_version": "1.5.0",
     "model_name": "HTMLModel",
     "state": {
      "_dom_classes": [],
      "_model_module": "@jupyter-widgets/controls",
      "_model_module_version": "1.5.0",
      "_model_name": "HTMLModel",
      "_view_count": null,
      "_view_module": "@jupyter-widgets/controls",
      "_view_module_version": "1.5.0",
      "_view_name": "HTMLView",
      "description": "",
      "description_tooltip": null,
      "layout": "IPY_MODEL_5267bb85d6c94df99b76f805cab4b8b4",
      "placeholder": "​",
      "style": "IPY_MODEL_ed0625b0a02043f0bdcbfebd24eba2d4",
      "value": "Epoch 3/5: 100%"
     }
    },
    "a86851d6481d43d28df9cbade3c0785d": {
     "model_module": "@jupyter-widgets/controls",
     "model_module_version": "1.5.0",
     "model_name": "HTMLModel",
     "state": {
      "_dom_classes": [],
      "_model_module": "@jupyter-widgets/controls",
      "_model_module_version": "1.5.0",
      "_model_name": "HTMLModel",
      "_view_count": null,
      "_view_module": "@jupyter-widgets/controls",
      "_view_module_version": "1.5.0",
      "_view_name": "HTMLView",
      "description": "",
      "description_tooltip": null,
      "layout": "IPY_MODEL_933b70c3aa24432b9e48e7edc83dc43c",
      "placeholder": "​",
      "style": "IPY_MODEL_e495ad687e7d464db8729b9a1201d6c1",
      "value": "Epoch 1/5: 100%"
     }
    },
    "ab9013ecd5e545708ec627d9f2739104": {
     "model_module": "@jupyter-widgets/controls",
     "model_module_version": "1.5.0",
     "model_name": "HBoxModel",
     "state": {
      "_dom_classes": [],
      "_model_module": "@jupyter-widgets/controls",
      "_model_module_version": "1.5.0",
      "_model_name": "HBoxModel",
      "_view_count": null,
      "_view_module": "@jupyter-widgets/controls",
      "_view_module_version": "1.5.0",
      "_view_name": "HBoxView",
      "box_style": "",
      "children": [
       "IPY_MODEL_eb23e950808144a7975237a02d107f2f",
       "IPY_MODEL_6cb51dfb501b40d3a42ce241c7019760",
       "IPY_MODEL_9a1aca6cdbff4726a5a00bb823a90a95"
      ],
      "layout": "IPY_MODEL_59633d8a8df944bab99143d7bde72045"
     }
    },
    "b63d4cbe42ba4641835c1bec999d0ce9": {
     "model_module": "@jupyter-widgets/controls",
     "model_module_version": "1.5.0",
     "model_name": "HTMLModel",
     "state": {
      "_dom_classes": [],
      "_model_module": "@jupyter-widgets/controls",
      "_model_module_version": "1.5.0",
      "_model_name": "HTMLModel",
      "_view_count": null,
      "_view_module": "@jupyter-widgets/controls",
      "_view_module_version": "1.5.0",
      "_view_name": "HTMLView",
      "description": "",
      "description_tooltip": null,
      "layout": "IPY_MODEL_cf868a8c96f444c3a74fd94d74fa7d72",
      "placeholder": "​",
      "style": "IPY_MODEL_365ed209b9144a08beaa6e8ac42f7ec9",
      "value": " 309/309 [00:26&lt;00:00, 11.51it/s, loss=0.562]"
     }
    },
    "b8d2784d4288479baec015af37c66ac6": {
     "model_module": "@jupyter-widgets/controls",
     "model_module_version": "1.5.0",
     "model_name": "HTMLModel",
     "state": {
      "_dom_classes": [],
      "_model_module": "@jupyter-widgets/controls",
      "_model_module_version": "1.5.0",
      "_model_name": "HTMLModel",
      "_view_count": null,
      "_view_module": "@jupyter-widgets/controls",
      "_view_module_version": "1.5.0",
      "_view_name": "HTMLView",
      "description": "",
      "description_tooltip": null,
      "layout": "IPY_MODEL_988d2f0bb3074ddca89d982f98815122",
      "placeholder": "​",
      "style": "IPY_MODEL_6c14b7cb36684e4a8b44368cee251eec",
      "value": " 309/309 [00:26&lt;00:00, 11.75it/s, loss=1.2]"
     }
    },
    "c76d70520ab54527bf14709fc50e97a9": {
     "model_module": "@jupyter-widgets/controls",
     "model_module_version": "1.5.0",
     "model_name": "DescriptionStyleModel",
     "state": {
      "_model_module": "@jupyter-widgets/controls",
      "_model_module_version": "1.5.0",
      "_model_name": "DescriptionStyleModel",
      "_view_count": null,
      "_view_module": "@jupyter-widgets/base",
      "_view_module_version": "1.2.0",
      "_view_name": "StyleView",
      "description_width": ""
     }
    },
    "cf3d68dceed548d2ad2ff87b01ea5fec": {
     "model_module": "@jupyter-widgets/base",
     "model_module_version": "1.2.0",
     "model_name": "LayoutModel",
     "state": {
      "_model_module": "@jupyter-widgets/base",
      "_model_module_version": "1.2.0",
      "_model_name": "LayoutModel",
      "_view_count": null,
      "_view_module": "@jupyter-widgets/base",
      "_view_module_version": "1.2.0",
      "_view_name": "LayoutView",
      "align_content": null,
      "align_items": null,
      "align_self": null,
      "border": null,
      "bottom": null,
      "display": null,
      "flex": null,
      "flex_flow": null,
      "grid_area": null,
      "grid_auto_columns": null,
      "grid_auto_flow": null,
      "grid_auto_rows": null,
      "grid_column": null,
      "grid_gap": null,
      "grid_row": null,
      "grid_template_areas": null,
      "grid_template_columns": null,
      "grid_template_rows": null,
      "height": null,
      "justify_content": null,
      "justify_items": null,
      "left": null,
      "margin": null,
      "max_height": null,
      "max_width": null,
      "min_height": null,
      "min_width": null,
      "object_fit": null,
      "object_position": null,
      "order": null,
      "overflow": null,
      "overflow_x": null,
      "overflow_y": null,
      "padding": null,
      "right": null,
      "top": null,
      "visibility": null,
      "width": null
     }
    },
    "cf868a8c96f444c3a74fd94d74fa7d72": {
     "model_module": "@jupyter-widgets/base",
     "model_module_version": "1.2.0",
     "model_name": "LayoutModel",
     "state": {
      "_model_module": "@jupyter-widgets/base",
      "_model_module_version": "1.2.0",
      "_model_name": "LayoutModel",
      "_view_count": null,
      "_view_module": "@jupyter-widgets/base",
      "_view_module_version": "1.2.0",
      "_view_name": "LayoutView",
      "align_content": null,
      "align_items": null,
      "align_self": null,
      "border": null,
      "bottom": null,
      "display": null,
      "flex": null,
      "flex_flow": null,
      "grid_area": null,
      "grid_auto_columns": null,
      "grid_auto_flow": null,
      "grid_auto_rows": null,
      "grid_column": null,
      "grid_gap": null,
      "grid_row": null,
      "grid_template_areas": null,
      "grid_template_columns": null,
      "grid_template_rows": null,
      "height": null,
      "justify_content": null,
      "justify_items": null,
      "left": null,
      "margin": null,
      "max_height": null,
      "max_width": null,
      "min_height": null,
      "min_width": null,
      "object_fit": null,
      "object_position": null,
      "order": null,
      "overflow": null,
      "overflow_x": null,
      "overflow_y": null,
      "padding": null,
      "right": null,
      "top": null,
      "visibility": null,
      "width": null
     }
    },
    "d0cbf4eb72b847a69c06ff490e470568": {
     "model_module": "@jupyter-widgets/controls",
     "model_module_version": "1.5.0",
     "model_name": "ProgressStyleModel",
     "state": {
      "_model_module": "@jupyter-widgets/controls",
      "_model_module_version": "1.5.0",
      "_model_name": "ProgressStyleModel",
      "_view_count": null,
      "_view_module": "@jupyter-widgets/base",
      "_view_module_version": "1.2.0",
      "_view_name": "StyleView",
      "bar_color": null,
      "description_width": ""
     }
    },
    "d27d2559a36d4040bb738c92aa7392ff": {
     "model_module": "@jupyter-widgets/base",
     "model_module_version": "1.2.0",
     "model_name": "LayoutModel",
     "state": {
      "_model_module": "@jupyter-widgets/base",
      "_model_module_version": "1.2.0",
      "_model_name": "LayoutModel",
      "_view_count": null,
      "_view_module": "@jupyter-widgets/base",
      "_view_module_version": "1.2.0",
      "_view_name": "LayoutView",
      "align_content": null,
      "align_items": null,
      "align_self": null,
      "border": null,
      "bottom": null,
      "display": null,
      "flex": null,
      "flex_flow": null,
      "grid_area": null,
      "grid_auto_columns": null,
      "grid_auto_flow": null,
      "grid_auto_rows": null,
      "grid_column": null,
      "grid_gap": null,
      "grid_row": null,
      "grid_template_areas": null,
      "grid_template_columns": null,
      "grid_template_rows": null,
      "height": null,
      "justify_content": null,
      "justify_items": null,
      "left": null,
      "margin": null,
      "max_height": null,
      "max_width": null,
      "min_height": null,
      "min_width": null,
      "object_fit": null,
      "object_position": null,
      "order": null,
      "overflow": null,
      "overflow_x": null,
      "overflow_y": null,
      "padding": null,
      "right": null,
      "top": null,
      "visibility": null,
      "width": null
     }
    },
    "d881babd2a0340ae843522520b0b6a74": {
     "model_module": "@jupyter-widgets/base",
     "model_module_version": "1.2.0",
     "model_name": "LayoutModel",
     "state": {
      "_model_module": "@jupyter-widgets/base",
      "_model_module_version": "1.2.0",
      "_model_name": "LayoutModel",
      "_view_count": null,
      "_view_module": "@jupyter-widgets/base",
      "_view_module_version": "1.2.0",
      "_view_name": "LayoutView",
      "align_content": null,
      "align_items": null,
      "align_self": null,
      "border": null,
      "bottom": null,
      "display": null,
      "flex": null,
      "flex_flow": null,
      "grid_area": null,
      "grid_auto_columns": null,
      "grid_auto_flow": null,
      "grid_auto_rows": null,
      "grid_column": null,
      "grid_gap": null,
      "grid_row": null,
      "grid_template_areas": null,
      "grid_template_columns": null,
      "grid_template_rows": null,
      "height": null,
      "justify_content": null,
      "justify_items": null,
      "left": null,
      "margin": null,
      "max_height": null,
      "max_width": null,
      "min_height": null,
      "min_width": null,
      "object_fit": null,
      "object_position": null,
      "order": null,
      "overflow": null,
      "overflow_x": null,
      "overflow_y": null,
      "padding": null,
      "right": null,
      "top": null,
      "visibility": null,
      "width": null
     }
    },
    "ded9e4b6582c4ea69ea873b3b8f24cf8": {
     "model_module": "@jupyter-widgets/base",
     "model_module_version": "1.2.0",
     "model_name": "LayoutModel",
     "state": {
      "_model_module": "@jupyter-widgets/base",
      "_model_module_version": "1.2.0",
      "_model_name": "LayoutModel",
      "_view_count": null,
      "_view_module": "@jupyter-widgets/base",
      "_view_module_version": "1.2.0",
      "_view_name": "LayoutView",
      "align_content": null,
      "align_items": null,
      "align_self": null,
      "border": null,
      "bottom": null,
      "display": null,
      "flex": null,
      "flex_flow": null,
      "grid_area": null,
      "grid_auto_columns": null,
      "grid_auto_flow": null,
      "grid_auto_rows": null,
      "grid_column": null,
      "grid_gap": null,
      "grid_row": null,
      "grid_template_areas": null,
      "grid_template_columns": null,
      "grid_template_rows": null,
      "height": null,
      "justify_content": null,
      "justify_items": null,
      "left": null,
      "margin": null,
      "max_height": null,
      "max_width": null,
      "min_height": null,
      "min_width": null,
      "object_fit": null,
      "object_position": null,
      "order": null,
      "overflow": null,
      "overflow_x": null,
      "overflow_y": null,
      "padding": null,
      "right": null,
      "top": null,
      "visibility": null,
      "width": null
     }
    },
    "e495ad687e7d464db8729b9a1201d6c1": {
     "model_module": "@jupyter-widgets/controls",
     "model_module_version": "1.5.0",
     "model_name": "DescriptionStyleModel",
     "state": {
      "_model_module": "@jupyter-widgets/controls",
      "_model_module_version": "1.5.0",
      "_model_name": "DescriptionStyleModel",
      "_view_count": null,
      "_view_module": "@jupyter-widgets/base",
      "_view_module_version": "1.2.0",
      "_view_name": "StyleView",
      "description_width": ""
     }
    },
    "e4fa104db54946ae97fc8a30cf768891": {
     "model_module": "@jupyter-widgets/controls",
     "model_module_version": "1.5.0",
     "model_name": "ProgressStyleModel",
     "state": {
      "_model_module": "@jupyter-widgets/controls",
      "_model_module_version": "1.5.0",
      "_model_name": "ProgressStyleModel",
      "_view_count": null,
      "_view_module": "@jupyter-widgets/base",
      "_view_module_version": "1.2.0",
      "_view_name": "StyleView",
      "bar_color": null,
      "description_width": ""
     }
    },
    "eb23e950808144a7975237a02d107f2f": {
     "model_module": "@jupyter-widgets/controls",
     "model_module_version": "1.5.0",
     "model_name": "HTMLModel",
     "state": {
      "_dom_classes": [],
      "_model_module": "@jupyter-widgets/controls",
      "_model_module_version": "1.5.0",
      "_model_name": "HTMLModel",
      "_view_count": null,
      "_view_module": "@jupyter-widgets/controls",
      "_view_module_version": "1.5.0",
      "_view_name": "HTMLView",
      "description": "",
      "description_tooltip": null,
      "layout": "IPY_MODEL_857fb4110cd84b339b5f7a4811262903",
      "placeholder": "​",
      "style": "IPY_MODEL_9f2bb0283a254df48b6ba4aef5c787d6",
      "value": "Epoch 4/5: 100%"
     }
    },
    "ed0625b0a02043f0bdcbfebd24eba2d4": {
     "model_module": "@jupyter-widgets/controls",
     "model_module_version": "1.5.0",
     "model_name": "DescriptionStyleModel",
     "state": {
      "_model_module": "@jupyter-widgets/controls",
      "_model_module_version": "1.5.0",
      "_model_name": "DescriptionStyleModel",
      "_view_count": null,
      "_view_module": "@jupyter-widgets/base",
      "_view_module_version": "1.2.0",
      "_view_name": "StyleView",
      "description_width": ""
     }
    },
    "eeca73ac6ec3428990aff247c42d2f9e": {
     "model_module": "@jupyter-widgets/controls",
     "model_module_version": "1.5.0",
     "model_name": "DescriptionStyleModel",
     "state": {
      "_model_module": "@jupyter-widgets/controls",
      "_model_module_version": "1.5.0",
      "_model_name": "DescriptionStyleModel",
      "_view_count": null,
      "_view_module": "@jupyter-widgets/base",
      "_view_module_version": "1.2.0",
      "_view_name": "StyleView",
      "description_width": ""
     }
    },
    "f94a5f99a11d4d1cabd212c15a6b1bf7": {
     "model_module": "@jupyter-widgets/base",
     "model_module_version": "1.2.0",
     "model_name": "LayoutModel",
     "state": {
      "_model_module": "@jupyter-widgets/base",
      "_model_module_version": "1.2.0",
      "_model_name": "LayoutModel",
      "_view_count": null,
      "_view_module": "@jupyter-widgets/base",
      "_view_module_version": "1.2.0",
      "_view_name": "LayoutView",
      "align_content": null,
      "align_items": null,
      "align_self": null,
      "border": null,
      "bottom": null,
      "display": null,
      "flex": null,
      "flex_flow": null,
      "grid_area": null,
      "grid_auto_columns": null,
      "grid_auto_flow": null,
      "grid_auto_rows": null,
      "grid_column": null,
      "grid_gap": null,
      "grid_row": null,
      "grid_template_areas": null,
      "grid_template_columns": null,
      "grid_template_rows": null,
      "height": null,
      "justify_content": null,
      "justify_items": null,
      "left": null,
      "margin": null,
      "max_height": null,
      "max_width": null,
      "min_height": null,
      "min_width": null,
      "object_fit": null,
      "object_position": null,
      "order": null,
      "overflow": null,
      "overflow_x": null,
      "overflow_y": null,
      "padding": null,
      "right": null,
      "top": null,
      "visibility": null,
      "width": null
     }
    },
    "fbac5ac8158f4fd7a9a9291fd8e941ab": {
     "model_module": "@jupyter-widgets/base",
     "model_module_version": "1.2.0",
     "model_name": "LayoutModel",
     "state": {
      "_model_module": "@jupyter-widgets/base",
      "_model_module_version": "1.2.0",
      "_model_name": "LayoutModel",
      "_view_count": null,
      "_view_module": "@jupyter-widgets/base",
      "_view_module_version": "1.2.0",
      "_view_name": "LayoutView",
      "align_content": null,
      "align_items": null,
      "align_self": null,
      "border": null,
      "bottom": null,
      "display": null,
      "flex": null,
      "flex_flow": null,
      "grid_area": null,
      "grid_auto_columns": null,
      "grid_auto_flow": null,
      "grid_auto_rows": null,
      "grid_column": null,
      "grid_gap": null,
      "grid_row": null,
      "grid_template_areas": null,
      "grid_template_columns": null,
      "grid_template_rows": null,
      "height": null,
      "justify_content": null,
      "justify_items": null,
      "left": null,
      "margin": null,
      "max_height": null,
      "max_width": null,
      "min_height": null,
      "min_width": null,
      "object_fit": null,
      "object_position": null,
      "order": null,
      "overflow": null,
      "overflow_x": null,
      "overflow_y": null,
      "padding": null,
      "right": null,
      "top": null,
      "visibility": null,
      "width": null
     }
    },
    "fd6447e7d521477b8752274f770f8df1": {
     "model_module": "@jupyter-widgets/controls",
     "model_module_version": "1.5.0",
     "model_name": "HBoxModel",
     "state": {
      "_dom_classes": [],
      "_model_module": "@jupyter-widgets/controls",
      "_model_module_version": "1.5.0",
      "_model_name": "HBoxModel",
      "_view_count": null,
      "_view_module": "@jupyter-widgets/controls",
      "_view_module_version": "1.5.0",
      "_view_name": "HBoxView",
      "box_style": "",
      "children": [
       "IPY_MODEL_54f481e175bc49edbbb73e2834e55fda",
       "IPY_MODEL_280b21d749b74f399b9fa5154c7f8708",
       "IPY_MODEL_722e2beef62a448c98798fee739340db"
      ],
      "layout": "IPY_MODEL_9dbbdbe03ccb44fcb49f2adbd7da7df5"
     }
    }
   }
  }
 },
 "nbformat": 4,
 "nbformat_minor": 4
}
