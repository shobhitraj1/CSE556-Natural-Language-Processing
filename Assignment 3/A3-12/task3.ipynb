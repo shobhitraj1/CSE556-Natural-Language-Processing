{
 "cells": [
  {
   "cell_type": "code",
   "execution_count": 1,
   "metadata": {
    "execution": {
     "iopub.execute_input": "2025-04-06T14:13:56.491974Z",
     "iopub.status.busy": "2025-04-06T14:13:56.491793Z",
     "iopub.status.idle": "2025-04-06T14:14:10.045251Z",
     "shell.execute_reply": "2025-04-06T14:14:10.044188Z",
     "shell.execute_reply.started": "2025-04-06T14:13:56.491956Z"
    },
    "trusted": true
   },
   "outputs": [
    {
     "name": "stdout",
     "output_type": "stream",
     "text": [
      "  Preparing metadata (setup.py) ... \u001b[?25l\u001b[?25hdone\n",
      "\u001b[2K   \u001b[90m━━━━━━━━━━━━━━━━━━━━━━━━━━━━━━━━━━━━━━━━\u001b[0m \u001b[32m61.1/61.1 kB\u001b[0m \u001b[31m2.0 MB/s\u001b[0m eta \u001b[36m0:00:00\u001b[0m\n",
      "\u001b[2K   \u001b[90m━━━━━━━━━━━━━━━━━━━━━━━━━━━━━━━━━━━━━━━━\u001b[0m \u001b[32m1.5/1.5 MB\u001b[0m \u001b[31m22.4 MB/s\u001b[0m eta \u001b[36m0:00:00\u001b[0ma \u001b[36m0:00:01\u001b[0m\n",
      "\u001b[?25h  Building wheel for rouge-score (setup.py) ... \u001b[?25l\u001b[?25hdone\n",
      "\u001b[31mERROR: pip's dependency resolver does not currently take into account all the packages that are installed. This behaviour is the source of the following dependency conflicts.\n",
      "preprocessing 0.1.13 requires nltk==3.2.4, but you have nltk 3.9.1 which is incompatible.\u001b[0m\u001b[31m\n",
      "\u001b[2K   \u001b[90m━━━━━━━━━━━━━━━━━━━━━━━━━━━━━━━━━━━━━━━━\u001b[0m \u001b[32m84.0/84.0 kB\u001b[0m \u001b[31m2.1 MB/s\u001b[0m eta \u001b[36m0:00:00\u001b[0m00:01\u001b[0m\n",
      "\u001b[?25h"
     ]
    },
    {
     "name": "stderr",
     "output_type": "stream",
     "text": [
      "[nltk_data] Downloading package punkt to /usr/share/nltk_data...\n",
      "[nltk_data]   Package punkt is already up-to-date!\n",
      "[nltk_data] Downloading package omw-1.4 to /usr/share/nltk_data...\n",
      "[nltk_data] Downloading package wordnet to /usr/share/nltk_data...\n",
      "[nltk_data]   Package wordnet is already up-to-date!\n",
      "[nltk_data] Downloading package wordnet2022 to /usr/share/nltk_data...\n",
      "[nltk_data]   Unzipping corpora/wordnet2022.zip.\n"
     ]
    }
   ],
   "source": [
    "!pip3 install --upgrade rouge-score bert-score nltk -q\n",
    "!pip3 install evaluate -q\n",
    "import nltk\n",
    "nltk.download(\"punkt\")\n",
    "nltk.download('omw-1.4')\n",
    "nltk.download('wordnet')\n",
    "nltk.download('wordnet2022')\n",
    "\n",
    "! cp -rf /usr/share/nltk_data/corpora/wordnet2022 /usr/share/nltk_data/corpora/wordnet # fix for kaggle (https://www.kaggle.com/code/sharanharsoor/tutorial-word-sense-disambiguation)"
   ]
  },
  {
   "cell_type": "code",
   "execution_count": null,
   "metadata": {
    "execution": {
     "iopub.execute_input": "2025-04-06T14:14:10.046657Z",
     "iopub.status.busy": "2025-04-06T14:14:10.046113Z",
     "iopub.status.idle": "2025-04-06T14:14:30.333787Z",
     "shell.execute_reply": "2025-04-06T14:14:30.332892Z",
     "shell.execute_reply.started": "2025-04-06T14:14:10.046636Z"
    },
    "trusted": true
   },
   "outputs": [],
   "source": [
    "import torch\n",
    "import torch.nn as nn\n",
    "import torch.optim as optim\n",
    "from torch.utils.data import DataLoader, Dataset\n",
    "import evaluate\n",
    "from rouge_score import rouge_scorer\n",
    "from nltk.translate.meteor_score import meteor_score\n",
    "from bert_score import score\n",
    "import os\n",
    "import pickle\n",
    "import matplotlib.pyplot as plt\n",
    "import pandas as pd\n",
    "from PIL import Image\n",
    "from transformers import ViTModel, ViTImageProcessor, BartForConditionalGeneration, BartTokenizer\n",
    "from transformers.modeling_outputs import BaseModelOutput\n",
    "from tqdm import tqdm"
   ]
  },
  {
   "cell_type": "markdown",
   "metadata": {},
   "source": [
    "## Dataset and Model"
   ]
  },
  {
   "cell_type": "code",
   "execution_count": null,
   "metadata": {
    "execution": {
     "iopub.execute_input": "2025-04-06T14:14:30.335602Z",
     "iopub.status.busy": "2025-04-06T14:14:30.335075Z",
     "iopub.status.idle": "2025-04-06T14:14:30.363143Z",
     "shell.execute_reply": "2025-04-06T14:14:30.362284Z",
     "shell.execute_reply.started": "2025-04-06T14:14:30.335578Z"
    },
    "trusted": true
   },
   "outputs": [],
   "source": [
    "class MOREDataset(Dataset):\n",
    "    def __init__(self, image_descriptions_file, detected_objects_file, data_file, image_dir, tokenizer, detection_threshold=0.6, max_inp_length=256, max_output_length=128):\n",
    "        with open(image_descriptions_file, \"rb\") as f:\n",
    "            self.image_descriptions = pickle.load(f)\n",
    "        with open(detected_objects_file, \"rb\") as f:\n",
    "            self.detected_objects = pickle.load(f)\n",
    "        \n",
    "        self.row_data = pd.read_csv(data_file, sep=\"\\t\", index_col=0)\n",
    "        self.image_dir = image_dir\n",
    "        self.tokenizer = tokenizer\n",
    "        self.max_inp_length = max_inp_length\n",
    "        self.max_output_length = max_output_length\n",
    "        self.detection_threshold = detection_threshold\n",
    "\n",
    "        detected_objs = {}\n",
    "        for image_id, objects in self.detected_objects.items():\n",
    "            detected_objs[image_id] = \" \".join([str(objects[\"classes\"][i]) for i in range(len(objects[\"classes\"])) if objects[\"confidence_scores\"][i] > self.detection_threshold])\n",
    "\n",
    "        self.detected_objects = detected_objs\n",
    "\n",
    "        self.row_data[\"detected_objects\"] = self.row_data[\"pid\"].map(self.detected_objects).fillna(\"\")\n",
    "        self.row_data[\"image_description\"] = self.row_data[\"pid\"].map(self.image_descriptions).fillna(\"\")\n",
    "        self.row_data[\"image_path\"] = self.row_data[\"pid\"].apply(lambda x: os.path.join(self.image_dir, x + \".jpg\"))\n",
    "        self.row_data[\"text\"] = self.row_data[\"text\"].astype(str).fillna(\"\")\n",
    "        self.row_data[\"explanation\"] = self.row_data[\"explanation\"].astype(str).fillna(\"\")\n",
    "        self.row_data[\"target_of_sarcasm\"] = self.row_data[\"target_of_sarcasm\"].astype(str).fillna(\"\")\n",
    "\n",
    "        self.row_data[\"combined_input\"] = self.row_data[\"text\"] + \" \" + self.row_data[\"image_description\"] + \" \" + self.row_data[\"detected_objects\"] + \" \" + self.row_data[\"target_of_sarcasm\"]\n",
    "\n",
    "    def __len__(self):\n",
    "        return len(self.row_data)\n",
    "    \n",
    "    def __getitem__(self, index):\n",
    "        row = self.row_data.iloc[index]\n",
    "        image_path = row[\"image_path\"]\n",
    "\n",
    "        if not os.path.exists(image_path):\n",
    "            raise FileNotFoundError(f\"Image file {image_path} not found.\")\n",
    "\n",
    "        image = Image.open(image_path).convert(\"RGB\")\n",
    "        combined_input = row[\"combined_input\"]\n",
    "        explaination = row[\"explanation\"]\n",
    "\n",
    "        input_embeddings = self.tokenizer(\n",
    "            combined_input,\n",
    "            padding=\"max_length\",\n",
    "            truncation=True,\n",
    "            max_length=self.max_inp_length,\n",
    "            return_tensors=\"pt\"\n",
    "        )\n",
    "\n",
    "        output_embeddings = self.tokenizer(\n",
    "            explaination,\n",
    "            padding=\"max_length\",\n",
    "            truncation=True,\n",
    "            max_length=self.max_output_length,\n",
    "            return_tensors=\"pt\"\n",
    "        )\n",
    "\n",
    "        return {\n",
    "            \"input_ids\": input_embeddings[\"input_ids\"].squeeze(0),\n",
    "            \"attention_mask\": input_embeddings[\"attention_mask\"].squeeze(0),\n",
    "            \"labels\": output_embeddings[\"input_ids\"].squeeze(0),\n",
    "            \"image\": image\n",
    "        }\n",
    "    \n",
    "class TURBOModel(nn.Module):\n",
    "    def __init__(self, fusion_dim=768):\n",
    "        super(TURBOModel, self).__init__()\n",
    "\n",
    "        self.vision_transformer = ViTModel.from_pretrained(\"google/vit-base-patch16-224-in21k\")\n",
    "        self.image_feature_extractor = ViTImageProcessor.from_pretrained(\"google/vit-base-patch16-224-in21k\")\n",
    "\n",
    "        self.bart = BartForConditionalGeneration.from_pretrained(\"facebook/bart-base\")\n",
    "\n",
    "        self.img_feature_proj = nn.Linear(self.vision_transformer.config.hidden_size, fusion_dim)\n",
    "\n",
    "        self.text_attention = nn.MultiheadAttention(embed_dim=fusion_dim, num_heads=8, batch_first=True)\n",
    "        self.img_attention = nn.MultiheadAttention(embed_dim=fusion_dim, num_heads=8, batch_first=True)\n",
    "        \n",
    "        self.gated_fusion_img = nn.Linear(fusion_dim, fusion_dim)\n",
    "        self.gated_fusion_text = nn.Linear(fusion_dim, fusion_dim)\n",
    "\n",
    "        self.fusion_weights = nn.Parameter(torch.ones(4) / 4)\n",
    "\n",
    "    def forward(self, images, input_ids, attention_mask, labels=None, inference=False):\n",
    "        device = input_ids.device\n",
    "\n",
    "        image_features = self.image_feature_extractor(images, return_tensors=\"pt\").to(device)\n",
    "        vit_outputs = self.vision_transformer(**image_features)\n",
    "\n",
    "        image_features = self.img_feature_proj(vit_outputs.pooler_output)\n",
    "\n",
    "        text_hidden_state = self.bart.model.encoder(input_ids=input_ids, attention_mask=attention_mask).last_hidden_state\n",
    "\n",
    "        # gating from refernced paper\n",
    "        _, seq_len, _ = text_hidden_state.size()\n",
    "        img_features = image_features.unsqueeze(1).expand(-1, seq_len, -1)\n",
    "\n",
    "        attention_img, _ = self.img_attention(img_features, img_features, img_features)\n",
    "        attention_text, _ = self.text_attention(text_hidden_state, text_hidden_state, text_hidden_state)\n",
    "\n",
    "        img_gateing = torch.sigmoid(self.gated_fusion_img(img_features))\n",
    "        txt_gateing = torch.sigmoid(self.gated_fusion_text(text_hidden_state))\n",
    "\n",
    "        Fvt = attention_text * img_features\n",
    "        Ftv = attention_img * text_hidden_state\n",
    "\n",
    "        F1 = (img_gateing * Ftv) + ((1 - img_gateing) * Fvt)\n",
    "        F2 = (txt_gateing * Ftv) + ((1 - txt_gateing) * Fvt)\n",
    "\n",
    "        F3 = (img_gateing * img_features) + ((1 - img_gateing) * Ftv)\n",
    "        F4 = (txt_gateing * text_hidden_state) + ((1 - txt_gateing) * Fvt)\n",
    "\n",
    "        combined_fusion = self.fusion_weights[0] * F1 + self.fusion_weights[1] * F2 + self.fusion_weights[2] * F3 + self.fusion_weights[3] * F4\n",
    "        Z = text_hidden_state + combined_fusion\n",
    "\n",
    "        bart_decoder_input = BaseModelOutput(last_hidden_state=Z)\n",
    "\n",
    "        if not inference:\n",
    "            outputs = self.bart(\n",
    "                encoder_outputs=bart_decoder_input,\n",
    "                attention_mask=attention_mask,\n",
    "                labels=labels\n",
    "            )\n",
    "            \n",
    "        else:\n",
    "            outputs = self.bart.generate(\n",
    "                encoder_outputs=bart_decoder_input,\n",
    "                attention_mask=attention_mask,\n",
    "                max_length=self.bart.config.max_length,\n",
    "                num_beams=5,\n",
    "                early_stopping=True\n",
    "            )\n",
    "            \n",
    "        return outputs\n",
    "\n",
    "def evaluate_model(model, val_loader, device, tokenizer):\n",
    "    model.eval()\n",
    "    total_loss = 0.0\n",
    "    predictions = []\n",
    "    \n",
    "    with torch.no_grad():\n",
    "        for batch in tqdm(val_loader, desc=\"Evaluating\"):\n",
    "            images = batch['image']\n",
    "            input_ids = batch['input_ids'].to(device)\n",
    "            attention_mask = batch['attention_mask'].to(device)\n",
    "            labels = batch['labels'].to(device)\n",
    "\n",
    "            outputs = model(images, input_ids, attention_mask, labels=labels)\n",
    "            loss = outputs.loss\n",
    "            total_loss += loss.item()\n",
    "\n",
    "            generated = model(images, input_ids, attention_mask, inference=True)\n",
    "            decoded_preds = tokenizer.batch_decode(generated, skip_special_tokens=True)\n",
    "            decoded_labels = tokenizer.batch_decode(labels, skip_special_tokens=True)\n",
    "            \n",
    "            for pred, label in zip(decoded_preds, decoded_labels):\n",
    "                predictions.append({\"prediction\": pred, \"reference\": label})\n",
    "                \n",
    "    avg_loss = total_loss / len(val_loader)\n",
    "\n",
    "    preds = [item[\"prediction\"] for item in predictions]\n",
    "    refs = [item[\"reference\"] for item in predictions]\n",
    "\n",
    "    # ROUGE Calculation\n",
    "    scorer = rouge_scorer.RougeScorer(['rouge1', 'rouge2', 'rougeL'], use_stemmer=True)\n",
    "    rouge_scores = {metric: 0.0 for metric in ['rouge1', 'rouge2', 'rougeL']}\n",
    "    for pred, ref in zip(preds, refs):\n",
    "        scores = scorer.score(ref, pred)\n",
    "        for metric in rouge_scores:\n",
    "            rouge_scores[metric] += scores[metric].fmeasure\n",
    "    for metric in rouge_scores:\n",
    "        rouge_scores[metric] /= len(preds)\n",
    "\n",
    "    # BLEU Calculation\n",
    "    raw_refs = [[r] for r in refs]  \n",
    "    raw_preds = preds\n",
    "\n",
    "    bleu_metric = evaluate.load(\"bleu\")\n",
    "    bleu1 = bleu_metric.compute(predictions=raw_preds, references=raw_refs, max_order=1)\n",
    "    bleu2 = bleu_metric.compute(predictions=raw_preds, references=raw_refs, max_order=2)\n",
    "    bleu3 = bleu_metric.compute(predictions=raw_preds, references=raw_refs, max_order=3)\n",
    "    bleu4 = bleu_metric.compute(predictions=raw_preds, references=raw_refs, max_order=4)\n",
    "\n",
    "    # METEOR Calculation\n",
    "    meteor_scores = []\n",
    "    for pred, ref in zip(preds, refs):\n",
    "        meteor_scores.append(meteor_score([ref.split()], pred.split()))\n",
    "    avg_meteor = sum(meteor_scores) / len(meteor_scores)\n",
    "    \n",
    "    P, R, F1 = score(preds, refs, lang=\"en\", verbose=False) \n",
    "    bert_precision = P.mean().item()\n",
    "    bert_recall = R.mean().item()\n",
    "    bert_f1 = F1.mean().item()\n",
    "\n",
    "    metrics = {\n",
    "        \"ROUGE-1\": rouge_scores[\"rouge1\"],\n",
    "        \"ROUGE-2\": rouge_scores[\"rouge2\"],\n",
    "        \"ROUGE-L\": rouge_scores[\"rougeL\"],\n",
    "        \"Evaluate BLEU-1\" : bleu1['bleu'],\n",
    "        \"Evaluate BLEU-2\" : bleu2['bleu'],\n",
    "        \"Evaluate BLEU-3\" : bleu3['bleu'],\n",
    "        \"Evaluate BLEU-4\" : bleu4['bleu'],\n",
    "        \"METEOR\": avg_meteor,\n",
    "        \"BERT Precision\": bert_precision,\n",
    "        \"BERT Recall\" : bert_recall,\n",
    "        \"BERT F1\": bert_f1\n",
    "    }\n",
    "    \n",
    "    return avg_loss, metrics\n",
    "\n",
    "def train_model(model, train_loader, val_loader, optimizer, device, tokenizer, num_epochs=3):\n",
    "    model.to(device)\n",
    "    best_loss = float(\"inf\")\n",
    "    train_losses = []\n",
    "    val_losses = []\n",
    "    \n",
    "    for epoch in range(num_epochs):\n",
    "        print(f\"Epoch {epoch+1}/{num_epochs}\")\n",
    "        model.train()\n",
    "        sum_loss = 0.0\n",
    "\n",
    "        for batch in tqdm(train_loader, desc=\"Training\"):\n",
    "            images = batch['image']\n",
    "            input_ids = batch['input_ids'].to(device)\n",
    "            attention_mask = batch['attention_mask'].to(device)\n",
    "            labels = batch['labels'].to(device)\n",
    "            \n",
    "            optimizer.zero_grad()\n",
    "            outputs = model(images, input_ids, attention_mask, labels=labels)\n",
    "            loss = outputs.loss\n",
    "            loss.backward()\n",
    "            optimizer.step()\n",
    "\n",
    "            sum_loss += loss.item()\n",
    "\n",
    "        avg_train_loss = sum_loss / len(train_loader)\n",
    "        print(f\"Training Loss: {avg_train_loss:.4f}\")\n",
    "\n",
    "        val_loss, metrics = evaluate_model(model, val_loader, device, tokenizer)\n",
    "        print(f\"Validation Loss: {val_loss:.4f}\")\n",
    "        print(f\"ROUGE-1: {metrics['ROUGE-1']:.4f}\")\n",
    "        print(f\"ROUGE-2: {metrics['ROUGE-2']:.4f}\")\n",
    "        print(f\"ROUGE-L: {metrics['ROUGE-L']:.4f}\")\n",
    "        print(f\"BLEU-1: {metrics['Evaluate BLEU-1']:.4f}\")\n",
    "        print(f\"BLEU-2: {metrics['Evaluate BLEU-2']:.4f}\")\n",
    "        print(f\"BLEU-3: {metrics['Evaluate BLEU-3']:.4f}\")\n",
    "        print(f\"BLEU-4: {metrics['Evaluate BLEU-4']:.4f}\")\n",
    "        print(f\"METEOR: {metrics['METEOR']:.4f}\")\n",
    "        print(f\"BERTscore Precision: {metrics['BERT Precision']:.4f}\")\n",
    "        print(f\"BERTscore Recall: {metrics['BERT Recall']:.4f}\")\n",
    "        print(f\"BERTscore F1: {metrics['BERT F1']:.4f}\")\n",
    "\n",
    "        train_losses.append(avg_train_loss)\n",
    "        val_losses.append(val_loss)\n",
    "\n",
    "        torch.save(model.state_dict(), f\"TURBOModel_epoch{epoch+1}.pth\")\n",
    "        print(f\"Saved model checkpoint for epoch {epoch+1}\")\n",
    "\n",
    "        if val_loss < best_loss:\n",
    "            best_loss = val_loss\n",
    "            print(f\"New best model found at epoch {epoch+1}, saving as best model...\")\n",
    "            torch.save(model.state_dict(), \"TURBOModel_best.pth\")\n",
    "\n",
    "    return train_losses, val_losses\n",
    "          \n",
    "def custom_collate_fn(batch):\n",
    "    return {\n",
    "        'image': [item['image'] for item in batch],\n",
    "        'input_ids': torch.stack([item['input_ids'] for item in batch]),\n",
    "        'attention_mask': torch.stack([item['attention_mask'] for item in batch]),\n",
    "        'labels': torch.stack([item['labels'] for item in batch])\n",
    "    }"
   ]
  },
  {
   "cell_type": "markdown",
   "metadata": {},
   "source": [
    "## Model Training"
   ]
  },
  {
   "cell_type": "code",
   "execution_count": 4,
   "metadata": {
    "execution": {
     "iopub.execute_input": "2025-04-06T14:14:30.364690Z",
     "iopub.status.busy": "2025-04-06T14:14:30.364351Z",
     "iopub.status.idle": "2025-04-06T16:09:00.725184Z",
     "shell.execute_reply": "2025-04-06T16:09:00.724463Z",
     "shell.execute_reply.started": "2025-04-06T14:14:30.364660Z"
    },
    "trusted": true
   },
   "outputs": [
    {
     "data": {
      "application/vnd.jupyter.widget-view+json": {
       "model_id": "99adccb3bfda4dda8eddcd9b04122601",
       "version_major": 2,
       "version_minor": 0
      },
      "text/plain": [
       "vocab.json:   0%|          | 0.00/899k [00:00<?, ?B/s]"
      ]
     },
     "metadata": {},
     "output_type": "display_data"
    },
    {
     "data": {
      "application/vnd.jupyter.widget-view+json": {
       "model_id": "17d53fcdf22544db8cf62db3c7b97a45",
       "version_major": 2,
       "version_minor": 0
      },
      "text/plain": [
       "merges.txt:   0%|          | 0.00/456k [00:00<?, ?B/s]"
      ]
     },
     "metadata": {},
     "output_type": "display_data"
    },
    {
     "data": {
      "application/vnd.jupyter.widget-view+json": {
       "model_id": "ff439f8801824ac6927f0703f49ad060",
       "version_major": 2,
       "version_minor": 0
      },
      "text/plain": [
       "tokenizer.json:   0%|          | 0.00/1.36M [00:00<?, ?B/s]"
      ]
     },
     "metadata": {},
     "output_type": "display_data"
    },
    {
     "data": {
      "application/vnd.jupyter.widget-view+json": {
       "model_id": "1b90e0402ec9438a96fc15de1222f5dc",
       "version_major": 2,
       "version_minor": 0
      },
      "text/plain": [
       "config.json:   0%|          | 0.00/1.72k [00:00<?, ?B/s]"
      ]
     },
     "metadata": {},
     "output_type": "display_data"
    },
    {
     "data": {
      "application/vnd.jupyter.widget-view+json": {
       "model_id": "2679a1e178604bcd891b799a04b9e931",
       "version_major": 2,
       "version_minor": 0
      },
      "text/plain": [
       "config.json:   0%|          | 0.00/502 [00:00<?, ?B/s]"
      ]
     },
     "metadata": {},
     "output_type": "display_data"
    },
    {
     "data": {
      "application/vnd.jupyter.widget-view+json": {
       "model_id": "a30e24e709ea45e9a9ab3c1a8d6b086b",
       "version_major": 2,
       "version_minor": 0
      },
      "text/plain": [
       "model.safetensors:   0%|          | 0.00/346M [00:00<?, ?B/s]"
      ]
     },
     "metadata": {},
     "output_type": "display_data"
    },
    {
     "data": {
      "application/vnd.jupyter.widget-view+json": {
       "model_id": "39f6ad40b75147188e05e3309528b4f1",
       "version_major": 2,
       "version_minor": 0
      },
      "text/plain": [
       "preprocessor_config.json:   0%|          | 0.00/160 [00:00<?, ?B/s]"
      ]
     },
     "metadata": {},
     "output_type": "display_data"
    },
    {
     "data": {
      "application/vnd.jupyter.widget-view+json": {
       "model_id": "771158c5508d41e6967ae07d4f915399",
       "version_major": 2,
       "version_minor": 0
      },
      "text/plain": [
       "model.safetensors:   0%|          | 0.00/558M [00:00<?, ?B/s]"
      ]
     },
     "metadata": {},
     "output_type": "display_data"
    },
    {
     "name": "stdout",
     "output_type": "stream",
     "text": [
      "Epoch 1/20\n"
     ]
    },
    {
     "name": "stderr",
     "output_type": "stream",
     "text": [
      "Training: 100%|██████████| 187/187 [05:25<00:00,  1.74s/it]\n"
     ]
    },
    {
     "name": "stdout",
     "output_type": "stream",
     "text": [
      "Training Loss: 5.1527\n"
     ]
    },
    {
     "name": "stderr",
     "output_type": "stream",
     "text": [
      "Evaluating: 100%|██████████| 11/11 [00:21<00:00,  1.99s/it]\n"
     ]
    },
    {
     "data": {
      "application/vnd.jupyter.widget-view+json": {
       "model_id": "eb91bb03acd044beb74c8e25376b312f",
       "version_major": 2,
       "version_minor": 0
      },
      "text/plain": [
       "Downloading builder script:   0%|          | 0.00/5.94k [00:00<?, ?B/s]"
      ]
     },
     "metadata": {},
     "output_type": "display_data"
    },
    {
     "data": {
      "application/vnd.jupyter.widget-view+json": {
       "model_id": "3fcf4fa26fa04e0b915bbb174d040eea",
       "version_major": 2,
       "version_minor": 0
      },
      "text/plain": [
       "Downloading extra modules:   0%|          | 0.00/1.55k [00:00<?, ?B/s]"
      ]
     },
     "metadata": {},
     "output_type": "display_data"
    },
    {
     "data": {
      "application/vnd.jupyter.widget-view+json": {
       "model_id": "522d0d42e4284b90a64f5268ccb6f0fe",
       "version_major": 2,
       "version_minor": 0
      },
      "text/plain": [
       "Downloading extra modules:   0%|          | 0.00/3.34k [00:00<?, ?B/s]"
      ]
     },
     "metadata": {},
     "output_type": "display_data"
    },
    {
     "data": {
      "application/vnd.jupyter.widget-view+json": {
       "model_id": "6fd1ef6aee6f473084d55ba0a6ffbf32",
       "version_major": 2,
       "version_minor": 0
      },
      "text/plain": [
       "tokenizer_config.json:   0%|          | 0.00/25.0 [00:00<?, ?B/s]"
      ]
     },
     "metadata": {},
     "output_type": "display_data"
    },
    {
     "data": {
      "application/vnd.jupyter.widget-view+json": {
       "model_id": "e71a4e0d1e9b4c968b135dee81b93836",
       "version_major": 2,
       "version_minor": 0
      },
      "text/plain": [
       "config.json:   0%|          | 0.00/482 [00:00<?, ?B/s]"
      ]
     },
     "metadata": {},
     "output_type": "display_data"
    },
    {
     "data": {
      "application/vnd.jupyter.widget-view+json": {
       "model_id": "534781468028499a81f4f5386e3a0fe0",
       "version_major": 2,
       "version_minor": 0
      },
      "text/plain": [
       "vocab.json:   0%|          | 0.00/899k [00:00<?, ?B/s]"
      ]
     },
     "metadata": {},
     "output_type": "display_data"
    },
    {
     "data": {
      "application/vnd.jupyter.widget-view+json": {
       "model_id": "24e0a08934374d0ab451683b24bc72d4",
       "version_major": 2,
       "version_minor": 0
      },
      "text/plain": [
       "merges.txt:   0%|          | 0.00/456k [00:00<?, ?B/s]"
      ]
     },
     "metadata": {},
     "output_type": "display_data"
    },
    {
     "data": {
      "application/vnd.jupyter.widget-view+json": {
       "model_id": "6098d960d4ed4e56aa7c901e8802c301",
       "version_major": 2,
       "version_minor": 0
      },
      "text/plain": [
       "tokenizer.json:   0%|          | 0.00/1.36M [00:00<?, ?B/s]"
      ]
     },
     "metadata": {},
     "output_type": "display_data"
    },
    {
     "data": {
      "application/vnd.jupyter.widget-view+json": {
       "model_id": "7d16e6c756024bdf8ceeb92069740c6a",
       "version_major": 2,
       "version_minor": 0
      },
      "text/plain": [
       "model.safetensors:   0%|          | 0.00/1.42G [00:00<?, ?B/s]"
      ]
     },
     "metadata": {},
     "output_type": "display_data"
    },
    {
     "name": "stderr",
     "output_type": "stream",
     "text": [
      "Some weights of RobertaModel were not initialized from the model checkpoint at roberta-large and are newly initialized: ['roberta.pooler.dense.bias', 'roberta.pooler.dense.weight']\n",
      "You should probably TRAIN this model on a down-stream task to be able to use it for predictions and inference.\n"
     ]
    },
    {
     "name": "stdout",
     "output_type": "stream",
     "text": [
      "Validation Loss: 1.2166\n",
      "ROUGE-1: 0.4732\n",
      "ROUGE-2: 0.3041\n",
      "ROUGE-L: 0.4432\n",
      "BLEU-1: 0.4236\n",
      "BLEU-2: 0.3438\n",
      "BLEU-3: 0.2877\n",
      "BLEU-4: 0.2457\n",
      "METEOR: 0.3496\n",
      "BERTscore Precision: 0.9059\n",
      "BERTscore Recall: 0.8996\n",
      "BERTscore F1: 0.9025\n",
      "Saved model checkpoint for epoch 1\n",
      "New best model found at epoch 1, saving as best model...\n",
      "Epoch 2/20\n"
     ]
    },
    {
     "name": "stderr",
     "output_type": "stream",
     "text": [
      "Training: 100%|██████████| 187/187 [05:14<00:00,  1.68s/it]\n"
     ]
    },
    {
     "name": "stdout",
     "output_type": "stream",
     "text": [
      "Training Loss: 0.7828\n"
     ]
    },
    {
     "name": "stderr",
     "output_type": "stream",
     "text": [
      "Evaluating: 100%|██████████| 11/11 [00:20<00:00,  1.90s/it]\n",
      "Some weights of RobertaModel were not initialized from the model checkpoint at roberta-large and are newly initialized: ['roberta.pooler.dense.bias', 'roberta.pooler.dense.weight']\n",
      "You should probably TRAIN this model on a down-stream task to be able to use it for predictions and inference.\n"
     ]
    },
    {
     "name": "stdout",
     "output_type": "stream",
     "text": [
      "Validation Loss: 0.3279\n",
      "ROUGE-1: 0.4839\n",
      "ROUGE-2: 0.3213\n",
      "ROUGE-L: 0.4568\n",
      "BLEU-1: 0.4419\n",
      "BLEU-2: 0.3621\n",
      "BLEU-3: 0.3061\n",
      "BLEU-4: 0.2620\n",
      "METEOR: 0.3759\n",
      "BERTscore Precision: 0.9103\n",
      "BERTscore Recall: 0.9014\n",
      "BERTscore F1: 0.9055\n",
      "Saved model checkpoint for epoch 2\n",
      "New best model found at epoch 2, saving as best model...\n",
      "Epoch 3/20\n"
     ]
    },
    {
     "name": "stderr",
     "output_type": "stream",
     "text": [
      "Training: 100%|██████████| 187/187 [05:13<00:00,  1.68s/it]\n"
     ]
    },
    {
     "name": "stdout",
     "output_type": "stream",
     "text": [
      "Training Loss: 0.3432\n"
     ]
    },
    {
     "name": "stderr",
     "output_type": "stream",
     "text": [
      "Evaluating: 100%|██████████| 11/11 [00:20<00:00,  1.89s/it]\n",
      "Some weights of RobertaModel were not initialized from the model checkpoint at roberta-large and are newly initialized: ['roberta.pooler.dense.bias', 'roberta.pooler.dense.weight']\n",
      "You should probably TRAIN this model on a down-stream task to be able to use it for predictions and inference.\n"
     ]
    },
    {
     "name": "stdout",
     "output_type": "stream",
     "text": [
      "Validation Loss: 0.2522\n",
      "ROUGE-1: 0.5050\n",
      "ROUGE-2: 0.3448\n",
      "ROUGE-L: 0.4789\n",
      "BLEU-1: 0.4520\n",
      "BLEU-2: 0.3758\n",
      "BLEU-3: 0.3216\n",
      "BLEU-4: 0.2785\n",
      "METEOR: 0.4006\n",
      "BERTscore Precision: 0.9171\n",
      "BERTscore Recall: 0.9066\n",
      "BERTscore F1: 0.9115\n",
      "Saved model checkpoint for epoch 3\n",
      "New best model found at epoch 3, saving as best model...\n",
      "Epoch 4/20\n"
     ]
    },
    {
     "name": "stderr",
     "output_type": "stream",
     "text": [
      "Training: 100%|██████████| 187/187 [05:13<00:00,  1.68s/it]\n"
     ]
    },
    {
     "name": "stdout",
     "output_type": "stream",
     "text": [
      "Training Loss: 0.2717\n"
     ]
    },
    {
     "name": "stderr",
     "output_type": "stream",
     "text": [
      "Evaluating: 100%|██████████| 11/11 [00:20<00:00,  1.90s/it]\n",
      "Some weights of RobertaModel were not initialized from the model checkpoint at roberta-large and are newly initialized: ['roberta.pooler.dense.bias', 'roberta.pooler.dense.weight']\n",
      "You should probably TRAIN this model on a down-stream task to be able to use it for predictions and inference.\n"
     ]
    },
    {
     "name": "stdout",
     "output_type": "stream",
     "text": [
      "Validation Loss: 0.2280\n",
      "ROUGE-1: 0.5186\n",
      "ROUGE-2: 0.3666\n",
      "ROUGE-L: 0.4966\n",
      "BLEU-1: 0.4581\n",
      "BLEU-2: 0.3862\n",
      "BLEU-3: 0.3340\n",
      "BLEU-4: 0.2930\n",
      "METEOR: 0.4212\n",
      "BERTscore Precision: 0.9194\n",
      "BERTscore Recall: 0.9080\n",
      "BERTscore F1: 0.9135\n",
      "Saved model checkpoint for epoch 4\n",
      "New best model found at epoch 4, saving as best model...\n",
      "Epoch 5/20\n"
     ]
    },
    {
     "name": "stderr",
     "output_type": "stream",
     "text": [
      "Training: 100%|██████████| 187/187 [05:14<00:00,  1.68s/it]\n"
     ]
    },
    {
     "name": "stdout",
     "output_type": "stream",
     "text": [
      "Training Loss: 0.2410\n"
     ]
    },
    {
     "name": "stderr",
     "output_type": "stream",
     "text": [
      "Evaluating: 100%|██████████| 11/11 [00:20<00:00,  1.89s/it]\n",
      "Some weights of RobertaModel were not initialized from the model checkpoint at roberta-large and are newly initialized: ['roberta.pooler.dense.bias', 'roberta.pooler.dense.weight']\n",
      "You should probably TRAIN this model on a down-stream task to be able to use it for predictions and inference.\n"
     ]
    },
    {
     "name": "stdout",
     "output_type": "stream",
     "text": [
      "Validation Loss: 0.2149\n",
      "ROUGE-1: 0.5158\n",
      "ROUGE-2: 0.3616\n",
      "ROUGE-L: 0.4939\n",
      "BLEU-1: 0.4582\n",
      "BLEU-2: 0.3861\n",
      "BLEU-3: 0.3341\n",
      "BLEU-4: 0.2931\n",
      "METEOR: 0.4109\n",
      "BERTscore Precision: 0.9216\n",
      "BERTscore Recall: 0.9096\n",
      "BERTscore F1: 0.9153\n",
      "Saved model checkpoint for epoch 5\n",
      "New best model found at epoch 5, saving as best model...\n",
      "Epoch 6/20\n"
     ]
    },
    {
     "name": "stderr",
     "output_type": "stream",
     "text": [
      "Training: 100%|██████████| 187/187 [05:14<00:00,  1.68s/it]\n"
     ]
    },
    {
     "name": "stdout",
     "output_type": "stream",
     "text": [
      "Training Loss: 0.2223\n"
     ]
    },
    {
     "name": "stderr",
     "output_type": "stream",
     "text": [
      "Evaluating: 100%|██████████| 11/11 [00:20<00:00,  1.89s/it]\n",
      "Some weights of RobertaModel were not initialized from the model checkpoint at roberta-large and are newly initialized: ['roberta.pooler.dense.bias', 'roberta.pooler.dense.weight']\n",
      "You should probably TRAIN this model on a down-stream task to be able to use it for predictions and inference.\n"
     ]
    },
    {
     "name": "stdout",
     "output_type": "stream",
     "text": [
      "Validation Loss: 0.2076\n",
      "ROUGE-1: 0.5239\n",
      "ROUGE-2: 0.3693\n",
      "ROUGE-L: 0.5019\n",
      "BLEU-1: 0.4616\n",
      "BLEU-2: 0.3889\n",
      "BLEU-3: 0.3371\n",
      "BLEU-4: 0.2971\n",
      "METEOR: 0.4211\n",
      "BERTscore Precision: 0.9218\n",
      "BERTscore Recall: 0.9107\n",
      "BERTscore F1: 0.9160\n",
      "Saved model checkpoint for epoch 6\n",
      "New best model found at epoch 6, saving as best model...\n",
      "Epoch 7/20\n"
     ]
    },
    {
     "name": "stderr",
     "output_type": "stream",
     "text": [
      "Training: 100%|██████████| 187/187 [05:14<00:00,  1.68s/it]\n"
     ]
    },
    {
     "name": "stdout",
     "output_type": "stream",
     "text": [
      "Training Loss: 0.2081\n"
     ]
    },
    {
     "name": "stderr",
     "output_type": "stream",
     "text": [
      "Evaluating: 100%|██████████| 11/11 [00:20<00:00,  1.89s/it]\n",
      "Some weights of RobertaModel were not initialized from the model checkpoint at roberta-large and are newly initialized: ['roberta.pooler.dense.bias', 'roberta.pooler.dense.weight']\n",
      "You should probably TRAIN this model on a down-stream task to be able to use it for predictions and inference.\n"
     ]
    },
    {
     "name": "stdout",
     "output_type": "stream",
     "text": [
      "Validation Loss: 0.2037\n",
      "ROUGE-1: 0.5323\n",
      "ROUGE-2: 0.3762\n",
      "ROUGE-L: 0.5087\n",
      "BLEU-1: 0.4587\n",
      "BLEU-2: 0.3868\n",
      "BLEU-3: 0.3369\n",
      "BLEU-4: 0.2980\n",
      "METEOR: 0.4199\n",
      "BERTscore Precision: 0.9239\n",
      "BERTscore Recall: 0.9118\n",
      "BERTscore F1: 0.9176\n",
      "Saved model checkpoint for epoch 7\n",
      "New best model found at epoch 7, saving as best model...\n",
      "Epoch 8/20\n"
     ]
    },
    {
     "name": "stderr",
     "output_type": "stream",
     "text": [
      "Training: 100%|██████████| 187/187 [05:14<00:00,  1.68s/it]\n"
     ]
    },
    {
     "name": "stdout",
     "output_type": "stream",
     "text": [
      "Training Loss: 0.1956\n"
     ]
    },
    {
     "name": "stderr",
     "output_type": "stream",
     "text": [
      "Evaluating: 100%|██████████| 11/11 [00:20<00:00,  1.90s/it]\n",
      "Some weights of RobertaModel were not initialized from the model checkpoint at roberta-large and are newly initialized: ['roberta.pooler.dense.bias', 'roberta.pooler.dense.weight']\n",
      "You should probably TRAIN this model on a down-stream task to be able to use it for predictions and inference.\n"
     ]
    },
    {
     "name": "stdout",
     "output_type": "stream",
     "text": [
      "Validation Loss: 0.1993\n",
      "ROUGE-1: 0.5341\n",
      "ROUGE-2: 0.3774\n",
      "ROUGE-L: 0.5108\n",
      "BLEU-1: 0.4723\n",
      "BLEU-2: 0.4007\n",
      "BLEU-3: 0.3497\n",
      "BLEU-4: 0.3100\n",
      "METEOR: 0.4326\n",
      "BERTscore Precision: 0.9230\n",
      "BERTscore Recall: 0.9122\n",
      "BERTscore F1: 0.9173\n",
      "Saved model checkpoint for epoch 8\n",
      "New best model found at epoch 8, saving as best model...\n",
      "Epoch 9/20\n"
     ]
    },
    {
     "name": "stderr",
     "output_type": "stream",
     "text": [
      "Training: 100%|██████████| 187/187 [05:15<00:00,  1.69s/it]\n"
     ]
    },
    {
     "name": "stdout",
     "output_type": "stream",
     "text": [
      "Training Loss: 0.1862\n"
     ]
    },
    {
     "name": "stderr",
     "output_type": "stream",
     "text": [
      "Evaluating: 100%|██████████| 11/11 [00:21<00:00,  1.91s/it]\n",
      "Some weights of RobertaModel were not initialized from the model checkpoint at roberta-large and are newly initialized: ['roberta.pooler.dense.bias', 'roberta.pooler.dense.weight']\n",
      "You should probably TRAIN this model on a down-stream task to be able to use it for predictions and inference.\n"
     ]
    },
    {
     "name": "stdout",
     "output_type": "stream",
     "text": [
      "Validation Loss: 0.1972\n",
      "ROUGE-1: 0.5313\n",
      "ROUGE-2: 0.3733\n",
      "ROUGE-L: 0.5106\n",
      "BLEU-1: 0.4633\n",
      "BLEU-2: 0.3902\n",
      "BLEU-3: 0.3398\n",
      "BLEU-4: 0.3008\n",
      "METEOR: 0.4222\n",
      "BERTscore Precision: 0.9234\n",
      "BERTscore Recall: 0.9115\n",
      "BERTscore F1: 0.9172\n",
      "Saved model checkpoint for epoch 9\n",
      "New best model found at epoch 9, saving as best model...\n",
      "Epoch 10/20\n"
     ]
    },
    {
     "name": "stderr",
     "output_type": "stream",
     "text": [
      "Training: 100%|██████████| 187/187 [05:13<00:00,  1.68s/it]\n"
     ]
    },
    {
     "name": "stdout",
     "output_type": "stream",
     "text": [
      "Training Loss: 0.1770\n"
     ]
    },
    {
     "name": "stderr",
     "output_type": "stream",
     "text": [
      "Evaluating: 100%|██████████| 11/11 [00:20<00:00,  1.89s/it]\n",
      "Some weights of RobertaModel were not initialized from the model checkpoint at roberta-large and are newly initialized: ['roberta.pooler.dense.bias', 'roberta.pooler.dense.weight']\n",
      "You should probably TRAIN this model on a down-stream task to be able to use it for predictions and inference.\n"
     ]
    },
    {
     "name": "stdout",
     "output_type": "stream",
     "text": [
      "Validation Loss: 0.1970\n",
      "ROUGE-1: 0.5394\n",
      "ROUGE-2: 0.3837\n",
      "ROUGE-L: 0.5160\n",
      "BLEU-1: 0.4723\n",
      "BLEU-2: 0.3988\n",
      "BLEU-3: 0.3477\n",
      "BLEU-4: 0.3077\n",
      "METEOR: 0.4320\n",
      "BERTscore Precision: 0.9241\n",
      "BERTscore Recall: 0.9134\n",
      "BERTscore F1: 0.9185\n",
      "Saved model checkpoint for epoch 10\n",
      "New best model found at epoch 10, saving as best model...\n",
      "Epoch 11/20\n"
     ]
    },
    {
     "name": "stderr",
     "output_type": "stream",
     "text": [
      "Training: 100%|██████████| 187/187 [05:13<00:00,  1.68s/it]\n"
     ]
    },
    {
     "name": "stdout",
     "output_type": "stream",
     "text": [
      "Training Loss: 0.1703\n"
     ]
    },
    {
     "name": "stderr",
     "output_type": "stream",
     "text": [
      "Evaluating: 100%|██████████| 11/11 [00:20<00:00,  1.89s/it]\n",
      "Some weights of RobertaModel were not initialized from the model checkpoint at roberta-large and are newly initialized: ['roberta.pooler.dense.bias', 'roberta.pooler.dense.weight']\n",
      "You should probably TRAIN this model on a down-stream task to be able to use it for predictions and inference.\n"
     ]
    },
    {
     "name": "stdout",
     "output_type": "stream",
     "text": [
      "Validation Loss: 0.1944\n",
      "ROUGE-1: 0.5343\n",
      "ROUGE-2: 0.3752\n",
      "ROUGE-L: 0.5086\n",
      "BLEU-1: 0.4643\n",
      "BLEU-2: 0.3887\n",
      "BLEU-3: 0.3359\n",
      "BLEU-4: 0.2951\n",
      "METEOR: 0.4245\n",
      "BERTscore Precision: 0.9238\n",
      "BERTscore Recall: 0.9115\n",
      "BERTscore F1: 0.9174\n",
      "Saved model checkpoint for epoch 11\n",
      "New best model found at epoch 11, saving as best model...\n",
      "Epoch 12/20\n"
     ]
    },
    {
     "name": "stderr",
     "output_type": "stream",
     "text": [
      "Training: 100%|██████████| 187/187 [05:14<00:00,  1.68s/it]\n"
     ]
    },
    {
     "name": "stdout",
     "output_type": "stream",
     "text": [
      "Training Loss: 0.1615\n"
     ]
    },
    {
     "name": "stderr",
     "output_type": "stream",
     "text": [
      "Evaluating: 100%|██████████| 11/11 [00:20<00:00,  1.91s/it]\n",
      "Some weights of RobertaModel were not initialized from the model checkpoint at roberta-large and are newly initialized: ['roberta.pooler.dense.bias', 'roberta.pooler.dense.weight']\n",
      "You should probably TRAIN this model on a down-stream task to be able to use it for predictions and inference.\n"
     ]
    },
    {
     "name": "stdout",
     "output_type": "stream",
     "text": [
      "Validation Loss: 0.1942\n",
      "ROUGE-1: 0.5483\n",
      "ROUGE-2: 0.3900\n",
      "ROUGE-L: 0.5213\n",
      "BLEU-1: 0.4767\n",
      "BLEU-2: 0.4043\n",
      "BLEU-3: 0.3544\n",
      "BLEU-4: 0.3153\n",
      "METEOR: 0.4372\n",
      "BERTscore Precision: 0.9263\n",
      "BERTscore Recall: 0.9145\n",
      "BERTscore F1: 0.9201\n",
      "Saved model checkpoint for epoch 12\n",
      "New best model found at epoch 12, saving as best model...\n",
      "Epoch 13/20\n"
     ]
    },
    {
     "name": "stderr",
     "output_type": "stream",
     "text": [
      "Training: 100%|██████████| 187/187 [05:15<00:00,  1.69s/it]\n"
     ]
    },
    {
     "name": "stdout",
     "output_type": "stream",
     "text": [
      "Training Loss: 0.1561\n"
     ]
    },
    {
     "name": "stderr",
     "output_type": "stream",
     "text": [
      "Evaluating: 100%|██████████| 11/11 [00:21<00:00,  1.93s/it]\n",
      "Some weights of RobertaModel were not initialized from the model checkpoint at roberta-large and are newly initialized: ['roberta.pooler.dense.bias', 'roberta.pooler.dense.weight']\n",
      "You should probably TRAIN this model on a down-stream task to be able to use it for predictions and inference.\n"
     ]
    },
    {
     "name": "stdout",
     "output_type": "stream",
     "text": [
      "Validation Loss: 0.1952\n",
      "ROUGE-1: 0.5541\n",
      "ROUGE-2: 0.3915\n",
      "ROUGE-L: 0.5253\n",
      "BLEU-1: 0.4818\n",
      "BLEU-2: 0.4063\n",
      "BLEU-3: 0.3543\n",
      "BLEU-4: 0.3122\n",
      "METEOR: 0.4430\n",
      "BERTscore Precision: 0.9249\n",
      "BERTscore Recall: 0.9140\n",
      "BERTscore F1: 0.9192\n",
      "Saved model checkpoint for epoch 13\n",
      "Epoch 14/20\n"
     ]
    },
    {
     "name": "stderr",
     "output_type": "stream",
     "text": [
      "Training: 100%|██████████| 187/187 [05:16<00:00,  1.69s/it]\n"
     ]
    },
    {
     "name": "stdout",
     "output_type": "stream",
     "text": [
      "Training Loss: 0.1483\n"
     ]
    },
    {
     "name": "stderr",
     "output_type": "stream",
     "text": [
      "Evaluating: 100%|██████████| 11/11 [00:21<00:00,  1.92s/it]\n",
      "Some weights of RobertaModel were not initialized from the model checkpoint at roberta-large and are newly initialized: ['roberta.pooler.dense.bias', 'roberta.pooler.dense.weight']\n",
      "You should probably TRAIN this model on a down-stream task to be able to use it for predictions and inference.\n"
     ]
    },
    {
     "name": "stdout",
     "output_type": "stream",
     "text": [
      "Validation Loss: 0.1943\n",
      "ROUGE-1: 0.5600\n",
      "ROUGE-2: 0.4041\n",
      "ROUGE-L: 0.5337\n",
      "BLEU-1: 0.4883\n",
      "BLEU-2: 0.4150\n",
      "BLEU-3: 0.3631\n",
      "BLEU-4: 0.3220\n",
      "METEOR: 0.4538\n",
      "BERTscore Precision: 0.9272\n",
      "BERTscore Recall: 0.9156\n",
      "BERTscore F1: 0.9212\n",
      "Saved model checkpoint for epoch 14\n",
      "Epoch 15/20\n"
     ]
    },
    {
     "name": "stderr",
     "output_type": "stream",
     "text": [
      "Training: 100%|██████████| 187/187 [05:16<00:00,  1.69s/it]\n"
     ]
    },
    {
     "name": "stdout",
     "output_type": "stream",
     "text": [
      "Training Loss: 0.1409\n"
     ]
    },
    {
     "name": "stderr",
     "output_type": "stream",
     "text": [
      "Evaluating: 100%|██████████| 11/11 [00:21<00:00,  1.93s/it]\n",
      "Some weights of RobertaModel were not initialized from the model checkpoint at roberta-large and are newly initialized: ['roberta.pooler.dense.bias', 'roberta.pooler.dense.weight']\n",
      "You should probably TRAIN this model on a down-stream task to be able to use it for predictions and inference.\n"
     ]
    },
    {
     "name": "stdout",
     "output_type": "stream",
     "text": [
      "Validation Loss: 0.1941\n",
      "ROUGE-1: 0.5529\n",
      "ROUGE-2: 0.3906\n",
      "ROUGE-L: 0.5281\n",
      "BLEU-1: 0.4818\n",
      "BLEU-2: 0.4070\n",
      "BLEU-3: 0.3545\n",
      "BLEU-4: 0.3127\n",
      "METEOR: 0.4401\n",
      "BERTscore Precision: 0.9267\n",
      "BERTscore Recall: 0.9152\n",
      "BERTscore F1: 0.9207\n",
      "Saved model checkpoint for epoch 15\n",
      "New best model found at epoch 15, saving as best model...\n",
      "Epoch 16/20\n"
     ]
    },
    {
     "name": "stderr",
     "output_type": "stream",
     "text": [
      "Training: 100%|██████████| 187/187 [05:17<00:00,  1.70s/it]\n"
     ]
    },
    {
     "name": "stdout",
     "output_type": "stream",
     "text": [
      "Training Loss: 0.1343\n"
     ]
    },
    {
     "name": "stderr",
     "output_type": "stream",
     "text": [
      "Evaluating: 100%|██████████| 11/11 [00:21<00:00,  1.92s/it]\n",
      "Some weights of RobertaModel were not initialized from the model checkpoint at roberta-large and are newly initialized: ['roberta.pooler.dense.bias', 'roberta.pooler.dense.weight']\n",
      "You should probably TRAIN this model on a down-stream task to be able to use it for predictions and inference.\n"
     ]
    },
    {
     "name": "stdout",
     "output_type": "stream",
     "text": [
      "Validation Loss: 0.1953\n",
      "ROUGE-1: 0.5562\n",
      "ROUGE-2: 0.3954\n",
      "ROUGE-L: 0.5280\n",
      "BLEU-1: 0.4809\n",
      "BLEU-2: 0.4063\n",
      "BLEU-3: 0.3535\n",
      "BLEU-4: 0.3107\n",
      "METEOR: 0.4479\n",
      "BERTscore Precision: 0.9258\n",
      "BERTscore Recall: 0.9148\n",
      "BERTscore F1: 0.9200\n",
      "Saved model checkpoint for epoch 16\n",
      "Epoch 17/20\n"
     ]
    },
    {
     "name": "stderr",
     "output_type": "stream",
     "text": [
      "Training: 100%|██████████| 187/187 [05:17<00:00,  1.70s/it]\n"
     ]
    },
    {
     "name": "stdout",
     "output_type": "stream",
     "text": [
      "Training Loss: 0.1275\n"
     ]
    },
    {
     "name": "stderr",
     "output_type": "stream",
     "text": [
      "Evaluating: 100%|██████████| 11/11 [00:21<00:00,  1.93s/it]\n",
      "Some weights of RobertaModel were not initialized from the model checkpoint at roberta-large and are newly initialized: ['roberta.pooler.dense.bias', 'roberta.pooler.dense.weight']\n",
      "You should probably TRAIN this model on a down-stream task to be able to use it for predictions and inference.\n"
     ]
    },
    {
     "name": "stdout",
     "output_type": "stream",
     "text": [
      "Validation Loss: 0.1968\n",
      "ROUGE-1: 0.5513\n",
      "ROUGE-2: 0.3843\n",
      "ROUGE-L: 0.5225\n",
      "BLEU-1: 0.4846\n",
      "BLEU-2: 0.4072\n",
      "BLEU-3: 0.3547\n",
      "BLEU-4: 0.3120\n",
      "METEOR: 0.4401\n",
      "BERTscore Precision: 0.9239\n",
      "BERTscore Recall: 0.9149\n",
      "BERTscore F1: 0.9192\n",
      "Saved model checkpoint for epoch 17\n",
      "Epoch 18/20\n"
     ]
    },
    {
     "name": "stderr",
     "output_type": "stream",
     "text": [
      "Training: 100%|██████████| 187/187 [05:16<00:00,  1.69s/it]\n"
     ]
    },
    {
     "name": "stdout",
     "output_type": "stream",
     "text": [
      "Training Loss: 0.1226\n"
     ]
    },
    {
     "name": "stderr",
     "output_type": "stream",
     "text": [
      "Evaluating: 100%|██████████| 11/11 [00:21<00:00,  1.93s/it]\n",
      "Some weights of RobertaModel were not initialized from the model checkpoint at roberta-large and are newly initialized: ['roberta.pooler.dense.bias', 'roberta.pooler.dense.weight']\n",
      "You should probably TRAIN this model on a down-stream task to be able to use it for predictions and inference.\n"
     ]
    },
    {
     "name": "stdout",
     "output_type": "stream",
     "text": [
      "Validation Loss: 0.1983\n",
      "ROUGE-1: 0.5727\n",
      "ROUGE-2: 0.4091\n",
      "ROUGE-L: 0.5459\n",
      "BLEU-1: 0.4939\n",
      "BLEU-2: 0.4186\n",
      "BLEU-3: 0.3651\n",
      "BLEU-4: 0.3225\n",
      "METEOR: 0.4538\n",
      "BERTscore Precision: 0.9280\n",
      "BERTscore Recall: 0.9168\n",
      "BERTscore F1: 0.9222\n",
      "Saved model checkpoint for epoch 18\n",
      "Epoch 19/20\n"
     ]
    },
    {
     "name": "stderr",
     "output_type": "stream",
     "text": [
      "Training: 100%|██████████| 187/187 [05:16<00:00,  1.69s/it]\n"
     ]
    },
    {
     "name": "stdout",
     "output_type": "stream",
     "text": [
      "Training Loss: 0.1149\n"
     ]
    },
    {
     "name": "stderr",
     "output_type": "stream",
     "text": [
      "Evaluating: 100%|██████████| 11/11 [00:21<00:00,  1.93s/it]\n",
      "Some weights of RobertaModel were not initialized from the model checkpoint at roberta-large and are newly initialized: ['roberta.pooler.dense.bias', 'roberta.pooler.dense.weight']\n",
      "You should probably TRAIN this model on a down-stream task to be able to use it for predictions and inference.\n"
     ]
    },
    {
     "name": "stdout",
     "output_type": "stream",
     "text": [
      "Validation Loss: 0.2017\n",
      "ROUGE-1: 0.5672\n",
      "ROUGE-2: 0.4038\n",
      "ROUGE-L: 0.5387\n",
      "BLEU-1: 0.4941\n",
      "BLEU-2: 0.4195\n",
      "BLEU-3: 0.3680\n",
      "BLEU-4: 0.3266\n",
      "METEOR: 0.4570\n",
      "BERTscore Precision: 0.9256\n",
      "BERTscore Recall: 0.9162\n",
      "BERTscore F1: 0.9207\n",
      "Saved model checkpoint for epoch 19\n",
      "Epoch 20/20\n"
     ]
    },
    {
     "name": "stderr",
     "output_type": "stream",
     "text": [
      "Training: 100%|██████████| 187/187 [05:17<00:00,  1.70s/it]\n"
     ]
    },
    {
     "name": "stdout",
     "output_type": "stream",
     "text": [
      "Training Loss: 0.1072\n"
     ]
    },
    {
     "name": "stderr",
     "output_type": "stream",
     "text": [
      "Evaluating: 100%|██████████| 11/11 [00:21<00:00,  1.93s/it]\n",
      "Some weights of RobertaModel were not initialized from the model checkpoint at roberta-large and are newly initialized: ['roberta.pooler.dense.bias', 'roberta.pooler.dense.weight']\n",
      "You should probably TRAIN this model on a down-stream task to be able to use it for predictions and inference.\n"
     ]
    },
    {
     "name": "stdout",
     "output_type": "stream",
     "text": [
      "Validation Loss: 0.2037\n",
      "ROUGE-1: 0.5664\n",
      "ROUGE-2: 0.3972\n",
      "ROUGE-L: 0.5380\n",
      "BLEU-1: 0.4884\n",
      "BLEU-2: 0.4109\n",
      "BLEU-3: 0.3589\n",
      "BLEU-4: 0.3177\n",
      "METEOR: 0.4468\n",
      "BERTscore Precision: 0.9275\n",
      "BERTscore Recall: 0.9169\n",
      "BERTscore F1: 0.9219\n",
      "Saved model checkpoint for epoch 20\n"
     ]
    }
   ],
   "source": [
    "text_tokenizer = BartTokenizer.from_pretrained(\"facebook/bart-base\")\n",
    "\n",
    "train_dataset = MOREDataset(\n",
    "    image_descriptions_file=\"/kaggle/input/nlp-q3/D_train.pkl\",\n",
    "    detected_objects_file=\"/kaggle/input/nlp-q3/O_train.pkl\",\n",
    "    data_file=\"/kaggle/input/nlp-q3/train_df.tsv\",\n",
    "    image_dir=\"/kaggle/input/nlp-q3/images\",\n",
    "    tokenizer=text_tokenizer,\n",
    "    detection_threshold=0.6,\n",
    "    max_inp_length=256,\n",
    "    max_output_length=128\n",
    ")\n",
    "\n",
    "val_dataset = MOREDataset(\n",
    "    image_descriptions_file=\"/kaggle/input/nlp-q3/D_val.pkl\",\n",
    "    detected_objects_file=\"/kaggle/input/nlp-q3/O_val.pkl\",\n",
    "    data_file=\"/kaggle/input/nlp-q3/val_df.tsv\",\n",
    "    image_dir=\"/kaggle/input/nlp-q3/images\",\n",
    "    tokenizer=text_tokenizer,\n",
    "    detection_threshold=0.6,\n",
    "    max_inp_length=256,\n",
    "    max_output_length=128\n",
    ")\n",
    "\n",
    "model = TURBOModel()\n",
    "device = torch.device(\"cuda\" if torch.cuda.is_available() else \"cpu\")\n",
    "optimizer = optim.AdamW(model.parameters(), lr=1e-5)\n",
    "train_dataloader = DataLoader(train_dataset, batch_size=16, shuffle=True, collate_fn=custom_collate_fn, pin_memory=True)\n",
    "val_dataloader = DataLoader(val_dataset, batch_size=16, shuffle=False, collate_fn=custom_collate_fn, pin_memory=True)\n",
    "\n",
    "train_losses, val_losses = train_model(model, train_dataloader, val_dataloader, optimizer, device, text_tokenizer, num_epochs=20)"
   ]
  },
  {
   "cell_type": "code",
   "execution_count": 5,
   "metadata": {
    "execution": {
     "iopub.execute_input": "2025-04-06T16:17:06.111456Z",
     "iopub.status.busy": "2025-04-06T16:17:06.111115Z",
     "iopub.status.idle": "2025-04-06T16:17:06.361758Z",
     "shell.execute_reply": "2025-04-06T16:17:06.361025Z",
     "shell.execute_reply.started": "2025-04-06T16:17:06.111429Z"
    },
    "trusted": true
   },
   "outputs": [
    {
     "data": {
      "image/png": "[encoded data removed]",
      "text/plain": [
       "<Figure size 640x480 with 1 Axes>"
      ]
     },
     "metadata": {},
     "output_type": "display_data"
    }
   ],
   "source": [
    "plt.plot(train_losses, label='Train Loss')\n",
    "plt.plot(val_losses, label='Validation Loss')\n",
    "plt.xlabel('Epochs')\n",
    "plt.ylabel('Loss')\n",
    "plt.title('Train and Validation Loss')\n",
    "plt.legend()\n",
    "plt.show()"
   ]
  },
  {
   "cell_type": "markdown",
   "metadata": {},
   "source": [
    "## Inference"
   ]
  },
  {
   "cell_type": "code",
   "execution_count": null,
   "metadata": {
    "execution": {
     "iopub.execute_input": "2025-04-06T16:19:30.927694Z",
     "iopub.status.busy": "2025-04-06T16:19:30.927325Z",
     "iopub.status.idle": "2025-04-06T16:19:53.215540Z",
     "shell.execute_reply": "2025-04-06T16:19:53.214655Z",
     "shell.execute_reply.started": "2025-04-06T16:19:30.927666Z"
    },
    "trusted": true
   },
   "outputs": [
    {
     "name": "stderr",
     "output_type": "stream",
     "text": [
      "100%|██████████| 11/11 [00:15<00:00,  1.42s/it]\n",
      "Some weights of RobertaModel were not initialized from the model checkpoint at roberta-large and are newly initialized: ['roberta.pooler.dense.bias', 'roberta.pooler.dense.weight']\n",
      "You should probably TRAIN this model on a down-stream task to be able to use it for predictions and inference.\n"
     ]
    },
    {
     "name": "stdout",
     "output_type": "stream",
     "text": [
      "ROUGE-1: 0.5529\n",
      "ROUGE-2: 0.3906\n",
      "ROUGE-L: 0.5281\n",
      "BLEU-1: 0.4818300863092168\n",
      "BLEU-2: 0.4069671848734278\n",
      "BLEU-3: 0.35445216525624906\n",
      "BLEU-4: 0.3126999896540154\n",
      "METEOR: 0.4401\n",
      "BERTscore Precision: 0.9267\n",
      "BERTscore Recall: 0.9152\n",
      "BERTscore F1: 0.9207\n"
     ]
    },
    {
     "data": {
      "text/plain": [
       "[{'prediction': 'the author is pissed at <user> for such awful network in malad.',\n",
       "  'reference': 'the author is pissed at <user> for not getting network in malad.'},\n",
       " {'prediction': 'the author hates waiting for an hour on the tarmac for a gate to come open',\n",
       "  'reference': 'nothing worst than waiting for an hour on the tarmac for a gate to come open in snowy, windy chicago.'},\n",
       " {'prediction': \"spring isn't the best thing about spring.\",\n",
       "  'reference': 'nobody likes getting one hour of their life sucked away.'},\n",
       " {'prediction': \"having a salivary gland biopsy on monday morning isn't a good way\",\n",
       "  'reference': 'having a salivary gland biopsy on monday morning is not a good way to start the new week.'},\n",
       " {'prediction': \"it's going to be freezing weather this w-end, the high on saturday\",\n",
       "  'reference': 'the author is worried that the weekend is going to be freezing with a high of -1 and windchill probably -30.'},\n",
       " {'prediction': 'the author is pissed at <user> for delaying the trains and charging everyone for each',\n",
       "  'reference': 'the author is pissed that <user> keeps delaying the trains and charging everyone for each ride.'},\n",
       " {'prediction': \"the author is pissed at <user> for invading his ts' privacy.\",\n",
       "  'reference': \"it's not a joyous organisation since <user>'s been monitoring the author's ts.\"},\n",
       " {'prediction': 'the quality of movies on hbo is terrible.',\n",
       "  'reference': 'not quality movies on hbo now.'},\n",
       " {'prediction': 'the author is pissed at <user> for forgetting about the private villas in euro',\n",
       "  'reference': \"it isn't understandable to forget about the private villas in europe paid for by your millions.\"},\n",
       " {'prediction': 'the author is worried about the stamp collection.',\n",
       "  'reference': \"bayley's worried about the stamp collection rather than the dead lizard, it isn't smart.\"},\n",
       " {'prediction': 'the author is pissed at <user> for such a bad delivery service.',\n",
       "  'reference': \"the author is pissed at <user> that they said it was high priority, and ensured it'll be delivered and yet they didn't, such an awful delivery service.\"},\n",
       " {'prediction': \"jonny hasn't let himself go since retiring from rugby then.\",\n",
       "  'reference': \"jonny is fit and hasn't let himself go since retiring from rugby.\"},\n",
       " {'prediction': 'the author is pissed at <user> for delivering today ( supposed to be yesterday)',\n",
       "  'reference': 'awful service from <user>, delivering it today which was supposed to be delivered yesterday and sending this message <num> hours after delivery.'},\n",
       " {'prediction': 'a sarcastic comment from chandler.',\n",
       "  'reference': \"the canoe isn't in the water so chandler cannot paddle away.\"},\n",
       " {'prediction': \"police doing bbmp work isn't urban development.\",\n",
       "  'reference': \"police doing bbmp work isn't urban development.\"},\n",
       " {'prediction': 'the author is pissed at <user> for putting new customer on a wait this long',\n",
       "  'reference': \"it's a dumb move by <user> putting new customer on a this long waiting, <user> might lose the customer.\"},\n",
       " {'prediction': \"there's a lot of damage found on the patio from the high winds yesterday.\",\n",
       "  'reference': \"there was no real damage found on the author's patio from the high winds yesterday.\"},\n",
       " {'prediction': \"this isn't epic.\",\n",
       "  'reference': \"it's not epic that the generation is so diligently recording themselves accomplishing so little.\"},\n",
       " {'prediction': \"the author won't be able to see the cars from his seat.\",\n",
       "  'reference': \"the author won't be able to see the cars from her seat due to the crowd.\"},\n",
       " {'prediction': 'the author hates to get stuck on the side of the road.',\n",
       "  'reference': 'nobody loves to get stuck on the side of the road.'},\n",
       " {'prediction': 'the author hates such hateful comments.',\n",
       "  'reference': 'the author hates such people who posts hateful comments.'},\n",
       " {'prediction': \"it's an obvious note.\",\n",
       "  'reference': \"everyone knows that it's illegal to stab people for being stupid.\"},\n",
       " {'prediction': \"it's a terrible selection of prairie brews by <user> prairie b\",\n",
       "  'reference': \"this isn't a fine selection of prairie brews.\"},\n",
       " {'prediction': \"the author's sister doesn't treat her lease very well.\",\n",
       "  'reference': \"given the state of the phone, the author's sister doesn't treat her lease very well.\"},\n",
       " {'prediction': 'the author is pissed at <num> for not updating the pltfm notices since',\n",
       "  'reference': \"the author is pissed at <user> for kicking her off her train & tricking her on one that doesn't stop at her town.\"},\n",
       " {'prediction': \"the author doesn't want an overly-long review when it's <num> degrees\",\n",
       "  'reference': \"the author is frustrated with an overly-long review when it's <num> degrees out.\"},\n",
       " {'prediction': \"everyone needs to realize this isn't a fun reality.\",\n",
       "  'reference': 'everyone needs to realize this sad reality.'},\n",
       " {'prediction': \"the author doesn't want to empower women with these statements.\",\n",
       "  'reference': 'we cannot empower women by using phrases like trophy wife.'},\n",
       " {'prediction': 'this was super annoying to look at and not blinding at all for the <num>',\n",
       "  'reference': \"the author didn't have fun at the show due to such blinding light and he wouldn't want to do it again.\"},\n",
       " {'prediction': \"it's a snowy first day of spring in #philadelphia.\",\n",
       "  'reference': \"it doesn't look like the first day of spring in philadelphia, there's so much snow.\"},\n",
       " {'prediction': 'the author is pissed at <user> for such tasteless looking cheese sticks.',\n",
       "  'reference': \"these aren't nice looking cheese sticks.\"},\n",
       " {'prediction': \"the author doesn't get an awesome sleep.\",\n",
       "  'reference': \"the author isn't getting a good sleep, she is awake and restless a lot.\"},\n",
       " {'prediction': \"it's pretty warm out but rainy and dark.\",\n",
       "  'reference': 'the author hates the cold, rainy and dark buffalow weather.'},\n",
       " {'prediction': 'the author hates trains.',\n",
       "  'reference': \"the author doesn't like trains.\"},\n",
       " {'prediction': \"this isn't acceptable behavior these days.\",\n",
       "  'reference': \"this isn't an acceptable behaviour, wishing father's day in such a way.\"},\n",
       " {'prediction': \"the author hates bing translation since it doesn't make any sense.\",\n",
       "  'reference': \"the author hates bing translation, it's so inaccurate especially when <user> tweets in korean, the translation makes no sense.\"},\n",
       " {'prediction': \"when the religious right talks in sweden, there's no crowd.\",\n",
       "  'reference': \"when the religious right talks in sweden, people take no notice, it's empty.\"},\n",
       " {'prediction': 'the author is pissed at trump for giving such lack of effort in the workforce.',\n",
       "  'reference': \"such lack of effort in the workforce isn't great, people must be valued.\"},\n",
       " {'prediction': \"it's an awful finishing photo, the one pro rider will regret this.\",\n",
       "  'reference': \"it's not an amazing finishing photo since one rider is giving the finger to other rider.\"},\n",
       " {'prediction': \"weather conditions aren't looking perfect for the marathon.\",\n",
       "  'reference': \"weather conditions aren't looking good with such a low temperature.\"},\n",
       " {'prediction': \"it's claustrophobic to have an immovable screen right in your face on\",\n",
       "  'reference': \"it's claustrophobic to have an immovable screen right in your face on a treadmill.\"},\n",
       " {'prediction': \"it's not fun times ahead with a blizzard.\",\n",
       "  'reference': 'terrible times ahead, a blizzard is coming'},\n",
       " {'prediction': \"dove soap isn't saving your life.\",\n",
       "  'reference': \"dove soap aren't saving your life.\"},\n",
       " {'prediction': 'the author wishes her dog would bark more.',\n",
       "  'reference': \"the author doesn't wish her dog would bark more.\"},\n",
       " {'prediction': \"the bible isn't full of inspiration, love and kind words.\",\n",
       "  'reference': \"it's not full of inspiration, love or kind words since it asks women to submit themselves unto their husband and says people who take your little ones and dash them against the rock shall be happy.\"},\n",
       " {'prediction': 'the author is pissed at <user> for such a bad shipping job.',\n",
       "  'reference': 'the author is pissed at <user> for such careless shipping job, the corner is damaged.'},\n",
       " {'prediction': 'royal mail have a new service, they will pre-open your mail before posting',\n",
       "  'reference': \"the author is pissed at royal mail's service since he received a mail pre-opened.\"},\n",
       " {'prediction': 'this new brand of lipstick is chapped.',\n",
       "  'reference': \"the author's lips are chipped which hurts and it looks like a lipstick shade.\"},\n",
       " {'prediction': 'when you get to work, spill coffee down the front of your pants, and then',\n",
       "  'reference': \"When you get to work, spill coffee down the front of your pants, and then find the bathroom flooded....you know it's going to be a bad day.\"},\n",
       " {'prediction': \"america shouldn't be proud of the number of muslim assausts expected\",\n",
       "  'reference': \"america shouldn't be so proud that anti-muslim assaults exceed 2001 total.\"},\n",
       " {'prediction': 'another fake <user> account.',\n",
       "  'reference': \"another fake <user> account isn't exciting.\"},\n",
       " {'prediction': \"30 minutes and half hour being same isn't a great achievement.\",\n",
       "  'reference': \"it's not an achievement, 30 minutes and half hour are synonyms.\"},\n",
       " {'prediction': 'the author hates winter.',\n",
       "  'reference': 'the author hates winter.'},\n",
       " {'prediction': \"it's a rainy summer day to go work outside.\",\n",
       "  'reference': \"it's a chilly rainy day, difficult to go work outside.\"},\n",
       " {'prediction': \"the author hasn't missed you since sunday morning.\",\n",
       "  'reference': 'nobody misses monday morning.'},\n",
       " {'prediction': 'the author is pissed at <user> for not making their website user friendly.',\n",
       "  'reference': \"espncricinfo website isn't user friendly.\"},\n",
       " {'prediction': \"the author doesn't know how to make montages.\",\n",
       "  'reference': 'this is how not to make montages.'},\n",
       " {'prediction': 'the author is pissed at <user> for waiting for a downtown bk f train',\n",
       "  'reference': \"the author is pissed that in the <num> mins she's waited for a downtown bk f train, they've seen <num> uptown f trains.\"},\n",
       " {'prediction': 'the author is sick of this view.',\n",
       "  'reference': 'the author loves this view, the best honeymoon ever.'},\n",
       " {'prediction': 'the cat is comfortable.',\n",
       "  'reference': 'the cat seems quite comfortable.'},\n",
       " {'prediction': '75% of warringah voted yes, they must be so proud to have gay',\n",
       "  'reference': \"gay marriage shouldn't be objected.\"},\n",
       " {'prediction': \"<user> & <user> aren't coordinating to deliver a consistent msg.\",\n",
       "  'reference': '<user> not coordinating to deliver a consistent msg, US military airstrike in somalia followed by summer fun & games.'},\n",
       " {'prediction': 'the author hates his drone.',\n",
       "  'reference': \"the author hates her drone because of it's bad video quality.\"},\n",
       " {'prediction': 'the author is pissed at <user> for making delhi a bad place to survive',\n",
       "  'reference': \"the author is disappointed with <user> for not making delhi a better place to survive, it's very polluted.\"},\n",
       " {'prediction': \"it's a blantant product placement.\",\n",
       "  'reference': \"the author's not happy with such blatant product placement.\"},\n",
       " {'prediction': 'the author is pissed at a coffee shop and found portable bananas, science has gone too',\n",
       "  'reference': \"bananas are trivially portable, science hasn't gone too far.\"},\n",
       " {'prediction': \"cold weather isn't a great weekend for a mini getaway in burlington.\",\n",
       "  'reference': '-12 degrees is too cold for a great weekend for a mini getaway in burlington.'},\n",
       " {'prediction': 'just a few schools here today.',\n",
       "  'reference': 'a lot of schools here today!'},\n",
       " {'prediction': 'the author is super into limp, moist, overcooked food.',\n",
       "  'reference': \"nobody's into limp, moist, overcooked food.\"},\n",
       " {'prediction': 'the author hates driving to work in this winter weather on his birthday.',\n",
       "  'reference': 'the author is driving to work in a terrible winter weather on his birthday.'},\n",
       " {'prediction': \"more success in hollywood's colour-blind casting, caucasians playing non-\",\n",
       "  'reference': 'Hollywood certainly has lack of diversity, where a caucasian plays a non-caucasian role as well.'},\n",
       " {'prediction': 'the author hates waking up to nose bleeds.',\n",
       "  'reference': \"nobody loves waking up to nose bleeds, it's unpleasant.\"},\n",
       " {'prediction': \"this isn't a stunning success from <user>.\",\n",
       "  'reference': \"it's another failure from <user>.\"},\n",
       " {'prediction': 'the author is pissed at <user> for wrapping their soothers in such scratch',\n",
       "  'reference': \"the author hates that he has a scratchy paper tickling the back of his throat, just what he doesn't need.\"},\n",
       " {'prediction': \"the author isn't happy to be out in the 100 degree heat.\",\n",
       "  'reference': 'dad isn’t happy to be out in the 100 degree heat.'},\n",
       " {'prediction': \"this isn't fake news.\",\n",
       "  'reference': \"the author isn't a dumb sheeple and can figure out that this is fake news.\"},\n",
       " {'prediction': \"the muslim pop country isn't heading in the right direction.\",\n",
       "  'reference': 'it seems we are not heading in the right direction...'},\n",
       " {'prediction': \"we don't need a travel ban, so immigrants don't steal american nazi\",\n",
       "  'reference': \"we don't need a travel ban, immigrants don't steal american domestic jobs, they earn it.\"},\n",
       " {'prediction': 'the author is pissed at <user> for such late warning.',\n",
       "  'reference': 'this warning is very late, the author has a very short time to react.'},\n",
       " {'prediction': \"we don't need a bigger military.\",\n",
       "  'reference': \"usa doesn't need a bigger military, they have enough.\"},\n",
       " {'prediction': \"it's obvious that muhammad ali is muslim.\",\n",
       "  'reference': \"everyone knows muhammad ali is muslim, it's not a hidden piece of info.\"},\n",
       " {'prediction': 'the author is pissed at all those fans complaining about losing their starting qb.',\n",
       "  'reference': \"losing your starting qb doesn't mean you can't accomplish anything.\"},\n",
       " {'prediction': \"it's taking over 1/2 an hour to get over the delaware memorial bridge\",\n",
       "  'reference': \"it's an awful planning doing construction on a summer weekend since due to this it took over 1/2 an hour to get over the delaware memorial bridge & past the tolls.\"},\n",
       " {'prediction': 'the author uses a face mask on taking a selfie.',\n",
       "  'reference': \"the author doesn't think she is beautiful since she has to use a face mask.\"},\n",
       " {'prediction': \"<user> isn't a great cars mall.\",\n",
       "  'reference': \"<user> isn't a great cars mall, there aren't many cars.\"},\n",
       " {'prediction': 'the author is pissed at <user> for freezing right before the game winning field goal',\n",
       "  'reference': 'the author is pissed at <user> for freezing right before the game winning field goal between <user> and her lions.'},\n",
       " {'prediction': 'the author is pissed at <user> for such terrible network speeds.',\n",
       "  'reference': \"it's the 5th day and still the author gets terrible network speeds.\"},\n",
       " {'prediction': \"this pure sucrose isn't organic, it's unhealthy.\",\n",
       "  'reference': \"obviously this pure sucrose is organic but it's not healthy.\"},\n",
       " {'prediction': \"the author is pissed at whoever asked for a beer and got one that's 8.\",\n",
       "  'reference': 'a beer which is 8.5% is strong.'},\n",
       " {'prediction': \"this doesn't look pleasant.\",\n",
       "  'reference': \"this rainy weather doesn't look pleasant at all.\"},\n",
       " {'prediction': \"it's not been a months full of successes for trump.\",\n",
       "  'reference': \"it's not six months full of successes since there's not been any substantial work.\"},\n",
       " {'prediction': 'the author is pissed at <user> for making fun of the elderly.',\n",
       "  'reference': 'making fun of the elderly is immature of the <user>.'},\n",
       " {'prediction': 'the author is pissed at <user> for such poor product placement on his feed.',\n",
       "  'reference': \"it's a bad product placement on the author's feed.\"},\n",
       " {'prediction': \"it's not a good english, it's grammer.\",\n",
       "  'reference': \"it's a grammatically incorrect english.\"},\n",
       " {'prediction': \"they don't love their employees even though they try.\",\n",
       "  'reference': \"they don't love their employees who couldn't understand such simple things.\"},\n",
       " {'prediction': 'security breach in <user> is a welcome security breach, brought to you by <',\n",
       "  'reference': 'a security breach is never welcome, the author is sad that now he has something to fear.'},\n",
       " {'prediction': 'the author is pissed at <user> for such bad driving stats.',\n",
       "  'reference': 'he has 0 wins on 1.5 mile tracks since 2005, not the best driver ever.'},\n",
       " {'prediction': \"the author is sad of <user>'s efforts to fill the swamp with republican\",\n",
       "  'reference': \"<user> shouldn't fill the swamp with republican donors.\"},\n",
       " {'prediction': \"it's a double standard to criticise trump.\",\n",
       "  'reference': \"feminists don't maintain double standards.\"},\n",
       " {'prediction': \"the sharing of electricity in the philippines isn't fun.\",\n",
       "  'reference': 'sharing electricity in such a way is unusual and not fun.'},\n",
       " {'prediction': 'the blizzard intensifies.',\n",
       "  'reference': \"the blizzard isn't intense.\"},\n",
       " {'prediction': \"the demdebate isn't hosted by a totally unbiased, fair and balanced news agency\",\n",
       "  'reference': 'the author is sad that the demdebate is hosted by a totally biased, unfair and imbalanced news agency.'},\n",
       " {'prediction': \"this drawing isn't a good drawing.\",\n",
       "  'reference': 'there is no drawing.'},\n",
       " {'prediction': \"when you wake up and blood starts dripping out your nose, it's not an awesome\",\n",
       "  'reference': \"it's an unpleasant morning when you wake up and blood starts dripping out of ur nose.\"},\n",
       " {'prediction': \"the author's cat is disturbing the author's productivity.\",\n",
       "  'reference': \"the cat is not helpful with the author's productivity since she is sitting on the book.\"},\n",
       " {'prediction': \"it's a twist, ambrose and rollins reuniting.\",\n",
       "  'reference': 'everyone knew this was bound to happen, ambrose and rollins would reunite'},\n",
       " {'prediction': 'the author is pissed at electric company for cutting down trees in his front yard this summer',\n",
       "  'reference': 'the author is pissed at the electric company for cutting down trees due to which there is no shade in his front yard this summer.'},\n",
       " {'prediction': 'this is not an important top story for fox news at 9pm.',\n",
       "  'reference': \"this shouldn't be the important top story for fox news at 9pm, it's obvious that democrats try to block trump on everything.\"},\n",
       " {'prediction': \"the author doesn't find being on a group <user> so goddamn fun.\",\n",
       "  'reference': 'the author is sad that everyone but her is on a group <user>.'},\n",
       " {'prediction': \"talking to my friends about the real world and getting super excited isn't helpful.\",\n",
       "  'reference': 'the author gets frustrated talking to his friends about the real world like waking up at 6:25.'},\n",
       " {'prediction': \"this isn't an essential solareclipse2017 safety advice.\",\n",
       "  'reference': 'useless solareclipse2017 safety advice.'},\n",
       " {'prediction': 'the author is pissed at usps for their poor care of her package that has fr',\n",
       "  'reference': 'the author is pissed at usps for not taking proper care of his package even though it has fragile marked on it.'},\n",
       " {'prediction': 'the author is sad to have stayed in a Hotel last night due to the snow.',\n",
       "  'reference': 'the author was forced to stay in a hotel last night because of the snow.'},\n",
       " {'prediction': \"it wasn't a beautiful spring day today, the roads were covered with snow.\",\n",
       "  'reference': \"it wasn't a spring day, there was a lot of snow.\"},\n",
       " {'prediction': 'the author is studying for midsem.',\n",
       "  'reference': \"studying for midterms isn't a party.\"},\n",
       " {'prediction': \"it's a gender neutral restroom with a handicap wheel chair.\",\n",
       "  'reference': \"the author doesn't like the gender neutral restroom.\"},\n",
       " {'prediction': \"the author doesn't think god is proud of teaching kids to use weapons.\",\n",
       "  'reference': \"kids are learning to use weapons, god wouldn't be proud of this world.\"},\n",
       " {'prediction': \"more rain & flooding isn't exciting.\",\n",
       "  'reference': 'the author is sad because of more rain & flooding.'},\n",
       " {'prediction': 'the author is sad of every <user> student in the ed program to hear the',\n",
       "  'reference': 'it is not the joy of every <user> student in the ed program to hear the phrase, \"turn it in on chalk and wire\".'},\n",
       " {'prediction': 'a raindrop falls on this holy saudi king.',\n",
       "  'reference': \"a lot of people are worried about a raindrop falling on this holy saudi king, it's silly.\"},\n",
       " {'prediction': 'the members clearly have a good time in their space.',\n",
       "  'reference': \"the members clearly have an excellent time in the space, they're all smiles over there.\"},\n",
       " {'prediction': 'moving in bad weather with high winds, cold , and rain is inconvenient.',\n",
       "  'reference': 'moving with high winds, cold and rain is inconvenient.'},\n",
       " {'prediction': \"religion isn't a bad deal.\",\n",
       "  'reference': 'religion is a good deal.'},\n",
       " {'prediction': \"takeakneenfl wasn't an overwhelming success, all our problems were solved.\",\n",
       "  'reference': \"takeakneenfl wasn't an overwhelming success, not all their problems were solved.\"},\n",
       " {'prediction': \"that's a world name that can be misinterpreted.\",\n",
       "  'reference': \"well, that's a world name that can be misinterpreted.\"},\n",
       " {'prediction': \"the author is sad to have louis' promo revolve around her.\",\n",
       "  'reference': \"the author isn't excited to have louis' promo revolve around her.\"},\n",
       " {'prediction': 'the author hates these cold summer days.',\n",
       "  'reference': 'the author is hating these cold summer days.'},\n",
       " {'prediction': \"the author didn't enjoy bahubali in leisure of <user> & tobacco\",\n",
       "  'reference': 'the author is pissed at <user> for tobacco spit near the seat.'},\n",
       " {'prediction': \"that's not helpful.\",\n",
       "  'reference': \"it's not helpful since the author doesn't understand that language.\"},\n",
       " {'prediction': \"a girl obeying her boyfriend isn't fun.\",\n",
       "  'reference': \"a boyfriend shouldn't be like a parent.\"},\n",
       " {'prediction': 'the author is pissed at <user> tyvm for the new healthcare plan.',\n",
       "  'reference': \"the author isn't happy with the new healthcare plan from <user>.\"},\n",
       " {'prediction': \"the author doesn't look at departures / arrivals boards and get overwhelmed with gratitude that privat\",\n",
       "  'reference': \"looking at the departures/arrivals board it's clear that privatisation hasn't ended rail delays yet.\"},\n",
       " {'prediction': \"it's not exciting that we have a few raindrops on the southwest side.\",\n",
       "  'reference': \"the author's sad that they have just a few raindrops on the southwest side.\"},\n",
       " {'prediction': \"the author isn't well rested.\",\n",
       "  'reference': \"the author isn't at her finest since she isn't well rested.\"},\n",
       " {'prediction': \"the author is pissed at <user> since in the <num> years he's\",\n",
       "  'reference': \"the author's been using tweeter for <num> years so he knows how to retweet something.\"},\n",
       " {'prediction': 'the author is pissed at <user> for less fries in her to-go order',\n",
       "  'reference': \"<user> didn't give enough fries to the author in her to-go order.\"},\n",
       " {'prediction': 'the author is sad that manatee county closed schools today because of those palm fr',\n",
       "  'reference': \"the author is pissed that manatee county closed schools today because the palm fronds don't look like they could have hurt someone.\"},\n",
       " {'prediction': \"it's a poor family leaving country after losing in the election.\",\n",
       "  'reference': \"it's a rich family leaving country after losing in the election.\"},\n",
       " {'prediction': \"the taggers in the author's town aren't eloquent.\",\n",
       "  'reference': \"the taggers in the author's town are ill-spoken since they wrote 'gay porn'.\"},\n",
       " {'prediction': 'the author hates waking up late.',\n",
       "  'reference': 'the author hates waking up late because she always ends up looking like a stuffy librarian.'},\n",
       " {'prediction': \"the author doesn't like sending off bills.\",\n",
       "  'reference': \"sending off bills is nobody's favorite.\"},\n",
       " {'prediction': 'the author is pissed at <user> for such service outages.',\n",
       "  'reference': 'the author is annoyed with <user> for the service outages.'},\n",
       " {'prediction': 'the author already knows the translation.',\n",
       "  'reference': 'the author already knew this.'},\n",
       " {'prediction': 'the author is having a cold for the rest of winter.',\n",
       "  'reference': 'the author is sad she got cold for the rest of winter, hates being ill.'},\n",
       " {'prediction': 'the author is pissed at <user> for his overdone and tepid pizza',\n",
       "  'reference': 'the author is pissed at <user> for her overdone and tepid pizza making her hour wait worthless.'},\n",
       " {'prediction': \"sexual assualt victim isn't getting healthcare.\",\n",
       "  'reference': \"it's awful that a sexual assault offender can become president, but a sexual assault victim cannot get healthcare.\"},\n",
       " {'prediction': \"the information in tonsillectomy care sheet isn't comforting.\",\n",
       "  'reference': 'this is scaring and not comforting since it mentions the pain and bad breath experienced by the tonsillectomy patients.'},\n",
       " {'prediction': \"the author is disappointed since he's a <user> powerup rewards pro member and\",\n",
       "  'reference': \"the author's sad that even though he's a <user> powerup rewards pro member, he gets just $ 10 off on his trade-in.\"},\n",
       " {'prediction': \"Spending the day in hayle isn't fun.\",\n",
       "  'reference': \"spending the day in hayle isn't fun.\"},\n",
       " {'prediction': \"you shouldn't always do things based on emotion.\",\n",
       "  'reference': \"you shouldn't always do things based on emotion.\"},\n",
       " {'prediction': 'this is a complicated drink recipe.',\n",
       "  'reference': 'this is a really simple drink recipe.'},\n",
       " {'prediction': 'these dangerous, alt-left, violent, leftist, free speech-crushing,',\n",
       "  'reference': \"these posters they're handing out in berkeley aren't dangerous, alt-left, violent, leftist, free speech-crushing, hateful.\"},\n",
       " {'prediction': \"when someone that media doesn't want elected is close to being elected, it is always\",\n",
       "  'reference': \"whenever someone that media doesn't want elected is close to being elected, it's not always russia behind it.\"},\n",
       " {'prediction': 'the author got his 10yr acknowledgement today <num> mths late due to budget',\n",
       "  'reference': 'the author is disappointed with the multi billion $ company he works for since he got his 10yr acknowledgement <num> months late.'},\n",
       " {'prediction': \"progressive misogyny isn't the author's favorite thing.\",\n",
       "  'reference': \"progressive misogyny isn't anyone's favourite thing.\"},\n",
       " {'prediction': 'youwantedout and must still pay a sh * t load of money to get',\n",
       "  'reference': \"brexit isn't the best decision, UK consumer spending sees longest decline since 2013.\"},\n",
       " {'prediction': 'this is how businesses are passing the benefits of lower gst to consumers.',\n",
       "  'reference': \"businesses aren't passing the benefits of lower gst to consumers.\"},\n",
       " {'prediction': \"local elections aren't exciting, random bheem.\",\n",
       "  'reference': \"there doesn't seem to be much excitement for local elections.\"},\n",
       " {'prediction': 'the author is pissed at mr. president for not showing much respect for women.',\n",
       "  'reference': \"mr. president don't have respect for women given his views.\"},\n",
       " {'prediction': \"more proof that <user>'s base isn't abandoning him.\",\n",
       "  'reference': \"more proof that <user>'s base isn't abandoning him.\"},\n",
       " {'prediction': \"the author doesn't follow the dot anywhere.\",\n",
       "  'reference': \"the author wouldn't follow the gps dot everywhere since it can be dangerous.\"},\n",
       " {'prediction': \"this romper doesn't look cute.\",\n",
       "  'reference': \"this romper isn't cute.\"},\n",
       " {'prediction': \"twitter doesn't have the most tweets for birdiesanders.\",\n",
       "  'reference': \"the author hates twitter because #birdiesanders has most tweets but it's still at #2.\"},\n",
       " {'prediction': \"this isn't a serious sale by <user>.\",\n",
       "  'reference': \"this isn't a serious sale, it's a little discount.\"},\n",
       " {'prediction': 'the author is sad to see <user> elevate a seth rich conspiracy theorist in',\n",
       "  'reference': 'the author is sad to see <user> elevate a seth rich conspiracy theorist in her never-ending quest to attack neera tanden.'},\n",
       " {'prediction': \"the author isn't ready to set off to work in this stormy weather.\",\n",
       "  'reference': 'the author has to go to work in a bad stormy weather.'},\n",
       " {'prediction': \"top breathing isn't a good quality of health advice.\",\n",
       "  'reference': 'oxygen does that to a pipe, that is rust, but we need oxygen for survival.'},\n",
       " {'prediction': \"the author's dog has a relaxed life.\",\n",
       "  'reference': \"the dog's got a chilled out life.\"},\n",
       " {'prediction': \"just a few people at the fountain commons for ray ivany \\\\'s informal and casual\",\n",
       "  'reference': \"there are many people at the fountain commons for ray ivany's informal and casual retirement send-off. ΓÇô at acadia university\"},\n",
       " {'prediction': 'the author hates <user> 20mbps, especially when you are getting just 26',\n",
       "  'reference': 'the author is pissed at <user> for such low internet speed with a 20mbps plan.'},\n",
       " {'prediction': \"it's turning out to be a pleasant sunny day.\",\n",
       "  'reference': 'turning out to be a pleasant sunny day.'},\n",
       " {'prediction': \"it's obvious that aliens don't watch bollywood movies.\",\n",
       "  'reference': 'ritesh deshmukh tagged some absurd accounts which are alien to the author.'},\n",
       " {'prediction': 'the author is pissed at <user> for leaving his onlettinggo album outside',\n",
       "  'reference': \"the author is pissed at <user> for leaving her onlettinggo album outside in today's snowy-rainy weather which would have ruined the record.\"},\n",
       " {'prediction': \"he said he loves the bible so he shouldn't give him a pass.\",\n",
       "  'reference': \"just because he said he loves the bible doesn't mean he should be given a pass.\"},\n",
       " {'prediction': \"<user> can't claim to be the biggest warehouse anymore.\",\n",
       "  'reference': \"amazon can claim to be the biggest warehouse since it sells everything there is to sell but it obviously can't sell skills.\"}]"
      ]
     },
     "execution_count": 7,
     "metadata": {},
     "output_type": "execute_result"
    }
   ],
   "source": [
    "def test_model(image_descriptions_file, detected_objects_file, data_file, image_dir, device):\n",
    "    text_tokenizer = BartTokenizer.from_pretrained(\"facebook/bart-base\")\n",
    "\n",
    "    test_dataset = MOREDataset(\n",
    "        image_descriptions_file=image_descriptions_file,\n",
    "        detected_objects_file=detected_objects_file,\n",
    "        data_file=data_file,\n",
    "        image_dir=image_dir,\n",
    "        tokenizer=text_tokenizer,\n",
    "        detection_threshold=0.6,\n",
    "        max_inp_length=256,\n",
    "        max_output_length=128\n",
    "    )\n",
    "    test_loader = DataLoader(test_dataset, batch_size=16, shuffle=False, collate_fn=custom_collate_fn, pin_memory=True)\n",
    "\n",
    "    model = TURBOModel()\n",
    "    model.load_state_dict(torch.load(\"TURBOModel_best.pth\", weights_only=True))\n",
    "    \n",
    "    model.eval()\n",
    "    model.to(device)\n",
    "\n",
    "    global predictions\n",
    "\n",
    "    predictions = []\n",
    "\n",
    "    with torch.no_grad():\n",
    "        for batch in tqdm(test_loader):\n",
    "            images = batch['image']\n",
    "            input_ids = batch['input_ids'].to(device)\n",
    "            attention_mask = batch['attention_mask'].to(device)\n",
    "            labels = batch['labels'].to(device)\n",
    "\n",
    "            outputs = model(images, input_ids, attention_mask, inference=True)\n",
    "\n",
    "            decoded_preds = text_tokenizer.batch_decode(outputs, skip_special_tokens=True)\n",
    "            decoded_labels = text_tokenizer.batch_decode(labels, skip_special_tokens=True)\n",
    "            \n",
    "            for pred, label in zip(decoded_preds, decoded_labels):\n",
    "                predictions.append({\"prediction\": pred, \"reference\": label})\n",
    "    \n",
    "    preds = [item[\"prediction\"] for item in predictions]\n",
    "    refs = [item[\"reference\"] for item in predictions]\n",
    "    \n",
    "    # ROUGE Calculation\n",
    "    scorer = rouge_scorer.RougeScorer(['rouge1', 'rouge2', 'rougeL'], use_stemmer=True)\n",
    "    rouge_scores = {metric: 0.0 for metric in ['rouge1', 'rouge2', 'rougeL']}\n",
    "    for pred, ref in zip(preds, refs):\n",
    "        scores = scorer.score(ref, pred)\n",
    "        for metric in rouge_scores:\n",
    "            rouge_scores[metric] += scores[metric].fmeasure\n",
    "    for metric in rouge_scores:\n",
    "        rouge_scores[metric] /= len(preds)\n",
    "\n",
    "    # BLEU Calculation\n",
    "    raw_refs = [[r] for r in refs]  \n",
    "    raw_preds = preds\n",
    "\n",
    "    bleu_metric = evaluate.load(\"bleu\")\n",
    "    bleu1 = bleu_metric.compute(predictions=raw_preds, references=raw_refs, max_order=1)\n",
    "    bleu2 = bleu_metric.compute(predictions=raw_preds, references=raw_refs, max_order=2)\n",
    "    bleu3 = bleu_metric.compute(predictions=raw_preds, references=raw_refs, max_order=3)\n",
    "    bleu4 = bleu_metric.compute(predictions=raw_preds, references=raw_refs, max_order=4)\n",
    "\n",
    "    # METEOR Calculation\n",
    "    meteor_scores = []\n",
    "    for pred, ref in zip(preds, refs):\n",
    "        meteor_scores.append(meteor_score([ref.split()], pred.split()))\n",
    "    avg_meteor = sum(meteor_scores) / len(meteor_scores)\n",
    "    \n",
    "    # BERTScore Calculation\n",
    "    P, R, F1 = score(preds, refs, lang=\"en\", verbose=False) \n",
    "    bert_precision = P.mean().item()\n",
    "    bert_recall = R.mean().item()\n",
    "    bert_f1 = F1.mean().item()\n",
    "    \n",
    "    print(f\"ROUGE-1: {rouge_scores['rouge1']:.4f}\")\n",
    "    print(f\"ROUGE-2: {rouge_scores['rouge2']:.4f}\")\n",
    "    print(f\"ROUGE-L: {rouge_scores['rougeL']:.4f}\")\n",
    "    print(f\"BLEU-1: {bleu1['bleu']}\")\n",
    "    print(f\"BLEU-2: {bleu2['bleu']}\")\n",
    "    print(f\"BLEU-3: {bleu3['bleu']}\")\n",
    "    print(f\"BLEU-4: {bleu4['bleu']}\")\n",
    "    print(f\"METEOR: {avg_meteor:.4f}\")\n",
    "    print(f\"BERTscore Precision: {bert_precision:.4f}\")\n",
    "    print(f\"BERTscore Recall: {bert_recall:.4f}\")\n",
    "    print(f\"BERTscore F1: {bert_f1:.4f}\")\n",
    "\n",
    "    return predictions\n",
    "\n",
    "test_model(\n",
    "    image_descriptions_file=\"/kaggle/input/nlp-q3/D_val.pkl\",\n",
    "    detected_objects_file=\"/kaggle/input/nlp-q3/O_val.pkl\",\n",
    "    data_file=\"/kaggle/input/nlp-q3/val_df.tsv\",\n",
    "    image_dir=\"/kaggle/input/nlp-q3/images\",\n",
    "    device=device\n",
    ")"
   ]
  }
 ],
 "metadata": {
  "kaggle": {
   "accelerator": "nvidiaTeslaT4",
   "dataSources": [
    {
     "datasetId": 7059580,
     "sourceId": 11290222,
     "sourceType": "datasetVersion"
    },
    {
     "datasetId": 7061348,
     "sourceId": 11293271,
     "sourceType": "datasetVersion"
    },
    {
     "datasetId": 7061475,
     "sourceId": 11293446,
     "sourceType": "datasetVersion"
    },
    {
     "isSourceIdPinned": true,
     "modelId": 293405,
     "modelInstanceId": 272426,
     "sourceId": 323374,
     "sourceType": "modelInstanceVersion"
    }
   ],
   "dockerImageVersionId": 30919,
   "isGpuEnabled": true,
   "isInternetEnabled": true,
   "language": "python",
   "sourceType": "notebook"
  },
  "kernelspec": {
   "display_name": "Python 3",
   "language": "python",
   "name": "python3"
  },
  "language_info": {
   "codemirror_mode": {
    "name": "ipython",
    "version": 3
   },
   "file_extension": ".py",
   "mimetype": "text/x-python",
   "name": "python",
   "nbconvert_exporter": "python",
   "pygments_lexer": "ipython3",
   "version": "3.10.12"
  }
 },
 "nbformat": 4,
 "nbformat_minor": 4
}
