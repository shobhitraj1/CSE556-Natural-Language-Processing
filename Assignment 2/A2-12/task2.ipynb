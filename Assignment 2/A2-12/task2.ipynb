{
 "cells": [
  {
   "cell_type": "code",
   "execution_count": 1,
   "metadata": {
    "execution": {
     "iopub.execute_input": "2025-03-16T18:22:23.915499Z",
     "iopub.status.busy": "2025-03-16T18:22:23.915198Z",
     "iopub.status.idle": "2025-03-16T18:22:30.397246Z",
     "shell.execute_reply": "2025-03-16T18:22:30.396359Z",
     "shell.execute_reply.started": "2025-03-16T18:22:23.915476Z"
    },
    "trusted": true
   },
   "outputs": [],
   "source": [
    "import json\n",
    "import torch\n",
    "import torch.nn as nn\n",
    "import torch.optim as optim\n",
    "import torch.nn.functional as F\n",
    "import io\n",
    "import pandas as pd\n",
    "import numpy as np\n",
    "import matplotlib.pyplot as plt\n",
    "import random\n",
    "import os\n",
    "from torch.utils.data import DataLoader, Dataset"
   ]
  },
  {
   "cell_type": "markdown",
   "metadata": {},
   "source": [
    "# Preprocessing Steps Applied"
   ]
  },
  {
   "cell_type": "code",
   "execution_count": 2,
   "metadata": {
    "execution": {
     "iopub.execute_input": "2025-03-16T18:22:41.156317Z",
     "iopub.status.busy": "2025-03-16T18:22:41.155843Z",
     "iopub.status.idle": "2025-03-16T18:22:41.165447Z",
     "shell.execute_reply": "2025-03-16T18:22:41.164434Z",
     "shell.execute_reply.started": "2025-03-16T18:22:41.156289Z"
    },
    "trusted": true
   },
   "outputs": [],
   "source": [
    "def preprocess_data(data: list) -> list:\n",
    "    sentences = []\n",
    "    for sentence_data in data:\n",
    "        sentence_id = sentence_data[\"sentence_id\"]\n",
    "        sentence = sentence_data[\"sentence\"]\n",
    "        tokens = sentence.split()\n",
    "\n",
    "        for i in range(len(tokens)):\n",
    "            while tokens[i] and not tokens[i][0].isalnum():\n",
    "                tokens[i] = tokens[i][1:]\n",
    "            while tokens[i] and not tokens[i][-1].isalnum():\n",
    "                tokens[i] = tokens[i][:-1]\n",
    "\n",
    "        while \"\" in tokens:\n",
    "            tokens.remove(\"\")\n",
    "\n",
    "        len_prefix = []\n",
    "        new_token = True\n",
    "        for i in range(len(sentence)):\n",
    "            if sentence[i] == \" \":\n",
    "                new_token = True\n",
    "            elif new_token:\n",
    "                len_prefix.append(i)\n",
    "                new_token = False\n",
    "        # len_prefix.append(len(sentence))\n",
    "\n",
    "        for term in sentence_data[\"aspect_terms\"]:\n",
    "            term_start = int(term[\"from\"])\n",
    "            term_end = int(term[\"to\"])\n",
    "            polarity = term[\"polarity\"]\n",
    "\n",
    "            low = 0\n",
    "            high = len(len_prefix)\n",
    "            while low < high:\n",
    "                mid = (low + high) // 2\n",
    "                if len_prefix[mid] < term_start:\n",
    "                    low = mid + 1\n",
    "                else:\n",
    "                    high = mid\n",
    "\n",
    "            token_idx = low\n",
    "\n",
    "            if token_idx == len(len_prefix):\n",
    "                token_idx -= 1\n",
    "\n",
    "            first_token = term[\"term\"].split()[0]\n",
    "\n",
    "            while first_token and not first_token[0].isalnum():\n",
    "                first_token = first_token[1:]\n",
    "            while first_token and not first_token[-1].isalnum():\n",
    "                first_token = first_token[:-1]\n",
    "\n",
    "            while token_idx >= len(tokens) or first_token not in tokens[token_idx]:\n",
    "                token_idx -= 1\n",
    "                if token_idx < 0:\n",
    "                    print(\"OOPS There has been some error:\", sentence)\n",
    "                    print(\"Term:\", term[\"term\"])\n",
    "                    print(\"Tokens:\", tokens)\n",
    "                    break\n",
    "\n",
    "            sentences.append({\n",
    "                \"tokens\": tokens,\n",
    "                \"polarity\": polarity,\n",
    "                \"aspect_term\": term[\"term\"].split(),\n",
    "                \"index\": token_idx\n",
    "            })\n",
    "\n",
    "    return sentences"
   ]
  },
  {
   "cell_type": "code",
   "execution_count": 3,
   "metadata": {
    "execution": {
     "iopub.execute_input": "2025-03-16T18:22:43.421785Z",
     "iopub.status.busy": "2025-03-16T18:22:43.421466Z",
     "iopub.status.idle": "2025-03-16T18:22:43.577895Z",
     "shell.execute_reply": "2025-03-16T18:22:43.577266Z",
     "shell.execute_reply.started": "2025-03-16T18:22:43.421757Z"
    },
    "trusted": true
   },
   "outputs": [],
   "source": [
    "with open(\"/kaggle/input/nlp-dataset-2/train.json\") as f:\n",
    "    train_data = json.load(f)\n",
    "\n",
    "with open(\"/kaggle/input/nlp-dataset-2/val.json\") as f:\n",
    "    val_data = json.load(f)\n",
    "\n",
    "val_data = preprocess_data(val_data)\n",
    "train_data = preprocess_data(train_data)\n",
    "\n",
    "with open(\"train_task_2.json\", \"w\") as f:\n",
    "    json.dump(train_data, f, indent=4)\n",
    "\n",
    "with open(\"val_task_2.json\", \"w\") as f:\n",
    "    json.dump(val_data, f, indent=4)"
   ]
  },
  {
   "cell_type": "markdown",
   "metadata": {},
   "source": [
    "# Model Training"
   ]
  },
  {
   "cell_type": "code",
   "execution_count": 4,
   "metadata": {
    "execution": {
     "iopub.execute_input": "2025-03-16T18:22:45.229132Z",
     "iopub.status.busy": "2025-03-16T18:22:45.228752Z",
     "iopub.status.idle": "2025-03-16T18:23:11.713198Z",
     "shell.execute_reply": "2025-03-16T18:23:11.712224Z",
     "shell.execute_reply.started": "2025-03-16T18:22:45.229104Z"
    },
    "trusted": true
   },
   "outputs": [],
   "source": [
    "import torch\n",
    "import torch.nn as nn\n",
    "import torch.optim as optim\n",
    "import torch.utils.data as data\n",
    "import numpy as np\n",
    "import json\n",
    "import matplotlib.pyplot as plt\n",
    "from transformers import BertTokenizer, BertModel\n",
    "from sklearn.preprocessing import LabelEncoder"
   ]
  },
  {
   "cell_type": "code",
   "execution_count": 5,
   "metadata": {
    "execution": {
     "iopub.execute_input": "2025-03-16T18:23:11.715044Z",
     "iopub.status.busy": "2025-03-16T18:23:11.714451Z",
     "iopub.status.idle": "2025-03-16T18:23:15.914214Z",
     "shell.execute_reply": "2025-03-16T18:23:15.913473Z",
     "shell.execute_reply.started": "2025-03-16T18:23:11.714996Z"
    },
    "trusted": true
   },
   "outputs": [
    {
     "data": {
      "application/vnd.jupyter.widget-view+json": {
       "model_id": "7b524143c29e4fefab77e5937968c36f",
       "version_major": 2,
       "version_minor": 0
      },
      "text/plain": [
       "tokenizer_config.json:   0%|          | 0.00/48.0 [00:00<?, ?B/s]"
      ]
     },
     "metadata": {},
     "output_type": "display_data"
    },
    {
     "data": {
      "application/vnd.jupyter.widget-view+json": {
       "model_id": "8f071ce9bc114ed0ba4501f153399782",
       "version_major": 2,
       "version_minor": 0
      },
      "text/plain": [
       "vocab.txt:   0%|          | 0.00/232k [00:00<?, ?B/s]"
      ]
     },
     "metadata": {},
     "output_type": "display_data"
    },
    {
     "data": {
      "application/vnd.jupyter.widget-view+json": {
       "model_id": "51862a39f2664338b452e8527519e31e",
       "version_major": 2,
       "version_minor": 0
      },
      "text/plain": [
       "tokenizer.json:   0%|          | 0.00/466k [00:00<?, ?B/s]"
      ]
     },
     "metadata": {},
     "output_type": "display_data"
    },
    {
     "data": {
      "application/vnd.jupyter.widget-view+json": {
       "model_id": "84cb7d32ba694c1baa8e19bb3628f1a8",
       "version_major": 2,
       "version_minor": 0
      },
      "text/plain": [
       "config.json:   0%|          | 0.00/570 [00:00<?, ?B/s]"
      ]
     },
     "metadata": {},
     "output_type": "display_data"
    },
    {
     "data": {
      "application/vnd.jupyter.widget-view+json": {
       "model_id": "1352e90fb0984ea3b3be673a28e3731a",
       "version_major": 2,
       "version_minor": 0
      },
      "text/plain": [
       "model.safetensors:   0%|          | 0.00/440M [00:00<?, ?B/s]"
      ]
     },
     "metadata": {},
     "output_type": "display_data"
    },
    {
     "name": "stdout",
     "output_type": "stream",
     "text": [
      "Using 2 GPUs\n"
     ]
    }
   ],
   "source": [
    "BERT_MODEL = \"bert-base-uncased\"\n",
    "HIDDEN_DIM = 128\n",
    "BATCH_SIZE = 64\n",
    "EPOCHS = 10\n",
    "LEARNING_RATE = 0.0001\n",
    "\n",
    "def load_data(file_path):\n",
    "    with open(file_path, \"r\") as f:\n",
    "        return json.load(f)\n",
    "\n",
    "tokenizer = BertTokenizer.from_pretrained(BERT_MODEL)\n",
    "\n",
    "label_encoder = LabelEncoder()\n",
    "labels = [\"positive\", \"negative\", \"neutral\", \"conflict\"]\n",
    "label_encoder.fit(labels)\n",
    "\n",
    "def encode_data(data):\n",
    "    encoded_data = []\n",
    "    for sample in data:\n",
    "        sentence = \" \".join(sample[\"tokens\"])\n",
    "        aspect = \" \".join(sample[\"aspect_term\"])\n",
    "\n",
    "        sentence_encoding = tokenizer(sentence, padding=\"max_length\", truncation=True, \n",
    "                                      max_length=128, return_tensors=\"pt\")\n",
    "        aspect_encoding = tokenizer(aspect, padding=\"max_length\", truncation=True, \n",
    "                                    max_length=16, return_tensors=\"pt\")\n",
    "        label = label_encoder.transform([sample[\"polarity\"]])[0]\n",
    "\n",
    "        encoded_data.append((sentence_encoding[\"input_ids\"].squeeze(0),\n",
    "                             sentence_encoding[\"attention_mask\"].squeeze(0),\n",
    "                             aspect_encoding[\"input_ids\"].squeeze(0),\n",
    "                             aspect_encoding[\"attention_mask\"].squeeze(0),\n",
    "                             label))\n",
    "    return encoded_data\n",
    "\n",
    "def collate_fn(batch):\n",
    "    input_ids, attention_masks, aspect_ids, aspect_masks, labels = zip(*batch)\n",
    "    return (torch.stack(input_ids), torch.stack(attention_masks),\n",
    "            torch.stack(aspect_ids), torch.stack(aspect_masks),\n",
    "            torch.tensor(labels))\n",
    "\n",
    "class Enhanced_LSTM(nn.Module):\n",
    "    def __init__(self, hidden_dim, output_dim):\n",
    "        super(Enhanced_LSTM, self).__init__()\n",
    "        self.bert = BertModel.from_pretrained(BERT_MODEL)\n",
    "\n",
    "        self.lstm_left = nn.LSTM(self.bert.config.hidden_size, hidden_dim, \n",
    "                                 num_layers=3, batch_first=True, bidirectional=True)\n",
    "        self.lstm_right = nn.LSTM(self.bert.config.hidden_size, hidden_dim, \n",
    "                                  num_layers=3, batch_first=True, bidirectional=True)\n",
    "\n",
    "        self.aspect_fc = nn.Linear(self.bert.config.hidden_size, hidden_dim * 4)\n",
    "\n",
    "        self.attention = nn.MultiheadAttention(embed_dim=hidden_dim * 4, num_heads=2, batch_first=True)\n",
    "\n",
    "        self.residual_fc = nn.Linear(hidden_dim * 4, hidden_dim * 4)\n",
    "        self.batch_norm = nn.BatchNorm1d(hidden_dim * 4)\n",
    "\n",
    "        self.highway = nn.Linear(hidden_dim * 4, hidden_dim * 4)\n",
    "        self.gate = nn.Linear(hidden_dim * 4, hidden_dim * 4)\n",
    "\n",
    "        self.fc = nn.Linear(hidden_dim * 4, output_dim)\n",
    "        self.dropout = nn.Dropout(0.5)\n",
    "\n",
    "    def forward(self, input_ids, attention_mask, aspect_ids, aspect_mask):\n",
    "        bert_output = self.bert(input_ids=input_ids, attention_mask=attention_mask)\n",
    "        aspect_output = self.bert(input_ids=aspect_ids, attention_mask=aspect_mask)\n",
    "\n",
    "        lstm_input = bert_output.last_hidden_state\n",
    "        aspect_repr = torch.mean(aspect_output.last_hidden_state, dim=1)\n",
    "        aspect_vec = self.aspect_fc(aspect_repr).unsqueeze(1)\n",
    "\n",
    "        lstm_out_left, _ = self.lstm_left(lstm_input)\n",
    "        lstm_out_right, _ = self.lstm_right(lstm_input)\n",
    "\n",
    "        combined_lstm_out = torch.cat((lstm_out_left, lstm_out_right), dim=-1)\n",
    "\n",
    "        aspect_connected = combined_lstm_out + aspect_vec\n",
    "\n",
    "        attention_output, _ = self.attention(aspect_connected, aspect_connected, aspect_connected)\n",
    "\n",
    "        residual_output = self.residual_fc(attention_output) + aspect_connected\n",
    "        normalized_output = self.batch_norm(residual_output.permute(0, 2, 1)).permute(0, 2, 1)\n",
    "\n",
    "        highway_gate = torch.sigmoid(self.gate(normalized_output))\n",
    "        highway_output = highway_gate * torch.relu(self.highway(normalized_output)) + (1 - highway_gate) * normalized_output\n",
    "\n",
    "        pooled_output = torch.mean(highway_output, dim=1)\n",
    "        output = self.fc(self.dropout(pooled_output))\n",
    "        return output\n",
    "\n",
    "device = torch.device(\"cuda\" if torch.cuda.is_available() else \"cpu\")\n",
    "model = Enhanced_LSTM(HIDDEN_DIM, len(labels)).to(device)\n",
    "\n",
    "if torch.cuda.device_count() > 1:\n",
    "    print(f\"Using {torch.cuda.device_count()} GPUs\")\n",
    "    model = nn.DataParallel(model)"
   ]
  },
  {
   "cell_type": "code",
   "execution_count": 11,
   "metadata": {
    "execution": {
     "iopub.execute_input": "2025-03-16T18:09:47.448214Z",
     "iopub.status.busy": "2025-03-16T18:09:47.447903Z",
     "iopub.status.idle": "2025-03-16T18:17:59.687187Z",
     "shell.execute_reply": "2025-03-16T18:17:59.686262Z",
     "shell.execute_reply.started": "2025-03-16T18:09:47.448175Z"
    },
    "trusted": true
   },
   "outputs": [
    {
     "name": "stdout",
     "output_type": "stream",
     "text": [
      "New best model saved with validation accuracy: 0.6199\n",
      "Epoch 1: Train Loss=0.9624, Train Acc=0.6211, Val Loss=0.9216, Val Acc=0.6199\n",
      "New best model saved with validation accuracy: 0.7062\n",
      "Epoch 2: Train Loss=0.6575, Train Acc=0.7562, Val Loss=0.8166, Val Acc=0.7062\n",
      "Epoch 3: Train Loss=0.5117, Train Acc=0.8153, Val Loss=0.8905, Val Acc=0.6873\n",
      "New best model saved with validation accuracy: 0.7143\n",
      "Epoch 4: Train Loss=0.4331, Train Acc=0.8399, Val Loss=0.8680, Val Acc=0.7143\n",
      "Epoch 5: Train Loss=0.3505, Train Acc=0.8723, Val Loss=0.8935, Val Acc=0.6900\n",
      "Epoch 6: Train Loss=0.3028, Train Acc=0.8889, Val Loss=0.9049, Val Acc=0.6712\n",
      "Epoch 7: Train Loss=0.2464, Train Acc=0.9085, Val Loss=0.9258, Val Acc=0.7062\n",
      "Epoch 8: Train Loss=0.2194, Train Acc=0.9179, Val Loss=1.1051, Val Acc=0.6604\n",
      "Epoch 9: Train Loss=0.2025, Train Acc=0.9250, Val Loss=1.0675, Val Acc=0.6819\n",
      "Epoch 10: Train Loss=0.1795, Train Acc=0.9321, Val Loss=1.1823, Val Acc=0.6765\n"
     ]
    },
    {
     "data": {
      "image/png": "[encoded data removed]",
      "text/plain": [
       "<Figure size 1200x500 with 2 Axes>"
      ]
     },
     "metadata": {},
     "output_type": "display_data"
    }
   ],
   "source": [
    "train_data = load_data(\"train_task_2.json\")\n",
    "val_data = load_data(\"val_task_2.json\")\n",
    "\n",
    "train_encoded = encode_data(train_data)\n",
    "val_encoded = encode_data(val_data)\n",
    "\n",
    "train_loader = data.DataLoader(train_encoded, batch_size=BATCH_SIZE, shuffle=True, collate_fn=collate_fn)\n",
    "val_loader = data.DataLoader(val_encoded, batch_size=BATCH_SIZE, shuffle=False, collate_fn=collate_fn)\n",
    "\n",
    "criterion = nn.CrossEntropyLoss()\n",
    "optimizer = optim.Adam(model.parameters(), lr=LEARNING_RATE)\n",
    "\n",
    "def train(model, train_loader, val_loader, criterion, optimizer, epochs):\n",
    "    train_acc, val_acc, train_loss, val_loss = [], [], [], []\n",
    "    best_val_acc = 0.0\n",
    "\n",
    "    for epoch in range(epochs):\n",
    "        model.train()\n",
    "        total_loss, correct = 0, 0\n",
    "        for batch in train_loader:\n",
    "            input_ids, attention_mask, aspect_ids, aspect_mask, labels = [b.to(device) for b in batch]\n",
    "            optimizer.zero_grad()\n",
    "            outputs = model(input_ids, attention_mask, aspect_ids, aspect_mask)\n",
    "            loss = criterion(outputs, labels)\n",
    "            loss.backward()\n",
    "            optimizer.step()\n",
    "            total_loss += loss.item()\n",
    "            correct += (outputs.argmax(dim=1) == labels).sum().item()\n",
    "        train_accuracy = correct / len(train_loader.dataset)\n",
    "        train_loss.append(total_loss / len(train_loader))\n",
    "        train_acc.append(train_accuracy)\n",
    "\n",
    "        # Validation\n",
    "        model.eval()\n",
    "        correct_val, val_loss_epoch = 0, 0\n",
    "        with torch.no_grad():\n",
    "            for batch in val_loader:\n",
    "                input_ids, attention_mask, aspect_ids, aspect_mask, labels = [b.to(device) for b in batch]\n",
    "                outputs = model(input_ids, attention_mask, aspect_ids, aspect_mask)\n",
    "                loss = criterion(outputs, labels)\n",
    "                val_loss_epoch += loss.item()\n",
    "                correct_val += (outputs.argmax(dim=1) == labels).sum().item()\n",
    "        val_accuracy = correct_val / len(val_loader.dataset)\n",
    "        val_loss.append(val_loss_epoch / len(val_loader))\n",
    "        val_acc.append(val_accuracy)\n",
    "\n",
    "        if val_accuracy > best_val_acc:\n",
    "            best_val_acc = val_accuracy\n",
    "            torch.save(model.state_dict(), \"best_enhanced_lstm_bert.pth\")\n",
    "            print(f\"New best model saved with validation accuracy: {val_accuracy:.4f}\")\n",
    "\n",
    "        print(f\"Epoch {epoch+1}: Train Loss={train_loss[-1]:.4f}, Train Acc={train_acc[-1]:.4f}, Val Loss={val_loss[-1]:.4f}, Val Acc={val_acc[-1]:.4f}\")\n",
    "\n",
    "    return train_loss, val_loss, train_acc, val_acc\n",
    "\n",
    "train_loss, val_loss, train_acc, val_acc = train(model, train_loader, val_loader, criterion, optimizer, EPOCHS)\n",
    "\n",
    "plt.figure(figsize=(12,5))\n",
    "plt.subplot(1,2,1)\n",
    "plt.plot(train_loss, label=\"Train Loss\")\n",
    "plt.plot(val_loss, label=\"Val Loss\")\n",
    "plt.legend()\n",
    "plt.title(\"Loss Curve\")\n",
    "\n",
    "plt.subplot(1,2,2)\n",
    "plt.plot(train_acc, label=\"Train Accuracy\")\n",
    "plt.plot(val_acc, label=\"Val Accuracy\")\n",
    "plt.legend()\n",
    "plt.title(\"Accuracy Curve\")\n",
    "plt.show()"
   ]
  },
  {
   "cell_type": "code",
   "execution_count": null,
   "metadata": {
    "execution": {
     "iopub.execute_input": "2025-03-16T18:23:15.915957Z",
     "iopub.status.busy": "2025-03-16T18:23:15.915672Z",
     "iopub.status.idle": "2025-03-16T18:23:26.503357Z",
     "shell.execute_reply": "2025-03-16T18:23:26.502305Z",
     "shell.execute_reply.started": "2025-03-16T18:23:15.915932Z"
    },
    "trusted": true
   },
   "outputs": [
    {
     "name": "stdout",
     "output_type": "stream",
     "text": [
      "Test Accuracy: 0.7143\n"
     ]
    }
   ],
   "source": [
    "def get_inference(file_name):\n",
    "    with open(file_name) as f:\n",
    "        test_data = json.load(f)\n",
    "    test_data = preprocess_data(test_data)\n",
    "\n",
    "    test_encoded = encode_data(test_data)\n",
    "    test_loader = data.DataLoader(test_encoded, batch_size=64, shuffle=False, collate_fn=collate_fn)\n",
    "\n",
    "    device = torch.device('cuda' if torch.cuda.is_available() else 'cpu')\n",
    "    \n",
    "    model.load_state_dict(torch.load(\"best_enhanced_lstm_bert.pth\", map_location=device, weights_only=True))\n",
    "\n",
    "    model.eval()\n",
    "    correct = 0\n",
    "    with torch.no_grad():\n",
    "        for batch in test_loader:\n",
    "            input_ids, attention_mask, aspect_ids, aspect_mask, labels = [b.to(device) for b in batch]\n",
    "            outputs = model(input_ids, attention_mask, aspect_ids, aspect_mask)\n",
    "            correct += (outputs.argmax(dim=1) == labels).sum().item()\n",
    "    accuracy = correct / len(test_loader.dataset)\n",
    "    return accuracy\n",
    "\n",
    "test_accuracy = get_inference(\"/kaggle/input/nlp-dataset-2/val.json\")\n",
    "print(f\"Test Accuracy: {test_accuracy:.4f}\")"
   ]
  },
  {
   "cell_type": "markdown",
   "metadata": {},
   "source": [
    "# Additional Tasks (Transformer)"
   ]
  },
  {
   "cell_type": "code",
   "execution_count": 6,
   "metadata": {
    "execution": {
     "iopub.execute_input": "2025-03-16T16:59:21.265883Z",
     "iopub.status.busy": "2025-03-16T16:59:21.265605Z",
     "iopub.status.idle": "2025-03-16T16:59:21.271431Z",
     "shell.execute_reply": "2025-03-16T16:59:21.270671Z",
     "shell.execute_reply.started": "2025-03-16T16:59:21.265860Z"
    },
    "trusted": true
   },
   "outputs": [],
   "source": [
    "class TransformerDataset(Dataset):\n",
    "    def __init__(self, sentences: list, tokenizer):\n",
    "        self.data = sentences\n",
    "        self.tokenizer = tokenizer\n",
    "\n",
    "    def __len__(self):\n",
    "        return len(self.data)\n",
    "    \n",
    "    def __getitem__(self, idx):\n",
    "        sentence = self.data[idx]\n",
    "        tokens = self.tokenizer(\" \".join(sentence[\"tokens\"]), truncation=True, padding=\"max_length\", max_length=128)\n",
    "        aspect_tokens = self.tokenizer(\" \".join(sentence[\"aspect_term\"]), truncation=True, padding=\"max_length\", max_length=16)\n",
    "\n",
    "        idx = sentence[\"index\"]\n",
    "\n",
    "        label = sentence[\"polarity\"]\n",
    "        if label == \"conflict\":\n",
    "            label = 3\n",
    "        elif label == \"positive\":\n",
    "            label = 2\n",
    "        elif label == \"neutral\":\n",
    "            label = 1\n",
    "        else:\n",
    "            label = 0\n",
    "\n",
    "        return {\n",
    "            \"tokens\": tokens,\n",
    "            \"aspect_tokens\": aspect_tokens,\n",
    "            \"label\": torch.tensor(label),\n",
    "            \"idx\": torch.tensor(idx)\n",
    "        }"
   ]
  },
  {
   "cell_type": "code",
   "execution_count": 7,
   "metadata": {
    "execution": {
     "iopub.execute_input": "2025-03-16T16:59:22.549232Z",
     "iopub.status.busy": "2025-03-16T16:59:22.548957Z",
     "iopub.status.idle": "2025-03-16T16:59:39.232070Z",
     "shell.execute_reply": "2025-03-16T16:59:39.231407Z",
     "shell.execute_reply.started": "2025-03-16T16:59:22.549205Z"
    },
    "trusted": true
   },
   "outputs": [],
   "source": [
    "import torch\n",
    "from torch.utils.data import DataLoader\n",
    "from transformers import BertTokenizer, BertModel, BartTokenizer, BartModel, RobertaTokenizer, RobertaModel, AdamW\n",
    "from tqdm import tqdm\n",
    "\n",
    "device = torch.device(\"cuda\" if torch.cuda.is_available() else \"cpu\")"
   ]
  },
  {
   "cell_type": "markdown",
   "metadata": {},
   "source": [
    "# BERT ABSA Model Finetuning"
   ]
  },
  {
   "cell_type": "code",
   "execution_count": 10,
   "metadata": {
    "execution": {
     "iopub.execute_input": "2025-03-16T17:17:35.759660Z",
     "iopub.status.busy": "2025-03-16T17:17:35.759435Z",
     "iopub.status.idle": "2025-03-16T17:21:20.911018Z",
     "shell.execute_reply": "2025-03-16T17:21:20.910212Z",
     "shell.execute_reply.started": "2025-03-16T17:17:35.759640Z"
    },
    "trusted": true
   },
   "outputs": [
    {
     "data": {
      "application/vnd.jupyter.widget-view+json": {
       "model_id": "cafcb4dbc7f54cd7889f07a97ae86cd9",
       "version_major": 2,
       "version_minor": 0
      },
      "text/plain": [
       "tokenizer_config.json:   0%|          | 0.00/48.0 [00:00<?, ?B/s]"
      ]
     },
     "metadata": {},
     "output_type": "display_data"
    },
    {
     "data": {
      "application/vnd.jupyter.widget-view+json": {
       "model_id": "2d56e45e7f1b4054bbb137b4c9d91553",
       "version_major": 2,
       "version_minor": 0
      },
      "text/plain": [
       "vocab.txt:   0%|          | 0.00/232k [00:00<?, ?B/s]"
      ]
     },
     "metadata": {},
     "output_type": "display_data"
    },
    {
     "data": {
      "application/vnd.jupyter.widget-view+json": {
       "model_id": "81b1b9502dc54ddab204a4e7fc47ad6d",
       "version_major": 2,
       "version_minor": 0
      },
      "text/plain": [
       "tokenizer.json:   0%|          | 0.00/466k [00:00<?, ?B/s]"
      ]
     },
     "metadata": {},
     "output_type": "display_data"
    },
    {
     "data": {
      "application/vnd.jupyter.widget-view+json": {
       "model_id": "98cd44c8815e4fb9930494e35e42f7dc",
       "version_major": 2,
       "version_minor": 0
      },
      "text/plain": [
       "config.json:   0%|          | 0.00/570 [00:00<?, ?B/s]"
      ]
     },
     "metadata": {},
     "output_type": "display_data"
    },
    {
     "data": {
      "application/vnd.jupyter.widget-view+json": {
       "model_id": "4268e093c72a499aaa7725289b99a5d0",
       "version_major": 2,
       "version_minor": 0
      },
      "text/plain": [
       "model.safetensors:   0%|          | 0.00/440M [00:00<?, ?B/s]"
      ]
     },
     "metadata": {},
     "output_type": "display_data"
    },
    {
     "name": "stderr",
     "output_type": "stream",
     "text": [
      "Training Epoch 1: 100%|██████████| 93/93 [01:10<00:00,  1.31it/s]\n"
     ]
    },
    {
     "name": "stdout",
     "output_type": "stream",
     "text": [
      "Epoch 1 average training loss: 1.0044\n"
     ]
    },
    {
     "name": "stderr",
     "output_type": "stream",
     "text": [
      "Validation Epoch 1: 100%|██████████| 12/12 [00:03<00:00,  3.78it/s]\n"
     ]
    },
    {
     "name": "stdout",
     "output_type": "stream",
     "text": [
      "Epoch 1/3 Training Loss: 1.0044, Training Accuracy: 0.5691, Validation Loss: 0.9062, Validation Accuracy: 0.6469\n"
     ]
    },
    {
     "name": "stderr",
     "output_type": "stream",
     "text": [
      "Training Epoch 2: 100%|██████████| 93/93 [01:10<00:00,  1.31it/s]\n"
     ]
    },
    {
     "name": "stdout",
     "output_type": "stream",
     "text": [
      "Epoch 2 average training loss: 0.6933\n"
     ]
    },
    {
     "name": "stderr",
     "output_type": "stream",
     "text": [
      "Validation Epoch 2: 100%|██████████| 12/12 [00:03<00:00,  3.76it/s]\n"
     ]
    },
    {
     "name": "stdout",
     "output_type": "stream",
     "text": [
      "Epoch 2/3 Training Loss: 0.6933, Training Accuracy: 0.7369, Validation Loss: 0.7504, Validation Accuracy: 0.7035\n"
     ]
    },
    {
     "name": "stderr",
     "output_type": "stream",
     "text": [
      "Training Epoch 3: 100%|██████████| 93/93 [01:10<00:00,  1.32it/s]\n"
     ]
    },
    {
     "name": "stdout",
     "output_type": "stream",
     "text": [
      "Epoch 3 average training loss: 0.5478\n"
     ]
    },
    {
     "name": "stderr",
     "output_type": "stream",
     "text": [
      "Validation Epoch 3: 100%|██████████| 12/12 [00:03<00:00,  3.74it/s]\n"
     ]
    },
    {
     "name": "stdout",
     "output_type": "stream",
     "text": [
      "Epoch 3/3 Training Loss: 0.5478, Training Accuracy: 0.7991, Validation Loss: 0.7329, Validation Accuracy: 0.7116\n"
     ]
    },
    {
     "data": {
      "image/png": "[encoded data removed]",
      "text/plain": [
       "<Figure size 640x480 with 1 Axes>"
      ]
     },
     "metadata": {},
     "output_type": "display_data"
    },
    {
     "data": {
      "image/png": "[encoded data removed]",
      "text/plain": [
       "<Figure size 640x480 with 1 Axes>"
      ]
     },
     "metadata": {},
     "output_type": "display_data"
    }
   ],
   "source": [
    "def collate_fn(batch):\n",
    "    input_ids = torch.stack([torch.tensor(item[\"tokens\"][\"input_ids\"]) for item in batch])\n",
    "    attention_mask = torch.stack([torch.tensor(item[\"tokens\"][\"attention_mask\"]) for item in batch])\n",
    "    token_type_ids = torch.stack([torch.tensor(item[\"tokens\"][\"token_type_ids\"]) for item in batch])\n",
    "\n",
    "    aspect_input_ids = torch.stack([torch.tensor(item[\"aspect_tokens\"][\"input_ids\"]) for item in batch])\n",
    "    aspect_attention_mask = torch.stack([torch.tensor(item[\"aspect_tokens\"][\"attention_mask\"]) for item in batch])\n",
    "    aspect_token_type_ids = torch.stack([torch.tensor(item[\"aspect_tokens\"][\"token_type_ids\"]) for item in batch])\n",
    "\n",
    "    labels = torch.stack([item[\"label\"] for item in batch])\n",
    "    idxs = torch.stack([item[\"idx\"] for item in batch])\n",
    "    \n",
    "    batch_tokens = {\n",
    "        \"input_ids\": input_ids, \n",
    "        \"attention_mask\": attention_mask,\n",
    "        \"token_type_ids\": token_type_ids,\n",
    "        \"aspect_input_ids\": aspect_input_ids,\n",
    "        \"aspect_attention_mask\": aspect_attention_mask,\n",
    "        \"aspect_token_type_ids\": aspect_token_type_ids\n",
    "    }\n",
    "\n",
    "    return batch_tokens, labels, idxs\n",
    "\n",
    "tokenizer = BertTokenizer.from_pretrained(\"bert-base-uncased\")\n",
    "transformer_train_dataset = TransformerDataset(train_data, tokenizer)\n",
    "transformer_val_dataset = TransformerDataset(val_data, tokenizer)\n",
    "\n",
    "train_loader = DataLoader(transformer_train_dataset, batch_size=32, shuffle=True, collate_fn=collate_fn, pin_memory=True)\n",
    "val_loader = DataLoader(transformer_val_dataset, batch_size=32, shuffle=False, collate_fn=collate_fn, pin_memory=True)\n",
    "\n",
    "class BertModelABSA(nn.Module):\n",
    "    def __init__(self, num_classes):\n",
    "        super(BertModelABSA, self).__init__()\n",
    "        self.bert = BertModel.from_pretrained(\"bert-base-uncased\")\n",
    "        self.fc = nn.Linear(self.bert.config.hidden_size * 2, num_classes)\n",
    "        \n",
    "    def forward(self, input_ids, attention_mask, token_type_ids, aspect_input_ids, aspect_attention_mask, aspect_token_type_ids, labels=None):\n",
    "        sentence_outputs = self.bert(\n",
    "            input_ids=input_ids,\n",
    "            attention_mask=attention_mask,\n",
    "            token_type_ids=token_type_ids\n",
    "        )\n",
    "        sentence_embedding = sentence_outputs.pooler_output\n",
    "\n",
    "        aspect_outputs = self.bert(\n",
    "            input_ids=aspect_input_ids,\n",
    "            attention_mask=aspect_attention_mask,\n",
    "            token_type_ids=aspect_token_type_ids\n",
    "        )\n",
    "        aspect_embedding = aspect_outputs.pooler_output\n",
    "\n",
    "        combined = torch.cat([sentence_embedding, aspect_embedding], dim=1)\n",
    "        outputs = self.fc(combined)\n",
    "\n",
    "        if labels is not None:\n",
    "            loss = nn.CrossEntropyLoss()(outputs, labels)\n",
    "            return (loss, outputs)\n",
    "        \n",
    "        return outputs\n",
    "\n",
    "model = BertModelABSA(num_classes=4)\n",
    "model.to(device)\n",
    "\n",
    "# if torch.cuda.device_count() > 1:\n",
    "#     print(f\"Using {torch.cuda.device_count()} GPUs\")\n",
    "#     model = nn.DataParallel(model)\n",
    "\n",
    "optimizer = AdamW(model.parameters(), lr=2e-5)\n",
    "\n",
    "num_epochs = 3\n",
    "\n",
    "train_losses = []\n",
    "val_losses = []\n",
    "train_accs = []\n",
    "val_accs = []\n",
    "\n",
    "for epoch in range(num_epochs):\n",
    "    model.train()\n",
    "    total_loss = 0.0\n",
    "    correct = 0\n",
    "    total = 0\n",
    "    for batch_tokens, labels, _ in tqdm(train_loader, desc=f\"Training Epoch {epoch+1}\"):\n",
    "        for key in batch_tokens:\n",
    "            batch_tokens[key] = batch_tokens[key].to(device)\n",
    "        labels = labels.to(device)\n",
    "        \n",
    "        optimizer.zero_grad()\n",
    "        outputs = model(**batch_tokens, labels=labels)\n",
    "        loss = outputs[0]\n",
    "        loss.backward()\n",
    "        optimizer.step()\n",
    "        \n",
    "        total_loss += loss.item()\n",
    "        total += labels.size(0)\n",
    "        correct += (torch.argmax(outputs[1], dim=-1) == labels).sum().item()\n",
    "\n",
    "    avg_train_loss = total_loss / len(train_loader)\n",
    "    train_losses.append(avg_train_loss)\n",
    "    train_acc = correct / total\n",
    "    train_accs.append(train_acc)\n",
    "    print(f\"Epoch {epoch+1} average training loss: {avg_train_loss:.4f}\")\n",
    "    \n",
    "    model.eval()\n",
    "    total_val_loss = 0.0\n",
    "    correct_predictions = 0\n",
    "    total_predictions = 0\n",
    "    with torch.no_grad():\n",
    "        for batch_tokens, labels, _ in tqdm(val_loader, desc=f\"Validation Epoch {epoch+1}\"):\n",
    "            for key in batch_tokens:\n",
    "                batch_tokens[key] = batch_tokens[key].to(device)\n",
    "            labels = labels.to(device)\n",
    "            \n",
    "            outputs = model(**batch_tokens, labels=labels)\n",
    "            loss = outputs[0]\n",
    "            total_val_loss += loss.item()\n",
    "            \n",
    "            logits = outputs[1]\n",
    "            predictions = torch.argmax(logits, dim=-1)\n",
    "            correct_predictions += (predictions == labels).sum().item()\n",
    "            total_predictions += labels.size(0)\n",
    "    \n",
    "    avg_val_loss = total_val_loss / len(val_loader)\n",
    "    accuracy = correct_predictions / total_predictions\n",
    "    val_losses.append(avg_val_loss)\n",
    "    val_accs.append(accuracy)\n",
    "    print(f\"Epoch {epoch+1}/{num_epochs} Training Loss: {avg_train_loss:.4f}, Training Accuracy: {train_acc:.4f}, Validation Loss: {avg_val_loss:.4f}, Validation Accuracy: {accuracy:.4f}\")\n",
    "    \n",
    "plt.plot(train_losses, label=\"Train Loss\")\n",
    "plt.plot(val_losses, label=\"Val Loss\")\n",
    "plt.xlabel(\"Epoch\")\n",
    "plt.ylabel(\"Loss\")\n",
    "plt.legend()\n",
    "plt.show()\n",
    "\n",
    "plt.plot(train_accs, label=\"Train Acc\")\n",
    "plt.plot(val_accs, label=\"Val Acc\")\n",
    "plt.xlabel(\"Epoch\")\n",
    "plt.ylabel(\"Accuracy\")\n",
    "plt.legend()\n",
    "plt.show()\n"
   ]
  },
  {
   "cell_type": "markdown",
   "metadata": {},
   "source": [
    "# BART ABSA Model Finetuning"
   ]
  },
  {
   "cell_type": "code",
   "execution_count": 8,
   "metadata": {
    "execution": {
     "iopub.execute_input": "2025-03-16T16:59:39.233569Z",
     "iopub.status.busy": "2025-03-16T16:59:39.233038Z",
     "iopub.status.idle": "2025-03-16T17:13:52.873538Z",
     "shell.execute_reply": "2025-03-16T17:13:52.872620Z",
     "shell.execute_reply.started": "2025-03-16T16:59:39.233535Z"
    },
    "trusted": true
   },
   "outputs": [
    {
     "data": {
      "application/vnd.jupyter.widget-view+json": {
       "model_id": "d990ff62996d4721a98f252f01905eb9",
       "version_major": 2,
       "version_minor": 0
      },
      "text/plain": [
       "tokenizer_config.json:   0%|          | 0.00/26.0 [00:00<?, ?B/s]"
      ]
     },
     "metadata": {},
     "output_type": "display_data"
    },
    {
     "data": {
      "application/vnd.jupyter.widget-view+json": {
       "model_id": "6d20a8efefa94f50a4bbf7ef0d9cbf2a",
       "version_major": 2,
       "version_minor": 0
      },
      "text/plain": [
       "vocab.json:   0%|          | 0.00/899k [00:00<?, ?B/s]"
      ]
     },
     "metadata": {},
     "output_type": "display_data"
    },
    {
     "data": {
      "application/vnd.jupyter.widget-view+json": {
       "model_id": "abd5c693e70349c08bdbfb6a5dfb2447",
       "version_major": 2,
       "version_minor": 0
      },
      "text/plain": [
       "merges.txt:   0%|          | 0.00/456k [00:00<?, ?B/s]"
      ]
     },
     "metadata": {},
     "output_type": "display_data"
    },
    {
     "data": {
      "application/vnd.jupyter.widget-view+json": {
       "model_id": "48d4d89368d2460b996c3cf16f90076f",
       "version_major": 2,
       "version_minor": 0
      },
      "text/plain": [
       "tokenizer.json:   0%|          | 0.00/1.36M [00:00<?, ?B/s]"
      ]
     },
     "metadata": {},
     "output_type": "display_data"
    },
    {
     "data": {
      "application/vnd.jupyter.widget-view+json": {
       "model_id": "b25cf21fd44041d2a41d2a50b1d4cbbe",
       "version_major": 2,
       "version_minor": 0
      },
      "text/plain": [
       "config.json:   0%|          | 0.00/1.63k [00:00<?, ?B/s]"
      ]
     },
     "metadata": {},
     "output_type": "display_data"
    },
    {
     "data": {
      "application/vnd.jupyter.widget-view+json": {
       "model_id": "9147f2b17d05442e8d595b774bb18cb6",
       "version_major": 2,
       "version_minor": 0
      },
      "text/plain": [
       "pytorch_model.bin:   0%|          | 0.00/1.02G [00:00<?, ?B/s]"
      ]
     },
     "metadata": {},
     "output_type": "display_data"
    },
    {
     "name": "stderr",
     "output_type": "stream",
     "text": [
      "/usr/local/lib/python3.10/dist-packages/transformers/optimization.py:591: FutureWarning: This implementation of AdamW is deprecated and will be removed in a future version. Use the PyTorch implementation torch.optim.AdamW instead, or set `no_deprecation_warning=True` to disable this warning\n",
      "  warnings.warn(\n",
      "Training Epoch 1: 100%|██████████| 93/93 [04:22<00:00,  2.83s/it]\n"
     ]
    },
    {
     "name": "stdout",
     "output_type": "stream",
     "text": [
      "Epoch 1 average training loss: 0.8701\n"
     ]
    },
    {
     "name": "stderr",
     "output_type": "stream",
     "text": [
      "Validation Epoch 1: 100%|██████████| 12/12 [00:12<00:00,  1.01s/it]\n"
     ]
    },
    {
     "name": "stdout",
     "output_type": "stream",
     "text": [
      "Epoch 1/3 Training Loss: 0.8701, Training Accuracy: 0.6660, Validation Loss: 0.7975, Validation Accuracy: 0.6873\n"
     ]
    },
    {
     "name": "stderr",
     "output_type": "stream",
     "text": [
      "Training Epoch 2: 100%|██████████| 93/93 [04:32<00:00,  2.93s/it]\n"
     ]
    },
    {
     "name": "stdout",
     "output_type": "stream",
     "text": [
      "Epoch 2 average training loss: 0.6204\n"
     ]
    },
    {
     "name": "stderr",
     "output_type": "stream",
     "text": [
      "Validation Epoch 2: 100%|██████████| 12/12 [00:12<00:00,  1.02s/it]\n"
     ]
    },
    {
     "name": "stdout",
     "output_type": "stream",
     "text": [
      "Epoch 2/3 Training Loss: 0.6204, Training Accuracy: 0.7680, Validation Loss: 0.7059, Validation Accuracy: 0.7251\n"
     ]
    },
    {
     "name": "stderr",
     "output_type": "stream",
     "text": [
      "Training Epoch 3: 100%|██████████| 93/93 [04:32<00:00,  2.93s/it]\n"
     ]
    },
    {
     "name": "stdout",
     "output_type": "stream",
     "text": [
      "Epoch 3 average training loss: 0.5442\n"
     ]
    },
    {
     "name": "stderr",
     "output_type": "stream",
     "text": [
      "Validation Epoch 3: 100%|██████████| 12/12 [00:12<00:00,  1.02s/it]\n"
     ]
    },
    {
     "name": "stdout",
     "output_type": "stream",
     "text": [
      "Epoch 3/3 Training Loss: 0.5442, Training Accuracy: 0.7933, Validation Loss: 0.7350, Validation Accuracy: 0.7278\n"
     ]
    },
    {
     "data": {
      "image/png": "[encoded data removed]",
      "text/plain": [
       "<Figure size 640x480 with 1 Axes>"
      ]
     },
     "metadata": {},
     "output_type": "display_data"
    },
    {
     "data": {
      "image/png": "[encoded data removed]",
      "text/plain": [
       "<Figure size 640x480 with 1 Axes>"
      ]
     },
     "metadata": {},
     "output_type": "display_data"
    }
   ],
   "source": [
    "def collate_fn(batch):\n",
    "    input_ids = torch.stack([torch.tensor(item[\"tokens\"][\"input_ids\"]) for item in batch])\n",
    "    attention_mask = torch.stack([torch.tensor(item[\"tokens\"][\"attention_mask\"]) for item in batch])\n",
    "\n",
    "    aspect_input_ids = torch.stack([torch.tensor(item[\"aspect_tokens\"][\"input_ids\"]) for item in batch])\n",
    "    aspect_attention_mask = torch.stack([torch.tensor(item[\"aspect_tokens\"][\"attention_mask\"]) for item in batch])\n",
    "\n",
    "    labels = torch.stack([item[\"label\"] for item in batch])\n",
    "    idxs = torch.stack([item[\"idx\"] for item in batch])\n",
    "    \n",
    "    batch_tokens = {\n",
    "        \"input_ids\": input_ids, \n",
    "        \"attention_mask\": attention_mask,\n",
    "        \"aspect_input_ids\": aspect_input_ids,\n",
    "        \"aspect_attention_mask\": aspect_attention_mask,\n",
    "    }\n",
    "\n",
    "    return batch_tokens, labels, idxs\n",
    "\n",
    "tokenizer = BartTokenizer.from_pretrained(\"facebook/bart-large\")\n",
    "transformer_train_dataset = TransformerDataset(train_data, tokenizer)\n",
    "transformer_val_dataset = TransformerDataset(val_data, tokenizer)\n",
    "\n",
    "train_loader = DataLoader(transformer_train_dataset, batch_size=32, shuffle=True, collate_fn=collate_fn, pin_memory=True)\n",
    "val_loader = DataLoader(transformer_val_dataset, batch_size=32, shuffle=False, collate_fn=collate_fn, pin_memory=True)\n",
    "\n",
    "class BartModelABSA(nn.Module):\n",
    "    def __init__(self, num_classes):\n",
    "        super(BartModelABSA, self).__init__()\n",
    "        self.bart = BartModel.from_pretrained(\"facebook/bart-large\")\n",
    "        self.fc = nn.Linear(self.bart.config.d_model * 2, num_classes)\n",
    "\n",
    "    def forward(self, input_ids, attention_mask, aspect_input_ids, aspect_attention_mask, labels=None, **kwargs):\n",
    "        sentence_outputs = self.bart(\n",
    "            input_ids=input_ids,\n",
    "            attention_mask=attention_mask\n",
    "        )\n",
    "        sentence_embedding = sentence_outputs.last_hidden_state[:, 0, :]\n",
    "        \n",
    "        aspect_outputs = self.bart(\n",
    "            input_ids=aspect_input_ids,\n",
    "            attention_mask=aspect_attention_mask\n",
    "        )\n",
    "        aspect_embedding = aspect_outputs.last_hidden_state[:, 0, :]\n",
    "        \n",
    "        combined = torch.cat([sentence_embedding, aspect_embedding], dim=1)\n",
    "        logits = self.fc(combined)\n",
    "        \n",
    "        if labels is not None:\n",
    "            loss = nn.CrossEntropyLoss()(logits, labels)\n",
    "            return (loss, logits)\n",
    "        \n",
    "        return logits\n",
    "\n",
    "model = BartModelABSA(num_classes=4)\n",
    "model.to(device)\n",
    "\n",
    "# if torch.cuda.device_count() > 1:\n",
    "#     print(f\"Using {torch.cuda.device_count()} GPUs\")\n",
    "#     model = nn.DataParallel(model)\n",
    "\n",
    "optimizer = AdamW(model.parameters(), lr=2e-5)\n",
    "\n",
    "num_epochs = 3\n",
    "\n",
    "train_losses = []\n",
    "val_losses = []\n",
    "train_accs = []\n",
    "val_accs = []\n",
    "\n",
    "for epoch in range(num_epochs):\n",
    "    # Training phase\n",
    "    model.train()\n",
    "    total_loss = 0.0\n",
    "    correct = 0\n",
    "    total = 0\n",
    "    for batch_tokens, labels, _ in tqdm(train_loader, desc=f\"Training Epoch {epoch+1}\"):\n",
    "        for key in batch_tokens:\n",
    "            batch_tokens[key] = batch_tokens[key].to(device)\n",
    "        labels = labels.to(device)\n",
    "        \n",
    "        optimizer.zero_grad()\n",
    "        outputs = model(**batch_tokens, labels=labels)\n",
    "        loss = outputs[0]\n",
    "        loss.backward()\n",
    "        optimizer.step()\n",
    "        \n",
    "        total_loss += loss.item()\n",
    "        total += labels.size(0)\n",
    "        correct += (torch.argmax(outputs[1], dim=-1) == labels).sum().item()\n",
    "    avg_train_loss = total_loss / len(train_loader)\n",
    "    train_losses.append(avg_train_loss)\n",
    "    train_acc = correct / total\n",
    "    train_accs.append(train_acc)\n",
    "    print(f\"Epoch {epoch+1} average training loss: {avg_train_loss:.4f}\")\n",
    "    \n",
    "    # Validation phase\n",
    "    model.eval()\n",
    "    total_val_loss = 0.0\n",
    "    correct_predictions = 0\n",
    "    total_predictions = 0\n",
    "    with torch.no_grad():\n",
    "        for batch_tokens, labels, _ in tqdm(val_loader, desc=f\"Validation Epoch {epoch+1}\"):\n",
    "            for key in batch_tokens:\n",
    "                batch_tokens[key] = batch_tokens[key].to(device)\n",
    "            labels = labels.to(device)\n",
    "            \n",
    "            outputs = model(**batch_tokens, labels=labels)\n",
    "            loss = outputs[0]\n",
    "            total_val_loss += loss.item()\n",
    "            \n",
    "            logits = outputs[1]\n",
    "            predictions = torch.argmax(logits, dim=-1)\n",
    "            correct_predictions += (predictions == labels).sum().item()\n",
    "            total_predictions += labels.size(0)\n",
    "    \n",
    "    avg_val_loss = total_val_loss / len(val_loader)\n",
    "    accuracy = correct_predictions / total_predictions\n",
    "    val_losses.append(avg_val_loss)\n",
    "    val_accs.append(accuracy)\n",
    "    print(f\"Epoch {epoch+1}/{num_epochs} Training Loss: {avg_train_loss:.4f}, Training Accuracy: {train_acc:.4f}, Validation Loss: {avg_val_loss:.4f}, Validation Accuracy: {accuracy:.4f}\")\n",
    "    \n",
    "plt.plot(train_losses, label=\"Train Loss\")\n",
    "plt.plot(val_losses, label=\"Val Loss\")\n",
    "plt.xlabel(\"Epoch\")\n",
    "plt.ylabel(\"Loss\")\n",
    "plt.legend()\n",
    "plt.show()\n",
    "\n",
    "plt.plot(train_accs, label=\"Train Acc\")\n",
    "plt.plot(val_accs, label=\"Val Acc\")\n",
    "plt.xlabel(\"Epoch\")\n",
    "plt.ylabel(\"Accuracy\")\n",
    "plt.legend()\n",
    "plt.show()\n"
   ]
  },
  {
   "cell_type": "markdown",
   "metadata": {},
   "source": [
    "# RoBERTa ABSA Model Finetuning"
   ]
  },
  {
   "cell_type": "code",
   "execution_count": 9,
   "metadata": {
    "execution": {
     "iopub.execute_input": "2025-03-16T17:13:52.875471Z",
     "iopub.status.busy": "2025-03-16T17:13:52.875187Z",
     "iopub.status.idle": "2025-03-16T17:17:35.758223Z",
     "shell.execute_reply": "2025-03-16T17:17:35.757436Z",
     "shell.execute_reply.started": "2025-03-16T17:13:52.875448Z"
    },
    "trusted": true
   },
   "outputs": [
    {
     "data": {
      "application/vnd.jupyter.widget-view+json": {
       "model_id": "d9c96ea8977d42dbbfd44ec2a647f8db",
       "version_major": 2,
       "version_minor": 0
      },
      "text/plain": [
       "tokenizer_config.json:   0%|          | 0.00/25.0 [00:00<?, ?B/s]"
      ]
     },
     "metadata": {},
     "output_type": "display_data"
    },
    {
     "data": {
      "application/vnd.jupyter.widget-view+json": {
       "model_id": "709ae7348aa34bda865991e0e53489e4",
       "version_major": 2,
       "version_minor": 0
      },
      "text/plain": [
       "vocab.json:   0%|          | 0.00/899k [00:00<?, ?B/s]"
      ]
     },
     "metadata": {},
     "output_type": "display_data"
    },
    {
     "data": {
      "application/vnd.jupyter.widget-view+json": {
       "model_id": "af8966c4c27f49c6aa2639fb2a41e1ff",
       "version_major": 2,
       "version_minor": 0
      },
      "text/plain": [
       "merges.txt:   0%|          | 0.00/456k [00:00<?, ?B/s]"
      ]
     },
     "metadata": {},
     "output_type": "display_data"
    },
    {
     "data": {
      "application/vnd.jupyter.widget-view+json": {
       "model_id": "2b9fd7370bcf42eb8ea11af18f6776e5",
       "version_major": 2,
       "version_minor": 0
      },
      "text/plain": [
       "tokenizer.json:   0%|          | 0.00/1.36M [00:00<?, ?B/s]"
      ]
     },
     "metadata": {},
     "output_type": "display_data"
    },
    {
     "data": {
      "application/vnd.jupyter.widget-view+json": {
       "model_id": "ec7d6cf2513e4572b4105d12194fe133",
       "version_major": 2,
       "version_minor": 0
      },
      "text/plain": [
       "config.json:   0%|          | 0.00/481 [00:00<?, ?B/s]"
      ]
     },
     "metadata": {},
     "output_type": "display_data"
    },
    {
     "data": {
      "application/vnd.jupyter.widget-view+json": {
       "model_id": "84d157ae224c4db8a93ca94ff030eaf5",
       "version_major": 2,
       "version_minor": 0
      },
      "text/plain": [
       "model.safetensors:   0%|          | 0.00/499M [00:00<?, ?B/s]"
      ]
     },
     "metadata": {},
     "output_type": "display_data"
    },
    {
     "name": "stderr",
     "output_type": "stream",
     "text": [
      "Some weights of RobertaModel were not initialized from the model checkpoint at roberta-base and are newly initialized: ['roberta.pooler.dense.bias', 'roberta.pooler.dense.weight']\n",
      "You should probably TRAIN this model on a down-stream task to be able to use it for predictions and inference.\n",
      "Training Epoch 1: 100%|██████████| 93/93 [01:10<00:00,  1.32it/s]\n"
     ]
    },
    {
     "name": "stdout",
     "output_type": "stream",
     "text": [
      "Epoch 1 average training loss: 0.8565\n"
     ]
    },
    {
     "name": "stderr",
     "output_type": "stream",
     "text": [
      "Validation Epoch 1: 100%|██████████| 12/12 [00:02<00:00,  4.30it/s]\n"
     ]
    },
    {
     "name": "stdout",
     "output_type": "stream",
     "text": [
      "Epoch 1/3 Training Loss: 0.8565, Training Accuracy: 0.6518, Validation Loss: 0.7550, Validation Accuracy: 0.6819\n"
     ]
    },
    {
     "name": "stderr",
     "output_type": "stream",
     "text": [
      "Training Epoch 2: 100%|██████████| 93/93 [01:10<00:00,  1.32it/s]\n"
     ]
    },
    {
     "name": "stdout",
     "output_type": "stream",
     "text": [
      "Epoch 2 average training loss: 0.6005\n"
     ]
    },
    {
     "name": "stderr",
     "output_type": "stream",
     "text": [
      "Validation Epoch 2: 100%|██████████| 12/12 [00:02<00:00,  4.30it/s]\n"
     ]
    },
    {
     "name": "stdout",
     "output_type": "stream",
     "text": [
      "Epoch 2/3 Training Loss: 0.6005, Training Accuracy: 0.7778, Validation Loss: 0.7463, Validation Accuracy: 0.6712\n"
     ]
    },
    {
     "name": "stderr",
     "output_type": "stream",
     "text": [
      "Training Epoch 3: 100%|██████████| 93/93 [01:09<00:00,  1.33it/s]\n"
     ]
    },
    {
     "name": "stdout",
     "output_type": "stream",
     "text": [
      "Epoch 3 average training loss: 0.5001\n"
     ]
    },
    {
     "name": "stderr",
     "output_type": "stream",
     "text": [
      "Validation Epoch 3: 100%|██████████| 12/12 [00:02<00:00,  4.31it/s]\n"
     ]
    },
    {
     "name": "stdout",
     "output_type": "stream",
     "text": [
      "Epoch 3/3 Training Loss: 0.5001, Training Accuracy: 0.8034, Validation Loss: 0.8003, Validation Accuracy: 0.7008\n"
     ]
    },
    {
     "data": {
      "image/png": "[encoded data removed]",
      "text/plain": [
       "<Figure size 640x480 with 1 Axes>"
      ]
     },
     "metadata": {},
     "output_type": "display_data"
    },
    {
     "data": {
      "image/png": "[encoded data removed]",
      "text/plain": [
       "<Figure size 640x480 with 1 Axes>"
      ]
     },
     "metadata": {},
     "output_type": "display_data"
    }
   ],
   "source": [
    "def collate_fn(batch):\n",
    "    input_ids = torch.stack([torch.tensor(item[\"tokens\"][\"input_ids\"]) for item in batch])\n",
    "    attention_mask = torch.stack([torch.tensor(item[\"tokens\"][\"attention_mask\"]) for item in batch])\n",
    "\n",
    "    aspect_input_ids = torch.stack([torch.tensor(item[\"aspect_tokens\"][\"input_ids\"]) for item in batch])\n",
    "    aspect_attention_mask = torch.stack([torch.tensor(item[\"aspect_tokens\"][\"attention_mask\"]) for item in batch])\n",
    "\n",
    "    labels = torch.stack([item[\"label\"] for item in batch])\n",
    "    idxs = torch.stack([item[\"idx\"] for item in batch])\n",
    "    \n",
    "    batch_tokens = {\n",
    "        \"input_ids\": input_ids, \n",
    "        \"attention_mask\": attention_mask,\n",
    "        \"aspect_input_ids\": aspect_input_ids,\n",
    "        \"aspect_attention_mask\": aspect_attention_mask\n",
    "    }\n",
    "\n",
    "    return batch_tokens, labels, idxs\n",
    "\n",
    "tokenizer = RobertaTokenizer.from_pretrained(\"roberta-base\")\n",
    "transformer_train_dataset = TransformerDataset(train_data, tokenizer)\n",
    "transformer_val_dataset = TransformerDataset(val_data, tokenizer)\n",
    "\n",
    "train_loader = DataLoader(transformer_train_dataset, batch_size=32, shuffle=True, collate_fn=collate_fn, pin_memory=True)\n",
    "val_loader = DataLoader(transformer_val_dataset, batch_size=32, shuffle=False, collate_fn=collate_fn, pin_memory=True)\n",
    "\n",
    "class RobertaModelABSA(nn.Module):\n",
    "    def __init__(self, num_classes):\n",
    "        super(RobertaModelABSA, self).__init__()\n",
    "        self.roberta = RobertaModel.from_pretrained(\"roberta-base\")\n",
    "        self.fc = nn.Linear(self.roberta.config.hidden_size * 2, num_classes)\n",
    "        \n",
    "\n",
    "    def forward(self, input_ids, attention_mask, aspect_input_ids, aspect_attention_mask, labels=None):\n",
    "        sentence_outputs = self.roberta(\n",
    "            input_ids=input_ids,\n",
    "            attention_mask=attention_mask\n",
    "        )\n",
    "        sentence_embedding = sentence_outputs.last_hidden_state[:, 0, :]\n",
    "\n",
    "        aspect_outputs = self.roberta(\n",
    "            input_ids=aspect_input_ids,\n",
    "            attention_mask=aspect_attention_mask\n",
    "        )\n",
    "        aspect_embedding = aspect_outputs.last_hidden_state[:, 0, :]\n",
    "\n",
    "        combined = torch.cat([sentence_embedding, aspect_embedding], dim=1)\n",
    "        outputs = self.fc(combined)\n",
    "\n",
    "        if labels is not None:\n",
    "            loss = nn.CrossEntropyLoss()(outputs, labels)\n",
    "            return (loss, outputs)\n",
    "        \n",
    "        return outputs\n",
    "\n",
    "model = RobertaModelABSA(num_classes=4)\n",
    "model.to(device)\n",
    "\n",
    "optimizer = AdamW(model.parameters(), lr=2e-5)\n",
    "\n",
    "num_epochs = 3\n",
    "\n",
    "train_losses = []\n",
    "val_losses = []\n",
    "train_accs = []\n",
    "val_accs = []\n",
    "\n",
    "for epoch in range(num_epochs):\n",
    "    model.train()\n",
    "    total_loss = 0.0\n",
    "    correct = 0\n",
    "    total = 0\n",
    "    for batch_tokens, labels, _ in tqdm(train_loader, desc=f\"Training Epoch {epoch+1}\"):\n",
    "        for key in batch_tokens:\n",
    "            batch_tokens[key] = batch_tokens[key].to(device)\n",
    "        labels = labels.to(device)\n",
    "        \n",
    "        optimizer.zero_grad()\n",
    "        outputs = model(**batch_tokens, labels=labels)\n",
    "        loss = outputs[0]\n",
    "        loss.backward()\n",
    "        optimizer.step()\n",
    "        \n",
    "        total_loss += loss.item()\n",
    "        total += labels.size(0)\n",
    "        correct += (torch.argmax(outputs[1], dim=-1) == labels).sum().item()\n",
    "    avg_train_loss = total_loss / len(train_loader)\n",
    "    train_losses.append(avg_train_loss)\n",
    "    train_acc = correct / total\n",
    "    train_accs.append(train_acc)\n",
    "    print(f\"Epoch {epoch+1} average training loss: {avg_train_loss:.4f}\")\n",
    "    \n",
    "    model.eval()\n",
    "    total_val_loss = 0.0\n",
    "    correct_predictions = 0\n",
    "    total_predictions = 0\n",
    "    with torch.no_grad():\n",
    "        for batch_tokens, labels, _ in tqdm(val_loader, desc=f\"Validation Epoch {epoch+1}\"):\n",
    "            for key in batch_tokens:\n",
    "                batch_tokens[key] = batch_tokens[key].to(device)\n",
    "            labels = labels.to(device)\n",
    "            \n",
    "            outputs = model(**batch_tokens, labels=labels)\n",
    "            loss = outputs[0]\n",
    "            total_val_loss += loss.item()\n",
    "            \n",
    "            logits = outputs[1]\n",
    "            predictions = torch.argmax(logits, dim=-1)\n",
    "            correct_predictions += (predictions == labels).sum().item()\n",
    "            total_predictions += labels.size(0)\n",
    "    \n",
    "    avg_val_loss = total_val_loss / len(val_loader)\n",
    "    accuracy = correct_predictions / total_predictions\n",
    "    val_losses.append(avg_val_loss)\n",
    "    val_accs.append(accuracy)\n",
    "    print(f\"Epoch {epoch+1}/{num_epochs} Training Loss: {avg_train_loss:.4f}, Training Accuracy: {train_acc:.4f}, Validation Loss: {avg_val_loss:.4f}, Validation Accuracy: {accuracy:.4f}\")\n",
    "    \n",
    "plt.plot(train_losses, label=\"Train Loss\")\n",
    "plt.plot(val_losses, label=\"Val Loss\")\n",
    "plt.xlabel(\"Epoch\")\n",
    "plt.ylabel(\"Loss\")\n",
    "plt.legend()\n",
    "plt.show()\n",
    "\n",
    "plt.plot(train_accs, label=\"Train Acc\")\n",
    "plt.plot(val_accs, label=\"Val Acc\")\n",
    "plt.xlabel(\"Epoch\")\n",
    "plt.ylabel(\"Accuracy\")\n",
    "plt.legend()\n",
    "plt.show()\n"
   ]
  }
 ],
 "metadata": {
  "kaggle": {
   "accelerator": "nvidiaTeslaT4",
   "dataSources": [
    {
     "datasetId": 6885163,
     "sourceId": 11051710,
     "sourceType": "datasetVersion"
    },
    {
     "isSourceIdPinned": true,
     "modelId": 268838,
     "modelInstanceId": 247296,
     "sourceId": 288635,
     "sourceType": "modelInstanceVersion"
    }
   ],
   "dockerImageVersionId": 30919,
   "isGpuEnabled": true,
   "isInternetEnabled": true,
   "language": "python",
   "sourceType": "notebook"
  },
  "kernelspec": {
   "display_name": "Python 3",
   "language": "python",
   "name": "python3"
  },
  "language_info": {
   "codemirror_mode": {
    "name": "ipython",
    "version": 3
   },
   "file_extension": ".py",
   "mimetype": "text/x-python",
   "name": "python",
   "nbconvert_exporter": "python",
   "pygments_lexer": "ipython3",
   "version": "3.10.12"
  }
 },
 "nbformat": 4,
 "nbformat_minor": 4
}
