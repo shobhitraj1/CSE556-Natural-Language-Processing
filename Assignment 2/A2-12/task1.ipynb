{
 "cells": [
  {
   "cell_type": "code",
   "execution_count": 2,
   "metadata": {
    "execution": {
     "iopub.execute_input": "2025-03-15T05:41:39.065727Z",
     "iopub.status.busy": "2025-03-15T05:41:39.065340Z",
     "iopub.status.idle": "2025-03-15T05:41:43.464122Z",
     "shell.execute_reply": "2025-03-15T05:41:43.463148Z",
     "shell.execute_reply.started": "2025-03-15T05:41:39.065693Z"
    },
    "trusted": true
   },
   "outputs": [],
   "source": [
    "import json\n",
    "import torch\n",
    "import torch.nn as nn\n",
    "import torch.optim as optim\n",
    "import torch.nn.functional as F\n",
    "from torch.utils.data import DataLoader, Dataset\n",
    "import io\n",
    "import pandas as pd\n",
    "import numpy as np\n",
    "import matplotlib.pyplot as plt\n",
    "import random\n",
    "import os\n",
    "import wget\n",
    "from conlleval import evaluate"
   ]
  },
  {
   "cell_type": "markdown",
   "metadata": {},
   "source": [
    "### Preprocessing Steps Applied"
   ]
  },
  {
   "cell_type": "code",
   "execution_count": 3,
   "metadata": {
    "execution": {
     "iopub.execute_input": "2025-03-15T05:41:47.929126Z",
     "iopub.status.busy": "2025-03-15T05:41:47.928566Z",
     "iopub.status.idle": "2025-03-15T05:41:47.938655Z",
     "shell.execute_reply": "2025-03-15T05:41:47.937411Z",
     "shell.execute_reply.started": "2025-03-15T05:41:47.929093Z"
    },
    "trusted": true
   },
   "outputs": [],
   "source": [
    "def preprocess_data(data: list) -> list:\n",
    "    sentences = []\n",
    "    for sentence_data in data:\n",
    "        sentence_id = sentence_data[\"sentence_id\"]\n",
    "        sentence = sentence_data[\"sentence\"]\n",
    "        tokens = sentence.split()\n",
    "\n",
    "        aspect_terms = [term[\"term\"] for term in sentence_data[\"aspect_terms\"]]\n",
    "        # initilize the labels\n",
    "        labels = [\"O\" for _ in range(len(tokens))]\n",
    "\n",
    "        len_prefix = []\n",
    "        new_token = True\n",
    "        for i in range(len(sentence)):\n",
    "            if sentence[i] == \" \":\n",
    "                new_token = True\n",
    "            elif new_token:\n",
    "                len_prefix.append(i)\n",
    "                new_token = False\n",
    "\n",
    "        for term in sentence_data[\"aspect_terms\"]:\n",
    "            term_start = int(term[\"from\"])\n",
    "            term_end = int(term[\"to\"])\n",
    "\n",
    "            # Binary search to find the token index of the term\n",
    "            low = 0\n",
    "            high = len(len_prefix)\n",
    "            while low < high:\n",
    "                mid = (low + high) // 2\n",
    "                if len_prefix[mid] < term_start:\n",
    "                    low = mid + 1\n",
    "                else:\n",
    "                    high = mid\n",
    "\n",
    "            token_idx = low\n",
    "\n",
    "            if token_idx == len(len_prefix):\n",
    "                token_idx -= 1\n",
    "\n",
    "            # encoding the aspect term\n",
    "            for i, cur_term_token in enumerate(term[\"term\"].split()):\n",
    "                while cur_term_token not in tokens[token_idx]:\n",
    "                    token_idx -= 1\n",
    "                if i == 0:\n",
    "                    labels[token_idx] = \"B\"\n",
    "                else:\n",
    "                    try:\n",
    "                        labels[token_idx] = \"I\"\n",
    "                    except:\n",
    "                        print(sentence)\n",
    "                        print(len_prefix[token_idx-1])\n",
    "                        raise Exception(\"Index out of range\")\n",
    "\n",
    "                token_idx += 1\n",
    "\n",
    "        sentences.append({\n",
    "            \"sentence\": sentence,\n",
    "            \"tokens\": tokens,\n",
    "            \"labels\": labels,\n",
    "            \"aspect_terms\": aspect_terms\n",
    "        })\n",
    "\n",
    "    return sentences"
   ]
  },
  {
   "cell_type": "code",
   "execution_count": 4,
   "metadata": {
    "execution": {
     "iopub.execute_input": "2025-03-15T05:41:48.169380Z",
     "iopub.status.busy": "2025-03-15T05:41:48.169017Z",
     "iopub.status.idle": "2025-03-15T05:41:48.323555Z",
     "shell.execute_reply": "2025-03-15T05:41:48.322531Z",
     "shell.execute_reply.started": "2025-03-15T05:41:48.169350Z"
    },
    "trusted": true
   },
   "outputs": [],
   "source": [
    "with open(\"train.json\") as f:\n",
    "    train_data = json.load(f)\n",
    "\n",
    "with open(\"val.json\") as f:\n",
    "    val_data = json.load(f)\n",
    "\n",
    "val_data = preprocess_data(val_data)\n",
    "train_data = preprocess_data(train_data)\n",
    "\n",
    "with open(\"train_task_1.json\", \"w\") as f:\n",
    "    json.dump(train_data, f, indent=4)\n",
    "\n",
    "with open(\"val_task_1.json\", \"w\") as f:\n",
    "    json.dump(val_data, f, indent=4)"
   ]
  },
  {
   "cell_type": "markdown",
   "metadata": {},
   "source": [
    "### Model Training"
   ]
  },
  {
   "cell_type": "code",
   "execution_count": 4,
   "metadata": {
    "execution": {
     "iopub.execute_input": "2025-03-15T05:41:48.629085Z",
     "iopub.status.busy": "2025-03-15T05:41:48.628695Z",
     "iopub.status.idle": "2025-03-15T05:41:51.169289Z",
     "shell.execute_reply": "2025-03-15T05:41:51.168248Z",
     "shell.execute_reply.started": "2025-03-15T05:41:48.629055Z"
    },
    "trusted": true
   },
   "outputs": [
    {
     "data": {
      "text/plain": [
       "'wiki-news-300d-1M-subword.vec.zip'"
      ]
     },
     "execution_count": 4,
     "metadata": {},
     "output_type": "execute_result"
    }
   ],
   "source": [
    "# download the fasttext word embeddings\n",
    "url = \"https://dl.fbaipublicfiles.com/fasttext/vectors-english/wiki-news-300d-1M-subword.vec.zip\"\n",
    "wget.download(url)"
   ]
  },
  {
   "cell_type": "code",
   "execution_count": 5,
   "metadata": {
    "execution": {
     "iopub.execute_input": "2025-03-15T05:41:51.171107Z",
     "iopub.status.busy": "2025-03-15T05:41:51.170711Z",
     "iopub.status.idle": "2025-03-15T05:42:11.231050Z",
     "shell.execute_reply": "2025-03-15T05:42:11.229802Z",
     "shell.execute_reply.started": "2025-03-15T05:41:51.171069Z"
    },
    "trusted": true
   },
   "outputs": [
    {
     "name": "stdout",
     "output_type": "stream",
     "text": [
      "Archive:  wiki-news-300d-1M-subword.vec.zip\n",
      "  inflating: wiki-news-300d-1M-subword.vec  \n"
     ]
    }
   ],
   "source": [
    "!unzip wiki-news-300d-1M-subword.vec.zip"
   ]
  },
  {
   "cell_type": "code",
   "execution_count": 4,
   "metadata": {
    "execution": {
     "iopub.execute_input": "2025-03-15T05:42:11.233812Z",
     "iopub.status.busy": "2025-03-15T05:42:11.233478Z",
     "iopub.status.idle": "2025-03-15T05:42:11.240147Z",
     "shell.execute_reply": "2025-03-15T05:42:11.238883Z",
     "shell.execute_reply.started": "2025-03-15T05:42:11.233782Z"
    },
    "trusted": true
   },
   "outputs": [],
   "source": [
    "def load_vectors(fname, limit=5000000):\n",
    "    fin = io.open(fname, 'r', encoding='utf-8', newline='\\n', errors='ignore')\n",
    "    n, d = map(int, fin.readline().split())\n",
    "    data = {}\n",
    "    counter = 0\n",
    "    for line in fin:\n",
    "        counter += 1\n",
    "        if counter > limit:\n",
    "            break\n",
    "        tokens = line.rstrip().split(' ')\n",
    "        data[tokens[0]] = list(map(float, tokens[1:]))\n",
    "    return data"
   ]
  },
  {
   "cell_type": "code",
   "execution_count": 5,
   "metadata": {
    "execution": {
     "iopub.execute_input": "2025-03-15T05:42:11.241877Z",
     "iopub.status.busy": "2025-03-15T05:42:11.241471Z",
     "iopub.status.idle": "2025-03-15T05:43:34.510928Z",
     "shell.execute_reply": "2025-03-15T05:43:34.509918Z",
     "shell.execute_reply.started": "2025-03-15T05:42:11.241849Z"
    },
    "trusted": true
   },
   "outputs": [],
   "source": [
    "fastText_vec = load_vectors(\"wiki-news-300d-1M-subword.vec\")"
   ]
  },
  {
   "cell_type": "code",
   "execution_count": null,
   "metadata": {
    "execution": {
     "iopub.execute_input": "2025-03-15T05:43:34.521234Z",
     "iopub.status.busy": "2025-03-15T05:43:34.520816Z",
     "iopub.status.idle": "2025-03-15T05:46:13.456505Z",
     "shell.execute_reply": "2025-03-15T05:46:13.455032Z",
     "shell.execute_reply.started": "2025-03-15T05:43:34.521195Z"
    },
    "trusted": true
   },
   "outputs": [],
   "source": [
    "# download the glove word embeddings\n",
    "url = \"http://nlp.stanford.edu/data/glove.6B.zip\"\n",
    "wget.download(url)"
   ]
  },
  {
   "cell_type": "code",
   "execution_count": null,
   "metadata": {
    "execution": {
     "iopub.execute_input": "2025-03-15T05:46:13.458360Z",
     "iopub.status.busy": "2025-03-15T05:46:13.457976Z",
     "iopub.status.idle": "2025-03-15T05:46:38.477702Z",
     "shell.execute_reply": "2025-03-15T05:46:38.476160Z",
     "shell.execute_reply.started": "2025-03-15T05:46:13.458328Z"
    },
    "trusted": true
   },
   "outputs": [
    {
     "name": "stdout",
     "output_type": "stream",
     "text": [
      "Archive:  glove.6B.zip\n",
      "  inflating: glove.6B.50d.txt        \n",
      "  inflating: glove.6B.100d.txt       \n",
      "  inflating: glove.6B.200d.txt       \n",
      "  inflating: glove.6B.300d.txt       \n"
     ]
    }
   ],
   "source": [
    "!unzip glove.6B.zip"
   ]
  },
  {
   "cell_type": "code",
   "execution_count": 7,
   "metadata": {
    "execution": {
     "iopub.execute_input": "2025-03-15T05:46:38.481893Z",
     "iopub.status.busy": "2025-03-15T05:46:38.481528Z",
     "iopub.status.idle": "2025-03-15T05:46:38.488808Z",
     "shell.execute_reply": "2025-03-15T05:46:38.487482Z",
     "shell.execute_reply.started": "2025-03-15T05:46:38.481863Z"
    },
    "trusted": true
   },
   "outputs": [],
   "source": [
    "def load_glove_vectors(fname, limit=5000000):\n",
    "    fin = io.open(fname, 'r', encoding='utf-8', newline='\\n', errors='ignore')\n",
    "    data = {}\n",
    "    counter = 0\n",
    "    for line in fin:\n",
    "        counter += 1\n",
    "        if counter > limit:\n",
    "            break\n",
    "        tokens = line.rstrip().split(' ')\n",
    "        data[tokens[0]] = list(map(float, tokens[1:]))\n",
    "    return data\n"
   ]
  },
  {
   "cell_type": "code",
   "execution_count": 8,
   "metadata": {
    "execution": {
     "iopub.execute_input": "2025-03-15T05:46:38.491525Z",
     "iopub.status.busy": "2025-03-15T05:46:38.490996Z",
     "iopub.status.idle": "2025-03-15T05:47:14.554127Z",
     "shell.execute_reply": "2025-03-15T05:47:14.553081Z",
     "shell.execute_reply.started": "2025-03-15T05:46:38.491482Z"
    },
    "trusted": true
   },
   "outputs": [],
   "source": [
    "glove_vec = load_glove_vectors(\"glove.6B.300d.txt\")"
   ]
  },
  {
   "cell_type": "code",
   "execution_count": 10,
   "metadata": {
    "execution": {
     "iopub.execute_input": "2025-03-15T05:47:14.564318Z",
     "iopub.status.busy": "2025-03-15T05:47:14.563850Z",
     "iopub.status.idle": "2025-03-15T05:47:14.602623Z",
     "shell.execute_reply": "2025-03-15T05:47:14.600930Z",
     "shell.execute_reply.started": "2025-03-15T05:47:14.564262Z"
    },
    "trusted": true
   },
   "outputs": [],
   "source": [
    "class TextDataset(Dataset):\n",
    "    def __init__(self, sentences: list, vec: dict):\n",
    "        self.data = sentences\n",
    "        self.vec = vec\n",
    "\n",
    "    def get_embedding(self, word: str, vec: dict) -> list:\n",
    "        vecs = []\n",
    "        start = 0\n",
    "        end = len(word)\n",
    "        while start != len(word):\n",
    "            if word[start:end] in vec:\n",
    "                vecs.append(vec[word[start:end]])\n",
    "                start = end\n",
    "                end = len(word)\n",
    "            else:\n",
    "                if end == 1:\n",
    "                    print(\"COULD NOT FIND WORD\", word)\n",
    "                    break\n",
    "                end -= 1\n",
    "\n",
    "        return np.mean(vecs, axis=0)\n",
    "\n",
    "    def __len__(self):\n",
    "        return len(self.data)\n",
    "\n",
    "    def __getitem__(self, idx: int) -> dict:\n",
    "        sentence = self.data[idx]\n",
    "\n",
    "        tokens = sentence[\"tokens\"]\n",
    "        bio_labels = sentence[\"labels\"]\n",
    "\n",
    "        embeddings = [self.get_embedding(token.lower(), self.vec) for token in tokens]\n",
    "        embeddings = np.array(embeddings, dtype=np.float32)\n",
    "\n",
    "        labels = []\n",
    "        for label in bio_labels:\n",
    "            if label == \"B\":\n",
    "                labels.append(1)\n",
    "            elif label == \"I\":\n",
    "                labels.append(2)\n",
    "            else:\n",
    "                labels.append(0)\n",
    "\n",
    "        labels = np.array(labels, dtype=np.longlong)\n",
    "\n",
    "        return {\n",
    "            \"embeddings\": torch.from_numpy(embeddings), \n",
    "            \"labels\": torch.from_numpy(labels)\n",
    "        }"
   ]
  },
  {
   "cell_type": "code",
   "execution_count": 11,
   "metadata": {
    "execution": {
     "iopub.execute_input": "2025-03-15T05:47:14.604530Z",
     "iopub.status.busy": "2025-03-15T05:47:14.603978Z",
     "iopub.status.idle": "2025-03-15T05:47:14.625851Z",
     "shell.execute_reply": "2025-03-15T05:47:14.624692Z",
     "shell.execute_reply.started": "2025-03-15T05:47:14.604499Z"
    },
    "trusted": true
   },
   "outputs": [],
   "source": [
    "def embedding_colate_fn(batch):\n",
    "    embeddings = [item[\"embeddings\"] for item in batch]\n",
    "    labels = [item[\"labels\"] for item in batch]\n",
    "\n",
    "    embeddings_padded = torch.nn.utils.rnn.pad_sequence(embeddings, batch_first=True)\n",
    "    labels_padded = torch.nn.utils.rnn.pad_sequence(labels, batch_first=True, padding_value=-100)\n",
    "\n",
    "    return embeddings_padded, labels_padded\n",
    "\n",
    "train_fastText_dataset = TextDataset(train_data, fastText_vec)\n",
    "val_fastText_dataset = TextDataset(val_data, fastText_vec)\n",
    "\n",
    "train_fastText_loader = DataLoader(train_fastText_dataset, batch_size=32, shuffle=True, collate_fn=embedding_colate_fn)\n",
    "val_fastText_loader = DataLoader(val_fastText_dataset, batch_size=32, shuffle=False, collate_fn=embedding_colate_fn)\n",
    "\n",
    "train_glove_dataset = TextDataset(train_data, glove_vec)\n",
    "val_glove_dataset = TextDataset(val_data, glove_vec)\n",
    "\n",
    "train_glove_loader = DataLoader(train_glove_dataset, batch_size=32, shuffle=True, collate_fn=embedding_colate_fn)\n",
    "val_glove_loader = DataLoader(val_glove_dataset, batch_size=32, shuffle=False, collate_fn=embedding_colate_fn)"
   ]
  },
  {
   "cell_type": "code",
   "execution_count": 12,
   "metadata": {},
   "outputs": [],
   "source": [
    "def numeric_to_tag(num):\n",
    "    mapping = {0: \"O\", 1: \"B\", 2: \"I\"}\n",
    "    return mapping.get(num, \"O\")\n",
    "\n",
    "def get_f1_scores(model, loader, device='cuda'):\n",
    "    device = torch.device(device)\n",
    "    model.to(device)\n",
    "    model.eval()\n",
    "\n",
    "    lines = []\n",
    "    with torch.no_grad():\n",
    "        for embeddings, labels in loader:\n",
    "            embeddings = embeddings.to(device)\n",
    "            labels = labels.to(device)\n",
    "            outputs = model(embeddings)\n",
    "            predictions = torch.argmax(outputs, dim=-1)\n",
    "            \n",
    "            for i in range(len(predictions)):\n",
    "                true_seq = labels[i].cpu().numpy().tolist()\n",
    "                pred_seq = predictions[i].cpu().numpy().tolist()\n",
    "\n",
    "                filtered_true = [numeric_to_tag(num) for num in true_seq if num != -100]\n",
    "                filtered_pred = [numeric_to_tag(num) for num in pred_seq if num != -100]\n",
    "\n",
    "                for j in range(len(filtered_true)):\n",
    "                    # add lines in the format of \" true_label predicted_label\"\n",
    "                    lines.append(f\" {filtered_true[j]} {filtered_pred[j]}\")\n",
    "\n",
    "                # separate lines using the given format\n",
    "                lines.append(\"-X-  \")\n",
    "\n",
    "    evaluated = evaluate(lines, delimiter=' ')\n",
    "    return evaluated[\"overall\"][\"chunks\"][\"evals\"][\"f1\"], evaluated[\"overall\"][\"tags\"][\"evals\"][\"f1\"]"
   ]
  },
  {
   "cell_type": "code",
   "execution_count": 15,
   "metadata": {
    "execution": {
     "iopub.execute_input": "2025-03-15T05:47:14.702622Z",
     "iopub.status.busy": "2025-03-15T05:47:14.702258Z",
     "iopub.status.idle": "2025-03-15T05:47:14.717139Z",
     "shell.execute_reply": "2025-03-15T05:47:14.716150Z",
     "shell.execute_reply.started": "2025-03-15T05:47:14.702587Z"
    },
    "trusted": true
   },
   "outputs": [],
   "source": [
    "# RNN model\n",
    "class RNNTagger(nn.Module):\n",
    "    def __init__(self, input_dim=300, hidden_dim=128, output_dim=3):\n",
    "        super(RNNTagger, self).__init__()\n",
    "        self.rnn = nn.RNN(input_dim, hidden_dim, batch_first=True, bidirectional=False)\n",
    "        self.fc = nn.Linear(hidden_dim, output_dim)\n",
    "    \n",
    "    def forward(self, x):\n",
    "        out, _ = self.rnn(x)\n",
    "        out = self.fc(out)\n",
    "        return out\n",
    "\n",
    "# GRU model\n",
    "class GRUTagger(nn.Module):\n",
    "    def __init__(self, input_dim=300, hidden_dim=128, output_dim=3):\n",
    "        super(GRUTagger, self).__init__()\n",
    "        self.gru = nn.GRU(input_dim, hidden_dim, batch_first=True, bidirectional=False)\n",
    "        self.fc = nn.Linear(hidden_dim, output_dim)\n",
    "    \n",
    "    def forward(self, x):\n",
    "        out, _ = self.gru(x)\n",
    "        out = self.fc(out)\n",
    "        return out\n",
    "\n",
    "# Training function\n",
    "def train_model(model, train_loader, val_loader, num_epochs=10, lr=1e-2, device='cuda', model_name=\"rnn_glove\"):\n",
    "    device = torch.device(device)\n",
    "    model.to(device)\n",
    "    criterion = nn.CrossEntropyLoss(ignore_index=-100)\n",
    "    optimizer = torch.optim.Adam(model.parameters(), lr=lr)\n",
    "\n",
    "    best_f1 = 0.0\n",
    "    \n",
    "    train_losses = []\n",
    "    val_losses = []\n",
    "    for epoch in range(num_epochs):\n",
    "        # Training phase\n",
    "        model.train()\n",
    "        running_loss = 0.0\n",
    "        for embeddings, labels in train_loader:\n",
    "            embeddings = embeddings.to(device)\n",
    "            labels = labels.to(device)\n",
    "            optimizer.zero_grad()\n",
    "            outputs = model(embeddings)\n",
    "            loss = criterion(outputs.view(-1, outputs.shape[-1]), labels.view(-1))\n",
    "            loss.backward()\n",
    "            optimizer.step()\n",
    "            running_loss += loss.item() * embeddings.size(0)\n",
    "        epoch_loss = running_loss / len(train_loader.dataset)\n",
    "        train_losses.append(epoch_loss)\n",
    "        \n",
    "        # Validation phase\n",
    "        model.eval()\n",
    "        val_running_loss = 0.0\n",
    "        with torch.no_grad():\n",
    "            for embeddings, labels in val_loader:\n",
    "                embeddings = embeddings.to(device)\n",
    "                labels = labels.to(device)\n",
    "                outputs = model(embeddings)\n",
    "                loss = criterion(outputs.view(-1, outputs.shape[-1]), labels.view(-1))\n",
    "                val_running_loss += loss.item() * embeddings.size(0)\n",
    "        val_epoch_loss = val_running_loss / len(val_loader.dataset)\n",
    "        val_losses.append(val_epoch_loss)\n",
    "        val_f1_chunk, val_f1_tag = get_f1_scores(model, val_loader, device)\n",
    "        f1_f1_score_val = 2 * val_f1_chunk * val_f1_tag / (val_f1_chunk + val_f1_tag)\n",
    "\n",
    "        if f1_f1_score_val > best_f1:\n",
    "            best_f1 = f1_f1_score_val\n",
    "            torch.save(model.state_dict(), f\"{model_name}.pt\")\n",
    "\n",
    "        print(f\"Epoch {epoch+1}/{num_epochs} - Train Loss: {epoch_loss:.4f} - Val Loss: {val_epoch_loss:.4f} - Val F1: {f1_f1_score_val:.4f}\")\n",
    "        \n",
    "    return train_losses, val_losses"
   ]
  },
  {
   "cell_type": "markdown",
   "metadata": {},
   "source": [
    "### Model 1 - RNN with FastText embeddings"
   ]
  },
  {
   "cell_type": "code",
   "execution_count": 16,
   "metadata": {
    "execution": {
     "iopub.execute_input": "2025-03-15T05:53:31.261776Z",
     "iopub.status.busy": "2025-03-15T05:53:31.261344Z",
     "iopub.status.idle": "2025-03-15T05:54:06.596582Z",
     "shell.execute_reply": "2025-03-15T05:54:06.595516Z",
     "shell.execute_reply.started": "2025-03-15T05:53:31.261744Z"
    },
    "trusted": true
   },
   "outputs": [
    {
     "name": "stdout",
     "output_type": "stream",
     "text": [
      "Epoch 1/10 - Train Loss: 0.3598 - Val Loss: 0.1869 - Val F1: 0.6648\n",
      "Epoch 2/10 - Train Loss: 0.2160 - Val Loss: 0.1651 - Val F1: 0.7665\n",
      "Epoch 3/10 - Train Loss: 0.1790 - Val Loss: 0.2468 - Val F1: 0.7254\n",
      "Epoch 4/10 - Train Loss: 0.1721 - Val Loss: 0.1436 - Val F1: 0.7762\n",
      "Epoch 5/10 - Train Loss: 0.1687 - Val Loss: 0.1419 - Val F1: 0.7854\n",
      "Epoch 6/10 - Train Loss: 0.1648 - Val Loss: 0.1304 - Val F1: 0.8010\n",
      "Epoch 7/10 - Train Loss: 0.1538 - Val Loss: 0.1441 - Val F1: 0.7644\n",
      "Epoch 8/10 - Train Loss: 0.1517 - Val Loss: 0.1519 - Val F1: 0.7592\n",
      "Epoch 9/10 - Train Loss: 0.1449 - Val Loss: 0.1317 - Val F1: 0.7922\n",
      "Epoch 10/10 - Train Loss: 0.1406 - Val Loss: 0.1335 - Val F1: 0.8225\n"
     ]
    },
    {
     "data": {
      "image/png": "[encoded data removed]",
      "text/plain": [
       "<Figure size 640x480 with 1 Axes>"
      ]
     },
     "metadata": {},
     "output_type": "display_data"
    }
   ],
   "source": [
    "# Model 1 - RNN with FastText embeddings\n",
    "model_rnn_fastText = RNNTagger()\n",
    "train_losses_rnn_fastText, val_losses_rnn_fastText = train_model(model_rnn_fastText, train_fastText_loader, val_fastText_loader, num_epochs=10, device='cuda' if torch.cuda.is_available() else 'cpu', model_name=\"rnn_fastText\")\n",
    "\n",
    "# Plot loss curves\n",
    "plt.figure()\n",
    "plt.plot(train_losses_rnn_fastText, label='Train Loss')\n",
    "plt.plot(val_losses_rnn_fastText, label='Validation Loss')\n",
    "plt.title('RNN with FastText Embeddings')\n",
    "plt.xlabel('Epoch')\n",
    "plt.ylabel('Loss')\n",
    "plt.legend()\n",
    "plt.savefig('rnn_fastText_loss.png')\n",
    "plt.show()"
   ]
  },
  {
   "cell_type": "markdown",
   "metadata": {},
   "source": [
    "### Model 2 - RNN with GloVe embeddings"
   ]
  },
  {
   "cell_type": "code",
   "execution_count": 17,
   "metadata": {
    "execution": {
     "iopub.execute_input": "2025-03-15T05:54:06.598433Z",
     "iopub.status.busy": "2025-03-15T05:54:06.598128Z",
     "iopub.status.idle": "2025-03-15T05:54:42.138573Z",
     "shell.execute_reply": "2025-03-15T05:54:42.137252Z",
     "shell.execute_reply.started": "2025-03-15T05:54:06.598405Z"
    },
    "trusted": true
   },
   "outputs": [
    {
     "name": "stdout",
     "output_type": "stream",
     "text": [
      "Epoch 1/10 - Train Loss: 0.2288 - Val Loss: 0.1455 - Val F1: 0.7789\n",
      "Epoch 2/10 - Train Loss: 0.1606 - Val Loss: 0.1283 - Val F1: 0.8055\n",
      "Epoch 3/10 - Train Loss: 0.1328 - Val Loss: 0.1379 - Val F1: 0.7996\n",
      "Epoch 4/10 - Train Loss: 0.1176 - Val Loss: 0.1507 - Val F1: 0.7843\n",
      "Epoch 5/10 - Train Loss: 0.1059 - Val Loss: 0.1243 - Val F1: 0.8313\n",
      "Epoch 6/10 - Train Loss: 0.0917 - Val Loss: 0.1281 - Val F1: 0.8186\n",
      "Epoch 7/10 - Train Loss: 0.0931 - Val Loss: 0.1346 - Val F1: 0.8232\n",
      "Epoch 8/10 - Train Loss: 0.0729 - Val Loss: 0.1423 - Val F1: 0.8254\n",
      "Epoch 9/10 - Train Loss: 0.0679 - Val Loss: 0.1360 - Val F1: 0.8368\n",
      "Epoch 10/10 - Train Loss: 0.0575 - Val Loss: 0.1516 - Val F1: 0.8130\n"
     ]
    },
    {
     "data": {
      "image/png": "[encoded data removed]",
      "text/plain": [
       "<Figure size 640x480 with 1 Axes>"
      ]
     },
     "metadata": {},
     "output_type": "display_data"
    }
   ],
   "source": [
    "# Model 2 - RNN with GloVe embeddings\n",
    "model_rnn_glove = RNNTagger()\n",
    "train_losses_rnn_glove, val_losses_rnn_glove = train_model(model_rnn_glove, train_glove_loader, val_glove_loader, num_epochs=10, device='cuda' if torch.cuda.is_available() else 'cpu', model_name=\"rnn_glove\")\n",
    "\n",
    "# Plot loss curves\n",
    "plt.figure()\n",
    "plt.plot(train_losses_rnn_glove, label='Train Loss')\n",
    "plt.plot(val_losses_rnn_glove, label='Validation Loss')\n",
    "plt.title('RNN with GloVe Embeddings')\n",
    "plt.xlabel('Epoch')\n",
    "plt.ylabel('Loss')\n",
    "plt.legend()\n",
    "plt.savefig('rnn_glove_loss.png')\n",
    "plt.show()"
   ]
  },
  {
   "cell_type": "markdown",
   "metadata": {},
   "source": [
    "### Model 3 - GRU with FastText embeddings"
   ]
  },
  {
   "cell_type": "code",
   "execution_count": 18,
   "metadata": {
    "execution": {
     "iopub.execute_input": "2025-03-15T05:54:42.140748Z",
     "iopub.status.busy": "2025-03-15T05:54:42.140331Z",
     "iopub.status.idle": "2025-03-15T05:55:45.975080Z",
     "shell.execute_reply": "2025-03-15T05:55:45.973828Z",
     "shell.execute_reply.started": "2025-03-15T05:54:42.140707Z"
    },
    "trusted": true
   },
   "outputs": [
    {
     "name": "stdout",
     "output_type": "stream",
     "text": [
      "Epoch 1/10 - Train Loss: 0.2601 - Val Loss: 0.1393 - Val F1: 0.7879\n",
      "Epoch 2/10 - Train Loss: 0.1549 - Val Loss: 0.1334 - Val F1: 0.8071\n",
      "Epoch 3/10 - Train Loss: 0.1363 - Val Loss: 0.1177 - Val F1: 0.8236\n",
      "Epoch 4/10 - Train Loss: 0.1232 - Val Loss: 0.1254 - Val F1: 0.8058\n",
      "Epoch 5/10 - Train Loss: 0.1174 - Val Loss: 0.1174 - Val F1: 0.8279\n",
      "Epoch 6/10 - Train Loss: 0.1047 - Val Loss: 0.1145 - Val F1: 0.8257\n",
      "Epoch 7/10 - Train Loss: 0.0946 - Val Loss: 0.1191 - Val F1: 0.8433\n",
      "Epoch 8/10 - Train Loss: 0.0901 - Val Loss: 0.1156 - Val F1: 0.8372\n",
      "Epoch 9/10 - Train Loss: 0.0772 - Val Loss: 0.1248 - Val F1: 0.8444\n",
      "Epoch 10/10 - Train Loss: 0.0656 - Val Loss: 0.1248 - Val F1: 0.8266\n"
     ]
    },
    {
     "data": {
      "image/png": "[encoded data removed]",
      "text/plain": [
       "<Figure size 640x480 with 1 Axes>"
      ]
     },
     "metadata": {},
     "output_type": "display_data"
    }
   ],
   "source": [
    "# Model 3 - GRU with FastText embeddings\n",
    "model_gru_fastText = GRUTagger()\n",
    "train_losses_gru_fastText, val_losses_gru_fastText = train_model(model_gru_fastText, train_fastText_loader, val_fastText_loader, num_epochs=10, device='cuda' if torch.cuda.is_available() else 'cpu', model_name=\"gru_fastText\")\n",
    "\n",
    "# Plot loss curves\n",
    "plt.figure()\n",
    "plt.plot(train_losses_gru_fastText, label='Train Loss')\n",
    "plt.plot(val_losses_gru_fastText, label='Validation Loss')\n",
    "plt.title('GRU with FastText Embeddings')\n",
    "plt.xlabel('Epoch')\n",
    "plt.ylabel('Loss')\n",
    "plt.legend()\n",
    "plt.savefig('gru_fastText_loss.png')\n",
    "plt.show()"
   ]
  },
  {
   "cell_type": "markdown",
   "metadata": {},
   "source": [
    "### Model 4 - GRU with GloVe embeddings"
   ]
  },
  {
   "cell_type": "code",
   "execution_count": 19,
   "metadata": {
    "execution": {
     "iopub.execute_input": "2025-03-15T05:55:45.976436Z",
     "iopub.status.busy": "2025-03-15T05:55:45.976124Z",
     "iopub.status.idle": "2025-03-15T05:56:48.344505Z",
     "shell.execute_reply": "2025-03-15T05:56:48.343547Z",
     "shell.execute_reply.started": "2025-03-15T05:55:45.976407Z"
    },
    "trusted": true
   },
   "outputs": [
    {
     "name": "stdout",
     "output_type": "stream",
     "text": [
      "Epoch 1/10 - Train Loss: 0.2257 - Val Loss: 0.1395 - Val F1: 0.8136\n",
      "Epoch 2/10 - Train Loss: 0.1334 - Val Loss: 0.1158 - Val F1: 0.8420\n",
      "Epoch 3/10 - Train Loss: 0.1040 - Val Loss: 0.1122 - Val F1: 0.8352\n",
      "Epoch 4/10 - Train Loss: 0.0801 - Val Loss: 0.1316 - Val F1: 0.8219\n",
      "Epoch 5/10 - Train Loss: 0.0615 - Val Loss: 0.1295 - Val F1: 0.8430\n",
      "Epoch 6/10 - Train Loss: 0.0448 - Val Loss: 0.1317 - Val F1: 0.8495\n",
      "Epoch 7/10 - Train Loss: 0.0381 - Val Loss: 0.1345 - Val F1: 0.8470\n",
      "Epoch 8/10 - Train Loss: 0.0299 - Val Loss: 0.1489 - Val F1: 0.8613\n",
      "Epoch 9/10 - Train Loss: 0.0194 - Val Loss: 0.1475 - Val F1: 0.8432\n",
      "Epoch 10/10 - Train Loss: 0.0120 - Val Loss: 0.1593 - Val F1: 0.8496\n"
     ]
    },
    {
     "data": {
      "image/png": "[encoded data removed]",
      "text/plain": [
       "<Figure size 640x480 with 1 Axes>"
      ]
     },
     "metadata": {},
     "output_type": "display_data"
    }
   ],
   "source": [
    "# Model 4 - GRU with GloVe embeddings\n",
    "model_gru_glove = GRUTagger()\n",
    "train_losses_gru_glove, val_losses_gru_glove = train_model(model_gru_glove, train_glove_loader, val_glove_loader, num_epochs=10, device='cuda' if torch.cuda.is_available() else 'cpu', model_name=\"gru_glove\")\n",
    "\n",
    "# Plot loss curves\n",
    "plt.figure()\n",
    "plt.plot(train_losses_gru_glove, label='Train Loss')\n",
    "plt.plot(val_losses_gru_glove, label='Validation Loss')\n",
    "plt.title('GRU with GloVe Embeddings')\n",
    "plt.xlabel('Epoch')\n",
    "plt.ylabel('Loss')\n",
    "plt.legend()\n",
    "plt.savefig('gru_glove_loss.png')\n",
    "plt.show()"
   ]
  },
  {
   "cell_type": "markdown",
   "metadata": {},
   "source": [
    "### Evaluating Models"
   ]
  },
  {
   "cell_type": "code",
   "execution_count": 20,
   "metadata": {},
   "outputs": [
    {
     "name": "stdout",
     "output_type": "stream",
     "text": [
      "Help on function evaluate in module conlleval.conlleval:\n",
      "\n",
      "evaluate(lines, delimiter=None, boundary='-X-', otag='O')\n",
      "    Python equivalent for the `conlleval.pl` Perl script, which was\n",
      "    used for measuring slot filling performance in the CoNLL-2000 shared task.\n",
      "    \n",
      "    Arguments:\n",
      "        lines (iterator-like object): an iterator-like object that returns\n",
      "            one line of a `conlleval`-style prediction-target text file\n",
      "            at a time.\n",
      "        delimiter (str): the delimiting character used to split tokens in\n",
      "            a line. (default: default python `str.split` behavior)\n",
      "        boundary (str): the boundary string that is used to indicate an end of\n",
      "            a sentence (default: -X-)\n",
      "        otag (str): the tag for items that do not belong any slots.\n",
      "            (default: O)\n",
      "    \n",
      "    Returns:\n",
      "        a dictionary object that contains all information that used to be\n",
      "        returned by the old `conlleval.pl` perl script.\n",
      "\n"
     ]
    }
   ],
   "source": [
    "help(evaluate)"
   ]
  },
  {
   "cell_type": "code",
   "execution_count": null,
   "metadata": {},
   "outputs": [
    {
     "name": "stdout",
     "output_type": "stream",
     "text": [
      "RNN with FastText embeddings:\n",
      "Train: Chunk-level F1: 0.7289514866979656 - Tag-level F1: 0.949504829441252\n",
      "Val: Chunk-level F1: 0.7239263803680982 - Tag-level F1: 0.9521475256769374\n",
      "RNN with GloVe embeddings:\n",
      "Train: Chunk-level F1: 0.8761122518822725 - Tag-level F1: 0.9821494070179728\n",
      "Val: Chunk-level F1: 0.7424657534246576 - Tag-level F1: 0.9586834733893558\n",
      "GRU with FastText embeddings:\n",
      "Train: Chunk-level F1: 0.8626855600539811 - Tag-level F1: 0.9786343073725394\n",
      "Val: Chunk-level F1: 0.7549148099606815 - Tag-level F1: 0.957983193277311\n",
      "GRU with GloVe embeddings:\n",
      "Train: Chunk-level F1: 0.9676216307848788 - Tag-level F1: 0.9949260300770265\n",
      "Val: Chunk-level F1: 0.7796610169491527 - Tag-level F1: 0.9619514472455649\n"
     ]
    }
   ],
   "source": [
    "# RNN with FastText embeddings\n",
    "model_rnn_fastText = RNNTagger()\n",
    "model_rnn_fastText.load_state_dict(torch.load(\"rnn_fastText.pt\"))\n",
    "f1_train_rnn_fastText, f1_val_rnn_fastText = get_f1_scores(model_rnn_fastText, train_fastText_loader), get_f1_scores(model_rnn_fastText, val_fastText_loader)\n",
    "f1_train_chunk_level, f1_train_tag_level = f1_train_rnn_fastText\n",
    "f1_val_chunk_level, f1_val_tag_level = f1_val_rnn_fastText\n",
    "print(f\"RNN with FastText embeddings:\")\n",
    "print(f\"Train: Chunk-level F1: {f1_train_chunk_level} - Tag-level F1: {f1_train_tag_level}\")\n",
    "print(f\"Val: Chunk-level F1: {f1_val_chunk_level} - Tag-level F1: {f1_val_tag_level}\")\n",
    "\n",
    "# RNN with GloVe embeddings\n",
    "model_rnn_glove = RNNTagger()\n",
    "model_rnn_glove.load_state_dict(torch.load(\"rnn_glove.pt\"))\n",
    "f1_train_rnn_glove, f1_val_rnn_glove = get_f1_scores(model_rnn_glove, train_glove_loader), get_f1_scores(model_rnn_glove, val_glove_loader)\n",
    "f1_train_chunk_level, f1_train_tag_level = f1_train_rnn_glove\n",
    "f1_val_chunk_level, f1_val_tag_level = f1_val_rnn_glove\n",
    "print(f\"RNN with GloVe embeddings:\")\n",
    "print(f\"Train: Chunk-level F1: {f1_train_chunk_level} - Tag-level F1: {f1_train_tag_level}\")\n",
    "print(f\"Val: Chunk-level F1: {f1_val_chunk_level} - Tag-level F1: {f1_val_tag_level}\")\n",
    "\n",
    "# GRU with FastText embeddings\n",
    "model_gru_fastText = GRUTagger()\n",
    "model_gru_fastText.load_state_dict(torch.load(\"gru_fastText.pt\"))\n",
    "f1_train_gru_fastText, f1_val_gru_fastText = get_f1_scores(model_gru_fastText, train_fastText_loader), get_f1_scores(model_gru_fastText, val_fastText_loader)\n",
    "f1_train_chunk_level, f1_train_tag_level = f1_train_gru_fastText\n",
    "f1_val_chunk_level, f1_val_tag_level = f1_val_gru_fastText\n",
    "print(f\"GRU with FastText embeddings:\")\n",
    "print(f\"Train: Chunk-level F1: {f1_train_chunk_level} - Tag-level F1: {f1_train_tag_level}\")\n",
    "print(f\"Val: Chunk-level F1: {f1_val_chunk_level} - Tag-level F1: {f1_val_tag_level}\")\n",
    "\n",
    "# GRU with GloVe embeddings\n",
    "model_gru_glove = GRUTagger()\n",
    "model_gru_glove.load_state_dict(torch.load(\"gru_glove.pt\"))\n",
    "f1_train_gru_glove, f1_val_gru_glove = get_f1_scores(model_gru_glove, train_glove_loader), get_f1_scores(model_gru_glove, val_glove_loader)\n",
    "f1_train_chunk_level, f1_train_tag_level = f1_train_gru_glove\n",
    "f1_val_chunk_level, f1_val_tag_level = f1_val_gru_glove\n",
    "print(f\"GRU with GloVe embeddings:\")\n",
    "print(f\"Train: Chunk-level F1: {f1_train_chunk_level} - Tag-level F1: {f1_train_tag_level}\")\n",
    "print(f\"Val: Chunk-level F1: {f1_val_chunk_level} - Tag-level F1: {f1_val_tag_level}\")"
   ]
  },
  {
   "cell_type": "markdown",
   "metadata": {},
   "source": [
    "Best performing model is GRU with GloVe"
   ]
  },
  {
   "cell_type": "code",
   "execution_count": null,
   "metadata": {
    "trusted": true
   },
   "outputs": [],
   "source": [
    "def get_inference(file_name):\n",
    "    with open(file_name) as f:\n",
    "        data = json.load(f)\n",
    "    test_data = preprocess_data(data)\n",
    "    vec = glove_vec\n",
    "    model = GRUTagger()\n",
    "    model.load_state_dict(torch.load(\"gru_glove.pt\", map_location=torch.device('cpu')))\n",
    "    device = torch.device('cuda' if torch.cuda.is_available() else 'cpu')\n",
    "    model.to(device)\n",
    "    test_dataset = TextDataset(test_data, vec)\n",
    "    test_loader = DataLoader(test_dataset, batch_size=32, shuffle=False, collate_fn=embedding_colate_fn)\n",
    "\n",
    "    model.eval()\n",
    "    \n",
    "    f1_test_chunk, f1_test_tag = get_f1_scores(model, test_loader, device)\n",
    "\n",
    "    return f1_test_chunk, f1_test_tag"
   ]
  },
  {
   "cell_type": "code",
   "execution_count": null,
   "metadata": {
    "trusted": true
   },
   "outputs": [
    {
     "name": "stdout",
     "output_type": "stream",
     "text": [
      "Test: Chunk-level F1: 0.7796610169491527 - Tag-level F1: 0.9619514472455649\n"
     ]
    }
   ],
   "source": [
    "f1_test_chunk, f1_test_tag = get_inference(\"val.json\")\n",
    "print(f\"Test: Chunk-level F1: {f1_test_chunk} - Tag-level F1: {f1_test_tag}\")"
   ]
  }
 ],
 "metadata": {
  "kaggle": {
   "accelerator": "none",
   "dataSources": [
    {
     "datasetId": 6873888,
     "sourceId": 11036053,
     "sourceType": "datasetVersion"
    }
   ],
   "dockerImageVersionId": 30918,
   "isGpuEnabled": false,
   "isInternetEnabled": true,
   "language": "python",
   "sourceType": "notebook"
  },
  "kernelspec": {
   "display_name": "Python 3",
   "language": "python",
   "name": "python3"
  },
  "language_info": {
   "codemirror_mode": {
    "name": "ipython",
    "version": 3
   },
   "file_extension": ".py",
   "mimetype": "text/x-python",
   "name": "python",
   "nbconvert_exporter": "python",
   "pygments_lexer": "ipython3",
   "version": "3.10.11"
  }
 },
 "nbformat": 4,
 "nbformat_minor": 4
}
